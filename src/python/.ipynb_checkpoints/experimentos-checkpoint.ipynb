{
 "cells": [
  {
   "cell_type": "markdown",
   "metadata": {},
   "source": [
    "# Correr experimentos\n",
    "En este archivo está el código para correr los experimentos y escribir los resultados en archivos CSV.\n",
    "> Los archivos se guardan en la carpeta _resultados_."
   ]
  },
  {
   "cell_type": "code",
   "execution_count": 1,
   "metadata": {},
   "outputs": [],
   "source": [
    "import math\n",
    "import subprocess\n",
    "import pandas as pd\n",
    "import numpy as np\n",
    "from IPython.display import display, clear_output\n",
    "import os\n",
    "import time\n",
    "from tqdm import tqdm"
   ]
  },
  {
   "cell_type": "markdown",
   "metadata": {},
   "source": [
    "A continuación leemos los datasets en dataframes de Pandas."
   ]
  },
  {
   "cell_type": "code",
   "execution_count": 2,
   "metadata": {},
   "outputs": [],
   "source": [
    "def leer_instancia(path_instancia):\n",
    "    with open(path_instancia, \"r\") as f:\n",
    "        return f.read();\n",
    "\n",
    "df_random_bf = pd.read_csv(\"instancias/random-bf/indice.csv\");\n",
    "df_random_bt = pd.read_csv(\"instancias/random-bt/indice.csv\");\n",
    "df_mejor_caso_bt = pd.read_csv(\"instancias/mejor-caso-bt/indice.csv\");\n",
    "df_peor_caso_bt = pd.read_csv(\"instancias/peor-caso-bt/indice.csv\");\n",
    "df_dinamica = pd.read_csv(\"instancias/dinamica/indice.csv\");"
   ]
  },
  {
   "cell_type": "markdown",
   "metadata": {},
   "source": [
    "La siguiente función sirve para correr el código sobre una instancia ejecutando un método en particular.\n",
    "- FB: Fuerza bruta\n",
    "- BT: Backtracking con ambas podas.\n",
    "- BT-F: Backtracking solamente con poda por factibilidad.\n",
    "- BT-O: Backtracking solamente con poda por optimalidad.\n",
    "- DP: Programación dinámica."
   ]
  },
  {
   "cell_type": "code",
   "execution_count": 3,
   "metadata": {},
   "outputs": [],
   "source": [
    "# instancia = leer_instancia(\"instancias/random-bf/BF-90.txt\")\n",
    "# type(instancia)"
   ]
  },
  {
   "cell_type": "code",
   "execution_count": 4,
   "metadata": {},
   "outputs": [],
   "source": [
    "def correr_experimento(metodo, archivo_instancia):\n",
    "    # Leer archivo de la instancia.\n",
    "    instancia = leer_instancia(archivo_instancia)\n",
    "    print(metodo)\n",
    "    if (metodo != \"BF\" and metodo != \"BT\" and metodo != \"BT-F\" and metodo != \"BT-O\" and metodo != \"DP\"):\n",
    "        print(\"Error, metodo no reconocido\")\n",
    "        return None\n",
    "#     print(type(instancia))\n",
    "    \n",
    "    # Crear proceso para ejecutar el codigo.\n",
    "    start = time.time_ns()\n",
    "    process = subprocess.Popen(['../main {}'.format(metodo)], stderr=subprocess.PIPE, stdout=subprocess.PIPE, stdin=subprocess.PIPE, universal_newlines = True, shell=True)\n",
    "#     print(process)\n",
    "    # Poner la instancia en la entrada estandar.\n",
    "    process.stdin.write(instancia)\n",
    "    process.stdin.flush()\n",
    "    \n",
    "    exit_code = process.wait()\n",
    "    end = time.time_ns()\n",
    "    process.stdin.close();\n",
    "    process.stdout.close();\n",
    "    process.stderr.close();\n",
    "    \n",
    "    diff = (end - start)/1000000\n",
    "   \n",
    "    \n",
    "    return diff;\n",
    "\n",
    "# correr_experimento(\"BF\", \"instancias/random-bf/BF-90.txt\")"
   ]
  },
  {
   "cell_type": "code",
   "execution_count": 5,
   "metadata": {
    "scrolled": true
   },
   "outputs": [],
   "source": [
    "# def correr_experimento(metodo, archivo_instancia):\n",
    "    \n",
    "#     start = time.time_ns()\n",
    "#     os.system(\"../main {} < {}\".format(metodo, archivo_instancia))\n",
    "#     end = time.time_ns()\n",
    "#     diff = (end - start)/1000000\n",
    "    \n",
    "#     return diff\n",
    "\n",
    "# correr_experimento(\"BF\", \"instancias/random-bf/BF-10.txt\")"
   ]
  },
  {
   "cell_type": "markdown",
   "metadata": {},
   "source": [
    "## Corremos los experimentos\n",
    "Vamos a guardar una tabla con las ejecuciones y sus respectivos tiempos."
   ]
  },
  {
   "cell_type": "code",
   "execution_count": 6,
   "metadata": {},
   "outputs": [],
   "source": [
    "experimentos = [];"
   ]
  },
  {
   "cell_type": "markdown",
   "metadata": {},
   "source": [
    "### Experimento 1\n",
    "Correr Fuerza Bruta en las primeras 30 instancias de densidad-alta y densidad-baja."
   ]
  },
  {
   "cell_type": "code",
   "execution_count": 7,
   "metadata": {},
   "outputs": [
    {
     "name": "stdout",
     "output_type": "stream",
     "text": [
      "[['dinamica', 'DP-200-200', 200, 200, 'DP', 'instancias/dinamica/DP-200-200.txt'], ['dinamica', 'DP-200-300', 200, 300, 'DP', 'instancias/dinamica/DP-200-300.txt'], ['dinamica', 'DP-200-400', 200, 400, 'DP', 'instancias/dinamica/DP-200-400.txt'], ['dinamica', 'DP-200-500', 200, 500, 'DP', 'instancias/dinamica/DP-200-500.txt'], ['dinamica', 'DP-200-600', 200, 600, 'DP', 'instancias/dinamica/DP-200-600.txt'], ['dinamica', 'DP-200-700', 200, 700, 'DP', 'instancias/dinamica/DP-200-700.txt'], ['dinamica', 'DP-200-800', 200, 800, 'DP', 'instancias/dinamica/DP-200-800.txt'], ['dinamica', 'DP-200-900', 200, 900, 'DP', 'instancias/dinamica/DP-200-900.txt'], ['dinamica', 'DP-200-1000', 200, 1000, 'DP', 'instancias/dinamica/DP-200-1000.txt'], ['dinamica', 'DP-200-1100', 200, 1100, 'DP', 'instancias/dinamica/DP-200-1100.txt'], ['dinamica', 'DP-200-1200', 200, 1200, 'DP', 'instancias/dinamica/DP-200-1200.txt'], ['dinamica', 'DP-200-1300', 200, 1300, 'DP', 'instancias/dinamica/DP-200-1300.txt'], ['dinamica', 'DP-200-1400', 200, 1400, 'DP', 'instancias/dinamica/DP-200-1400.txt'], ['dinamica', 'DP-300-200', 300, 200, 'DP', 'instancias/dinamica/DP-300-200.txt'], ['dinamica', 'DP-300-300', 300, 300, 'DP', 'instancias/dinamica/DP-300-300.txt'], ['dinamica', 'DP-300-400', 300, 400, 'DP', 'instancias/dinamica/DP-300-400.txt'], ['dinamica', 'DP-300-500', 300, 500, 'DP', 'instancias/dinamica/DP-300-500.txt'], ['dinamica', 'DP-300-600', 300, 600, 'DP', 'instancias/dinamica/DP-300-600.txt'], ['dinamica', 'DP-300-700', 300, 700, 'DP', 'instancias/dinamica/DP-300-700.txt'], ['dinamica', 'DP-300-800', 300, 800, 'DP', 'instancias/dinamica/DP-300-800.txt'], ['dinamica', 'DP-300-900', 300, 900, 'DP', 'instancias/dinamica/DP-300-900.txt'], ['dinamica', 'DP-300-1000', 300, 1000, 'DP', 'instancias/dinamica/DP-300-1000.txt'], ['dinamica', 'DP-300-1100', 300, 1100, 'DP', 'instancias/dinamica/DP-300-1100.txt'], ['dinamica', 'DP-300-1200', 300, 1200, 'DP', 'instancias/dinamica/DP-300-1200.txt'], ['dinamica', 'DP-300-1300', 300, 1300, 'DP', 'instancias/dinamica/DP-300-1300.txt'], ['dinamica', 'DP-300-1400', 300, 1400, 'DP', 'instancias/dinamica/DP-300-1400.txt'], ['dinamica', 'DP-400-200', 400, 200, 'DP', 'instancias/dinamica/DP-400-200.txt'], ['dinamica', 'DP-400-300', 400, 300, 'DP', 'instancias/dinamica/DP-400-300.txt'], ['dinamica', 'DP-400-400', 400, 400, 'DP', 'instancias/dinamica/DP-400-400.txt'], ['dinamica', 'DP-400-500', 400, 500, 'DP', 'instancias/dinamica/DP-400-500.txt'], ['dinamica', 'DP-400-600', 400, 600, 'DP', 'instancias/dinamica/DP-400-600.txt'], ['dinamica', 'DP-400-700', 400, 700, 'DP', 'instancias/dinamica/DP-400-700.txt'], ['dinamica', 'DP-400-800', 400, 800, 'DP', 'instancias/dinamica/DP-400-800.txt'], ['dinamica', 'DP-400-900', 400, 900, 'DP', 'instancias/dinamica/DP-400-900.txt'], ['dinamica', 'DP-400-1000', 400, 1000, 'DP', 'instancias/dinamica/DP-400-1000.txt'], ['dinamica', 'DP-400-1100', 400, 1100, 'DP', 'instancias/dinamica/DP-400-1100.txt'], ['dinamica', 'DP-400-1200', 400, 1200, 'DP', 'instancias/dinamica/DP-400-1200.txt'], ['dinamica', 'DP-400-1300', 400, 1300, 'DP', 'instancias/dinamica/DP-400-1300.txt'], ['dinamica', 'DP-400-1400', 400, 1400, 'DP', 'instancias/dinamica/DP-400-1400.txt'], ['dinamica', 'DP-500-200', 500, 200, 'DP', 'instancias/dinamica/DP-500-200.txt'], ['dinamica', 'DP-500-300', 500, 300, 'DP', 'instancias/dinamica/DP-500-300.txt'], ['dinamica', 'DP-500-400', 500, 400, 'DP', 'instancias/dinamica/DP-500-400.txt'], ['dinamica', 'DP-500-500', 500, 500, 'DP', 'instancias/dinamica/DP-500-500.txt'], ['dinamica', 'DP-500-600', 500, 600, 'DP', 'instancias/dinamica/DP-500-600.txt'], ['dinamica', 'DP-500-700', 500, 700, 'DP', 'instancias/dinamica/DP-500-700.txt'], ['dinamica', 'DP-500-800', 500, 800, 'DP', 'instancias/dinamica/DP-500-800.txt'], ['dinamica', 'DP-500-900', 500, 900, 'DP', 'instancias/dinamica/DP-500-900.txt'], ['dinamica', 'DP-500-1000', 500, 1000, 'DP', 'instancias/dinamica/DP-500-1000.txt'], ['dinamica', 'DP-500-1100', 500, 1100, 'DP', 'instancias/dinamica/DP-500-1100.txt'], ['dinamica', 'DP-500-1200', 500, 1200, 'DP', 'instancias/dinamica/DP-500-1200.txt'], ['dinamica', 'DP-500-1300', 500, 1300, 'DP', 'instancias/dinamica/DP-500-1300.txt'], ['dinamica', 'DP-500-1400', 500, 1400, 'DP', 'instancias/dinamica/DP-500-1400.txt'], ['dinamica', 'DP-600-200', 600, 200, 'DP', 'instancias/dinamica/DP-600-200.txt'], ['dinamica', 'DP-600-300', 600, 300, 'DP', 'instancias/dinamica/DP-600-300.txt'], ['dinamica', 'DP-600-400', 600, 400, 'DP', 'instancias/dinamica/DP-600-400.txt'], ['dinamica', 'DP-600-500', 600, 500, 'DP', 'instancias/dinamica/DP-600-500.txt'], ['dinamica', 'DP-600-600', 600, 600, 'DP', 'instancias/dinamica/DP-600-600.txt'], ['dinamica', 'DP-600-700', 600, 700, 'DP', 'instancias/dinamica/DP-600-700.txt'], ['dinamica', 'DP-600-800', 600, 800, 'DP', 'instancias/dinamica/DP-600-800.txt'], ['dinamica', 'DP-600-900', 600, 900, 'DP', 'instancias/dinamica/DP-600-900.txt'], ['dinamica', 'DP-600-1000', 600, 1000, 'DP', 'instancias/dinamica/DP-600-1000.txt'], ['dinamica', 'DP-600-1100', 600, 1100, 'DP', 'instancias/dinamica/DP-600-1100.txt'], ['dinamica', 'DP-600-1200', 600, 1200, 'DP', 'instancias/dinamica/DP-600-1200.txt'], ['dinamica', 'DP-600-1300', 600, 1300, 'DP', 'instancias/dinamica/DP-600-1300.txt'], ['dinamica', 'DP-600-1400', 600, 1400, 'DP', 'instancias/dinamica/DP-600-1400.txt'], ['dinamica', 'DP-700-200', 700, 200, 'DP', 'instancias/dinamica/DP-700-200.txt'], ['dinamica', 'DP-700-300', 700, 300, 'DP', 'instancias/dinamica/DP-700-300.txt'], ['dinamica', 'DP-700-400', 700, 400, 'DP', 'instancias/dinamica/DP-700-400.txt'], ['dinamica', 'DP-700-500', 700, 500, 'DP', 'instancias/dinamica/DP-700-500.txt'], ['dinamica', 'DP-700-600', 700, 600, 'DP', 'instancias/dinamica/DP-700-600.txt'], ['dinamica', 'DP-700-700', 700, 700, 'DP', 'instancias/dinamica/DP-700-700.txt'], ['dinamica', 'DP-700-800', 700, 800, 'DP', 'instancias/dinamica/DP-700-800.txt'], ['dinamica', 'DP-700-900', 700, 900, 'DP', 'instancias/dinamica/DP-700-900.txt'], ['dinamica', 'DP-700-1000', 700, 1000, 'DP', 'instancias/dinamica/DP-700-1000.txt'], ['dinamica', 'DP-700-1100', 700, 1100, 'DP', 'instancias/dinamica/DP-700-1100.txt'], ['dinamica', 'DP-700-1200', 700, 1200, 'DP', 'instancias/dinamica/DP-700-1200.txt'], ['dinamica', 'DP-700-1300', 700, 1300, 'DP', 'instancias/dinamica/DP-700-1300.txt'], ['dinamica', 'DP-700-1400', 700, 1400, 'DP', 'instancias/dinamica/DP-700-1400.txt'], ['dinamica', 'DP-800-200', 800, 200, 'DP', 'instancias/dinamica/DP-800-200.txt'], ['dinamica', 'DP-800-300', 800, 300, 'DP', 'instancias/dinamica/DP-800-300.txt'], ['dinamica', 'DP-800-400', 800, 400, 'DP', 'instancias/dinamica/DP-800-400.txt'], ['dinamica', 'DP-800-500', 800, 500, 'DP', 'instancias/dinamica/DP-800-500.txt'], ['dinamica', 'DP-800-600', 800, 600, 'DP', 'instancias/dinamica/DP-800-600.txt'], ['dinamica', 'DP-800-700', 800, 700, 'DP', 'instancias/dinamica/DP-800-700.txt'], ['dinamica', 'DP-800-800', 800, 800, 'DP', 'instancias/dinamica/DP-800-800.txt'], ['dinamica', 'DP-800-900', 800, 900, 'DP', 'instancias/dinamica/DP-800-900.txt'], ['dinamica', 'DP-800-1000', 800, 1000, 'DP', 'instancias/dinamica/DP-800-1000.txt'], ['dinamica', 'DP-800-1100', 800, 1100, 'DP', 'instancias/dinamica/DP-800-1100.txt'], ['dinamica', 'DP-800-1200', 800, 1200, 'DP', 'instancias/dinamica/DP-800-1200.txt'], ['dinamica', 'DP-800-1300', 800, 1300, 'DP', 'instancias/dinamica/DP-800-1300.txt'], ['dinamica', 'DP-800-1400', 800, 1400, 'DP', 'instancias/dinamica/DP-800-1400.txt'], ['dinamica', 'DP-900-200', 900, 200, 'DP', 'instancias/dinamica/DP-900-200.txt'], ['dinamica', 'DP-900-300', 900, 300, 'DP', 'instancias/dinamica/DP-900-300.txt'], ['dinamica', 'DP-900-400', 900, 400, 'DP', 'instancias/dinamica/DP-900-400.txt'], ['dinamica', 'DP-900-500', 900, 500, 'DP', 'instancias/dinamica/DP-900-500.txt'], ['dinamica', 'DP-900-600', 900, 600, 'DP', 'instancias/dinamica/DP-900-600.txt'], ['dinamica', 'DP-900-700', 900, 700, 'DP', 'instancias/dinamica/DP-900-700.txt'], ['dinamica', 'DP-900-800', 900, 800, 'DP', 'instancias/dinamica/DP-900-800.txt'], ['dinamica', 'DP-900-900', 900, 900, 'DP', 'instancias/dinamica/DP-900-900.txt'], ['dinamica', 'DP-900-1000', 900, 1000, 'DP', 'instancias/dinamica/DP-900-1000.txt'], ['dinamica', 'DP-900-1100', 900, 1100, 'DP', 'instancias/dinamica/DP-900-1100.txt'], ['dinamica', 'DP-900-1200', 900, 1200, 'DP', 'instancias/dinamica/DP-900-1200.txt'], ['dinamica', 'DP-900-1300', 900, 1300, 'DP', 'instancias/dinamica/DP-900-1300.txt'], ['dinamica', 'DP-900-1400', 900, 1400, 'DP', 'instancias/dinamica/DP-900-1400.txt'], ['dinamica', 'DP-1000-200', 1000, 200, 'DP', 'instancias/dinamica/DP-1000-200.txt'], ['dinamica', 'DP-1000-300', 1000, 300, 'DP', 'instancias/dinamica/DP-1000-300.txt'], ['dinamica', 'DP-1000-400', 1000, 400, 'DP', 'instancias/dinamica/DP-1000-400.txt'], ['dinamica', 'DP-1000-500', 1000, 500, 'DP', 'instancias/dinamica/DP-1000-500.txt'], ['dinamica', 'DP-1000-600', 1000, 600, 'DP', 'instancias/dinamica/DP-1000-600.txt'], ['dinamica', 'DP-1000-700', 1000, 700, 'DP', 'instancias/dinamica/DP-1000-700.txt'], ['dinamica', 'DP-1000-800', 1000, 800, 'DP', 'instancias/dinamica/DP-1000-800.txt'], ['dinamica', 'DP-1000-900', 1000, 900, 'DP', 'instancias/dinamica/DP-1000-900.txt'], ['dinamica', 'DP-1000-1000', 1000, 1000, 'DP', 'instancias/dinamica/DP-1000-1000.txt'], ['dinamica', 'DP-1000-1100', 1000, 1100, 'DP', 'instancias/dinamica/DP-1000-1100.txt'], ['dinamica', 'DP-1000-1200', 1000, 1200, 'DP', 'instancias/dinamica/DP-1000-1200.txt'], ['dinamica', 'DP-1000-1300', 1000, 1300, 'DP', 'instancias/dinamica/DP-1000-1300.txt'], ['dinamica', 'DP-1000-1400', 1000, 1400, 'DP', 'instancias/dinamica/DP-1000-1400.txt'], ['dinamica', 'DP-1100-200', 1100, 200, 'DP', 'instancias/dinamica/DP-1100-200.txt'], ['dinamica', 'DP-1100-300', 1100, 300, 'DP', 'instancias/dinamica/DP-1100-300.txt'], ['dinamica', 'DP-1100-400', 1100, 400, 'DP', 'instancias/dinamica/DP-1100-400.txt'], ['dinamica', 'DP-1100-500', 1100, 500, 'DP', 'instancias/dinamica/DP-1100-500.txt'], ['dinamica', 'DP-1100-600', 1100, 600, 'DP', 'instancias/dinamica/DP-1100-600.txt'], ['dinamica', 'DP-1100-700', 1100, 700, 'DP', 'instancias/dinamica/DP-1100-700.txt'], ['dinamica', 'DP-1100-800', 1100, 800, 'DP', 'instancias/dinamica/DP-1100-800.txt'], ['dinamica', 'DP-1100-900', 1100, 900, 'DP', 'instancias/dinamica/DP-1100-900.txt'], ['dinamica', 'DP-1100-1000', 1100, 1000, 'DP', 'instancias/dinamica/DP-1100-1000.txt'], ['dinamica', 'DP-1100-1100', 1100, 1100, 'DP', 'instancias/dinamica/DP-1100-1100.txt'], ['dinamica', 'DP-1100-1200', 1100, 1200, 'DP', 'instancias/dinamica/DP-1100-1200.txt'], ['dinamica', 'DP-1100-1300', 1100, 1300, 'DP', 'instancias/dinamica/DP-1100-1300.txt'], ['dinamica', 'DP-1100-1400', 1100, 1400, 'DP', 'instancias/dinamica/DP-1100-1400.txt'], ['dinamica', 'DP-1200-200', 1200, 200, 'DP', 'instancias/dinamica/DP-1200-200.txt'], ['dinamica', 'DP-1200-300', 1200, 300, 'DP', 'instancias/dinamica/DP-1200-300.txt'], ['dinamica', 'DP-1200-400', 1200, 400, 'DP', 'instancias/dinamica/DP-1200-400.txt'], ['dinamica', 'DP-1200-500', 1200, 500, 'DP', 'instancias/dinamica/DP-1200-500.txt'], ['dinamica', 'DP-1200-600', 1200, 600, 'DP', 'instancias/dinamica/DP-1200-600.txt'], ['dinamica', 'DP-1200-700', 1200, 700, 'DP', 'instancias/dinamica/DP-1200-700.txt'], ['dinamica', 'DP-1200-800', 1200, 800, 'DP', 'instancias/dinamica/DP-1200-800.txt'], ['dinamica', 'DP-1200-900', 1200, 900, 'DP', 'instancias/dinamica/DP-1200-900.txt'], ['dinamica', 'DP-1200-1000', 1200, 1000, 'DP', 'instancias/dinamica/DP-1200-1000.txt'], ['dinamica', 'DP-1200-1100', 1200, 1100, 'DP', 'instancias/dinamica/DP-1200-1100.txt'], ['dinamica', 'DP-1200-1200', 1200, 1200, 'DP', 'instancias/dinamica/DP-1200-1200.txt'], ['dinamica', 'DP-1200-1300', 1200, 1300, 'DP', 'instancias/dinamica/DP-1200-1300.txt'], ['dinamica', 'DP-1200-1400', 1200, 1400, 'DP', 'instancias/dinamica/DP-1200-1400.txt'], ['dinamica', 'DP-1300-200', 1300, 200, 'DP', 'instancias/dinamica/DP-1300-200.txt'], ['dinamica', 'DP-1300-300', 1300, 300, 'DP', 'instancias/dinamica/DP-1300-300.txt'], ['dinamica', 'DP-1300-400', 1300, 400, 'DP', 'instancias/dinamica/DP-1300-400.txt'], ['dinamica', 'DP-1300-500', 1300, 500, 'DP', 'instancias/dinamica/DP-1300-500.txt'], ['dinamica', 'DP-1300-600', 1300, 600, 'DP', 'instancias/dinamica/DP-1300-600.txt'], ['dinamica', 'DP-1300-700', 1300, 700, 'DP', 'instancias/dinamica/DP-1300-700.txt'], ['dinamica', 'DP-1300-800', 1300, 800, 'DP', 'instancias/dinamica/DP-1300-800.txt'], ['dinamica', 'DP-1300-900', 1300, 900, 'DP', 'instancias/dinamica/DP-1300-900.txt'], ['dinamica', 'DP-1300-1000', 1300, 1000, 'DP', 'instancias/dinamica/DP-1300-1000.txt'], ['dinamica', 'DP-1300-1100', 1300, 1100, 'DP', 'instancias/dinamica/DP-1300-1100.txt'], ['dinamica', 'DP-1300-1200', 1300, 1200, 'DP', 'instancias/dinamica/DP-1300-1200.txt'], ['dinamica', 'DP-1300-1300', 1300, 1300, 'DP', 'instancias/dinamica/DP-1300-1300.txt'], ['dinamica', 'DP-1300-1400', 1300, 1400, 'DP', 'instancias/dinamica/DP-1300-1400.txt'], ['dinamica', 'DP-1400-200', 1400, 200, 'DP', 'instancias/dinamica/DP-1400-200.txt'], ['dinamica', 'DP-1400-300', 1400, 300, 'DP', 'instancias/dinamica/DP-1400-300.txt'], ['dinamica', 'DP-1400-400', 1400, 400, 'DP', 'instancias/dinamica/DP-1400-400.txt'], ['dinamica', 'DP-1400-500', 1400, 500, 'DP', 'instancias/dinamica/DP-1400-500.txt'], ['dinamica', 'DP-1400-600', 1400, 600, 'DP', 'instancias/dinamica/DP-1400-600.txt'], ['dinamica', 'DP-1400-700', 1400, 700, 'DP', 'instancias/dinamica/DP-1400-700.txt'], ['dinamica', 'DP-1400-800', 1400, 800, 'DP', 'instancias/dinamica/DP-1400-800.txt'], ['dinamica', 'DP-1400-900', 1400, 900, 'DP', 'instancias/dinamica/DP-1400-900.txt'], ['dinamica', 'DP-1400-1000', 1400, 1000, 'DP', 'instancias/dinamica/DP-1400-1000.txt'], ['dinamica', 'DP-1400-1100', 1400, 1100, 'DP', 'instancias/dinamica/DP-1400-1100.txt'], ['dinamica', 'DP-1400-1200', 1400, 1200, 'DP', 'instancias/dinamica/DP-1400-1200.txt'], ['dinamica', 'DP-1400-1300', 1400, 1300, 'DP', 'instancias/dinamica/DP-1400-1300.txt'], ['dinamica', 'DP-1400-1400', 1400, 1400, 'DP', 'instancias/dinamica/DP-1400-1400.txt']]\n"
     ]
    }
   ],
   "source": [
    "# for i, row in df_random_bf.iterrows():\n",
    "#     # fila_n = df_dinamica.iloc[n]\n",
    "#     experimentos.append([row.dataset, row.instancia, row.n, row.M, \"BF\", row.archivo])\n",
    "    \n",
    "# for i, row in df_random_bt.iterrows():\n",
    "#     # fila_n = df_dinamica.iloc[n]\n",
    "#     experimentos.append([row.dataset, row.instancia, row.n, row.M, \"BT\", row.archivo])\n",
    "    \n",
    "# for i, row in df_mejor_caso_bt.iterrows():\n",
    "#     # fila_n = df_dinamica.iloc[n]\n",
    "#     experimentos.append([row.dataset, row.instancia, row.n, row.M, \"BT\", row.archivo])\n",
    "    \n",
    "# for i, row in df_peor_caso_bt.iterrows():\n",
    "#     # fila_n = df_dinamica.iloc[n]\n",
    "#     experimentos.append([row.dataset, row.instancia, row.n, row.M, \"BT\",row.archivo])\n",
    "    \n",
    "for i, row in df_dinamica.iterrows():\n",
    "    # fila_n = df_dinamica.iloc[n]\n",
    "    experimentos.append([row.dataset, row.instancia, row.n, row.M, \"DP\", row.archivo])\n",
    "    \n",
    "print(experimentos)"
   ]
  },
  {
   "cell_type": "markdown",
   "metadata": {},
   "source": [
    "## Experimento 2\n",
    "Correr BT para mejor y peor caso."
   ]
  },
  {
   "cell_type": "code",
   "execution_count": 8,
   "metadata": {},
   "outputs": [],
   "source": [
    "#for n in range(0, df_mejor_caso_bt.shape[0]):\n",
    "#    fila_n = df_mejor_caso_bt.iloc[n];\n",
    "#    experimentos.append([fila_n[\"dataset\"], n, fila_n[\"W\"], \"BT\", fila_n[\"archivo\"]]);\n",
    "#\n",
    "##for n in range(0, df_peor_caso_bt.shape[0]):\n",
    "#    fila_n = df_peor_caso_bt.iloc[n];\n",
    "#    experimentos.append([fila_n[\"dataset\"], n, fila_n[\"W\"], \"BT\", fila_n[\"archivo\"]]);"
   ]
  },
  {
   "cell_type": "markdown",
   "metadata": {},
   "source": [
    "## Experimento 3\n",
    "Correr BT, BT-F, BT-O para densidad alta y baja."
   ]
  },
  {
   "cell_type": "code",
   "execution_count": 9,
   "metadata": {},
   "outputs": [],
   "source": [
    "##for n in range(0, df_densidad_alta.shape[0]):\n",
    "#    fila_n = df_densidad_alta.iloc[n];\n",
    "#    experimentos.append([fila_n[\"dataset\"], n, fila_n[\"W\"], \"BT\", fila_n[\"archivo\"]]);\n",
    "#    experimentos.append([fila_n[\"dataset\"], n, fila_n[\"W\"], \"BT-F\", fila_n[\"archivo\"]]);\n",
    "#    experimentos.append([fila_n[\"dataset\"], n, fila_n[\"W\"], \"BT-O\", fila_n[\"archivo\"]]);\n",
    "#\n",
    "#for n in range(0, 30):\n",
    "#    fila_n = df_densidad_baja.iloc[n];\n",
    "#    experimentos.append([fila_n[\"dataset\"], n, fila_n[\"W\"], \"BT\", fila_n[\"archivo\"]]);\n",
    "#    experimentos.append([fila_n[\"dataset\"], n, fila_n[\"W\"], \"BT-F\", fila_n[\"archivo\"]]);\n",
    "#    experimentos.append([fila_n[\"dataset\"], n, fila_n[\"W\"], \"BT-O\", fila_n[\"archivo\"]]);"
   ]
  },
  {
   "cell_type": "markdown",
   "metadata": {},
   "source": [
    "# Experimento 4\n",
    "Correr DP para el dataset _dinamica_."
   ]
  },
  {
   "cell_type": "code",
   "execution_count": 10,
   "metadata": {},
   "outputs": [],
   "source": [
    "#for i in range(0, df_dinamica.shape[0]):\n",
    "#    fila = df_dinamica.iloc[i];\n",
    "#    experimentos.append([fila[\"dataset\"], fila[\"n\"], fila[\"W\"], \"DP\", fila[\"archivo\"]]);"
   ]
  },
  {
   "cell_type": "markdown",
   "metadata": {},
   "source": [
    "## Experimento 5\n",
    "Correr DP para el dataset densidad-alta y densidad-baja."
   ]
  },
  {
   "cell_type": "code",
   "execution_count": 11,
   "metadata": {},
   "outputs": [],
   "source": [
    "#for i in range(0, df_densidad_alta.shape[0]):\n",
    "#    fila = df_densidad_alta.iloc[i];\n",
    "#    experimentos.append([fila[\"dataset\"], fila[\"n\"], fila[\"W\"], \"DP\", fila[\"archivo\"]]);\n",
    "#\n",
    "#for i in range(0, df_densidad_baja.shape[0]):\n",
    "#    fila = df_densidad_baja.iloc[i];\n",
    "#    experimentos.append([fila[\"dataset\"], fila[\"n\"], fila[\"W\"], \"DP\", fila[\"archivo\"]]);"
   ]
  },
  {
   "cell_type": "markdown",
   "metadata": {},
   "source": [
    "## Ejecutar los experimentos y guardar los resultados en un archivo CSV.\n",
    "Este paso puede tardar unos minutos hasta terminar de ejecutarse."
   ]
  },
  {
   "cell_type": "code",
   "execution_count": 12,
   "metadata": {},
   "outputs": [
    {
     "name": "stderr",
     "output_type": "stream",
     "text": [
      "\r",
      "  0%|                                                   | 0/169 [00:00<?, ?it/s]"
     ]
    },
    {
     "name": "stdout",
     "output_type": "stream",
     "text": [
      "=======>200 200\n",
      "DP\n",
      "DP\n",
      "DP\n",
      "DP\n",
      "DP\n"
     ]
    },
    {
     "name": "stderr",
     "output_type": "stream",
     "text": [
      "\r",
      "  1%|▎                                          | 1/169 [00:00<00:39,  4.24it/s]"
     ]
    },
    {
     "name": "stdout",
     "output_type": "stream",
     "text": [
      "-----------------------37.411357\n",
      "=======>200 300\n",
      "DP\n",
      "DP\n",
      "DP\n",
      "DP\n"
     ]
    },
    {
     "name": "stderr",
     "output_type": "stream",
     "text": [
      "\r",
      "  1%|▌                                          | 2/169 [00:00<00:33,  4.92it/s]"
     ]
    },
    {
     "name": "stdout",
     "output_type": "stream",
     "text": [
      "DP\n",
      "-----------------------35.510747\n",
      "=======>200 400\n",
      "DP\n",
      "DP\n",
      "DP\n"
     ]
    },
    {
     "name": "stderr",
     "output_type": "stream",
     "text": [
      "\r",
      "  2%|▊                                          | 3/169 [00:00<00:38,  4.30it/s]"
     ]
    },
    {
     "name": "stdout",
     "output_type": "stream",
     "text": [
      "DP\n",
      "DP\n",
      "-----------------------51.020045\n",
      "=======>200 500\n",
      "DP\n",
      "DP\n",
      "DP\n",
      "DP\n",
      "DP\n"
     ]
    },
    {
     "name": "stderr",
     "output_type": "stream",
     "text": [
      "\r",
      "  2%|█                                          | 4/169 [00:01<00:45,  3.63it/s]"
     ]
    },
    {
     "name": "stdout",
     "output_type": "stream",
     "text": [
      "-----------------------66.082862\n",
      "=======>200 600\n",
      "DP\n",
      "DP\n",
      "DP\n",
      "DP\n",
      "DP\n"
     ]
    },
    {
     "name": "stderr",
     "output_type": "stream",
     "text": [
      "\r",
      "  3%|█▎                                         | 5/169 [00:01<00:53,  3.04it/s]"
     ]
    },
    {
     "name": "stdout",
     "output_type": "stream",
     "text": [
      "-----------------------85.335435\n",
      "=======>200 700\n",
      "DP\n",
      "DP\n",
      "DP\n",
      "DP\n",
      "DP\n"
     ]
    },
    {
     "name": "stderr",
     "output_type": "stream",
     "text": [
      "\r",
      "  4%|█▌                                         | 6/169 [00:02<01:07,  2.41it/s]"
     ]
    },
    {
     "name": "stdout",
     "output_type": "stream",
     "text": [
      "-----------------------108.69361\n",
      "=======>200 800\n",
      "DP\n",
      "DP\n",
      "DP\n",
      "DP\n",
      "DP\n"
     ]
    },
    {
     "name": "stderr",
     "output_type": "stream",
     "text": [
      "\r",
      "  4%|█▊                                         | 7/169 [00:02<01:16,  2.12it/s]"
     ]
    },
    {
     "name": "stdout",
     "output_type": "stream",
     "text": [
      "-----------------------119.045221\n",
      "=======>200 900\n",
      "DP\n",
      "DP\n",
      "DP\n",
      "DP\n",
      "DP\n"
     ]
    },
    {
     "name": "stderr",
     "output_type": "stream",
     "text": [
      "\r",
      "  5%|██                                         | 8/169 [00:03<01:16,  2.12it/s]"
     ]
    },
    {
     "name": "stdout",
     "output_type": "stream",
     "text": [
      "-----------------------89.04722\n",
      "=======>200 1000\n",
      "DP\n",
      "DP\n",
      "DP\n",
      "DP\n",
      "DP\n"
     ]
    },
    {
     "name": "stderr",
     "output_type": "stream",
     "text": [
      "\r",
      "  5%|██▎                                        | 9/169 [00:03<01:21,  1.97it/s]"
     ]
    },
    {
     "name": "stdout",
     "output_type": "stream",
     "text": [
      "-----------------------101.121546\n",
      "=======>200 1100\n",
      "DP\n",
      "DP\n",
      "DP\n",
      "DP\n",
      "DP\n"
     ]
    },
    {
     "name": "stderr",
     "output_type": "stream",
     "text": [
      "\r",
      "  6%|██▍                                       | 10/169 [00:04<01:34,  1.69it/s]"
     ]
    },
    {
     "name": "stdout",
     "output_type": "stream",
     "text": [
      "-----------------------154.841459\n",
      "=======>200 1200\n",
      "DP\n",
      "DP\n",
      "DP\n",
      "DP\n",
      "DP\n"
     ]
    },
    {
     "name": "stderr",
     "output_type": "stream",
     "text": [
      "\r",
      "  7%|██▋                                       | 11/169 [00:05<01:31,  1.72it/s]"
     ]
    },
    {
     "name": "stdout",
     "output_type": "stream",
     "text": [
      "-----------------------106.089421\n",
      "=======>200 1300\n",
      "DP\n",
      "DP\n",
      "DP\n",
      "DP\n",
      "DP\n"
     ]
    },
    {
     "name": "stderr",
     "output_type": "stream",
     "text": [
      "\r",
      "  7%|██▉                                       | 12/169 [00:05<01:31,  1.72it/s]"
     ]
    },
    {
     "name": "stdout",
     "output_type": "stream",
     "text": [
      "-----------------------109.535145\n",
      "=======>200 1400\n",
      "DP\n",
      "DP\n",
      "DP\n",
      "DP\n",
      "DP\n"
     ]
    },
    {
     "name": "stderr",
     "output_type": "stream",
     "text": [
      "\r",
      "  8%|███▏                                      | 13/169 [00:06<01:30,  1.73it/s]"
     ]
    },
    {
     "name": "stdout",
     "output_type": "stream",
     "text": [
      "-----------------------108.404436\n",
      "=======>300 200\n",
      "DP\n",
      "DP\n",
      "DP\n"
     ]
    },
    {
     "name": "stderr",
     "output_type": "stream",
     "text": [
      "\r",
      "  8%|███▍                                      | 14/169 [00:06<01:10,  2.18it/s]"
     ]
    },
    {
     "name": "stdout",
     "output_type": "stream",
     "text": [
      "DP\n",
      "DP\n",
      "-----------------------34.35221\n",
      "=======>300 300\n",
      "DP\n",
      "DP\n",
      "DP\n"
     ]
    },
    {
     "name": "stderr",
     "output_type": "stream",
     "text": [
      "\r",
      "  9%|███▋                                      | 15/169 [00:06<00:59,  2.57it/s]"
     ]
    },
    {
     "name": "stdout",
     "output_type": "stream",
     "text": [
      "DP\n",
      "DP\n",
      "-----------------------45.147893\n",
      "=======>300 400\n",
      "DP\n",
      "DP\n",
      "DP\n",
      "DP\n",
      "DP\n"
     ]
    },
    {
     "name": "stderr",
     "output_type": "stream",
     "text": [
      "\r",
      "  9%|███▉                                      | 16/169 [00:06<00:54,  2.82it/s]"
     ]
    },
    {
     "name": "stdout",
     "output_type": "stream",
     "text": [
      "-----------------------56.273805\n",
      "=======>300 500\n",
      "DP\n",
      "DP\n",
      "DP\n"
     ]
    },
    {
     "name": "stderr",
     "output_type": "stream",
     "text": [
      "\r",
      " 10%|████▏                                     | 17/169 [00:07<00:53,  2.85it/s]"
     ]
    },
    {
     "name": "stdout",
     "output_type": "stream",
     "text": [
      "DP\n",
      "DP\n",
      "-----------------------62.090121\n",
      "=======>300 600\n",
      "DP\n",
      "DP\n",
      "DP\n",
      "DP\n",
      "DP\n"
     ]
    },
    {
     "name": "stderr",
     "output_type": "stream",
     "text": [
      "\r",
      " 11%|████▍                                     | 18/169 [00:07<00:54,  2.75it/s]"
     ]
    },
    {
     "name": "stdout",
     "output_type": "stream",
     "text": [
      "-----------------------76.311562\n",
      "=======>300 700\n",
      "DP\n",
      "DP\n",
      "DP\n",
      "DP\n",
      "DP\n"
     ]
    },
    {
     "name": "stderr",
     "output_type": "stream",
     "text": [
      "\r",
      " 11%|████▋                                     | 19/169 [00:08<01:06,  2.27it/s]"
     ]
    },
    {
     "name": "stdout",
     "output_type": "stream",
     "text": [
      "-----------------------138.045981\n",
      "=======>300 800\n",
      "DP\n",
      "DP\n",
      "DP\n",
      "DP\n",
      "DP\n"
     ]
    },
    {
     "name": "stderr",
     "output_type": "stream",
     "text": [
      "\r",
      " 12%|████▉                                     | 20/169 [00:08<01:19,  1.86it/s]"
     ]
    },
    {
     "name": "stdout",
     "output_type": "stream",
     "text": [
      "-----------------------145.551155\n",
      "=======>300 900\n",
      "DP\n",
      "DP\n",
      "DP\n",
      "DP\n",
      "DP\n"
     ]
    },
    {
     "name": "stderr",
     "output_type": "stream",
     "text": [
      "\r",
      " 12%|█████▏                                    | 21/169 [00:09<01:27,  1.70it/s]"
     ]
    },
    {
     "name": "stdout",
     "output_type": "stream",
     "text": [
      "-----------------------140.634556\n",
      "=======>300 1000\n",
      "DP\n",
      "DP\n",
      "DP\n",
      "DP\n",
      "DP\n"
     ]
    },
    {
     "name": "stderr",
     "output_type": "stream",
     "text": [
      "\r",
      " 13%|█████▍                                    | 22/169 [00:10<01:29,  1.64it/s]"
     ]
    },
    {
     "name": "stdout",
     "output_type": "stream",
     "text": [
      "-----------------------128.776038\n",
      "=======>300 1100\n",
      "DP\n",
      "DP\n",
      "DP\n",
      "DP\n"
     ]
    },
    {
     "name": "stderr",
     "output_type": "stream",
     "text": [
      "\r",
      " 14%|█████▋                                    | 23/169 [00:11<01:44,  1.40it/s]"
     ]
    },
    {
     "name": "stdout",
     "output_type": "stream",
     "text": [
      "DP\n",
      "-----------------------202.133616\n",
      "=======>300 1200\n",
      "DP\n",
      "DP\n",
      "DP\n",
      "DP\n"
     ]
    },
    {
     "name": "stderr",
     "output_type": "stream",
     "text": [
      "\r",
      " 14%|█████▉                                    | 24/169 [00:12<01:44,  1.39it/s]"
     ]
    },
    {
     "name": "stdout",
     "output_type": "stream",
     "text": [
      "DP\n",
      "-----------------------141.563463\n",
      "=======>300 1300\n",
      "DP\n",
      "DP\n",
      "DP\n",
      "DP\n",
      "DP\n"
     ]
    },
    {
     "name": "stderr",
     "output_type": "stream",
     "text": [
      "\r",
      " 15%|██████▏                                   | 25/169 [00:12<01:48,  1.33it/s]"
     ]
    },
    {
     "name": "stdout",
     "output_type": "stream",
     "text": [
      "-----------------------157.121571\n",
      "=======>300 1400\n",
      "DP\n",
      "DP\n",
      "DP\n",
      "DP\n",
      "DP\n"
     ]
    },
    {
     "name": "stderr",
     "output_type": "stream",
     "text": [
      " 16%|██████▋                                   | 27/169 [00:14<01:33,  1.53it/s]"
     ]
    },
    {
     "name": "stdout",
     "output_type": "stream",
     "text": [
      "-----------------------225.901335\n",
      "=======>400 200\n",
      "DP\n",
      "DP\n",
      "DP\n",
      "DP\n",
      "DP\n",
      "-----------------------35.296449\n",
      "=======>400 300\n",
      "DP\n"
     ]
    },
    {
     "name": "stderr",
     "output_type": "stream",
     "text": [
      "\r",
      " 17%|██████▉                                   | 28/169 [00:14<01:15,  1.87it/s]"
     ]
    },
    {
     "name": "stdout",
     "output_type": "stream",
     "text": [
      "DP\n",
      "DP\n",
      "DP\n",
      "DP\n",
      "-----------------------47.399423\n",
      "=======>400 400\n",
      "DP\n",
      "DP\n",
      "DP\n",
      "DP\n",
      "DP\n"
     ]
    },
    {
     "name": "stderr",
     "output_type": "stream",
     "text": [
      "\r",
      " 17%|███████▏                                  | 29/169 [00:14<01:05,  2.12it/s]"
     ]
    },
    {
     "name": "stdout",
     "output_type": "stream",
     "text": [
      "-----------------------64.403868\n",
      "=======>400 500\n",
      "DP\n",
      "DP\n",
      "DP\n"
     ]
    },
    {
     "name": "stderr",
     "output_type": "stream",
     "text": [
      "\r",
      " 18%|███████▍                                  | 30/169 [00:15<01:01,  2.26it/s]"
     ]
    },
    {
     "name": "stdout",
     "output_type": "stream",
     "text": [
      "DP\n",
      "DP\n",
      "-----------------------74.877523\n",
      "=======>400 600\n",
      "DP\n",
      "DP\n",
      "DP\n",
      "DP\n"
     ]
    },
    {
     "name": "stderr",
     "output_type": "stream",
     "text": [
      "\r",
      " 18%|███████▋                                  | 31/169 [00:15<01:01,  2.26it/s]"
     ]
    },
    {
     "name": "stdout",
     "output_type": "stream",
     "text": [
      "DP\n",
      "-----------------------87.670138\n",
      "=======>400 700\n",
      "DP\n",
      "DP\n",
      "DP\n",
      "DP\n"
     ]
    },
    {
     "name": "stderr",
     "output_type": "stream",
     "text": [
      "\r",
      " 19%|███████▉                                  | 32/169 [00:16<01:03,  2.16it/s]"
     ]
    },
    {
     "name": "stdout",
     "output_type": "stream",
     "text": [
      "DP\n",
      "-----------------------101.579537\n",
      "=======>400 800\n",
      "DP\n",
      "DP\n",
      "DP\n",
      "DP\n",
      "DP\n"
     ]
    },
    {
     "name": "stderr",
     "output_type": "stream",
     "text": [
      "\r",
      " 20%|████████▏                                 | 33/169 [00:16<01:07,  2.00it/s]"
     ]
    },
    {
     "name": "stdout",
     "output_type": "stream",
     "text": [
      "-----------------------117.691467\n",
      "=======>400 900\n",
      "DP\n",
      "DP\n",
      "DP\n",
      "DP\n"
     ]
    },
    {
     "name": "stderr",
     "output_type": "stream",
     "text": [
      "\r",
      " 20%|████████▍                                 | 34/169 [00:17<01:13,  1.83it/s]"
     ]
    },
    {
     "name": "stdout",
     "output_type": "stream",
     "text": [
      "DP\n",
      "-----------------------132.866275\n",
      "=======>400 1000\n",
      "DP\n",
      "DP\n",
      "DP\n",
      "DP\n",
      "DP\n"
     ]
    },
    {
     "name": "stderr",
     "output_type": "stream",
     "text": [
      "\r",
      " 21%|████████▋                                 | 35/169 [00:18<01:20,  1.66it/s]"
     ]
    },
    {
     "name": "stdout",
     "output_type": "stream",
     "text": [
      "-----------------------145.004997\n",
      "=======>400 1100\n",
      "DP\n",
      "DP\n",
      "DP\n",
      "DP\n"
     ]
    },
    {
     "name": "stderr",
     "output_type": "stream",
     "text": [
      "\r",
      " 21%|████████▉                                 | 36/169 [00:18<01:27,  1.53it/s]"
     ]
    },
    {
     "name": "stdout",
     "output_type": "stream",
     "text": [
      "DP\n",
      "-----------------------154.837107\n",
      "=======>400 1200\n",
      "DP\n",
      "DP\n",
      "DP\n",
      "DP\n",
      "DP\n"
     ]
    },
    {
     "name": "stderr",
     "output_type": "stream",
     "text": [
      "\r",
      " 22%|█████████▏                                | 37/169 [00:19<01:34,  1.40it/s]"
     ]
    },
    {
     "name": "stdout",
     "output_type": "stream",
     "text": [
      "-----------------------168.026157\n",
      "=======>400 1300\n",
      "DP\n",
      "DP\n",
      "DP\n",
      "DP\n"
     ]
    },
    {
     "name": "stderr",
     "output_type": "stream",
     "text": [
      "\r",
      " 22%|█████████▍                                | 38/169 [00:20<01:41,  1.29it/s]"
     ]
    },
    {
     "name": "stdout",
     "output_type": "stream",
     "text": [
      "DP\n",
      "-----------------------184.194395\n",
      "=======>400 1400\n",
      "DP\n",
      "DP\n",
      "DP\n",
      "DP\n",
      "DP\n"
     ]
    },
    {
     "name": "stderr",
     "output_type": "stream",
     "text": [
      "\r",
      " 23%|█████████▋                                | 39/169 [00:21<01:49,  1.19it/s]"
     ]
    },
    {
     "name": "stdout",
     "output_type": "stream",
     "text": [
      "-----------------------197.607644\n",
      "=======>500 200\n",
      "DP\n",
      "DP\n",
      "DP\n",
      "DP\n",
      "DP\n"
     ]
    },
    {
     "name": "stderr",
     "output_type": "stream",
     "text": [
      "\r",
      " 24%|█████████▉                                | 40/169 [00:21<01:23,  1.54it/s]"
     ]
    },
    {
     "name": "stdout",
     "output_type": "stream",
     "text": [
      "-----------------------38.124793\n",
      "=======>500 300\n",
      "DP\n",
      "DP\n",
      "DP\n",
      "DP\n"
     ]
    },
    {
     "name": "stderr",
     "output_type": "stream",
     "text": [
      "\r",
      " 24%|██████████▏                               | 41/169 [00:22<01:08,  1.86it/s]"
     ]
    },
    {
     "name": "stdout",
     "output_type": "stream",
     "text": [
      "DP\n",
      "-----------------------54.589362\n",
      "=======>500 400\n",
      "DP\n",
      "DP\n",
      "DP\n",
      "DP\n",
      "DP\n"
     ]
    },
    {
     "name": "stderr",
     "output_type": "stream",
     "text": [
      "\r",
      " 25%|██████████▍                               | 42/169 [00:22<01:01,  2.05it/s]"
     ]
    },
    {
     "name": "stdout",
     "output_type": "stream",
     "text": [
      "-----------------------73.61282\n",
      "=======>500 500\n",
      "DP\n",
      "DP\n",
      "DP\n"
     ]
    },
    {
     "name": "stderr",
     "output_type": "stream",
     "text": [
      "\r",
      " 25%|██████████▋                               | 43/169 [00:22<01:00,  2.08it/s]"
     ]
    },
    {
     "name": "stdout",
     "output_type": "stream",
     "text": [
      "DP\n",
      "DP\n",
      "-----------------------91.401683\n",
      "=======>500 600\n",
      "DP\n",
      "DP\n",
      "DP\n",
      "DP\n",
      "DP\n"
     ]
    },
    {
     "name": "stderr",
     "output_type": "stream",
     "text": [
      "\r",
      " 26%|██████████▉                               | 44/169 [00:23<01:02,  2.01it/s]"
     ]
    },
    {
     "name": "stdout",
     "output_type": "stream",
     "text": [
      "-----------------------106.104099\n",
      "=======>500 700\n",
      "DP\n",
      "DP\n",
      "DP\n",
      "DP\n"
     ]
    },
    {
     "name": "stderr",
     "output_type": "stream",
     "text": [
      "\r",
      " 27%|███████████▏                              | 45/169 [00:24<01:06,  1.86it/s]"
     ]
    },
    {
     "name": "stdout",
     "output_type": "stream",
     "text": [
      "DP\n",
      "-----------------------123.675053\n",
      "=======>500 800\n",
      "DP\n",
      "DP\n",
      "DP\n",
      "DP\n",
      "DP\n"
     ]
    },
    {
     "name": "stderr",
     "output_type": "stream",
     "text": [
      "\r",
      " 27%|███████████▍                              | 46/169 [00:24<01:11,  1.71it/s]"
     ]
    },
    {
     "name": "stdout",
     "output_type": "stream",
     "text": [
      "-----------------------137.118849\n",
      "=======>500 900\n",
      "DP\n",
      "DP\n",
      "DP\n",
      "DP\n"
     ]
    },
    {
     "name": "stderr",
     "output_type": "stream",
     "text": [
      "\r",
      " 28%|███████████▋                              | 47/169 [00:25<01:18,  1.55it/s]"
     ]
    },
    {
     "name": "stdout",
     "output_type": "stream",
     "text": [
      "DP\n",
      "-----------------------154.248863\n",
      "=======>500 1000\n",
      "DP\n",
      "DP\n",
      "DP\n",
      "DP\n",
      "DP\n"
     ]
    },
    {
     "name": "stderr",
     "output_type": "stream",
     "text": [
      "\r",
      " 28%|███████████▉                              | 48/169 [00:26<01:25,  1.41it/s]"
     ]
    },
    {
     "name": "stdout",
     "output_type": "stream",
     "text": [
      "-----------------------171.091269\n",
      "=======>500 1100\n",
      "DP\n",
      "DP\n",
      "DP\n",
      "DP\n"
     ]
    },
    {
     "name": "stderr",
     "output_type": "stream",
     "text": [
      "\r",
      " 29%|████████████▏                             | 49/169 [00:27<01:33,  1.28it/s]"
     ]
    },
    {
     "name": "stdout",
     "output_type": "stream",
     "text": [
      "DP\n",
      "-----------------------186.340585\n",
      "=======>500 1200\n",
      "DP\n",
      "DP\n",
      "DP\n",
      "DP\n",
      "DP\n"
     ]
    },
    {
     "name": "stderr",
     "output_type": "stream",
     "text": [
      "\r",
      " 30%|████████████▍                             | 50/169 [00:28<01:42,  1.16it/s]"
     ]
    },
    {
     "name": "stdout",
     "output_type": "stream",
     "text": [
      "-----------------------211.601633\n",
      "=======>500 1300\n",
      "DP\n",
      "DP\n",
      "DP\n",
      "DP\n",
      "DP\n"
     ]
    },
    {
     "name": "stderr",
     "output_type": "stream",
     "text": [
      "\r",
      " 30%|████████████▋                             | 51/169 [00:29<01:50,  1.07it/s]"
     ]
    },
    {
     "name": "stdout",
     "output_type": "stream",
     "text": [
      "-----------------------223.807547\n",
      "=======>500 1400\n",
      "DP\n",
      "DP\n",
      "DP\n",
      "DP\n",
      "DP\n"
     ]
    },
    {
     "name": "stderr",
     "output_type": "stream",
     "text": [
      "\r",
      " 31%|████████████▉                             | 52/169 [00:30<01:58,  1.02s/it]"
     ]
    },
    {
     "name": "stdout",
     "output_type": "stream",
     "text": [
      "-----------------------239.423468\n",
      "=======>600 200\n",
      "DP\n",
      "DP\n",
      "DP\n",
      "DP\n",
      "DP\n"
     ]
    },
    {
     "name": "stderr",
     "output_type": "stream",
     "text": [
      "\r",
      " 31%|█████████████▏                            | 53/169 [00:30<01:30,  1.28it/s]"
     ]
    },
    {
     "name": "stdout",
     "output_type": "stream",
     "text": [
      "-----------------------44.795337\n",
      "=======>600 300\n",
      "DP\n",
      "DP\n",
      "DP\n",
      "DP\n"
     ]
    },
    {
     "name": "stderr",
     "output_type": "stream",
     "text": [
      "\r",
      " 32%|█████████████▍                            | 54/169 [00:31<01:14,  1.55it/s]"
     ]
    },
    {
     "name": "stdout",
     "output_type": "stream",
     "text": [
      "DP\n",
      "-----------------------65.938814\n",
      "=======>600 400\n",
      "DP\n",
      "DP\n",
      "DP\n",
      "DP\n",
      "DP\n"
     ]
    },
    {
     "name": "stderr",
     "output_type": "stream",
     "text": [
      "\r",
      " 33%|█████████████▋                            | 55/169 [00:31<01:06,  1.72it/s]"
     ]
    },
    {
     "name": "stdout",
     "output_type": "stream",
     "text": [
      "-----------------------87.4219\n",
      "=======>600 500\n",
      "DP\n",
      "DP\n",
      "DP\n",
      "DP\n"
     ]
    },
    {
     "name": "stderr",
     "output_type": "stream",
     "text": [
      "\r",
      " 33%|█████████████▉                            | 56/169 [00:32<01:04,  1.76it/s]"
     ]
    },
    {
     "name": "stdout",
     "output_type": "stream",
     "text": [
      "DP\n",
      "-----------------------104.375447\n",
      "=======>600 600\n",
      "DP\n",
      "DP\n",
      "DP\n",
      "DP\n",
      "DP\n"
     ]
    },
    {
     "name": "stderr",
     "output_type": "stream",
     "text": [
      "\r",
      " 34%|██████████████▏                           | 57/169 [00:32<01:05,  1.70it/s]"
     ]
    },
    {
     "name": "stdout",
     "output_type": "stream",
     "text": [
      "-----------------------124.46967\n",
      "=======>600 700\n",
      "DP\n",
      "DP\n",
      "DP\n",
      "DP\n"
     ]
    },
    {
     "name": "stderr",
     "output_type": "stream",
     "text": [
      "\r",
      " 34%|██████████████▍                           | 58/169 [00:33<01:11,  1.55it/s]"
     ]
    },
    {
     "name": "stdout",
     "output_type": "stream",
     "text": [
      "DP\n",
      "-----------------------152.302682\n",
      "=======>600 800\n",
      "DP\n",
      "DP\n",
      "DP\n",
      "DP\n",
      "DP\n"
     ]
    },
    {
     "name": "stderr",
     "output_type": "stream",
     "text": [
      "\r",
      " 35%|██████████████▋                           | 59/169 [00:34<01:29,  1.22it/s]"
     ]
    },
    {
     "name": "stdout",
     "output_type": "stream",
     "text": [
      "-----------------------247.237634\n",
      "=======>600 900\n",
      "DP\n",
      "DP\n",
      "DP\n",
      "DP\n",
      "DP\n"
     ]
    },
    {
     "name": "stderr",
     "output_type": "stream",
     "text": [
      "\r",
      " 36%|██████████████▉                           | 60/169 [00:35<01:39,  1.10it/s]"
     ]
    },
    {
     "name": "stdout",
     "output_type": "stream",
     "text": [
      "-----------------------203.52892\n",
      "=======>600 1000\n",
      "DP\n",
      "DP\n",
      "DP\n",
      "DP\n",
      "DP\n"
     ]
    },
    {
     "name": "stderr",
     "output_type": "stream",
     "text": [
      "\r",
      " 36%|███████████████▏                          | 61/169 [00:37<01:53,  1.05s/it]"
     ]
    },
    {
     "name": "stdout",
     "output_type": "stream",
     "text": [
      "-----------------------242.264916\n",
      "=======>600 1100\n",
      "DP\n",
      "DP\n",
      "DP\n",
      "DP\n",
      "DP\n"
     ]
    },
    {
     "name": "stderr",
     "output_type": "stream",
     "text": [
      "\r",
      " 37%|███████████████▍                          | 62/169 [00:38<01:58,  1.11s/it]"
     ]
    },
    {
     "name": "stdout",
     "output_type": "stream",
     "text": [
      "-----------------------239.610379\n",
      "=======>600 1200\n",
      "DP\n",
      "DP\n",
      "DP\n",
      "DP\n",
      "DP\n"
     ]
    },
    {
     "name": "stderr",
     "output_type": "stream",
     "text": [
      "\r",
      " 37%|███████████████▋                          | 63/169 [00:39<02:04,  1.17s/it]"
     ]
    },
    {
     "name": "stdout",
     "output_type": "stream",
     "text": [
      "-----------------------266.53377\n",
      "=======>600 1300\n",
      "DP\n",
      "DP\n",
      "DP\n",
      "DP\n",
      "DP\n"
     ]
    },
    {
     "name": "stderr",
     "output_type": "stream",
     "text": [
      "\r",
      " 38%|███████████████▉                          | 64/169 [00:41<02:12,  1.26s/it]"
     ]
    },
    {
     "name": "stdout",
     "output_type": "stream",
     "text": [
      "-----------------------293.950499\n",
      "=======>600 1400\n",
      "DP\n",
      "DP\n",
      "DP\n",
      "DP\n",
      "DP\n"
     ]
    },
    {
     "name": "stderr",
     "output_type": "stream",
     "text": [
      "\r",
      " 38%|████████████████▏                         | 65/169 [00:43<02:43,  1.57s/it]"
     ]
    },
    {
     "name": "stdout",
     "output_type": "stream",
     "text": [
      "-----------------------464.128883\n",
      "=======>700 200\n",
      "DP\n",
      "DP\n",
      "DP\n",
      "DP\n"
     ]
    },
    {
     "name": "stderr",
     "output_type": "stream",
     "text": [
      "\r",
      " 39%|████████████████▍                         | 66/169 [00:43<02:02,  1.19s/it]"
     ]
    },
    {
     "name": "stdout",
     "output_type": "stream",
     "text": [
      "DP\n",
      "-----------------------59.573431\n",
      "=======>700 300\n",
      "DP\n",
      "DP\n",
      "DP\n",
      "DP\n",
      "DP\n"
     ]
    },
    {
     "name": "stderr",
     "output_type": "stream",
     "text": [
      "\r",
      " 40%|████████████████▋                         | 67/169 [00:44<01:40,  1.01it/s]"
     ]
    },
    {
     "name": "stdout",
     "output_type": "stream",
     "text": [
      "-----------------------97.254162\n",
      "=======>700 400\n",
      "DP\n",
      "DP\n",
      "DP\n",
      "DP\n"
     ]
    },
    {
     "name": "stderr",
     "output_type": "stream",
     "text": [
      "\r",
      " 40%|████████████████▉                         | 68/169 [00:45<01:30,  1.12it/s]"
     ]
    },
    {
     "name": "stdout",
     "output_type": "stream",
     "text": [
      "DP\n",
      "-----------------------111.097847\n",
      "=======>700 500\n",
      "DP\n",
      "DP\n",
      "DP\n",
      "DP\n",
      "DP\n"
     ]
    },
    {
     "name": "stderr",
     "output_type": "stream",
     "text": [
      "\r",
      " 41%|█████████████████▏                        | 69/169 [00:45<01:21,  1.23it/s]"
     ]
    },
    {
     "name": "stdout",
     "output_type": "stream",
     "text": [
      "-----------------------127.377271\n",
      "=======>700 600\n",
      "DP\n",
      "DP\n",
      "DP\n",
      "DP\n"
     ]
    },
    {
     "name": "stderr",
     "output_type": "stream",
     "text": [
      "\r",
      " 41%|█████████████████▍                        | 70/169 [00:46<01:20,  1.23it/s]"
     ]
    },
    {
     "name": "stdout",
     "output_type": "stream",
     "text": [
      "DP\n",
      "-----------------------159.419689\n",
      "=======>700 700\n",
      "DP\n",
      "DP\n",
      "DP\n",
      "DP\n",
      "DP\n"
     ]
    },
    {
     "name": "stderr",
     "output_type": "stream",
     "text": [
      "\r",
      " 42%|█████████████████▋                        | 71/169 [00:47<01:23,  1.18it/s]"
     ]
    },
    {
     "name": "stdout",
     "output_type": "stream",
     "text": [
      "-----------------------180.312846\n",
      "=======>700 800\n",
      "DP\n",
      "DP\n",
      "DP\n",
      "DP\n",
      "DP\n"
     ]
    },
    {
     "name": "stderr",
     "output_type": "stream",
     "text": [
      "\r",
      " 43%|█████████████████▉                        | 72/169 [00:48<01:27,  1.11it/s]"
     ]
    },
    {
     "name": "stdout",
     "output_type": "stream",
     "text": [
      "-----------------------203.806769\n",
      "=======>700 900\n",
      "DP\n",
      "DP\n",
      "DP\n",
      "DP\n",
      "DP\n"
     ]
    },
    {
     "name": "stderr",
     "output_type": "stream",
     "text": [
      "\r",
      " 43%|██████████████████▏                       | 73/169 [00:49<01:34,  1.01it/s]"
     ]
    },
    {
     "name": "stdout",
     "output_type": "stream",
     "text": [
      "-----------------------238.287057\n",
      "=======>700 1000\n",
      "DP\n",
      "DP\n",
      "DP\n",
      "DP\n",
      "DP\n"
     ]
    },
    {
     "name": "stderr",
     "output_type": "stream",
     "text": [
      "\r",
      " 44%|██████████████████▍                       | 74/169 [00:51<01:43,  1.09s/it]"
     ]
    },
    {
     "name": "stdout",
     "output_type": "stream",
     "text": [
      "-----------------------268.57517\n",
      "=======>700 1100\n",
      "DP\n",
      "DP\n",
      "DP\n",
      "DP\n",
      "DP\n"
     ]
    },
    {
     "name": "stderr",
     "output_type": "stream",
     "text": [
      "\r",
      " 44%|██████████████████▋                       | 75/169 [00:52<01:51,  1.19s/it]"
     ]
    },
    {
     "name": "stdout",
     "output_type": "stream",
     "text": [
      "-----------------------286.34061\n",
      "=======>700 1200\n",
      "DP\n",
      "DP\n",
      "DP\n",
      "DP\n",
      "DP\n"
     ]
    },
    {
     "name": "stderr",
     "output_type": "stream",
     "text": [
      "\r",
      " 45%|██████████████████▉                       | 76/169 [00:54<02:02,  1.32s/it]"
     ]
    },
    {
     "name": "stdout",
     "output_type": "stream",
     "text": [
      "-----------------------312.952841\n",
      "=======>700 1300\n",
      "DP\n",
      "DP\n",
      "DP\n",
      "DP\n",
      "DP\n"
     ]
    },
    {
     "name": "stderr",
     "output_type": "stream",
     "text": [
      "\r",
      " 46%|███████████████████▏                      | 77/169 [00:55<02:10,  1.41s/it]"
     ]
    },
    {
     "name": "stdout",
     "output_type": "stream",
     "text": [
      "-----------------------321.845633\n",
      "=======>700 1400\n",
      "DP\n",
      "DP\n",
      "DP\n",
      "DP\n",
      "DP\n"
     ]
    },
    {
     "name": "stderr",
     "output_type": "stream",
     "text": [
      "\r",
      " 46%|███████████████████▍                      | 78/169 [00:57<02:20,  1.54s/it]"
     ]
    },
    {
     "name": "stdout",
     "output_type": "stream",
     "text": [
      "-----------------------368.682297\n",
      "=======>800 200\n",
      "DP\n",
      "DP\n",
      "DP\n"
     ]
    },
    {
     "name": "stderr",
     "output_type": "stream",
     "text": [
      "\r",
      " 47%|███████████████████▋                      | 79/169 [00:57<01:46,  1.19s/it]"
     ]
    },
    {
     "name": "stdout",
     "output_type": "stream",
     "text": [
      "DP\n",
      "DP\n",
      "-----------------------65.22171\n",
      "=======>800 300\n",
      "DP\n",
      "DP\n",
      "DP\n",
      "DP\n"
     ]
    },
    {
     "name": "stderr",
     "output_type": "stream",
     "text": [
      "\r",
      " 47%|███████████████████▉                      | 80/169 [00:58<01:25,  1.04it/s]"
     ]
    },
    {
     "name": "stdout",
     "output_type": "stream",
     "text": [
      "DP\n",
      "-----------------------88.836773\n",
      "=======>800 400\n",
      "DP\n",
      "DP\n",
      "DP\n",
      "DP\n",
      "DP\n"
     ]
    },
    {
     "name": "stderr",
     "output_type": "stream",
     "text": [
      "\r",
      " 48%|████████████████████▏                     | 81/169 [00:59<01:15,  1.16it/s]"
     ]
    },
    {
     "name": "stdout",
     "output_type": "stream",
     "text": [
      "-----------------------120.337815\n",
      "=======>800 500\n",
      "DP\n",
      "DP\n",
      "DP\n",
      "DP\n"
     ]
    },
    {
     "name": "stderr",
     "output_type": "stream",
     "text": [
      "\r",
      " 49%|████████████████████▍                     | 82/169 [00:59<01:11,  1.21it/s]"
     ]
    },
    {
     "name": "stdout",
     "output_type": "stream",
     "text": [
      "DP\n",
      "-----------------------143.496943\n",
      "=======>800 600\n",
      "DP\n",
      "DP\n",
      "DP\n",
      "DP\n",
      "DP\n"
     ]
    },
    {
     "name": "stderr",
     "output_type": "stream",
     "text": [
      "\r",
      " 49%|████████████████████▋                     | 83/169 [01:01<01:22,  1.05it/s]"
     ]
    },
    {
     "name": "stdout",
     "output_type": "stream",
     "text": [
      "-----------------------257.330986\n",
      "=======>800 700\n",
      "DP\n",
      "DP\n",
      "DP\n",
      "DP\n",
      "DP\n"
     ]
    },
    {
     "name": "stderr",
     "output_type": "stream",
     "text": [
      "\r",
      " 50%|████████████████████▉                     | 84/169 [01:02<01:27,  1.02s/it]"
     ]
    },
    {
     "name": "stdout",
     "output_type": "stream",
     "text": [
      "-----------------------217.960064\n",
      "=======>800 800\n",
      "DP\n",
      "DP\n",
      "DP\n",
      "DP\n",
      "DP\n"
     ]
    },
    {
     "name": "stderr",
     "output_type": "stream",
     "text": [
      "\r",
      " 50%|█████████████████████                     | 85/169 [01:04<01:45,  1.25s/it]"
     ]
    },
    {
     "name": "stdout",
     "output_type": "stream",
     "text": [
      "-----------------------339.15001\n",
      "=======>800 900\n",
      "DP\n",
      "DP\n",
      "DP\n",
      "DP\n",
      "DP\n"
     ]
    },
    {
     "name": "stderr",
     "output_type": "stream",
     "text": [
      "\r",
      " 51%|█████████████████████▎                    | 86/169 [01:05<01:52,  1.35s/it]"
     ]
    },
    {
     "name": "stdout",
     "output_type": "stream",
     "text": [
      "-----------------------302.074911\n",
      "=======>800 1000\n",
      "DP\n",
      "DP\n",
      "DP\n",
      "DP\n",
      "DP\n"
     ]
    },
    {
     "name": "stderr",
     "output_type": "stream",
     "text": [
      "\r",
      " 51%|█████████████████████▌                    | 87/169 [01:07<02:02,  1.49s/it]"
     ]
    },
    {
     "name": "stdout",
     "output_type": "stream",
     "text": [
      "-----------------------361.962208\n",
      "=======>800 1100\n",
      "DP\n",
      "DP\n",
      "DP\n",
      "DP\n",
      "DP\n"
     ]
    },
    {
     "name": "stderr",
     "output_type": "stream",
     "text": [
      "\r",
      " 52%|█████████████████████▊                    | 88/169 [01:09<02:06,  1.56s/it]"
     ]
    },
    {
     "name": "stdout",
     "output_type": "stream",
     "text": [
      "-----------------------327.465136\n",
      "=======>800 1200\n",
      "DP\n",
      "DP\n",
      "DP\n",
      "DP\n",
      "DP\n"
     ]
    },
    {
     "name": "stderr",
     "output_type": "stream",
     "text": [
      "\r",
      " 53%|██████████████████████                    | 89/169 [01:11<02:21,  1.77s/it]"
     ]
    },
    {
     "name": "stdout",
     "output_type": "stream",
     "text": [
      "-----------------------451.681373\n",
      "=======>800 1300\n",
      "DP\n",
      "DP\n",
      "DP\n",
      "DP\n",
      "DP\n"
     ]
    },
    {
     "name": "stderr",
     "output_type": "stream",
     "text": [
      "\r",
      " 53%|██████████████████████▎                   | 90/169 [01:13<02:28,  1.88s/it]"
     ]
    },
    {
     "name": "stdout",
     "output_type": "stream",
     "text": [
      "-----------------------406.28078\n",
      "=======>800 1400\n",
      "DP\n",
      "DP\n",
      "DP\n",
      "DP\n",
      "DP\n"
     ]
    },
    {
     "name": "stderr",
     "output_type": "stream",
     "text": [
      "\r",
      " 54%|██████████████████████▌                   | 91/169 [01:16<02:54,  2.24s/it]"
     ]
    },
    {
     "name": "stdout",
     "output_type": "stream",
     "text": [
      "-----------------------640.215486\n",
      "=======>900 200\n",
      "DP\n",
      "DP\n",
      "DP\n",
      "DP\n",
      "DP\n"
     ]
    },
    {
     "name": "stderr",
     "output_type": "stream",
     "text": [
      "\r",
      " 54%|██████████████████████▊                   | 92/169 [01:17<02:10,  1.70s/it]"
     ]
    },
    {
     "name": "stdout",
     "output_type": "stream",
     "text": [
      "-----------------------72.783349\n",
      "=======>900 300\n",
      "DP\n",
      "DP\n",
      "DP\n",
      "DP\n"
     ]
    },
    {
     "name": "stderr",
     "output_type": "stream",
     "text": [
      "\r",
      " 55%|███████████████████████                   | 93/169 [01:17<01:50,  1.45s/it]"
     ]
    },
    {
     "name": "stdout",
     "output_type": "stream",
     "text": [
      "DP\n",
      "-----------------------181.331376\n",
      "=======>900 400\n",
      "DP\n",
      "DP\n",
      "DP\n",
      "DP\n",
      "DP\n"
     ]
    },
    {
     "name": "stderr",
     "output_type": "stream",
     "text": [
      "\r",
      " 56%|███████████████████████▎                  | 94/169 [01:19<01:42,  1.36s/it]"
     ]
    },
    {
     "name": "stdout",
     "output_type": "stream",
     "text": [
      "-----------------------226.028918\n",
      "=======>900 500\n",
      "DP\n",
      "DP\n",
      "DP\n",
      "DP\n",
      "DP\n"
     ]
    },
    {
     "name": "stderr",
     "output_type": "stream",
     "text": [
      "\r",
      " 56%|███████████████████████▌                  | 95/169 [01:20<01:36,  1.31s/it]"
     ]
    },
    {
     "name": "stdout",
     "output_type": "stream",
     "text": [
      "-----------------------219.180734\n",
      "=======>900 600\n",
      "DP\n",
      "DP\n",
      "DP\n",
      "DP\n",
      "DP\n"
     ]
    },
    {
     "name": "stderr",
     "output_type": "stream",
     "text": [
      "\r",
      " 57%|███████████████████████▊                  | 96/169 [01:21<01:36,  1.33s/it]"
     ]
    },
    {
     "name": "stdout",
     "output_type": "stream",
     "text": [
      "-----------------------270.985131\n",
      "=======>900 700\n",
      "DP\n",
      "DP\n",
      "DP\n",
      "DP\n",
      "DP\n"
     ]
    },
    {
     "name": "stderr",
     "output_type": "stream",
     "text": [
      "\r",
      " 57%|████████████████████████                  | 97/169 [01:23<01:39,  1.38s/it]"
     ]
    },
    {
     "name": "stdout",
     "output_type": "stream",
     "text": [
      "-----------------------308.22699\n",
      "=======>900 800\n",
      "DP\n",
      "DP\n",
      "DP\n",
      "DP\n",
      "DP\n"
     ]
    },
    {
     "name": "stderr",
     "output_type": "stream",
     "text": [
      "\r",
      " 58%|████████████████████████▎                 | 98/169 [01:24<01:47,  1.52s/it]"
     ]
    },
    {
     "name": "stdout",
     "output_type": "stream",
     "text": [
      "-----------------------347.303708\n",
      "=======>900 900\n",
      "DP\n",
      "DP\n",
      "DP\n",
      "DP\n",
      "DP\n"
     ]
    },
    {
     "name": "stderr",
     "output_type": "stream",
     "text": [
      "\r",
      " 59%|████████████████████████▌                 | 99/169 [01:26<01:53,  1.62s/it]"
     ]
    },
    {
     "name": "stdout",
     "output_type": "stream",
     "text": [
      "-----------------------343.433518\n",
      "=======>900 1000\n",
      "DP\n",
      "DP\n",
      "DP\n",
      "DP\n",
      "DP\n"
     ]
    },
    {
     "name": "stderr",
     "output_type": "stream",
     "text": [
      "\r",
      " 59%|████████████████████████▎                | 100/169 [01:28<01:59,  1.73s/it]"
     ]
    },
    {
     "name": "stdout",
     "output_type": "stream",
     "text": [
      "-----------------------339.656388\n",
      "=======>900 1100\n",
      "DP\n",
      "DP\n",
      "DP\n",
      "DP\n",
      "DP\n"
     ]
    },
    {
     "name": "stderr",
     "output_type": "stream",
     "text": [
      "\r",
      " 60%|████████████████████████▌                | 101/169 [01:31<02:07,  1.87s/it]"
     ]
    },
    {
     "name": "stdout",
     "output_type": "stream",
     "text": [
      "-----------------------416.732538\n",
      "=======>900 1200\n",
      "DP\n",
      "DP\n",
      "DP\n",
      "DP\n",
      "DP\n"
     ]
    },
    {
     "name": "stderr",
     "output_type": "stream",
     "text": [
      "\r",
      " 60%|████████████████████████▋                | 102/169 [01:33<02:15,  2.02s/it]"
     ]
    },
    {
     "name": "stdout",
     "output_type": "stream",
     "text": [
      "-----------------------475.965068\n",
      "=======>900 1300\n",
      "DP\n",
      "DP\n",
      "DP\n",
      "DP\n",
      "DP\n"
     ]
    },
    {
     "name": "stderr",
     "output_type": "stream",
     "text": [
      "\r",
      " 61%|████████████████████████▉                | 103/169 [01:36<02:29,  2.27s/it]"
     ]
    },
    {
     "name": "stdout",
     "output_type": "stream",
     "text": [
      "-----------------------578.512487\n",
      "=======>900 1400\n",
      "DP\n",
      "DP\n",
      "DP\n",
      "DP\n",
      "DP\n"
     ]
    },
    {
     "name": "stderr",
     "output_type": "stream",
     "text": [
      "\r",
      " 62%|█████████████████████████▏               | 104/169 [01:38<02:35,  2.40s/it]"
     ]
    },
    {
     "name": "stdout",
     "output_type": "stream",
     "text": [
      "-----------------------555.774258\n",
      "=======>1000 200\n",
      "DP\n",
      "DP\n",
      "DP\n",
      "DP\n",
      "DP\n"
     ]
    },
    {
     "name": "stderr",
     "output_type": "stream",
     "text": [
      "\r",
      " 62%|█████████████████████████▍               | 105/169 [01:39<01:55,  1.81s/it]"
     ]
    },
    {
     "name": "stdout",
     "output_type": "stream",
     "text": [
      "-----------------------78.039931\n",
      "=======>1000 300\n",
      "DP\n",
      "DP\n",
      "DP\n",
      "DP\n"
     ]
    },
    {
     "name": "stderr",
     "output_type": "stream",
     "text": [
      "\r",
      " 63%|█████████████████████████▋               | 106/169 [01:39<01:31,  1.45s/it]"
     ]
    },
    {
     "name": "stdout",
     "output_type": "stream",
     "text": [
      "DP\n",
      "-----------------------117.929519\n",
      "=======>1000 400\n",
      "DP\n",
      "DP\n",
      "DP\n",
      "DP\n",
      "DP\n"
     ]
    },
    {
     "name": "stderr",
     "output_type": "stream",
     "text": [
      "\r",
      " 63%|█████████████████████████▉               | 107/169 [01:40<01:16,  1.23s/it]"
     ]
    },
    {
     "name": "stdout",
     "output_type": "stream",
     "text": [
      "-----------------------142.986838\n",
      "=======>1000 500\n",
      "DP\n",
      "DP\n",
      "DP\n",
      "DP\n"
     ]
    },
    {
     "name": "stderr",
     "output_type": "stream",
     "text": [
      "\r",
      " 64%|██████████████████████████▏              | 108/169 [01:41<01:07,  1.11s/it]"
     ]
    },
    {
     "name": "stdout",
     "output_type": "stream",
     "text": [
      "DP\n",
      "-----------------------167.883559\n",
      "=======>1000 600\n",
      "DP\n",
      "DP\n",
      "DP\n",
      "DP\n",
      "DP\n"
     ]
    },
    {
     "name": "stderr",
     "output_type": "stream",
     "text": [
      "\r",
      " 64%|██████████████████████████▍              | 109/169 [01:42<01:05,  1.09s/it]"
     ]
    },
    {
     "name": "stdout",
     "output_type": "stream",
     "text": [
      "-----------------------202.42913\n",
      "=======>1000 700\n",
      "DP\n",
      "DP\n",
      "DP\n",
      "DP\n",
      "DP\n"
     ]
    },
    {
     "name": "stderr",
     "output_type": "stream",
     "text": [
      "\r",
      " 65%|██████████████████████████▋              | 110/169 [01:44<01:13,  1.25s/it]"
     ]
    },
    {
     "name": "stdout",
     "output_type": "stream",
     "text": [
      "-----------------------302.209719\n",
      "=======>1000 800\n",
      "DP\n",
      "DP\n",
      "DP\n",
      "DP\n",
      "DP\n"
     ]
    },
    {
     "name": "stderr",
     "output_type": "stream",
     "text": [
      "\r",
      " 66%|██████████████████████████▉              | 111/169 [01:45<01:17,  1.33s/it]"
     ]
    },
    {
     "name": "stdout",
     "output_type": "stream",
     "text": [
      "-----------------------295.085141\n",
      "=======>1000 900\n",
      "DP\n",
      "DP\n",
      "DP\n",
      "DP\n",
      "DP\n"
     ]
    },
    {
     "name": "stderr",
     "output_type": "stream",
     "text": [
      "\r",
      " 66%|███████████████████████████▏             | 112/169 [01:47<01:23,  1.47s/it]"
     ]
    },
    {
     "name": "stdout",
     "output_type": "stream",
     "text": [
      "-----------------------342.033017\n",
      "=======>1000 1000\n",
      "DP\n",
      "DP\n",
      "DP\n",
      "DP\n",
      "DP\n"
     ]
    },
    {
     "name": "stderr",
     "output_type": "stream",
     "text": [
      "\r",
      " 67%|███████████████████████████▍             | 113/169 [01:49<01:29,  1.60s/it]"
     ]
    },
    {
     "name": "stdout",
     "output_type": "stream",
     "text": [
      "-----------------------380.076084\n",
      "=======>1000 1100\n",
      "DP\n",
      "DP\n",
      "DP\n",
      "DP\n",
      "DP\n"
     ]
    },
    {
     "name": "stderr",
     "output_type": "stream",
     "text": [
      "\r",
      " 67%|███████████████████████████▋             | 114/169 [01:51<01:44,  1.89s/it]"
     ]
    },
    {
     "name": "stdout",
     "output_type": "stream",
     "text": [
      "-----------------------491.208902\n",
      "=======>1000 1200\n",
      "DP\n",
      "DP\n",
      "DP\n",
      "DP\n",
      "DP\n"
     ]
    },
    {
     "name": "stderr",
     "output_type": "stream",
     "text": [
      "\r",
      " 68%|███████████████████████████▉             | 115/169 [01:54<01:53,  2.10s/it]"
     ]
    },
    {
     "name": "stdout",
     "output_type": "stream",
     "text": [
      "-----------------------528.59113\n",
      "=======>1000 1300\n",
      "DP\n",
      "DP\n",
      "DP\n",
      "DP\n",
      "DP\n"
     ]
    },
    {
     "name": "stderr",
     "output_type": "stream",
     "text": [
      "\r",
      " 69%|████████████████████████████▏            | 116/169 [01:57<01:58,  2.24s/it]"
     ]
    },
    {
     "name": "stdout",
     "output_type": "stream",
     "text": [
      "-----------------------473.984924\n",
      "=======>1000 1400\n",
      "DP\n",
      "DP\n",
      "DP\n",
      "DP\n",
      "DP\n"
     ]
    },
    {
     "name": "stderr",
     "output_type": "stream",
     "text": [
      "\r",
      " 69%|████████████████████████████▍            | 117/169 [01:59<02:05,  2.41s/it]"
     ]
    },
    {
     "name": "stdout",
     "output_type": "stream",
     "text": [
      "-----------------------565.485792\n",
      "=======>1100 200\n",
      "DP\n",
      "DP\n",
      "DP\n",
      "DP\n",
      "DP\n"
     ]
    },
    {
     "name": "stderr",
     "output_type": "stream",
     "text": [
      "\r",
      " 70%|████████████████████████████▋            | 118/169 [02:00<01:34,  1.84s/it]"
     ]
    },
    {
     "name": "stdout",
     "output_type": "stream",
     "text": [
      "-----------------------103.295416\n",
      "=======>1100 300\n",
      "DP\n",
      "DP\n",
      "DP\n",
      "DP\n"
     ]
    },
    {
     "name": "stderr",
     "output_type": "stream",
     "text": [
      "\r",
      " 70%|████████████████████████████▊            | 119/169 [02:01<01:13,  1.48s/it]"
     ]
    },
    {
     "name": "stdout",
     "output_type": "stream",
     "text": [
      "DP\n",
      "-----------------------122.61197\n",
      "=======>1100 400\n",
      "DP\n",
      "DP\n",
      "DP\n",
      "DP\n",
      "DP\n"
     ]
    },
    {
     "name": "stderr",
     "output_type": "stream",
     "text": [
      "\r",
      " 71%|█████████████████████████████            | 120/169 [02:02<01:07,  1.38s/it]"
     ]
    },
    {
     "name": "stdout",
     "output_type": "stream",
     "text": [
      "-----------------------243.344841\n",
      "=======>1100 500\n",
      "DP\n",
      "DP\n",
      "DP\n",
      "DP\n",
      "DP\n"
     ]
    },
    {
     "name": "stderr",
     "output_type": "stream",
     "text": [
      "\r",
      " 72%|█████████████████████████████▎           | 121/169 [02:03<01:00,  1.27s/it]"
     ]
    },
    {
     "name": "stdout",
     "output_type": "stream",
     "text": [
      "-----------------------198.421849\n",
      "=======>1100 600\n",
      "DP\n",
      "DP\n",
      "DP\n",
      "DP\n",
      "DP\n"
     ]
    },
    {
     "name": "stderr",
     "output_type": "stream",
     "text": [
      "\r",
      " 72%|█████████████████████████████▌           | 122/169 [02:04<01:01,  1.30s/it]"
     ]
    },
    {
     "name": "stdout",
     "output_type": "stream",
     "text": [
      "-----------------------285.475624\n",
      "=======>1100 700\n",
      "DP\n",
      "DP\n",
      "DP\n",
      "DP\n",
      "DP\n"
     ]
    },
    {
     "name": "stderr",
     "output_type": "stream",
     "text": [
      "\r",
      " 73%|█████████████████████████████▊           | 123/169 [02:06<01:08,  1.49s/it]"
     ]
    },
    {
     "name": "stdout",
     "output_type": "stream",
     "text": [
      "-----------------------369.857405\n",
      "=======>1100 800\n",
      "DP\n",
      "DP\n",
      "DP\n",
      "DP\n",
      "DP\n"
     ]
    },
    {
     "name": "stderr",
     "output_type": "stream",
     "text": [
      "\r",
      " 73%|██████████████████████████████           | 124/169 [02:08<01:14,  1.66s/it]"
     ]
    },
    {
     "name": "stdout",
     "output_type": "stream",
     "text": [
      "-----------------------386.060275\n",
      "=======>1100 900\n",
      "DP\n",
      "DP\n",
      "DP\n",
      "DP\n",
      "DP\n"
     ]
    },
    {
     "name": "stderr",
     "output_type": "stream",
     "text": [
      "\r",
      " 74%|██████████████████████████████▎          | 125/169 [02:10<01:15,  1.72s/it]"
     ]
    },
    {
     "name": "stdout",
     "output_type": "stream",
     "text": [
      "-----------------------363.438924\n",
      "=======>1100 1000\n",
      "DP\n",
      "DP\n",
      "DP\n",
      "DP\n",
      "DP\n"
     ]
    },
    {
     "name": "stderr",
     "output_type": "stream",
     "text": [
      "\r",
      " 75%|██████████████████████████████▌          | 126/169 [02:12<01:22,  1.93s/it]"
     ]
    },
    {
     "name": "stdout",
     "output_type": "stream",
     "text": [
      "-----------------------460.641769\n",
      "=======>1100 1100\n",
      "DP\n",
      "DP\n",
      "DP\n",
      "DP\n",
      "DP\n"
     ]
    },
    {
     "name": "stderr",
     "output_type": "stream",
     "text": [
      "\r",
      " 75%|██████████████████████████████▊          | 127/169 [02:15<01:29,  2.13s/it]"
     ]
    },
    {
     "name": "stdout",
     "output_type": "stream",
     "text": [
      "-----------------------535.258785\n",
      "=======>1100 1200\n",
      "DP\n",
      "DP\n",
      "DP\n",
      "DP\n",
      "DP\n"
     ]
    },
    {
     "name": "stderr",
     "output_type": "stream",
     "text": [
      "\r",
      " 76%|███████████████████████████████          | 128/169 [02:18<01:35,  2.33s/it]"
     ]
    },
    {
     "name": "stdout",
     "output_type": "stream",
     "text": [
      "-----------------------569.772498\n",
      "=======>1100 1300\n",
      "DP\n",
      "DP\n",
      "DP\n",
      "DP\n",
      "DP\n"
     ]
    },
    {
     "name": "stderr",
     "output_type": "stream",
     "text": [
      "\r",
      " 76%|███████████████████████████████▎         | 129/169 [02:21<01:38,  2.45s/it]"
     ]
    },
    {
     "name": "stdout",
     "output_type": "stream",
     "text": [
      "-----------------------509.140451\n",
      "=======>1100 1400\n",
      "DP\n",
      "DP\n",
      "DP\n",
      "DP\n",
      "DP\n"
     ]
    },
    {
     "name": "stderr",
     "output_type": "stream",
     "text": [
      "\r",
      " 77%|███████████████████████████████▌         | 130/169 [02:23<01:41,  2.59s/it]"
     ]
    },
    {
     "name": "stdout",
     "output_type": "stream",
     "text": [
      "-----------------------566.776711\n",
      "=======>1200 200\n",
      "DP\n",
      "DP\n",
      "DP\n"
     ]
    },
    {
     "name": "stderr",
     "output_type": "stream",
     "text": [
      "\r",
      " 78%|███████████████████████████████▊         | 131/169 [02:24<01:14,  1.95s/it]"
     ]
    },
    {
     "name": "stdout",
     "output_type": "stream",
     "text": [
      "DP\n",
      "DP\n",
      "-----------------------91.521023\n",
      "=======>1200 300\n",
      "DP\n",
      "DP\n",
      "DP\n",
      "DP\n",
      "DP\n"
     ]
    },
    {
     "name": "stderr",
     "output_type": "stream",
     "text": [
      "\r",
      " 78%|████████████████████████████████         | 132/169 [02:25<00:58,  1.57s/it]"
     ]
    },
    {
     "name": "stdout",
     "output_type": "stream",
     "text": [
      "-----------------------131.30797\n",
      "=======>1200 400\n",
      "DP\n",
      "DP\n",
      "DP\n",
      "DP\n"
     ]
    },
    {
     "name": "stderr",
     "output_type": "stream",
     "text": [
      "\r",
      " 79%|████████████████████████████████▎        | 133/169 [02:25<00:48,  1.36s/it]"
     ]
    },
    {
     "name": "stdout",
     "output_type": "stream",
     "text": [
      "DP\n",
      "-----------------------175.399073\n",
      "=======>1200 500\n",
      "DP\n",
      "DP\n",
      "DP\n",
      "DP\n",
      "DP\n"
     ]
    },
    {
     "name": "stderr",
     "output_type": "stream",
     "text": [
      "\r",
      " 79%|████████████████████████████████▌        | 134/169 [02:27<00:44,  1.28s/it]"
     ]
    },
    {
     "name": "stdout",
     "output_type": "stream",
     "text": [
      "-----------------------223.799863\n",
      "=======>1200 600\n",
      "DP\n",
      "DP\n",
      "DP\n",
      "DP\n",
      "DP\n"
     ]
    },
    {
     "name": "stderr",
     "output_type": "stream",
     "text": [
      "\r",
      " 80%|████████████████████████████████▊        | 135/169 [02:28<00:44,  1.30s/it]"
     ]
    },
    {
     "name": "stdout",
     "output_type": "stream",
     "text": [
      "-----------------------259.635256\n",
      "=======>1200 700\n",
      "DP\n",
      "DP\n",
      "DP\n",
      "DP\n",
      "DP\n"
     ]
    },
    {
     "name": "stderr",
     "output_type": "stream",
     "text": [
      "\r",
      " 80%|████████████████████████████████▉        | 136/169 [02:29<00:45,  1.37s/it]"
     ]
    },
    {
     "name": "stdout",
     "output_type": "stream",
     "text": [
      "-----------------------308.713697\n",
      "=======>1200 800\n",
      "DP\n",
      "DP\n",
      "DP\n",
      "DP\n",
      "DP\n"
     ]
    },
    {
     "name": "stderr",
     "output_type": "stream",
     "text": [
      "\r",
      " 81%|█████████████████████████████████▏       | 137/169 [02:31<00:47,  1.48s/it]"
     ]
    },
    {
     "name": "stdout",
     "output_type": "stream",
     "text": [
      "-----------------------346.695852\n",
      "=======>1200 900\n",
      "DP\n",
      "DP\n",
      "DP\n",
      "DP\n",
      "DP\n"
     ]
    },
    {
     "name": "stderr",
     "output_type": "stream",
     "text": [
      "\r",
      " 82%|█████████████████████████████████▍       | 138/169 [02:33<00:51,  1.66s/it]"
     ]
    },
    {
     "name": "stdout",
     "output_type": "stream",
     "text": [
      "-----------------------399.892836\n",
      "=======>1200 1000\n",
      "DP\n",
      "DP\n",
      "DP\n",
      "DP\n",
      "DP\n"
     ]
    },
    {
     "name": "stderr",
     "output_type": "stream",
     "text": [
      "\r",
      " 82%|█████████████████████████████████▋       | 139/169 [02:36<00:57,  1.93s/it]"
     ]
    },
    {
     "name": "stdout",
     "output_type": "stream",
     "text": [
      "-----------------------468.452723\n",
      "=======>1200 1100\n",
      "DP\n",
      "DP\n",
      "DP\n",
      "DP\n",
      "DP\n"
     ]
    },
    {
     "name": "stderr",
     "output_type": "stream",
     "text": [
      "\r",
      " 83%|█████████████████████████████████▉       | 140/169 [02:39<01:03,  2.20s/it]"
     ]
    },
    {
     "name": "stdout",
     "output_type": "stream",
     "text": [
      "-----------------------576.3985\n",
      "=======>1200 1200\n",
      "DP\n",
      "DP\n",
      "DP\n",
      "DP\n",
      "DP\n"
     ]
    },
    {
     "name": "stderr",
     "output_type": "stream",
     "text": [
      "\r",
      " 83%|██████████████████████████████████▏      | 141/169 [02:42<01:08,  2.46s/it]"
     ]
    },
    {
     "name": "stdout",
     "output_type": "stream",
     "text": [
      "-----------------------629.250745\n",
      "=======>1200 1300\n",
      "DP\n",
      "DP\n",
      "DP\n",
      "DP\n",
      "DP\n"
     ]
    },
    {
     "name": "stderr",
     "output_type": "stream",
     "text": [
      "\r",
      " 84%|██████████████████████████████████▍      | 142/169 [02:45<01:13,  2.72s/it]"
     ]
    },
    {
     "name": "stdout",
     "output_type": "stream",
     "text": [
      "-----------------------669.673532\n",
      "=======>1200 1400\n",
      "DP\n",
      "DP\n",
      "DP\n",
      "DP\n",
      "DP\n"
     ]
    },
    {
     "name": "stderr",
     "output_type": "stream",
     "text": [
      "\r",
      " 85%|██████████████████████████████████▋      | 143/169 [02:48<01:12,  2.79s/it]"
     ]
    },
    {
     "name": "stdout",
     "output_type": "stream",
     "text": [
      "-----------------------593.438065\n",
      "=======>1300 200\n",
      "DP\n",
      "DP\n",
      "DP\n"
     ]
    },
    {
     "name": "stderr",
     "output_type": "stream",
     "text": [
      "\r",
      " 85%|██████████████████████████████████▉      | 144/169 [02:48<00:52,  2.10s/it]"
     ]
    },
    {
     "name": "stdout",
     "output_type": "stream",
     "text": [
      "DP\n",
      "DP\n",
      "-----------------------98.746875\n",
      "=======>1300 300\n",
      "DP\n",
      "DP\n",
      "DP\n",
      "DP\n",
      "DP\n"
     ]
    },
    {
     "name": "stderr",
     "output_type": "stream",
     "text": [
      "\r",
      " 86%|███████████████████████████████████▏     | 145/169 [02:49<00:40,  1.70s/it]"
     ]
    },
    {
     "name": "stdout",
     "output_type": "stream",
     "text": [
      "-----------------------153.262669\n",
      "=======>1300 400\n",
      "DP\n",
      "DP\n",
      "DP\n",
      "DP\n"
     ]
    },
    {
     "name": "stderr",
     "output_type": "stream",
     "text": [
      "\r",
      " 86%|███████████████████████████████████▍     | 146/169 [02:50<00:33,  1.48s/it]"
     ]
    },
    {
     "name": "stdout",
     "output_type": "stream",
     "text": [
      "DP\n",
      "-----------------------194.68436\n",
      "=======>1300 500\n",
      "DP\n",
      "DP\n",
      "DP\n",
      "DP\n",
      "DP\n"
     ]
    },
    {
     "name": "stderr",
     "output_type": "stream",
     "text": [
      "\r",
      " 87%|███████████████████████████████████▋     | 147/169 [02:51<00:30,  1.39s/it]"
     ]
    },
    {
     "name": "stdout",
     "output_type": "stream",
     "text": [
      "-----------------------239.194176\n",
      "=======>1300 600\n",
      "DP\n",
      "DP\n",
      "DP\n",
      "DP\n",
      "DP\n"
     ]
    },
    {
     "name": "stderr",
     "output_type": "stream",
     "text": [
      "\r",
      " 88%|███████████████████████████████████▉     | 148/169 [02:53<00:29,  1.43s/it]"
     ]
    },
    {
     "name": "stdout",
     "output_type": "stream",
     "text": [
      "-----------------------298.403689\n",
      "=======>1300 700\n",
      "DP\n",
      "DP\n",
      "DP\n",
      "DP\n",
      "DP\n"
     ]
    },
    {
     "name": "stderr",
     "output_type": "stream",
     "text": [
      "\r",
      " 88%|████████████████████████████████████▏    | 149/169 [02:55<00:32,  1.60s/it]"
     ]
    },
    {
     "name": "stdout",
     "output_type": "stream",
     "text": [
      "-----------------------347.156007\n",
      "=======>1300 800\n",
      "DP\n",
      "DP\n",
      "DP\n",
      "DP\n",
      "DP\n"
     ]
    },
    {
     "name": "stderr",
     "output_type": "stream",
     "text": [
      "\r",
      " 89%|████████████████████████████████████▍    | 150/169 [02:57<00:33,  1.77s/it]"
     ]
    },
    {
     "name": "stdout",
     "output_type": "stream",
     "text": [
      "-----------------------391.63709\n",
      "=======>1300 900\n",
      "DP\n",
      "DP\n",
      "DP\n",
      "DP\n",
      "DP\n"
     ]
    },
    {
     "name": "stderr",
     "output_type": "stream",
     "text": [
      "\r",
      " 89%|████████████████████████████████████▋    | 151/169 [02:59<00:34,  1.90s/it]"
     ]
    },
    {
     "name": "stdout",
     "output_type": "stream",
     "text": [
      "-----------------------436.90606\n",
      "=======>1300 1000\n",
      "DP\n",
      "DP\n",
      "DP\n",
      "DP\n",
      "DP\n"
     ]
    },
    {
     "name": "stderr",
     "output_type": "stream",
     "text": [
      "\r",
      " 90%|████████████████████████████████████▉    | 152/169 [03:02<00:37,  2.19s/it]"
     ]
    },
    {
     "name": "stdout",
     "output_type": "stream",
     "text": [
      "-----------------------572.794955\n",
      "=======>1300 1100\n",
      "DP\n",
      "DP\n",
      "DP\n",
      "DP\n",
      "DP\n"
     ]
    },
    {
     "name": "stderr",
     "output_type": "stream",
     "text": [
      "\r",
      " 91%|█████████████████████████████████████    | 153/169 [03:05<00:39,  2.45s/it]"
     ]
    },
    {
     "name": "stdout",
     "output_type": "stream",
     "text": [
      "-----------------------591.517714\n",
      "=======>1300 1200\n",
      "DP\n",
      "DP\n",
      "DP\n",
      "DP\n",
      "DP\n"
     ]
    },
    {
     "name": "stderr",
     "output_type": "stream",
     "text": [
      "\r",
      " 91%|█████████████████████████████████████▎   | 154/169 [03:09<00:41,  2.79s/it]"
     ]
    },
    {
     "name": "stdout",
     "output_type": "stream",
     "text": [
      "-----------------------678.629248\n",
      "=======>1300 1300\n",
      "DP\n",
      "DP\n",
      "DP\n",
      "DP\n",
      "DP\n"
     ]
    },
    {
     "name": "stderr",
     "output_type": "stream",
     "text": [
      "\r",
      " 92%|█████████████████████████████████████▌   | 155/169 [03:12<00:41,  2.99s/it]"
     ]
    },
    {
     "name": "stdout",
     "output_type": "stream",
     "text": [
      "-----------------------603.798916\n",
      "=======>1300 1400\n",
      "DP\n",
      "DP\n",
      "DP\n",
      "DP\n",
      "DP\n"
     ]
    },
    {
     "name": "stderr",
     "output_type": "stream",
     "text": [
      "\r",
      " 92%|█████████████████████████████████████▊   | 156/169 [03:16<00:40,  3.15s/it]"
     ]
    },
    {
     "name": "stdout",
     "output_type": "stream",
     "text": [
      "-----------------------670.112132\n",
      "=======>1400 200\n",
      "DP\n",
      "DP\n",
      "DP\n",
      "DP\n",
      "DP\n"
     ]
    },
    {
     "name": "stderr",
     "output_type": "stream",
     "text": [
      "\r",
      " 93%|██████████████████████████████████████   | 157/169 [03:16<00:28,  2.39s/it]"
     ]
    },
    {
     "name": "stdout",
     "output_type": "stream",
     "text": [
      "-----------------------103.706686\n",
      "=======>1400 300\n",
      "DP\n",
      "DP\n",
      "DP\n",
      "DP\n",
      "DP\n"
     ]
    },
    {
     "name": "stderr",
     "output_type": "stream",
     "text": [
      "\r",
      " 93%|██████████████████████████████████████▎  | 158/169 [03:17<00:21,  1.93s/it]"
     ]
    },
    {
     "name": "stdout",
     "output_type": "stream",
     "text": [
      "-----------------------154.948212\n",
      "=======>1400 400\n",
      "DP\n",
      "DP\n",
      "DP\n",
      "DP\n",
      "DP\n"
     ]
    },
    {
     "name": "stderr",
     "output_type": "stream",
     "text": [
      "\r",
      " 94%|██████████████████████████████████████▌  | 159/169 [03:18<00:17,  1.73s/it]"
     ]
    },
    {
     "name": "stdout",
     "output_type": "stream",
     "text": [
      "-----------------------220.77089\n",
      "=======>1400 500\n",
      "DP\n",
      "DP\n",
      "DP\n",
      "DP\n",
      "DP\n"
     ]
    },
    {
     "name": "stderr",
     "output_type": "stream",
     "text": [
      "\r",
      " 95%|██████████████████████████████████████▊  | 160/169 [03:20<00:14,  1.59s/it]"
     ]
    },
    {
     "name": "stdout",
     "output_type": "stream",
     "text": [
      "-----------------------246.66353\n",
      "=======>1400 600\n",
      "DP\n",
      "DP\n",
      "DP\n",
      "DP\n",
      "DP\n"
     ]
    },
    {
     "name": "stderr",
     "output_type": "stream",
     "text": [
      "\r",
      " 95%|███████████████████████████████████████  | 161/169 [03:21<00:13,  1.63s/it]"
     ]
    },
    {
     "name": "stdout",
     "output_type": "stream",
     "text": [
      "-----------------------329.821427\n",
      "=======>1400 700\n",
      "DP\n",
      "DP\n",
      "DP\n",
      "DP\n",
      "DP\n"
     ]
    },
    {
     "name": "stderr",
     "output_type": "stream",
     "text": [
      "\r",
      " 96%|███████████████████████████████████████▎ | 162/169 [03:24<00:12,  1.84s/it]"
     ]
    },
    {
     "name": "stdout",
     "output_type": "stream",
     "text": [
      "-----------------------467.910699\n",
      "=======>1400 800\n",
      "DP\n",
      "DP\n",
      "DP\n",
      "DP\n",
      "DP\n"
     ]
    },
    {
     "name": "stderr",
     "output_type": "stream",
     "text": [
      "\r",
      " 96%|███████████████████████████████████████▌ | 163/169 [03:28<00:14,  2.46s/it]"
     ]
    },
    {
     "name": "stdout",
     "output_type": "stream",
     "text": [
      "-----------------------857.396132\n",
      "=======>1400 900\n",
      "DP\n",
      "DP\n",
      "DP\n",
      "DP\n",
      "DP\n"
     ]
    },
    {
     "name": "stderr",
     "output_type": "stream",
     "text": [
      "\r",
      " 97%|███████████████████████████████████████▊ | 164/169 [03:32<00:14,  2.93s/it]"
     ]
    },
    {
     "name": "stdout",
     "output_type": "stream",
     "text": [
      "-----------------------781.74955\n",
      "=======>1400 1000\n",
      "DP\n",
      "DP\n",
      "DP\n",
      "DP\n",
      "DP\n"
     ]
    },
    {
     "name": "stderr",
     "output_type": "stream",
     "text": [
      "\r",
      " 98%|████████████████████████████████████████ | 165/169 [03:36<00:13,  3.40s/it]"
     ]
    },
    {
     "name": "stdout",
     "output_type": "stream",
     "text": [
      "-----------------------829.567458\n",
      "=======>1400 1100\n",
      "DP\n",
      "DP\n",
      "DP\n",
      "DP\n",
      "DP\n"
     ]
    },
    {
     "name": "stderr",
     "output_type": "stream",
     "text": [
      "\r",
      " 98%|████████████████████████████████████████▎| 166/169 [03:41<00:11,  3.71s/it]"
     ]
    },
    {
     "name": "stdout",
     "output_type": "stream",
     "text": [
      "-----------------------958.578916\n",
      "=======>1400 1200\n",
      "DP\n",
      "DP\n",
      "DP\n",
      "DP\n",
      "DP\n"
     ]
    },
    {
     "name": "stderr",
     "output_type": "stream",
     "text": [
      "\r",
      " 99%|████████████████████████████████████████▌| 167/169 [03:45<00:07,  3.76s/it]"
     ]
    },
    {
     "name": "stdout",
     "output_type": "stream",
     "text": [
      "-----------------------786.27008\n",
      "=======>1400 1300\n",
      "DP\n",
      "DP\n",
      "DP\n",
      "DP\n",
      "DP\n"
     ]
    },
    {
     "name": "stderr",
     "output_type": "stream",
     "text": [
      "\r",
      " 99%|████████████████████████████████████████▊| 168/169 [03:48<00:03,  3.68s/it]"
     ]
    },
    {
     "name": "stdout",
     "output_type": "stream",
     "text": [
      "-----------------------707.572982\n",
      "=======>1400 1400\n",
      "DP\n",
      "DP\n",
      "DP\n",
      "DP\n",
      "DP\n"
     ]
    },
    {
     "name": "stderr",
     "output_type": "stream",
     "text": [
      "100%|█████████████████████████████████████████| 169/169 [03:52<00:00,  1.38s/it]"
     ]
    },
    {
     "name": "stdout",
     "output_type": "stream",
     "text": [
      "-----------------------725.061294\n"
     ]
    },
    {
     "name": "stderr",
     "output_type": "stream",
     "text": [
      "\n"
     ]
    }
   ],
   "source": [
    "columnas = [\"dataset\", \"n\", \"M\", \"metodo\", \"tiempo\"]\n",
    "filas = []\n",
    "numero = 1\n",
    "T = 5 # Numero de veces que se ejecuta cada experimento (para mayor fidelidad del tiempo).\n",
    "for experimento in tqdm(experimentos):\n",
    "    \n",
    "    print(\"=======>\" + str(experimento[2]) + \" \" + str(experimento[3]))\n",
    "    # Voy mostrando que experimento se esta ejecutando.\n",
    "    numero += 1\n",
    "    \n",
    "    # Ejecutamos el experimento T veces y obtenemos la mediana.\n",
    "    tiempos = []\n",
    "    for i in range(0, T):\n",
    "        tiempos.append(correr_experimento(experimento[4], experimento[5]))\n",
    "    tiempo = np.median(tiempos)\n",
    "    print(\"-----------------------\" + str(tiempo))\n",
    "    filas.append([experimento[0] ,experimento[2], experimento[3], experimento[4], tiempo])\n",
    "df_resultado = pd.DataFrame(filas, columns=columnas)\n",
    "df_resultado.to_csv(\"resultados/resultado.csv\", index=False, header=True)"
   ]
  },
  {
   "cell_type": "code",
   "execution_count": null,
   "metadata": {},
   "outputs": [],
   "source": []
  },
  {
   "cell_type": "code",
   "execution_count": null,
   "metadata": {},
   "outputs": [],
   "source": []
  }
 ],
 "metadata": {
  "kernelspec": {
   "display_name": "Python 3 (ipykernel)",
   "language": "python",
   "name": "python3"
  },
  "language_info": {
   "codemirror_mode": {
    "name": "ipython",
    "version": 3
   },
   "file_extension": ".py",
   "mimetype": "text/x-python",
   "name": "python",
   "nbconvert_exporter": "python",
   "pygments_lexer": "ipython3",
   "version": "3.8.10"
  }
 },
 "nbformat": 4,
 "nbformat_minor": 4
}
