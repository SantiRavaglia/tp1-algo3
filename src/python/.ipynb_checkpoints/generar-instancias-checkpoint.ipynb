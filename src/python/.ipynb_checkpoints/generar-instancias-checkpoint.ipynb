{
 "cells": [
  {
   "cell_type": "markdown",
   "metadata": {},
   "source": [
    "# Generador de instancias\n",
    "En este notebook está el código para generar los sets de instancias que se usan para experimentar.\n",
    "- Estas instancias van a ser guardadas en la carpeta __instancias__.\n",
    "- Cada set estará en su propia carpeta y tendrá un archivo _indice.csv_ que contendrá información sobre las instancias."
   ]
  },
  {
   "cell_type": "code",
   "execution_count": 1,
   "metadata": {},
   "outputs": [],
   "source": [
    "import random, math\n",
    "import pandas as pd"
   ]
  },
  {
   "cell_type": "code",
   "execution_count": 2,
   "metadata": {},
   "outputs": [],
   "source": [
    "def save_instance(dataset, instance_name, B, C, M):\n",
    "    with open(F\"instancias/{dataset}/{instance_name}.txt\", \"w\") as f:\n",
    "        print(len(S), W, file=f)\n",
    "        for i in range(len(B)): \n",
    "            print(B[i] + \" \" + C[i], file=f, end=\"\\n\")\n",
    "\n",
    "def save_index(dataset, instances):\n",
    "    with open(F\"instancias/{dataset}/instances.txt\", \"w\") as f:\n",
    "        for instance in instances: \n",
    "            print(instance, file=f)"
   ]
  },
  {
   "cell_type": "markdown",
   "metadata": {},
   "source": [
    "## Dataset 1\n",
    "Instancias de mejor caso de backtracking, están descriptas en el informe en más detalle.\n",
    "```\n",
    "S = {1, ..., 1, W} con W > n\n",
    "```"
   ]
  },
  {
   "cell_type": "code",
   "execution_count": 3,
   "metadata": {},
   "outputs": [
    {
     "ename": "NameError",
     "evalue": "name 'S' is not defined",
     "output_type": "error",
     "traceback": [
      "\u001b[1;31m---------------------------------------------------------------------------\u001b[0m",
      "\u001b[1;31mNameError\u001b[0m                                 Traceback (most recent call last)",
      "\u001b[1;32m<ipython-input-3-d70b031965b7>\u001b[0m in \u001b[0;36m<module>\u001b[1;34m\u001b[0m\n\u001b[0;32m      5\u001b[0m     \u001b[0mB\u001b[0m \u001b[1;33m=\u001b[0m \u001b[1;33m[\u001b[0m\u001b[1;34mf'{random.randint(1, 100)}'\u001b[0m \u001b[1;32mfor\u001b[0m \u001b[0mi\u001b[0m \u001b[1;32min\u001b[0m \u001b[0mrange\u001b[0m\u001b[1;33m(\u001b[0m\u001b[1;36m0\u001b[0m\u001b[1;33m,\u001b[0m \u001b[0mn\u001b[0m\u001b[1;33m)\u001b[0m\u001b[1;33m]\u001b[0m\u001b[1;33m\u001b[0m\u001b[1;33m\u001b[0m\u001b[0m\n\u001b[0;32m      6\u001b[0m     \u001b[0mC\u001b[0m \u001b[1;33m=\u001b[0m \u001b[1;33m[\u001b[0m\u001b[1;34mf'{random.randint(1, 100)}'\u001b[0m \u001b[1;32mfor\u001b[0m \u001b[0mi\u001b[0m \u001b[1;32min\u001b[0m \u001b[0mrange\u001b[0m\u001b[1;33m(\u001b[0m\u001b[1;36m0\u001b[0m\u001b[1;33m,\u001b[0m \u001b[0mn\u001b[0m\u001b[1;33m)\u001b[0m\u001b[1;33m]\u001b[0m\u001b[1;33m\u001b[0m\u001b[1;33m\u001b[0m\u001b[0m\n\u001b[1;32m----> 7\u001b[1;33m     \u001b[0mS\u001b[0m\u001b[1;33m[\u001b[0m\u001b[1;33m-\u001b[0m\u001b[1;36m1\u001b[0m\u001b[1;33m]\u001b[0m \u001b[1;33m=\u001b[0m \u001b[0mM\u001b[0m\u001b[1;33m\u001b[0m\u001b[1;33m\u001b[0m\u001b[0m\n\u001b[0m\u001b[0;32m      8\u001b[0m     \u001b[0msave_instance\u001b[0m\u001b[1;33m(\u001b[0m\u001b[1;34m\"random-bf\"\u001b[0m\u001b[1;33m,\u001b[0m \u001b[1;34mF\"BF-R-{n}\"\u001b[0m\u001b[1;33m,\u001b[0m \u001b[0mB\u001b[0m\u001b[1;33m,\u001b[0m \u001b[0mC\u001b[0m\u001b[1;33m,\u001b[0m \u001b[0mM\u001b[0m\u001b[1;33m)\u001b[0m\u001b[1;33m\u001b[0m\u001b[1;33m\u001b[0m\u001b[0m\n\u001b[0;32m      9\u001b[0m     \u001b[0mfilas_indice\u001b[0m\u001b[1;33m.\u001b[0m\u001b[0mappend\u001b[0m\u001b[1;33m(\u001b[0m\u001b[1;33m[\u001b[0m\u001b[1;34m\"mejor-caso-bt\"\u001b[0m\u001b[1;33m,\u001b[0m \u001b[1;34mF\"BT-MC-{n}\"\u001b[0m\u001b[1;33m,\u001b[0m \u001b[0mn\u001b[0m\u001b[1;33m,\u001b[0m \u001b[0mM\u001b[0m\u001b[1;33m,\u001b[0m \u001b[1;34mF\"instancias/random-bf/BF-R-{n}.txt\"\u001b[0m\u001b[1;33m]\u001b[0m\u001b[1;33m)\u001b[0m\u001b[1;33m\u001b[0m\u001b[1;33m\u001b[0m\u001b[0m\n",
      "\u001b[1;31mNameError\u001b[0m: name 'S' is not defined"
     ]
    }
   ],
   "source": [
    "filas_indice = []\n",
    "for i in range(1, 50):\n",
    "    n = i\n",
    "    M = i*3\n",
    "    B = [f'{random.randint(1, 100)}' for i in range(0, n)]\n",
    "    C = [f'{random.randint(1, 100)}' for i in range(0, n)]\n",
    "    save_instance(\"random-bf\", F\"BF-R-{n}\", B, C, M)\n",
    "    filas_indice.append([\"mejor-caso-bt\", F\"BT-MC-{n}\", n, M, F\"instancias/random-bf/BF-R-{n}.txt\"])\n",
    "save_instance\n",
    "pd.DataFrame(filas_indice, columns=[\"dataset\", \"instancia\", \"n\", \"M\", \"archivo\"]).to_csv(\"instancias/mejor-caso-bt/indice.csv\", index=False, header=True)"
   ]
  },
  {
   "cell_type": "markdown",
   "metadata": {},
   "source": [
    "## Dataset 2\n",
    "Instancias de peor caso de backtracking, están descriptas en el informe en más detalle.\n",
    "```\n",
    "S = {1, ..., 1, 1} con W = n\n",
    "```"
   ]
  },
  {
   "cell_type": "code",
   "execution_count": 4,
   "metadata": {},
   "outputs": [],
   "source": [
    "filas_indice = []\n",
    "for n in range(1, 31):\n",
    "    W = n\n",
    "    S = [1 for i in range(0, n)]\n",
    "    save_instance(\"peor-caso-bt\", F\"BT-PC-{n}\", S, W)\n",
    "    filas_indice.append([\"peor-caso-bt\", F\"BT-PC-{n}\", n, W, F\"instancias/peor-caso-bt/BT-PC-{n}.txt\"])\n",
    "pd.DataFrame(filas_indice, columns=[\"dataset\", \"instancia\", \"n\", \"W\", \"archivo\"]).to_csv(\"instancias/peor-caso-bt/indice.csv\", index=False, header=True)"
   ]
  },
  {
   "cell_type": "markdown",
   "metadata": {},
   "source": [
    "## Dataset 3\n",
    "Instancias con densidad alta:\n",
    "```\n",
    "S = { 1, ..., n } con W = n/2\n",
    "```"
   ]
  },
  {
   "cell_type": "code",
   "execution_count": 5,
   "metadata": {},
   "outputs": [],
   "source": [
    "filas_indice = []\n",
    "for n in range(1, 201):\n",
    "    W = math.floor(n/2)\n",
    "    S = [0 for i in range(0, n)]\n",
    "    for i in range(0, n): S[i] = i+1\n",
    "    random.shuffle(S)\n",
    "    save_instance(\"densidad-alta\", F\"ALTA-{n}\", S, W)\n",
    "    filas_indice.append([\"densidad-alta\", F\"ALTA-{n}\", n, W, F\"instancias/densidad-alta/ALTA-{n}.txt\"])\n",
    "pd.DataFrame(filas_indice, columns=[\"dataset\", \"instancia\", \"n\", \"W\", \"archivo\"]).to_csv(\"instancias/densidad-alta/indice.csv\", index=False, header=True)"
   ]
  },
  {
   "cell_type": "markdown",
   "metadata": {},
   "source": [
    "## Dataset 4\n",
    "Instancias con densidad baja:\n",
    "```\n",
    "S = { 1, ..., n } con W = n/2  \n",
    "```"
   ]
  },
  {
   "cell_type": "code",
   "execution_count": 6,
   "metadata": {},
   "outputs": [],
   "source": [
    "filas_indice = []\n",
    "for n in range(1, 201):\n",
    "    W = max(1, math.floor(n * (n-1) / 4))\n",
    "    S = [0 for i in range(0, n)]\n",
    "    for i in range(0, n): S[i] = i+1\n",
    "    random.shuffle(S)\n",
    "    save_instance(\"densidad-baja\", F\"BAJA-{n}\", S, W)\n",
    "    filas_indice.append([\"densidad-baja\", F\"BAJA-{n}\", n, W, F\"instancias/densidad-baja/BAJA-{n}.txt\"])\n",
    "pd.DataFrame(filas_indice, columns=[\"dataset\", \"instancia\", \"n\", \"W\", \"archivo\"]).to_csv(\"instancias/densidad-baja/indice.csv\", index=False, header=True)"
   ]
  },
  {
   "cell_type": "markdown",
   "metadata": {},
   "source": [
    "# Dataset 5\n",
    "Instancias variando n y W con densidad baja."
   ]
  },
  {
   "cell_type": "code",
   "execution_count": 7,
   "metadata": {},
   "outputs": [],
   "source": [
    "filas_indice = []\n",
    "for n in range(1000, 8000, 500):\n",
    "    for W in range(1000, 8000, 500):\n",
    "        S = [1 for i in range(0, n)]\n",
    "        save_instance(\"dinamica\", F\"DP-{n}-{W}\", S, W)\n",
    "        filas_indice.append([\"dinamica\", F\"DP-{n}-{W}\", n, W, F\"instancias/dinamica/DP-{n}-{W}.txt\"])\n",
    "pd.DataFrame(filas_indice, columns=[\"dataset\", \"instancia\", \"n\", \"W\", \"archivo\"]).to_csv(\"instancias/dinamica/indice.csv\", index=False, header=True)"
   ]
  }
 ],
 "metadata": {
  "kernelspec": {
   "display_name": "Python 3",
   "language": "python",
   "name": "python3"
  },
  "language_info": {
   "codemirror_mode": {
    "name": "ipython",
    "version": 3
   },
   "file_extension": ".py",
   "mimetype": "text/x-python",
   "name": "python",
   "nbconvert_exporter": "python",
   "pygments_lexer": "ipython3",
   "version": "3.8.5"
  }
 },
 "nbformat": 4,
 "nbformat_minor": 4
}
