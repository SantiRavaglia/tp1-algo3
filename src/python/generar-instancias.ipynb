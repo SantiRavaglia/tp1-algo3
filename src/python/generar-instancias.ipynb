{
 "cells": [
  {
   "cell_type": "markdown",
   "metadata": {},
   "source": [
    "# Generador de instancias\n",
    "En este notebook está el código para generar los sets de instancias que se usan para experimentar.\n",
    "- Estas instancias van a ser guardadas en la carpeta __instancias__.\n",
    "- Cada set estará en su propia carpeta y tendrá un archivo _indice.csv_ que contendrá información sobre las instancias."
   ]
  },
  {
   "cell_type": "code",
   "execution_count": 1,
   "metadata": {},
   "outputs": [],
   "source": [
    "import random, math\n",
    "import pandas as pd"
   ]
  },
  {
   "cell_type": "code",
   "execution_count": 2,
   "metadata": {},
   "outputs": [],
   "source": [
    "def save_instance(dataset, instance_name, B, C, M):\n",
    "    with open(F\"instancias/{dataset}/{instance_name}.txt\", \"w\") as f:\n",
    "        print(len(B), M, file=f)\n",
    "        for i in range(len(B)): \n",
    "            print(\"{} {}\".format(B[i], C[i]), file=f, end=\"\\n\")\n",
    "\n",
    "def save_index(dataset, instances):\n",
    "    with open(F\"instancias/{dataset}/instances.txt\", \"w\") as f:\n",
    "        for instance in instances: \n",
    "            print(instance, file=f)"
   ]
  },
  {
   "cell_type": "markdown",
   "metadata": {},
   "source": [
    "## Dataset 1\n",
    "Instancias de mejor caso de backtracking, están descriptas en el informe en más detalle.\n",
    "```\n",
    "S = {1, ..., 1, W} con W > n\n",
    "```"
   ]
  },
  {
   "cell_type": "code",
   "execution_count": 3,
   "metadata": {},
   "outputs": [],
   "source": [
    "filas_indice = []\n",
    "for i in range(1, 40):\n",
    "    n = i\n",
    "    M = i*3\n",
    "    B = [f'{random.randint(1, 100)}' for i in range(0, n)]\n",
    "    C = [f'{random.randint(1, 100)}' for i in range(0, n)]\n",
    "    save_instance(\"random-bf\", F\"BF-{n}\", B, C, M)\n",
    "    filas_indice.append([\"random-bf\", F\"BF-{n}\", n, M, F\"instancias/random-bf/BF-{n}.txt\"])\n",
    "pd.DataFrame(filas_indice, columns=[\"dataset\", \"instancia\", \"n\", \"M\", \"archivo\"]).to_csv(\"instancias/random-bf/indice.csv\", index=False, header=True)"
   ]
  },
  {
   "cell_type": "markdown",
   "metadata": {},
   "source": [
    "BT Random"
   ]
  },
  {
   "cell_type": "code",
   "execution_count": 4,
   "metadata": {},
   "outputs": [],
   "source": [
    "filas_indice = []\n",
    "for i in range(1, 100):\n",
    "    n = i\n",
    "    M = i*3\n",
    "    B = [f'{random.randint(1, 100)}' for i in range(0, n)]\n",
    "    C = [f'{random.randint(1, 100)}' for i in range(0, n)]\n",
    "    save_instance(\"random-bt\", F\"BT-R-{n}\", B, C, M)\n",
    "    filas_indice.append([\"random-bt\", F\"BT-R-{n}\", n, M, F\"instancias/random-bt/BT-R-{n}.txt\"])\n",
    "pd.DataFrame(filas_indice, columns=[\"dataset\", \"instancia\", \"n\", \"M\", \"archivo\"]).to_csv(\"instancias/random-bt/indice.csv\", index=False, header=True)"
   ]
  },
  {
   "cell_type": "markdown",
   "metadata": {},
   "source": [
    "## Dataset 2\n",
    "Instancias de peor caso de backtracking, están descriptas en el informe en más detalle.\n",
    "```\n",
    "S = {1, ..., 1, 1} con W = n\n",
    "```"
   ]
  },
  {
   "cell_type": "code",
   "execution_count": 5,
   "metadata": {},
   "outputs": [],
   "source": [
    "filas_indice = []\n",
    "for i in range(1, 40):\n",
    "    n = i\n",
    "    M = n\n",
    "    B = [1 for i in range(0, n)]\n",
    "    C = [1 for i in range(0, n)]\n",
    "    save_instance(\"peor-caso-bt\", F\"BT-P-{n}\", B, C, M)\n",
    "    filas_indice.append([\"peor-caso-bt\", F\"BT-P-{n}\", n, M, F\"instancias/peor-caso-bt/BT-P-{n}.txt\"])\n",
    "pd.DataFrame(filas_indice, columns=[\"dataset\", \"instancia\", \"n\", \"M\", \"archivo\"]).to_csv(\"instancias/peor-caso-bt/indice.csv\", index=False, header=True)"
   ]
  },
  {
   "cell_type": "markdown",
   "metadata": {},
   "source": [
    "## Dataset 3\n",
    "Instancias con densidad alta:\n",
    "```\n",
    "S = { 1, ..., n } con W = n/2\n",
    "```"
   ]
  },
  {
   "cell_type": "code",
   "execution_count": 6,
   "metadata": {},
   "outputs": [],
   "source": [
    "filas_indice = []\n",
    "for i in range(1, 40):\n",
    "    n = i\n",
    "    M = i*3\n",
    "    B = [M+1 for i in range(0, n)]\n",
    "    C = [M+1 for i in range(0, n)]\n",
    "    B[n-1] = M\n",
    "    C[n-1] = M\n",
    "    save_instance(\"poda-fact-bt\", F\"BT-F-{n}\", B, C, M)\n",
    "    filas_indice.append([\"poda-fact-bt\", F\"BT-F-{n}\", n, M, F\"instancias/poda-fact-bt/BT-F-{n}.txt\"])\n",
    "pd.DataFrame(filas_indice, columns=[\"dataset\", \"instancia\", \"n\", \"M\", \"archivo\"]).to_csv(\"instancias/poda-fact-bt/indice.csv\", index=False, header=True)"
   ]
  },
  {
   "cell_type": "code",
   "execution_count": 7,
   "metadata": {},
   "outputs": [],
   "source": [
    "filas_indice = []\n",
    "for i in range(1, 40):\n",
    "    n = i\n",
    "    M = i*3\n",
    "    for j in range(0, n):\n",
    "        B[j] = 1 if j%2 == 0 else 0\n",
    "        C[j] = 0 if j%2 == 0 else 1\n",
    "#     B = [M+1 for i in range(0, n)]\n",
    "#     C = [M+1 for i in range(0, n)]\n",
    "#     B[n-1] = M\n",
    "#     C[n-1] = M\n",
    "    save_instance(\"poda-opt-bt\", F\"BT-O-{n}\", B, C, M)\n",
    "    filas_indice.append([\"poda-opt-bt\", F\"BT-O-{n}\", n, M, F\"instancias/poda-opt-bt/BT-O-{n}.txt\"])\n",
    "pd.DataFrame(filas_indice, columns=[\"dataset\", \"instancia\", \"n\", \"M\", \"archivo\"]).to_csv(\"instancias/poda-opt-bt/indice.csv\", index=False, header=True)"
   ]
  },
  {
   "cell_type": "markdown",
   "metadata": {},
   "source": [
    "## Dataset 4\n",
    "Instancias con densidad baja:\n",
    "```\n",
    "S = { 1, ..., n } con W = n/2  \n",
    "```"
   ]
  },
  {
   "cell_type": "code",
   "execution_count": 8,
   "metadata": {},
   "outputs": [],
   "source": [
    "# filas_indice = []\n",
    "# for n in range(1, 1):\n",
    "#     W = max(1, math.floor(n * (n-1) / 4))\n",
    "#     S = [0 for i in range(0, n)]\n",
    "#     for i in range(0, n): S[i] = i+1\n",
    "#     random.shuffle(S)\n",
    "#     save_instance(\"densidad-baja\", F\"BT--M{n}\", S, W)\n",
    "#     filas_indice.append([\"densidad-baja\", F\"BAJA-{n}\", n, W, F\"instancias/densidad-baja/BAJA-{n}.txt\"])\n",
    "# pd.DataFrame(filas_indice, columns=[\"dataset\", \"instancia\", \"n\", \"W\", \"archivo\"]).to_csv(\"instancias/densidad-baja/indice.csv\", index=False, header=True)"
   ]
  },
  {
   "cell_type": "markdown",
   "metadata": {},
   "source": [
    "# Dataset 5\n",
    "Instancias variando n y W con densidad baja."
   ]
  },
  {
   "cell_type": "code",
   "execution_count": 9,
   "metadata": {},
   "outputs": [],
   "source": [
    "filas_indice = []\n",
    "for n in range(200, 1500, 100):\n",
    "    for M in range(200, 1500, 100):\n",
    "        B = [f'{random.randint(1, 100)}' for i in range(0, n)]\n",
    "        C = [f'{random.randint(1, 100)}' for i in range(0, n)]\n",
    "        save_instance(\"dinamica\", F\"DP-{n}-{M}\", B, C, M)\n",
    "        filas_indice.append([\"dinamica\", F\"DP-{n}-{M}\", n, M, F\"instancias/dinamica/DP-{n}-{M}.txt\"])\n",
    "pd.DataFrame(filas_indice, columns=[\"dataset\", \"instancia\", \"n\", \"M\", \"archivo\"]).to_csv(\"instancias/dinamica/indice.csv\", index=False, header=True)"
   ]
  }
 ],
 "metadata": {
  "kernelspec": {
   "display_name": "Python 3 (ipykernel)",
   "language": "python",
   "name": "python3"
  },
  "language_info": {
   "codemirror_mode": {
    "name": "ipython",
    "version": 3
   },
   "file_extension": ".py",
   "mimetype": "text/x-python",
   "name": "python",
   "nbconvert_exporter": "python",
   "pygments_lexer": "ipython3",
   "version": "3.8.10"
  }
 },
 "nbformat": 4,
 "nbformat_minor": 4
}
