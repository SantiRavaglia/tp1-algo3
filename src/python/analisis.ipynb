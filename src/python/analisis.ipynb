{
 "cells": [
  {
   "cell_type": "code",
   "execution_count": 1,
   "metadata": {},
   "outputs": [],
   "source": [
    "import numpy as np\n",
    "import pandas as pd\n",
    "import seaborn as sns\n",
    "import matplotlib.pyplot as plt"
   ]
  },
  {
   "cell_type": "code",
   "execution_count": 2,
   "metadata": {},
   "outputs": [],
   "source": [
    "def correlacion_pearson(data_frame, columna1, columna2):\n",
    "    return np.corrcoef(data_frame[columna1], data_frame[columna2])[0,1];"
   ]
  },
  {
   "cell_type": "markdown",
   "metadata": {},
   "source": [
    "# Experimentos del TP de Subset Sum\n",
    "En esta carpeta de Jupyer vamos a poner lo relativo a realizar la experimentación computacional.\n",
    "- **Asegurarse de correr los experimentos en el notebook Experimentos antes de utilizar este notebook.**\n",
    "- En este archivo se lee el output de los experimentos y se muestra de manera gráfica esos resultados."
   ]
  },
  {
   "cell_type": "markdown",
   "metadata": {},
   "source": [
    "# Datasets\n",
    "Para los experimentos se crean las siguientes familias de instancias para evaluar los distintos métodos.\n",
    "1. **densidad-alta**: Son instancias con n = 1..200 y con densidad alta, es decir, los números de S son altos en comparación con W.\n",
    "2. **densidad-baja**: Son instancias con n = 1..200 y con densidad baja, o sea, se necesitan muchos números de S para sumar W.\n",
    "3. **mejor-caso-BT**: Instancias de mejor caso para el algoritmo de BT con podas.\n",
    "4. **peor-caso-BT**: Instancias de peor caos para el algoritmo de BT con podas.\n",
    "5. **dinamica**: Instancias con n y w variando para probar el algoritmo de PD."
   ]
  },
  {
   "cell_type": "markdown",
   "metadata": {},
   "source": [
    "# Métodos\n",
    "Los métodos evaluados en este notebook son los siguientes:\n",
    "- **FB**: Fuerza Bruta.\n",
    "- **BT**: Backtracking con podas por optimalidad y factibilidad.\n",
    "- **BT-F**: Backtracking solamente con poda por factibilidad.\n",
    "- **BT-B**: Backtracking solamente con poda por optimalidad.\n",
    "- **DP**: Programación dinámica."
   ]
  },
  {
   "cell_type": "markdown",
   "metadata": {},
   "source": [
    "# Experimentos\n",
    "Leemos el dataframe con todos los resultados."
   ]
  },
  {
   "cell_type": "code",
   "execution_count": 68,
   "metadata": {
    "scrolled": true
   },
   "outputs": [
    {
     "data": {
      "text/html": [
       "<div>\n",
       "<style scoped>\n",
       "    .dataframe tbody tr th:only-of-type {\n",
       "        vertical-align: middle;\n",
       "    }\n",
       "\n",
       "    .dataframe tbody tr th {\n",
       "        vertical-align: top;\n",
       "    }\n",
       "\n",
       "    .dataframe thead th {\n",
       "        text-align: right;\n",
       "    }\n",
       "</style>\n",
       "<table border=\"1\" class=\"dataframe\">\n",
       "  <thead>\n",
       "    <tr style=\"text-align: right;\">\n",
       "      <th></th>\n",
       "      <th>dataset</th>\n",
       "      <th>n</th>\n",
       "      <th>M</th>\n",
       "      <th>metodo</th>\n",
       "      <th>tiempo</th>\n",
       "    </tr>\n",
       "  </thead>\n",
       "  <tbody>\n",
       "    <tr>\n",
       "      <th>0</th>\n",
       "      <td>dinamica</td>\n",
       "      <td>200</td>\n",
       "      <td>200</td>\n",
       "      <td>DP</td>\n",
       "      <td>26.900138</td>\n",
       "    </tr>\n",
       "    <tr>\n",
       "      <th>1</th>\n",
       "      <td>dinamica</td>\n",
       "      <td>200</td>\n",
       "      <td>300</td>\n",
       "      <td>DP</td>\n",
       "      <td>33.563846</td>\n",
       "    </tr>\n",
       "    <tr>\n",
       "      <th>2</th>\n",
       "      <td>dinamica</td>\n",
       "      <td>200</td>\n",
       "      <td>400</td>\n",
       "      <td>DP</td>\n",
       "      <td>38.676276</td>\n",
       "    </tr>\n",
       "    <tr>\n",
       "      <th>3</th>\n",
       "      <td>dinamica</td>\n",
       "      <td>200</td>\n",
       "      <td>500</td>\n",
       "      <td>DP</td>\n",
       "      <td>41.942686</td>\n",
       "    </tr>\n",
       "    <tr>\n",
       "      <th>4</th>\n",
       "      <td>dinamica</td>\n",
       "      <td>200</td>\n",
       "      <td>600</td>\n",
       "      <td>DP</td>\n",
       "      <td>46.944824</td>\n",
       "    </tr>\n",
       "    <tr>\n",
       "      <th>...</th>\n",
       "      <td>...</td>\n",
       "      <td>...</td>\n",
       "      <td>...</td>\n",
       "      <td>...</td>\n",
       "      <td>...</td>\n",
       "    </tr>\n",
       "    <tr>\n",
       "      <th>164</th>\n",
       "      <td>dinamica</td>\n",
       "      <td>1400</td>\n",
       "      <td>1000</td>\n",
       "      <td>DP</td>\n",
       "      <td>412.446891</td>\n",
       "    </tr>\n",
       "    <tr>\n",
       "      <th>165</th>\n",
       "      <td>dinamica</td>\n",
       "      <td>1400</td>\n",
       "      <td>1100</td>\n",
       "      <td>DP</td>\n",
       "      <td>460.928738</td>\n",
       "    </tr>\n",
       "    <tr>\n",
       "      <th>166</th>\n",
       "      <td>dinamica</td>\n",
       "      <td>1400</td>\n",
       "      <td>1200</td>\n",
       "      <td>DP</td>\n",
       "      <td>509.822650</td>\n",
       "    </tr>\n",
       "    <tr>\n",
       "      <th>167</th>\n",
       "      <td>dinamica</td>\n",
       "      <td>1400</td>\n",
       "      <td>1300</td>\n",
       "      <td>DP</td>\n",
       "      <td>525.755824</td>\n",
       "    </tr>\n",
       "    <tr>\n",
       "      <th>168</th>\n",
       "      <td>dinamica</td>\n",
       "      <td>1400</td>\n",
       "      <td>1400</td>\n",
       "      <td>DP</td>\n",
       "      <td>578.033814</td>\n",
       "    </tr>\n",
       "  </tbody>\n",
       "</table>\n",
       "<p>169 rows × 5 columns</p>\n",
       "</div>"
      ],
      "text/plain": [
       "      dataset     n     M metodo      tiempo\n",
       "0    dinamica   200   200     DP   26.900138\n",
       "1    dinamica   200   300     DP   33.563846\n",
       "2    dinamica   200   400     DP   38.676276\n",
       "3    dinamica   200   500     DP   41.942686\n",
       "4    dinamica   200   600     DP   46.944824\n",
       "..        ...   ...   ...    ...         ...\n",
       "164  dinamica  1400  1000     DP  412.446891\n",
       "165  dinamica  1400  1100     DP  460.928738\n",
       "166  dinamica  1400  1200     DP  509.822650\n",
       "167  dinamica  1400  1300     DP  525.755824\n",
       "168  dinamica  1400  1400     DP  578.033814\n",
       "\n",
       "[169 rows x 5 columns]"
      ]
     },
     "execution_count": 68,
     "metadata": {},
     "output_type": "execute_result"
    }
   ],
   "source": [
    "df_resultados = pd.read_csv(\"resultados/resultado.csv\");\n",
    "df_resultados"
   ]
  },
  {
   "cell_type": "code",
   "execution_count": 26,
   "metadata": {},
   "outputs": [
    {
     "data": {
      "text/html": [
       "<div>\n",
       "<style scoped>\n",
       "    .dataframe tbody tr th:only-of-type {\n",
       "        vertical-align: middle;\n",
       "    }\n",
       "\n",
       "    .dataframe tbody tr th {\n",
       "        vertical-align: top;\n",
       "    }\n",
       "\n",
       "    .dataframe thead th {\n",
       "        text-align: right;\n",
       "    }\n",
       "</style>\n",
       "<table border=\"1\" class=\"dataframe\">\n",
       "  <thead>\n",
       "    <tr style=\"text-align: right;\">\n",
       "      <th></th>\n",
       "      <th>dataset</th>\n",
       "      <th>n</th>\n",
       "      <th>M</th>\n",
       "      <th>metodo</th>\n",
       "      <th>tiempo</th>\n",
       "    </tr>\n",
       "  </thead>\n",
       "  <tbody>\n",
       "    <tr>\n",
       "      <th>0</th>\n",
       "      <td>poda-fact-bt</td>\n",
       "      <td>1</td>\n",
       "      <td>3</td>\n",
       "      <td>BT</td>\n",
       "      <td>8.582693</td>\n",
       "    </tr>\n",
       "    <tr>\n",
       "      <th>1</th>\n",
       "      <td>poda-fact-bt</td>\n",
       "      <td>2</td>\n",
       "      <td>6</td>\n",
       "      <td>BT</td>\n",
       "      <td>12.765814</td>\n",
       "    </tr>\n",
       "    <tr>\n",
       "      <th>2</th>\n",
       "      <td>poda-fact-bt</td>\n",
       "      <td>3</td>\n",
       "      <td>9</td>\n",
       "      <td>BT</td>\n",
       "      <td>14.559101</td>\n",
       "    </tr>\n",
       "    <tr>\n",
       "      <th>3</th>\n",
       "      <td>poda-fact-bt</td>\n",
       "      <td>4</td>\n",
       "      <td>12</td>\n",
       "      <td>BT</td>\n",
       "      <td>11.837063</td>\n",
       "    </tr>\n",
       "    <tr>\n",
       "      <th>4</th>\n",
       "      <td>poda-fact-bt</td>\n",
       "      <td>5</td>\n",
       "      <td>15</td>\n",
       "      <td>BT</td>\n",
       "      <td>9.469350</td>\n",
       "    </tr>\n",
       "    <tr>\n",
       "      <th>...</th>\n",
       "      <td>...</td>\n",
       "      <td>...</td>\n",
       "      <td>...</td>\n",
       "      <td>...</td>\n",
       "      <td>...</td>\n",
       "    </tr>\n",
       "    <tr>\n",
       "      <th>112</th>\n",
       "      <td>peor-caso-bt</td>\n",
       "      <td>35</td>\n",
       "      <td>35</td>\n",
       "      <td>BT</td>\n",
       "      <td>613.309788</td>\n",
       "    </tr>\n",
       "    <tr>\n",
       "      <th>113</th>\n",
       "      <td>peor-caso-bt</td>\n",
       "      <td>36</td>\n",
       "      <td>36</td>\n",
       "      <td>BT</td>\n",
       "      <td>884.947896</td>\n",
       "    </tr>\n",
       "    <tr>\n",
       "      <th>114</th>\n",
       "      <td>peor-caso-bt</td>\n",
       "      <td>37</td>\n",
       "      <td>37</td>\n",
       "      <td>BT</td>\n",
       "      <td>1437.461192</td>\n",
       "    </tr>\n",
       "    <tr>\n",
       "      <th>115</th>\n",
       "      <td>peor-caso-bt</td>\n",
       "      <td>38</td>\n",
       "      <td>38</td>\n",
       "      <td>BT</td>\n",
       "      <td>2240.914956</td>\n",
       "    </tr>\n",
       "    <tr>\n",
       "      <th>116</th>\n",
       "      <td>peor-caso-bt</td>\n",
       "      <td>39</td>\n",
       "      <td>39</td>\n",
       "      <td>BT</td>\n",
       "      <td>3685.293032</td>\n",
       "    </tr>\n",
       "  </tbody>\n",
       "</table>\n",
       "<p>117 rows × 5 columns</p>\n",
       "</div>"
      ],
      "text/plain": [
       "          dataset   n   M metodo       tiempo\n",
       "0    poda-fact-bt   1   3     BT     8.582693\n",
       "1    poda-fact-bt   2   6     BT    12.765814\n",
       "2    poda-fact-bt   3   9     BT    14.559101\n",
       "3    poda-fact-bt   4  12     BT    11.837063\n",
       "4    poda-fact-bt   5  15     BT     9.469350\n",
       "..            ...  ..  ..    ...          ...\n",
       "112  peor-caso-bt  35  35     BT   613.309788\n",
       "113  peor-caso-bt  36  36     BT   884.947896\n",
       "114  peor-caso-bt  37  37     BT  1437.461192\n",
       "115  peor-caso-bt  38  38     BT  2240.914956\n",
       "116  peor-caso-bt  39  39     BT  3685.293032\n",
       "\n",
       "[117 rows x 5 columns]"
      ]
     },
     "execution_count": 26,
     "metadata": {},
     "output_type": "execute_result"
    }
   ],
   "source": [
    "df_resultados[df_resultados[\"metodo\"] == \"BT\"]"
   ]
  },
  {
   "cell_type": "markdown",
   "metadata": {},
   "source": [
    "## Experimento 1: Complejidad de Fuerza Bruta\n",
    "En este experimento evaluamos el método FB con los datasets densidad-alta y densidad-baja. La hipótesis es que siempre va a tener un comportamiento exponencial porque tiene peor y mejor caso iguales."
   ]
  },
  {
   "cell_type": "code",
   "execution_count": 24,
   "metadata": {},
   "outputs": [
    {
     "data": {
      "image/png": "[encoded data removed]",
      "text/plain": [
       "<Figure size 432x288 with 1 Axes>"
      ]
     },
     "metadata": {
      "needs_background": "light"
     },
     "output_type": "display_data"
    }
   ],
   "source": [
    "# Graficamos los tiempos de ejecución de cada dataset en función de n.\n",
    "df_complejidad_FB = df_resultados[(df_resultados[\"metodo\"]==\"BF\")].copy();\n",
    "df_complejidad_FB[\"tiempo_esperado\"] = df_complejidad_FB[\"n\"] * 2.0 ** df_complejidad_FB[\"n\"] * 0.00000000015; # Exponencial\n",
    "fig = sns.lineplot(data=df_complejidad_FB,x='n', y='tiempo');\n",
    "fig = sns.scatterplot(data=df_complejidad_FB, x='n', y='tiempo_esperado', color=\"purple\");\n",
    "fig.set(xlabel='n', ylabel='tiempo (s)');\n",
    "fig.legend(labels=['O(n * 2^n)','Fuerza Bruta']);\n",
    "plt.savefig(\"graficos/df_bf_funcion.png\");"
   ]
  },
  {
   "cell_type": "code",
   "execution_count": 6,
   "metadata": {},
   "outputs": [
    {
     "data": {
      "image/png": "[encoded data removed]",
      "text/plain": [
       "<Figure size 432x288 with 1 Axes>"
      ]
     },
     "metadata": {
      "needs_background": "light"
     },
     "output_type": "display_data"
    }
   ],
   "source": [
    "# Comparamos el dataset densidad-alta contra una función exponencial.\n",
    "df_complejidad_FB = df_resultados[(df_resultados[\"metodo\"]==\"FB\") & (df_resultados[\"dataset\"]==\"densidad-alta\")].copy();\n",
    "df_complejidad_FB[\"tiempo_esperado\"] = 2.0 ** df_complejidad_FB[\"n\"] * 0.000015; # Exponencial\n",
    "# fig = sns.scatterplot(data=df_complejidad_FB, x='n', y='tiempo');\n",
    "fig = sns.lineplot(data=df_complejidad_FB, x='n', y='tiempo_esperado', color=\"orange\");\n",
    "fig.legend(labels=['O(2^n)','FB']);\n",
    "fig.set(xlabel='n', ylabel='tiempo (ms)');\n",
    "plt.savefig(\"graficos/fb-complejidad.svg\")"
   ]
  },
  {
   "cell_type": "code",
   "execution_count": 7,
   "metadata": {},
   "outputs": [
    {
     "name": "stdout",
     "output_type": "stream",
     "text": [
      "Índice de correlación de Pearson: nan\n"
     ]
    },
    {
     "name": "stderr",
     "output_type": "stream",
     "text": [
      "/home/dell/.local/lib/python3.8/site-packages/numpy/lib/function_base.py:380: RuntimeWarning: Mean of empty slice.\n",
      "  avg = a.mean(axis)\n",
      "/home/dell/.local/lib/python3.8/site-packages/numpy/core/_methods.py:181: RuntimeWarning: invalid value encountered in true_divide\n",
      "  ret = um.true_divide(\n",
      "/home/dell/.local/lib/python3.8/site-packages/numpy/lib/function_base.py:2683: RuntimeWarning: Degrees of freedom <= 0 for slice\n",
      "  c = cov(x, y, rowvar, dtype=dtype)\n",
      "/home/dell/.local/lib/python3.8/site-packages/numpy/lib/function_base.py:2542: RuntimeWarning: divide by zero encountered in true_divide\n",
      "  c *= np.true_divide(1, fact)\n",
      "/home/dell/.local/lib/python3.8/site-packages/numpy/lib/function_base.py:2542: RuntimeWarning: invalid value encountered in multiply\n",
      "  c *= np.true_divide(1, fact)\n"
     ]
    },
    {
     "data": {
      "image/png": "[encoded data removed]",
      "text/plain": [
       "<Figure size 360x360 with 1 Axes>"
      ]
     },
     "metadata": {
      "needs_background": "light"
     },
     "output_type": "display_data"
    }
   ],
   "source": [
    "# Graficamos los tiempos de ejecución de la serie de instancias X1, ..., Xn vs la complejidad esperada.\n",
    "df_complejidad_FB = df_resultados[(df_resultados[\"metodo\"]==\"FB\") & (df_resultados[\"dataset\"]==\"densidad-alta\")].copy();\n",
    "df_complejidad_FB[\"complejidad\"] = 2.0 ** df_complejidad_FB[\"n\"];\n",
    "fig = sns.lmplot(data=df_complejidad_FB, x=\"tiempo\", y=\"complejidad\");\n",
    "plt.savefig(\"graficos/fb-correlacion.svg\");\n",
    "print(\"Índice de correlación de Pearson:\", correlacion_pearson(df_complejidad_FB, \"tiempo\", \"complejidad\"));"
   ]
  },
  {
   "cell_type": "markdown",
   "metadata": {},
   "source": [
    "## Experimento 2: Complejidad de Backtracking\n",
    "En este experimento evaluamos el método BT con los datasets mejor-caso-bt y peor-caso-bt. La hipótesis es que va a tener un comportamiento exponencial en el peor caso y lineal en el mejor caso."
   ]
  },
  {
   "cell_type": "code",
   "execution_count": 8,
   "metadata": {},
   "outputs": [
    {
     "data": {
      "image/png": "[encoded data removed]",
      "text/plain": [
       "<Figure size 432x288 with 1 Axes>"
      ]
     },
     "metadata": {
      "needs_background": "light"
     },
     "output_type": "display_data"
    }
   ],
   "source": [
    "df_BT_mejor_caso = df_resultados[(df_resultados[\"metodo\"]==\"BT\") & (df_resultados[\"dataset\"] == \"mejor-caso-bt\")].copy();\n",
    "df_BT_mejor_caso[\"tiempo_esperado\"] = df_BT_mejor_caso[\"n\"] * 0.0005; # Lineal\n",
    "fig = sns.scatterplot(data=df_BT_mejor_caso, x='n', y='tiempo');\n",
    "fig = sns.lineplot(data=df_BT_mejor_caso, x='n', y='tiempo_esperado', color=\"orange\");\n",
    "fig.legend(labels=['O(n)','BT']);\n",
    "fig.set(xlabel='n', ylabel='tiempo (ms)');\n",
    "plt.savefig(\"graficos/bt-complejidad-mejor-caso.svg\");"
   ]
  },
  {
   "cell_type": "code",
   "execution_count": 9,
   "metadata": {},
   "outputs": [
    {
     "name": "stdout",
     "output_type": "stream",
     "text": [
      "Índice de correlación de Pearson: nan\n"
     ]
    },
    {
     "name": "stderr",
     "output_type": "stream",
     "text": [
      "/home/dell/.local/lib/python3.8/site-packages/numpy/lib/function_base.py:380: RuntimeWarning: Mean of empty slice.\n",
      "  avg = a.mean(axis)\n",
      "/home/dell/.local/lib/python3.8/site-packages/numpy/core/_methods.py:181: RuntimeWarning: invalid value encountered in true_divide\n",
      "  ret = um.true_divide(\n",
      "/home/dell/.local/lib/python3.8/site-packages/numpy/lib/function_base.py:2683: RuntimeWarning: Degrees of freedom <= 0 for slice\n",
      "  c = cov(x, y, rowvar, dtype=dtype)\n",
      "/home/dell/.local/lib/python3.8/site-packages/numpy/lib/function_base.py:2542: RuntimeWarning: divide by zero encountered in true_divide\n",
      "  c *= np.true_divide(1, fact)\n",
      "/home/dell/.local/lib/python3.8/site-packages/numpy/lib/function_base.py:2542: RuntimeWarning: invalid value encountered in multiply\n",
      "  c *= np.true_divide(1, fact)\n"
     ]
    },
    {
     "data": {
      "image/png": "[encoded data removed]",
      "text/plain": [
       "<Figure size 360x360 with 1 Axes>"
      ]
     },
     "metadata": {
      "needs_background": "light"
     },
     "output_type": "display_data"
    }
   ],
   "source": [
    "# Graficamos los tiempos de ejecución de la serie de instancias X1, ..., Xn vs la complejidad esperada.\n",
    "df_BT_mejor_caso = df_resultados[(df_resultados[\"metodo\"]==\"BT\") & (df_resultados[\"dataset\"] == \"mejor-caso-bt\")].copy();\n",
    "df_BT_mejor_caso[\"complejidad\"] = df_BT_mejor_caso[\"n\"];\n",
    "fig = sns.lmplot(data=df_BT_mejor_caso, x=\"tiempo\", y=\"complejidad\");\n",
    "plt.savefig(\"graficos/bt-correlacion-mejor-caso.svg\");\n",
    "print(\"Índice de correlación de Pearson:\", correlacion_pearson(df_BT_mejor_caso, \"tiempo\", \"complejidad\"));"
   ]
  },
  {
   "cell_type": "code",
   "execution_count": 59,
   "metadata": {},
   "outputs": [
    {
     "data": {
      "image/png": "[encoded data removed]",
      "text/plain": [
       "<Figure size 432x288 with 1 Axes>"
      ]
     },
     "metadata": {
      "needs_background": "light"
     },
     "output_type": "display_data"
    }
   ],
   "source": [
    "df_BT_peor_caso = df_resultados[(df_resultados[\"metodo\"]==\"BT\") & (df_resultados[\"dataset\"] == \"peor-caso-bt\")].copy();\n",
    "df_BT_peor_caso[\"tiempo_esperado\"] = df_BT_peor_caso[\"n\"] * 2 ** df_BT_peor_caso[\"n\"] * 0.00000000029; # Exponencial.\n",
    "fig = sns.scatterplot(data=df_BT_peor_caso, x='n', y='tiempo');\n",
    "fig = sns.lineplot(data=df_BT_peor_caso, x='n', y='tiempo_esperado', color=\"orange\");\n",
    "fig.legend(labels=['O(n * 2^n)','BT']);\n",
    "fig.set(xlabel='n', ylabel='tiempo (ms)');\n",
    "plt.savefig(\"graficos/bt-complejidad-peor-caso.svg\");"
   ]
  },
  {
   "cell_type": "code",
   "execution_count": 11,
   "metadata": {},
   "outputs": [
    {
     "name": "stdout",
     "output_type": "stream",
     "text": [
      "Índice de correlación de Pearson: nan\n"
     ]
    },
    {
     "name": "stderr",
     "output_type": "stream",
     "text": [
      "/home/dell/.local/lib/python3.8/site-packages/numpy/lib/function_base.py:380: RuntimeWarning: Mean of empty slice.\n",
      "  avg = a.mean(axis)\n",
      "/home/dell/.local/lib/python3.8/site-packages/numpy/core/_methods.py:181: RuntimeWarning: invalid value encountered in true_divide\n",
      "  ret = um.true_divide(\n",
      "/home/dell/.local/lib/python3.8/site-packages/numpy/lib/function_base.py:2683: RuntimeWarning: Degrees of freedom <= 0 for slice\n",
      "  c = cov(x, y, rowvar, dtype=dtype)\n",
      "/home/dell/.local/lib/python3.8/site-packages/numpy/lib/function_base.py:2542: RuntimeWarning: divide by zero encountered in true_divide\n",
      "  c *= np.true_divide(1, fact)\n",
      "/home/dell/.local/lib/python3.8/site-packages/numpy/lib/function_base.py:2542: RuntimeWarning: invalid value encountered in multiply\n",
      "  c *= np.true_divide(1, fact)\n"
     ]
    },
    {
     "data": {
      "image/png": "[encoded data removed]",
      "text/plain": [
       "<Figure size 360x360 with 1 Axes>"
      ]
     },
     "metadata": {
      "needs_background": "light"
     },
     "output_type": "display_data"
    }
   ],
   "source": [
    "# Graficamos los tiempos de ejecución de la serie de instancias X1, ..., Xn vs la complejidad esperada.\n",
    "df_BT_peor_caso = df_resultados[(df_resultados[\"metodo\"]==\"BT\") & (df_resultados[\"dataset\"] == \"peor-caso-bt\")].copy();\n",
    "df_BT_peor_caso[\"complejidad\"] = 2.0 ** df_BT_peor_caso[\"n\"];\n",
    "fig = sns.lmplot(data=df_BT_peor_caso, x=\"tiempo\", y=\"complejidad\");\n",
    "plt.savefig(\"graficos/bt-correlacion-peor-caso.svg\");\n",
    "print(\"Índice de correlación de Pearson:\", correlacion_pearson(df_BT_peor_caso, \"tiempo\", \"complejidad\"));"
   ]
  },
  {
   "cell_type": "markdown",
   "metadata": {},
   "source": [
    "## Experimento 3: Análisis de las podas\n",
    "Analizar Backtracking con y sin las podas para distintas densidades."
   ]
  },
  {
   "cell_type": "code",
   "execution_count": 65,
   "metadata": {},
   "outputs": [
    {
     "data": {
      "image/png": "[encoded data removed]",
      "text/plain": [
       "<Figure size 432x288 with 1 Axes>"
      ]
     },
     "metadata": {
      "needs_background": "light"
     },
     "output_type": "display_data"
    }
   ],
   "source": [
    "df_BT_densidad_alta = df_resultados[((df_resultados[\"metodo\"]==\"BT\") & (df_resultados[\"dataset\"] == \"peor-caso-bt\"))].copy();\n",
    "df_BT_densidad_alta = df_BT_densidad_alta[df_BT_densidad_alta[\"tiempo\"] < 3500]; # Sacamos outliers.\n",
    "df_BT_opt = df_resultados[((df_resultados[\"metodo\"]==\"BT\") & (df_resultados[\"dataset\"] == \"poda-opt-bt\"))].copy();\n",
    "df_BT_opt = df_BT_opt[df_BT_opt[\"tiempo\"] < 3500]; # Sacamos outliers.\n",
    "df_BT_fact = df_resultados[((df_resultados[\"metodo\"]==\"BT\") & (df_resultados[\"dataset\"] == \"poda-fact-bt\"))].copy();\n",
    "df_BT_fact = df_BT_fact[df_BT_fact[\"tiempo\"] < 3500]; # Sacamos outliers.\n",
    "fig = sns.scatterplot(data=df_BT_densidad_alta, x='n', y='tiempo');\n",
    "fig = sns.scatterplot(data=df_BT_opt, x='n', y='tiempo', color='red');\n",
    "fig = sns.scatterplot(data=df_BT_fact, x='n', y='tiempo', color='green');\n",
    "fig.legend(labels=['BT','BT-O', 'BT-F']);\n",
    "fig.set(xlabel='n', ylabel='tiempo (ms)');\n",
    "plt.savefig(\"graficos/bt-podas-alta.svg\");"
   ]
  },
  {
   "cell_type": "code",
   "execution_count": 66,
   "metadata": {},
   "outputs": [
    {
     "data": {
      "image/png": "[encoded data removed]",
      "text/plain": [
       "<Figure size 432x288 with 1 Axes>"
      ]
     },
     "metadata": {
      "needs_background": "light"
     },
     "output_type": "display_data"
    }
   ],
   "source": [
    "df_BT_densidad_alta = df_resultados[((df_resultados[\"metodo\"]==\"BT\") & (df_resultados[\"dataset\"] == \"peor-caso-bt\"))].copy();\n",
    "df_BT_densidad_alta = df_BT_densidad_alta[df_BT_densidad_alta[\"tiempo\"] < 3500]; # Sacamos outliers.\n",
    "df_BT_opt = df_resultados[((df_resultados[\"metodo\"]==\"BT\") & (df_resultados[\"dataset\"] == \"poda-opt-bt\"))].copy();\n",
    "df_BT_opt = df_BT_opt[df_BT_opt[\"tiempo\"] < 3500]; # Sacamos outliers.\n",
    "df_BT_fact = df_resultados[((df_resultados[\"metodo\"]==\"BT\") & (df_resultados[\"dataset\"] == \"poda-fact-bt\"))].copy();\n",
    "df_BT_fact = df_BT_fact[df_BT_fact[\"tiempo\"] < 3500]; # Sacamos outliers.\n",
    "fig = sns.scatterplot(data=df_BT_densidad_alta, x='n', y='tiempo');\n",
    "fig = sns.scatterplot(data=df_BT_opt, x='n', y='tiempo', color='red');\n",
    "fig = sns.scatterplot(data=df_BT_fact, x='n', y='tiempo', color='green');\n",
    "fig.legend(labels=['BT','BT-O', 'BT-F']);\n",
    "fig.set(xlabel='n', ylabel='tiempo (ms)');\n",
    "plt.savefig(\"graficos/bt-podas-alta.svg\");"
   ]
  },
  {
   "cell_type": "code",
   "execution_count": 13,
   "metadata": {},
   "outputs": [
    {
     "data": {
      "image/png": "[encoded data removed]",
      "text/plain": [
       "<Figure size 432x288 with 1 Axes>"
      ]
     },
     "metadata": {
      "needs_background": "light"
     },
     "output_type": "display_data"
    }
   ],
   "source": [
    "# Acercamos un poco la lupa para ver la diferencia entre BT y BT-O.\n",
    "fig = sns.scatterplot(data=df_BT_densidad_alta[df_BT_densidad_alta[\"tiempo\"]<1], x='n', y='tiempo', hue='metodo');\n",
    "fig.set(xlabel='n', ylabel='tiempo (ms)');\n",
    "plt.savefig(\"graficos/bt-podas-alta-zoom.svg\");"
   ]
  },
  {
   "cell_type": "code",
   "execution_count": 14,
   "metadata": {},
   "outputs": [
    {
     "data": {
      "image/png": "[encoded data removed]",
      "text/plain": [
       "<Figure size 432x288 with 1 Axes>"
      ]
     },
     "metadata": {
      "needs_background": "light"
     },
     "output_type": "display_data"
    }
   ],
   "source": [
    "df_BT_densidad_baja = df_resultados[((df_resultados[\"metodo\"]==\"BT\") | (df_resultados[\"metodo\"]==\"BT-F\") | (df_resultados[\"metodo\"]==\"BT-O\")) & (df_resultados[\"dataset\"] == \"densidad-baja\")].copy();\n",
    "fig = sns.scatterplot(data=df_BT_densidad_baja, x='n', y='tiempo', hue='metodo');\n",
    "fig.set(xlabel='n', ylabel='tiempo (ms)');\n",
    "plt.savefig(\"graficos/bt-podas-baja.svg\");"
   ]
  },
  {
   "cell_type": "code",
   "execution_count": 15,
   "metadata": {},
   "outputs": [
    {
     "data": {
      "image/png": "[encoded data removed]",
      "text/plain": [
       "<Figure size 432x288 with 1 Axes>"
      ]
     },
     "metadata": {
      "needs_background": "light"
     },
     "output_type": "display_data"
    }
   ],
   "source": [
    "# Acercamos un poco la lupa para ver la diferencia entre BT y BT-O.\n",
    "fig = sns.scatterplot(data=df_BT_densidad_baja[df_BT_densidad_baja[\"tiempo\"]<400], x='n', y='tiempo', hue='metodo');\n",
    "fig.set(xlabel='n', ylabel='tiempo (ms)');\n",
    "plt.savefig(\"graficos/bt-podas-baja-zoom.svg\");"
   ]
  },
  {
   "cell_type": "markdown",
   "metadata": {},
   "source": [
    "# Experimento 4: Complejidad de programación dinámica\n",
    "En este experimento analizamos el tiempo de ejecución real del algoritmo de programación dinámica y lo comparamos con su cota teórica para ver si en la práctica se comporta de manera similar."
   ]
  },
  {
   "cell_type": "code",
   "execution_count": 69,
   "metadata": {},
   "outputs": [
    {
     "data": {
      "image/png": "[encoded data removed]",
      "text/plain": [
       "<Figure size 432x288 with 1 Axes>"
      ]
     },
     "metadata": {
      "needs_background": "light"
     },
     "output_type": "display_data"
    }
   ],
   "source": [
    "# Graficamos la evolución del tiempo de ejecución en función de n, con cortes en distintos W.\n",
    "df_dinamica = df_resultados[(df_resultados[\"metodo\"]==\"DP\") & (df_resultados[\"dataset\"]==\"dinamica\")].copy();\n",
    "fig = sns.scatterplot(data=df_dinamica[df_dinamica[\"M\"]==200], x='n', y='tiempo');\n",
    "fig = sns.scatterplot(data=df_dinamica[df_dinamica[\"M\"]==700], x='n', y='tiempo');\n",
    "fig = sns.scatterplot(data=df_dinamica[df_dinamica[\"M\"]==1000], x='n', y='tiempo');\n",
    "fig = sns.scatterplot(data=df_dinamica[df_dinamica[\"M\"]==1400], x='n', y='tiempo');\n",
    "fig.legend(labels=['M=1000','M=1200','M=1300','M=1400']);\n",
    "fig.set(xlabel='n', ylabel='tiempo (ms)');\n",
    "plt.savefig(\"graficos/dp-n.svg\");"
   ]
  },
  {
   "cell_type": "code",
   "execution_count": 92,
   "metadata": {},
   "outputs": [
    {
     "data": {
      "image/png": "[encoded data removed]",
      "text/plain": [
       "<Figure size 432x288 with 1 Axes>"
      ]
     },
     "metadata": {
      "needs_background": "light"
     },
     "output_type": "display_data"
    }
   ],
   "source": [
    "# Graficamos la evolución del tiempo de ejecución en función de W, con cortes en distintos n.\n",
    "df_dinamica = df_resultados[(df_resultados[\"metodo\"]==\"DP\") & (df_resultados[\"dataset\"]==\"dinamica\")].copy();\n",
    "df_dinamica[\"tiempo_esperado\"] = df_dinamica[\"n\"] * df_dinamica[\"M\"]; # Exponencial.\n",
    "fig = sns.lineplot(data=df_dinamica, x='n', y='tiempo_esperado', color=\"red\", ci=None);\n",
    "\n",
    "fig = sns.scatterplot(data=df_dinamica[df_dinamica[\"n\"]==200], x='M', y='tiempo');\n",
    "fig = sns.scatterplot(data=df_dinamica[df_dinamica[\"n\"]==700], x='M', y='tiempo');\n",
    "fig = sns.scatterplot(data=df_dinamica[df_dinamica[\"n\"]==1000], x='M', y='tiempo');\n",
    "\n",
    "# fig = sns.lineplot(data=df_dinamica[\"n\"])\n",
    "# fig = sns.scatterplot(data=df_dinamica[df_dinamica[\"n\"]==1400], x='M', y='tiempo');\n",
    "fig.legend(labels=['n*M','n=200','n=700','n=1000']);\n",
    "fig.set(xlabel='W', ylabel='tiempo (ms)');\n",
    "plt.savefig(\"graficos/dp-W.svg\");"
   ]
  },
  {
   "cell_type": "code",
   "execution_count": 73,
   "metadata": {},
   "outputs": [
    {
     "data": {
      "image/png": "[encoded data removed]",
      "text/plain": [
       "<Figure size 432x288 with 2 Axes>"
      ]
     },
     "metadata": {
      "needs_background": "light"
     },
     "output_type": "display_data"
    }
   ],
   "source": [
    "# Graficamos el tiempo de ejecución de las distintas instancias ordenadas por n y W.\n",
    "df_dinamica = df_resultados[(df_resultados[\"metodo\"]==\"DP\") & (df_resultados[\"dataset\"]==\"dinamica\")].copy();\n",
    "df_heatmap = df_dinamica.pivot_table(index='n', columns='M', values='tiempo', aggfunc=np.mean);\n",
    "fig = sns.heatmap(df_heatmap);\n",
    "fig.invert_yaxis();\n",
    "plt.savefig(\"graficos/dp-heatmap.svg\");"
   ]
  },
  {
   "cell_type": "code",
   "execution_count": null,
   "metadata": {},
   "outputs": [],
   "source": [
    "# Graficamos los tiempos de ejecución de la serie de instancias X1, ..., Xn vs la complejidad esperada.\n",
    "df_dinamica = df_resultados[(df_resultados[\"metodo\"]==\"DP\") & (df_resultados[\"dataset\"]==\"dinamica\")].copy();\n",
    "df_dinamica[\"complejidad\"] = df_dinamica[\"n\"] * df_dinamica[\"W\"];\n",
    "fig = sns.scatterplot(data=df_dinamica, x=\"tiempo\", y=\"complejidad\");\n",
    "plt.savefig(\"graficos/dp-correlacion.svg\");\n",
    "print(\"Índice de correlación de Pearson:\", correlacion_pearson(df_dinamica, \"tiempo\", \"complejidad\"));"
   ]
  },
  {
   "cell_type": "markdown",
   "metadata": {},
   "source": [
    "## Experimento 5: Comparación Backtacking y Programación Dinámica\n",
    "En este experimento se trata de buscar para qué casos funciona mejor cada técnica. Por ejemplo, vamos a ejecutar BT y Dinámica sobre los datasets densidad-alta y densidad-baja."
   ]
  },
  {
   "cell_type": "code",
   "execution_count": null,
   "metadata": {},
   "outputs": [],
   "source": [
    "df_densidad_alta = df_resultados[((df_resultados[\"metodo\"]==\"BT\") | (df_resultados[\"metodo\"]==\"DP\")) & (df_resultados[\"dataset\"] == \"densidad-alta\")].copy();\n",
    "fig = sns.scatterplot(data=df_densidad_alta, x='n', y='tiempo', hue='metodo');\n",
    "fig.set(xlabel='n', ylabel='tiempo (ms)');\n",
    "plt.savefig(\"graficos/comparacion-bt-dp-alta.svg\");"
   ]
  },
  {
   "cell_type": "code",
   "execution_count": null,
   "metadata": {},
   "outputs": [],
   "source": [
    "df_densidad_baja = df_resultados[((df_resultados[\"metodo\"]==\"BT\") | (df_resultados[\"metodo\"]==\"DP\")) & (df_resultados[\"dataset\"] == \"densidad-baja\")].copy();\n",
    "df_densidad_baja = df_densidad_baja[df_densidad_baja[\"n\"]<=30];\n",
    "fig = sns.scatterplot(data=df_densidad_baja, x='n', y='tiempo', hue='metodo');\n",
    "fig.set(xlabel='n', ylabel='tiempo (ms)');\n",
    "plt.savefig(\"graficos/comparacion-bt-dp-baja.svg\");"
   ]
  },
  {
   "cell_type": "code",
   "execution_count": null,
   "metadata": {},
   "outputs": [],
   "source": []
  },
  {
   "cell_type": "code",
   "execution_count": null,
   "metadata": {},
   "outputs": [],
   "source": []
  },
  {
   "cell_type": "code",
   "execution_count": null,
   "metadata": {},
   "outputs": [],
   "source": []
  }
 ],
 "metadata": {
  "kernelspec": {
   "display_name": "Python 3 (ipykernel)",
   "language": "python",
   "name": "python3"
  },
  "language_info": {
   "codemirror_mode": {
    "name": "ipython",
    "version": 3
   },
   "file_extension": ".py",
   "mimetype": "text/x-python",
   "name": "python",
   "nbconvert_exporter": "python",
   "pygments_lexer": "ipython3",
   "version": "3.8.10"
  }
 },
 "nbformat": 4,
 "nbformat_minor": 4
}
