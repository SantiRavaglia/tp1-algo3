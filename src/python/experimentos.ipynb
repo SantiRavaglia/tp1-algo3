{
 "cells": [
  {
   "cell_type": "markdown",
   "metadata": {},
   "source": [
    "# Correr experimentos\n",
    "En este archivo está el código para correr los experimentos y escribir los resultados en archivos CSV.\n",
    "> Los archivos se guardan en la carpeta _resultados_."
   ]
  },
  {
   "cell_type": "code",
   "execution_count": 1,
   "metadata": {},
   "outputs": [],
   "source": [
    "import math\n",
    "import subprocess\n",
    "import pandas as pd\n",
    "import numpy as np\n",
    "from IPython.display import display, clear_output\n",
    "import os\n",
    "import time\n",
    "from tqdm import tqdm"
   ]
  },
  {
   "cell_type": "markdown",
   "metadata": {},
   "source": [
    "A continuación leemos los datasets en dataframes de Pandas."
   ]
  },
  {
   "cell_type": "code",
   "execution_count": 2,
   "metadata": {},
   "outputs": [],
   "source": [
    "def leer_instancia(path_instancia):\n",
    "    with open(path_instancia, \"r\") as f:\n",
    "        return f.read();\n",
    "\n",
    "df_random_bf = pd.read_csv(\"instancias/random-bf/indice.csv\");\n",
    "df_random_bt = pd.read_csv(\"instancias/random-bt/indice.csv\");\n",
    "# df_mejor_caso_bt = pd.read_csv(\"instancias/mejor-caso-bt/indice.csv\");\n",
    "df_poda_fact_bt = pd.read_csv(\"instancias/poda-fact-bt/indice.csv\");\n",
    "df_poda_opt_bt = pd.read_csv(\"instancias/poda-opt-bt/indice.csv\");\n",
    "df_peor_caso_bt = pd.read_csv(\"instancias/peor-caso-bt/indice.csv\");\n",
    "df_dinamica = pd.read_csv(\"instancias/dinamica/indice.csv\");"
   ]
  },
  {
   "cell_type": "markdown",
   "metadata": {},
   "source": [
    "La siguiente función sirve para correr el código sobre una instancia ejecutando un método en particular.\n",
    "- FB: Fuerza bruta\n",
    "- BT: Backtracking con ambas podas.\n",
    "- BT-F: Backtracking solamente con poda por factibilidad.\n",
    "- BT-O: Backtracking solamente con poda por optimalidad.\n",
    "- DP: Programación dinámica."
   ]
  },
  {
   "cell_type": "code",
   "execution_count": 3,
   "metadata": {},
   "outputs": [],
   "source": [
    "# instancia = leer_instancia(\"instancias/random-bf/BF-90.txt\")\n",
    "# type(instancia)"
   ]
  },
  {
   "cell_type": "code",
   "execution_count": 4,
   "metadata": {},
   "outputs": [],
   "source": [
    "def correr_experimento(metodo, archivo_instancia):\n",
    "    # Leer archivo de la instancia.\n",
    "    instancia = leer_instancia(archivo_instancia)\n",
    "    print(metodo)\n",
    "    if (metodo != \"BF\" and metodo != \"BT\" and metodo != \"BT-F\" and metodo != \"BT-O\" and metodo != \"DP\"):\n",
    "        print(\"Error, metodo no reconocido\")\n",
    "        return None\n",
    "#     print(type(instancia))\n",
    "    \n",
    "    # Crear proceso para ejecutar el codigo.\n",
    "    start = time.time_ns()\n",
    "    process = subprocess.Popen(['../main {}'.format(metodo)], stderr=subprocess.PIPE, stdout=subprocess.PIPE, stdin=subprocess.PIPE, universal_newlines = True, shell=True)\n",
    "#     print(process)\n",
    "    # Poner la instancia en la entrada estandar.\n",
    "    process.stdin.write(instancia)\n",
    "    process.stdin.flush()\n",
    "    \n",
    "    exit_code = process.wait()\n",
    "    end = time.time_ns()\n",
    "    process.stdin.close();\n",
    "    process.stdout.close();\n",
    "    process.stderr.close();\n",
    "    \n",
    "    diff = (end - start)/1000000\n",
    "   \n",
    "    \n",
    "    return diff;\n",
    "\n",
    "# correr_experimento(\"BF\", \"instancias/random-bf/BF-90.txt\")"
   ]
  },
  {
   "cell_type": "code",
   "execution_count": 5,
   "metadata": {
    "scrolled": true
   },
   "outputs": [],
   "source": [
    "# def correr_experimento(metodo, archivo_instancia):\n",
    "    \n",
    "#     start = time.time_ns()\n",
    "#     os.system(\"../main {} < {}\".format(metodo, archivo_instancia))\n",
    "#     end = time.time_ns()\n",
    "#     diff = (end - start)/1000000\n",
    "    \n",
    "#     return diff\n",
    "\n",
    "# correr_experimento(\"BF\", \"instancias/random-bf/BF-10.txt\")"
   ]
  },
  {
   "cell_type": "markdown",
   "metadata": {},
   "source": [
    "## Corremos los experimentos\n",
    "Vamos a guardar una tabla con las ejecuciones y sus respectivos tiempos."
   ]
  },
  {
   "cell_type": "code",
   "execution_count": 6,
   "metadata": {},
   "outputs": [],
   "source": [
    "experimentos = [];"
   ]
  },
  {
   "cell_type": "markdown",
   "metadata": {},
   "source": [
    "### Experimento 1\n",
    "Correr Fuerza Bruta en las primeras 30 instancias de densidad-alta y densidad-baja."
   ]
  },
  {
   "cell_type": "code",
   "execution_count": 7,
   "metadata": {},
   "outputs": [
    {
     "name": "stdout",
     "output_type": "stream",
     "text": [
      "[['peor-caso-bt', 'BT-P-1', 1, 1, 'BT', 'instancias/peor-caso-bt/BT-P-1.txt'], ['peor-caso-bt', 'BT-P-2', 2, 2, 'BT', 'instancias/peor-caso-bt/BT-P-2.txt'], ['peor-caso-bt', 'BT-P-3', 3, 3, 'BT', 'instancias/peor-caso-bt/BT-P-3.txt'], ['peor-caso-bt', 'BT-P-4', 4, 4, 'BT', 'instancias/peor-caso-bt/BT-P-4.txt'], ['peor-caso-bt', 'BT-P-5', 5, 5, 'BT', 'instancias/peor-caso-bt/BT-P-5.txt'], ['peor-caso-bt', 'BT-P-6', 6, 6, 'BT', 'instancias/peor-caso-bt/BT-P-6.txt'], ['peor-caso-bt', 'BT-P-7', 7, 7, 'BT', 'instancias/peor-caso-bt/BT-P-7.txt'], ['peor-caso-bt', 'BT-P-8', 8, 8, 'BT', 'instancias/peor-caso-bt/BT-P-8.txt'], ['peor-caso-bt', 'BT-P-9', 9, 9, 'BT', 'instancias/peor-caso-bt/BT-P-9.txt'], ['peor-caso-bt', 'BT-P-10', 10, 10, 'BT', 'instancias/peor-caso-bt/BT-P-10.txt'], ['peor-caso-bt', 'BT-P-11', 11, 11, 'BT', 'instancias/peor-caso-bt/BT-P-11.txt'], ['peor-caso-bt', 'BT-P-12', 12, 12, 'BT', 'instancias/peor-caso-bt/BT-P-12.txt'], ['peor-caso-bt', 'BT-P-13', 13, 13, 'BT', 'instancias/peor-caso-bt/BT-P-13.txt'], ['peor-caso-bt', 'BT-P-14', 14, 14, 'BT', 'instancias/peor-caso-bt/BT-P-14.txt'], ['peor-caso-bt', 'BT-P-15', 15, 15, 'BT', 'instancias/peor-caso-bt/BT-P-15.txt'], ['peor-caso-bt', 'BT-P-16', 16, 16, 'BT', 'instancias/peor-caso-bt/BT-P-16.txt'], ['peor-caso-bt', 'BT-P-17', 17, 17, 'BT', 'instancias/peor-caso-bt/BT-P-17.txt'], ['peor-caso-bt', 'BT-P-18', 18, 18, 'BT', 'instancias/peor-caso-bt/BT-P-18.txt'], ['peor-caso-bt', 'BT-P-19', 19, 19, 'BT', 'instancias/peor-caso-bt/BT-P-19.txt'], ['peor-caso-bt', 'BT-P-20', 20, 20, 'BT', 'instancias/peor-caso-bt/BT-P-20.txt'], ['peor-caso-bt', 'BT-P-21', 21, 21, 'BT', 'instancias/peor-caso-bt/BT-P-21.txt'], ['peor-caso-bt', 'BT-P-22', 22, 22, 'BT', 'instancias/peor-caso-bt/BT-P-22.txt'], ['peor-caso-bt', 'BT-P-23', 23, 23, 'BT', 'instancias/peor-caso-bt/BT-P-23.txt'], ['peor-caso-bt', 'BT-P-24', 24, 24, 'BT', 'instancias/peor-caso-bt/BT-P-24.txt'], ['peor-caso-bt', 'BT-P-25', 25, 25, 'BT', 'instancias/peor-caso-bt/BT-P-25.txt'], ['peor-caso-bt', 'BT-P-26', 26, 26, 'BT', 'instancias/peor-caso-bt/BT-P-26.txt'], ['peor-caso-bt', 'BT-P-27', 27, 27, 'BT', 'instancias/peor-caso-bt/BT-P-27.txt'], ['peor-caso-bt', 'BT-P-28', 28, 28, 'BT', 'instancias/peor-caso-bt/BT-P-28.txt'], ['peor-caso-bt', 'BT-P-29', 29, 29, 'BT', 'instancias/peor-caso-bt/BT-P-29.txt'], ['peor-caso-bt', 'BT-P-30', 30, 30, 'BT', 'instancias/peor-caso-bt/BT-P-30.txt'], ['peor-caso-bt', 'BT-P-31', 31, 31, 'BT', 'instancias/peor-caso-bt/BT-P-31.txt'], ['peor-caso-bt', 'BT-P-32', 32, 32, 'BT', 'instancias/peor-caso-bt/BT-P-32.txt'], ['peor-caso-bt', 'BT-P-33', 33, 33, 'BT', 'instancias/peor-caso-bt/BT-P-33.txt'], ['peor-caso-bt', 'BT-P-34', 34, 34, 'BT', 'instancias/peor-caso-bt/BT-P-34.txt'], ['peor-caso-bt', 'BT-P-35', 35, 35, 'BT', 'instancias/peor-caso-bt/BT-P-35.txt'], ['peor-caso-bt', 'BT-P-36', 36, 36, 'BT', 'instancias/peor-caso-bt/BT-P-36.txt'], ['peor-caso-bt', 'BT-P-37', 37, 37, 'BT', 'instancias/peor-caso-bt/BT-P-37.txt'], ['peor-caso-bt', 'BT-P-38', 38, 38, 'BT', 'instancias/peor-caso-bt/BT-P-38.txt'], ['peor-caso-bt', 'BT-P-39', 39, 39, 'BT', 'instancias/peor-caso-bt/BT-P-39.txt'], ['dinamica', 'DP-0-0', 0, 0, 'DP', 'instancias/dinamica/DP-0-0.txt'], ['dinamica', 'DP-0-100', 0, 100, 'DP', 'instancias/dinamica/DP-0-100.txt'], ['dinamica', 'DP-0-200', 0, 200, 'DP', 'instancias/dinamica/DP-0-200.txt'], ['dinamica', 'DP-0-300', 0, 300, 'DP', 'instancias/dinamica/DP-0-300.txt'], ['dinamica', 'DP-0-400', 0, 400, 'DP', 'instancias/dinamica/DP-0-400.txt'], ['dinamica', 'DP-0-500', 0, 500, 'DP', 'instancias/dinamica/DP-0-500.txt'], ['dinamica', 'DP-0-600', 0, 600, 'DP', 'instancias/dinamica/DP-0-600.txt'], ['dinamica', 'DP-0-700', 0, 700, 'DP', 'instancias/dinamica/DP-0-700.txt'], ['dinamica', 'DP-0-800', 0, 800, 'DP', 'instancias/dinamica/DP-0-800.txt'], ['dinamica', 'DP-0-900', 0, 900, 'DP', 'instancias/dinamica/DP-0-900.txt'], ['dinamica', 'DP-0-1000', 0, 1000, 'DP', 'instancias/dinamica/DP-0-1000.txt'], ['dinamica', 'DP-0-1100', 0, 1100, 'DP', 'instancias/dinamica/DP-0-1100.txt'], ['dinamica', 'DP-0-1200', 0, 1200, 'DP', 'instancias/dinamica/DP-0-1200.txt'], ['dinamica', 'DP-0-1300', 0, 1300, 'DP', 'instancias/dinamica/DP-0-1300.txt'], ['dinamica', 'DP-0-1400', 0, 1400, 'DP', 'instancias/dinamica/DP-0-1400.txt'], ['dinamica', 'DP-100-0', 100, 0, 'DP', 'instancias/dinamica/DP-100-0.txt'], ['dinamica', 'DP-100-100', 100, 100, 'DP', 'instancias/dinamica/DP-100-100.txt'], ['dinamica', 'DP-100-200', 100, 200, 'DP', 'instancias/dinamica/DP-100-200.txt'], ['dinamica', 'DP-100-300', 100, 300, 'DP', 'instancias/dinamica/DP-100-300.txt'], ['dinamica', 'DP-100-400', 100, 400, 'DP', 'instancias/dinamica/DP-100-400.txt'], ['dinamica', 'DP-100-500', 100, 500, 'DP', 'instancias/dinamica/DP-100-500.txt'], ['dinamica', 'DP-100-600', 100, 600, 'DP', 'instancias/dinamica/DP-100-600.txt'], ['dinamica', 'DP-100-700', 100, 700, 'DP', 'instancias/dinamica/DP-100-700.txt'], ['dinamica', 'DP-100-800', 100, 800, 'DP', 'instancias/dinamica/DP-100-800.txt'], ['dinamica', 'DP-100-900', 100, 900, 'DP', 'instancias/dinamica/DP-100-900.txt'], ['dinamica', 'DP-100-1000', 100, 1000, 'DP', 'instancias/dinamica/DP-100-1000.txt'], ['dinamica', 'DP-100-1100', 100, 1100, 'DP', 'instancias/dinamica/DP-100-1100.txt'], ['dinamica', 'DP-100-1200', 100, 1200, 'DP', 'instancias/dinamica/DP-100-1200.txt'], ['dinamica', 'DP-100-1300', 100, 1300, 'DP', 'instancias/dinamica/DP-100-1300.txt'], ['dinamica', 'DP-100-1400', 100, 1400, 'DP', 'instancias/dinamica/DP-100-1400.txt'], ['dinamica', 'DP-200-0', 200, 0, 'DP', 'instancias/dinamica/DP-200-0.txt'], ['dinamica', 'DP-200-100', 200, 100, 'DP', 'instancias/dinamica/DP-200-100.txt'], ['dinamica', 'DP-200-200', 200, 200, 'DP', 'instancias/dinamica/DP-200-200.txt'], ['dinamica', 'DP-200-300', 200, 300, 'DP', 'instancias/dinamica/DP-200-300.txt'], ['dinamica', 'DP-200-400', 200, 400, 'DP', 'instancias/dinamica/DP-200-400.txt'], ['dinamica', 'DP-200-500', 200, 500, 'DP', 'instancias/dinamica/DP-200-500.txt'], ['dinamica', 'DP-200-600', 200, 600, 'DP', 'instancias/dinamica/DP-200-600.txt'], ['dinamica', 'DP-200-700', 200, 700, 'DP', 'instancias/dinamica/DP-200-700.txt'], ['dinamica', 'DP-200-800', 200, 800, 'DP', 'instancias/dinamica/DP-200-800.txt'], ['dinamica', 'DP-200-900', 200, 900, 'DP', 'instancias/dinamica/DP-200-900.txt'], ['dinamica', 'DP-200-1000', 200, 1000, 'DP', 'instancias/dinamica/DP-200-1000.txt'], ['dinamica', 'DP-200-1100', 200, 1100, 'DP', 'instancias/dinamica/DP-200-1100.txt'], ['dinamica', 'DP-200-1200', 200, 1200, 'DP', 'instancias/dinamica/DP-200-1200.txt'], ['dinamica', 'DP-200-1300', 200, 1300, 'DP', 'instancias/dinamica/DP-200-1300.txt'], ['dinamica', 'DP-200-1400', 200, 1400, 'DP', 'instancias/dinamica/DP-200-1400.txt'], ['dinamica', 'DP-300-0', 300, 0, 'DP', 'instancias/dinamica/DP-300-0.txt'], ['dinamica', 'DP-300-100', 300, 100, 'DP', 'instancias/dinamica/DP-300-100.txt'], ['dinamica', 'DP-300-200', 300, 200, 'DP', 'instancias/dinamica/DP-300-200.txt'], ['dinamica', 'DP-300-300', 300, 300, 'DP', 'instancias/dinamica/DP-300-300.txt'], ['dinamica', 'DP-300-400', 300, 400, 'DP', 'instancias/dinamica/DP-300-400.txt'], ['dinamica', 'DP-300-500', 300, 500, 'DP', 'instancias/dinamica/DP-300-500.txt'], ['dinamica', 'DP-300-600', 300, 600, 'DP', 'instancias/dinamica/DP-300-600.txt'], ['dinamica', 'DP-300-700', 300, 700, 'DP', 'instancias/dinamica/DP-300-700.txt'], ['dinamica', 'DP-300-800', 300, 800, 'DP', 'instancias/dinamica/DP-300-800.txt'], ['dinamica', 'DP-300-900', 300, 900, 'DP', 'instancias/dinamica/DP-300-900.txt'], ['dinamica', 'DP-300-1000', 300, 1000, 'DP', 'instancias/dinamica/DP-300-1000.txt'], ['dinamica', 'DP-300-1100', 300, 1100, 'DP', 'instancias/dinamica/DP-300-1100.txt'], ['dinamica', 'DP-300-1200', 300, 1200, 'DP', 'instancias/dinamica/DP-300-1200.txt'], ['dinamica', 'DP-300-1300', 300, 1300, 'DP', 'instancias/dinamica/DP-300-1300.txt'], ['dinamica', 'DP-300-1400', 300, 1400, 'DP', 'instancias/dinamica/DP-300-1400.txt'], ['dinamica', 'DP-400-0', 400, 0, 'DP', 'instancias/dinamica/DP-400-0.txt'], ['dinamica', 'DP-400-100', 400, 100, 'DP', 'instancias/dinamica/DP-400-100.txt'], ['dinamica', 'DP-400-200', 400, 200, 'DP', 'instancias/dinamica/DP-400-200.txt'], ['dinamica', 'DP-400-300', 400, 300, 'DP', 'instancias/dinamica/DP-400-300.txt'], ['dinamica', 'DP-400-400', 400, 400, 'DP', 'instancias/dinamica/DP-400-400.txt'], ['dinamica', 'DP-400-500', 400, 500, 'DP', 'instancias/dinamica/DP-400-500.txt'], ['dinamica', 'DP-400-600', 400, 600, 'DP', 'instancias/dinamica/DP-400-600.txt'], ['dinamica', 'DP-400-700', 400, 700, 'DP', 'instancias/dinamica/DP-400-700.txt'], ['dinamica', 'DP-400-800', 400, 800, 'DP', 'instancias/dinamica/DP-400-800.txt'], ['dinamica', 'DP-400-900', 400, 900, 'DP', 'instancias/dinamica/DP-400-900.txt'], ['dinamica', 'DP-400-1000', 400, 1000, 'DP', 'instancias/dinamica/DP-400-1000.txt'], ['dinamica', 'DP-400-1100', 400, 1100, 'DP', 'instancias/dinamica/DP-400-1100.txt'], ['dinamica', 'DP-400-1200', 400, 1200, 'DP', 'instancias/dinamica/DP-400-1200.txt'], ['dinamica', 'DP-400-1300', 400, 1300, 'DP', 'instancias/dinamica/DP-400-1300.txt'], ['dinamica', 'DP-400-1400', 400, 1400, 'DP', 'instancias/dinamica/DP-400-1400.txt'], ['dinamica', 'DP-500-0', 500, 0, 'DP', 'instancias/dinamica/DP-500-0.txt'], ['dinamica', 'DP-500-100', 500, 100, 'DP', 'instancias/dinamica/DP-500-100.txt'], ['dinamica', 'DP-500-200', 500, 200, 'DP', 'instancias/dinamica/DP-500-200.txt'], ['dinamica', 'DP-500-300', 500, 300, 'DP', 'instancias/dinamica/DP-500-300.txt'], ['dinamica', 'DP-500-400', 500, 400, 'DP', 'instancias/dinamica/DP-500-400.txt'], ['dinamica', 'DP-500-500', 500, 500, 'DP', 'instancias/dinamica/DP-500-500.txt'], ['dinamica', 'DP-500-600', 500, 600, 'DP', 'instancias/dinamica/DP-500-600.txt'], ['dinamica', 'DP-500-700', 500, 700, 'DP', 'instancias/dinamica/DP-500-700.txt'], ['dinamica', 'DP-500-800', 500, 800, 'DP', 'instancias/dinamica/DP-500-800.txt'], ['dinamica', 'DP-500-900', 500, 900, 'DP', 'instancias/dinamica/DP-500-900.txt'], ['dinamica', 'DP-500-1000', 500, 1000, 'DP', 'instancias/dinamica/DP-500-1000.txt'], ['dinamica', 'DP-500-1100', 500, 1100, 'DP', 'instancias/dinamica/DP-500-1100.txt'], ['dinamica', 'DP-500-1200', 500, 1200, 'DP', 'instancias/dinamica/DP-500-1200.txt'], ['dinamica', 'DP-500-1300', 500, 1300, 'DP', 'instancias/dinamica/DP-500-1300.txt'], ['dinamica', 'DP-500-1400', 500, 1400, 'DP', 'instancias/dinamica/DP-500-1400.txt'], ['dinamica', 'DP-600-0', 600, 0, 'DP', 'instancias/dinamica/DP-600-0.txt'], ['dinamica', 'DP-600-100', 600, 100, 'DP', 'instancias/dinamica/DP-600-100.txt'], ['dinamica', 'DP-600-200', 600, 200, 'DP', 'instancias/dinamica/DP-600-200.txt'], ['dinamica', 'DP-600-300', 600, 300, 'DP', 'instancias/dinamica/DP-600-300.txt'], ['dinamica', 'DP-600-400', 600, 400, 'DP', 'instancias/dinamica/DP-600-400.txt'], ['dinamica', 'DP-600-500', 600, 500, 'DP', 'instancias/dinamica/DP-600-500.txt'], ['dinamica', 'DP-600-600', 600, 600, 'DP', 'instancias/dinamica/DP-600-600.txt'], ['dinamica', 'DP-600-700', 600, 700, 'DP', 'instancias/dinamica/DP-600-700.txt'], ['dinamica', 'DP-600-800', 600, 800, 'DP', 'instancias/dinamica/DP-600-800.txt'], ['dinamica', 'DP-600-900', 600, 900, 'DP', 'instancias/dinamica/DP-600-900.txt'], ['dinamica', 'DP-600-1000', 600, 1000, 'DP', 'instancias/dinamica/DP-600-1000.txt'], ['dinamica', 'DP-600-1100', 600, 1100, 'DP', 'instancias/dinamica/DP-600-1100.txt'], ['dinamica', 'DP-600-1200', 600, 1200, 'DP', 'instancias/dinamica/DP-600-1200.txt'], ['dinamica', 'DP-600-1300', 600, 1300, 'DP', 'instancias/dinamica/DP-600-1300.txt'], ['dinamica', 'DP-600-1400', 600, 1400, 'DP', 'instancias/dinamica/DP-600-1400.txt'], ['dinamica', 'DP-700-0', 700, 0, 'DP', 'instancias/dinamica/DP-700-0.txt'], ['dinamica', 'DP-700-100', 700, 100, 'DP', 'instancias/dinamica/DP-700-100.txt'], ['dinamica', 'DP-700-200', 700, 200, 'DP', 'instancias/dinamica/DP-700-200.txt'], ['dinamica', 'DP-700-300', 700, 300, 'DP', 'instancias/dinamica/DP-700-300.txt'], ['dinamica', 'DP-700-400', 700, 400, 'DP', 'instancias/dinamica/DP-700-400.txt'], ['dinamica', 'DP-700-500', 700, 500, 'DP', 'instancias/dinamica/DP-700-500.txt'], ['dinamica', 'DP-700-600', 700, 600, 'DP', 'instancias/dinamica/DP-700-600.txt'], ['dinamica', 'DP-700-700', 700, 700, 'DP', 'instancias/dinamica/DP-700-700.txt'], ['dinamica', 'DP-700-800', 700, 800, 'DP', 'instancias/dinamica/DP-700-800.txt'], ['dinamica', 'DP-700-900', 700, 900, 'DP', 'instancias/dinamica/DP-700-900.txt'], ['dinamica', 'DP-700-1000', 700, 1000, 'DP', 'instancias/dinamica/DP-700-1000.txt'], ['dinamica', 'DP-700-1100', 700, 1100, 'DP', 'instancias/dinamica/DP-700-1100.txt'], ['dinamica', 'DP-700-1200', 700, 1200, 'DP', 'instancias/dinamica/DP-700-1200.txt'], ['dinamica', 'DP-700-1300', 700, 1300, 'DP', 'instancias/dinamica/DP-700-1300.txt'], ['dinamica', 'DP-700-1400', 700, 1400, 'DP', 'instancias/dinamica/DP-700-1400.txt'], ['dinamica', 'DP-800-0', 800, 0, 'DP', 'instancias/dinamica/DP-800-0.txt'], ['dinamica', 'DP-800-100', 800, 100, 'DP', 'instancias/dinamica/DP-800-100.txt'], ['dinamica', 'DP-800-200', 800, 200, 'DP', 'instancias/dinamica/DP-800-200.txt'], ['dinamica', 'DP-800-300', 800, 300, 'DP', 'instancias/dinamica/DP-800-300.txt'], ['dinamica', 'DP-800-400', 800, 400, 'DP', 'instancias/dinamica/DP-800-400.txt'], ['dinamica', 'DP-800-500', 800, 500, 'DP', 'instancias/dinamica/DP-800-500.txt'], ['dinamica', 'DP-800-600', 800, 600, 'DP', 'instancias/dinamica/DP-800-600.txt'], ['dinamica', 'DP-800-700', 800, 700, 'DP', 'instancias/dinamica/DP-800-700.txt'], ['dinamica', 'DP-800-800', 800, 800, 'DP', 'instancias/dinamica/DP-800-800.txt'], ['dinamica', 'DP-800-900', 800, 900, 'DP', 'instancias/dinamica/DP-800-900.txt'], ['dinamica', 'DP-800-1000', 800, 1000, 'DP', 'instancias/dinamica/DP-800-1000.txt'], ['dinamica', 'DP-800-1100', 800, 1100, 'DP', 'instancias/dinamica/DP-800-1100.txt'], ['dinamica', 'DP-800-1200', 800, 1200, 'DP', 'instancias/dinamica/DP-800-1200.txt'], ['dinamica', 'DP-800-1300', 800, 1300, 'DP', 'instancias/dinamica/DP-800-1300.txt'], ['dinamica', 'DP-800-1400', 800, 1400, 'DP', 'instancias/dinamica/DP-800-1400.txt'], ['dinamica', 'DP-900-0', 900, 0, 'DP', 'instancias/dinamica/DP-900-0.txt'], ['dinamica', 'DP-900-100', 900, 100, 'DP', 'instancias/dinamica/DP-900-100.txt'], ['dinamica', 'DP-900-200', 900, 200, 'DP', 'instancias/dinamica/DP-900-200.txt'], ['dinamica', 'DP-900-300', 900, 300, 'DP', 'instancias/dinamica/DP-900-300.txt'], ['dinamica', 'DP-900-400', 900, 400, 'DP', 'instancias/dinamica/DP-900-400.txt'], ['dinamica', 'DP-900-500', 900, 500, 'DP', 'instancias/dinamica/DP-900-500.txt'], ['dinamica', 'DP-900-600', 900, 600, 'DP', 'instancias/dinamica/DP-900-600.txt'], ['dinamica', 'DP-900-700', 900, 700, 'DP', 'instancias/dinamica/DP-900-700.txt'], ['dinamica', 'DP-900-800', 900, 800, 'DP', 'instancias/dinamica/DP-900-800.txt'], ['dinamica', 'DP-900-900', 900, 900, 'DP', 'instancias/dinamica/DP-900-900.txt'], ['dinamica', 'DP-900-1000', 900, 1000, 'DP', 'instancias/dinamica/DP-900-1000.txt'], ['dinamica', 'DP-900-1100', 900, 1100, 'DP', 'instancias/dinamica/DP-900-1100.txt'], ['dinamica', 'DP-900-1200', 900, 1200, 'DP', 'instancias/dinamica/DP-900-1200.txt'], ['dinamica', 'DP-900-1300', 900, 1300, 'DP', 'instancias/dinamica/DP-900-1300.txt'], ['dinamica', 'DP-900-1400', 900, 1400, 'DP', 'instancias/dinamica/DP-900-1400.txt'], ['dinamica', 'DP-1000-0', 1000, 0, 'DP', 'instancias/dinamica/DP-1000-0.txt'], ['dinamica', 'DP-1000-100', 1000, 100, 'DP', 'instancias/dinamica/DP-1000-100.txt'], ['dinamica', 'DP-1000-200', 1000, 200, 'DP', 'instancias/dinamica/DP-1000-200.txt'], ['dinamica', 'DP-1000-300', 1000, 300, 'DP', 'instancias/dinamica/DP-1000-300.txt'], ['dinamica', 'DP-1000-400', 1000, 400, 'DP', 'instancias/dinamica/DP-1000-400.txt'], ['dinamica', 'DP-1000-500', 1000, 500, 'DP', 'instancias/dinamica/DP-1000-500.txt'], ['dinamica', 'DP-1000-600', 1000, 600, 'DP', 'instancias/dinamica/DP-1000-600.txt'], ['dinamica', 'DP-1000-700', 1000, 700, 'DP', 'instancias/dinamica/DP-1000-700.txt'], ['dinamica', 'DP-1000-800', 1000, 800, 'DP', 'instancias/dinamica/DP-1000-800.txt'], ['dinamica', 'DP-1000-900', 1000, 900, 'DP', 'instancias/dinamica/DP-1000-900.txt'], ['dinamica', 'DP-1000-1000', 1000, 1000, 'DP', 'instancias/dinamica/DP-1000-1000.txt'], ['dinamica', 'DP-1000-1100', 1000, 1100, 'DP', 'instancias/dinamica/DP-1000-1100.txt'], ['dinamica', 'DP-1000-1200', 1000, 1200, 'DP', 'instancias/dinamica/DP-1000-1200.txt'], ['dinamica', 'DP-1000-1300', 1000, 1300, 'DP', 'instancias/dinamica/DP-1000-1300.txt'], ['dinamica', 'DP-1000-1400', 1000, 1400, 'DP', 'instancias/dinamica/DP-1000-1400.txt'], ['dinamica', 'DP-1100-0', 1100, 0, 'DP', 'instancias/dinamica/DP-1100-0.txt'], ['dinamica', 'DP-1100-100', 1100, 100, 'DP', 'instancias/dinamica/DP-1100-100.txt'], ['dinamica', 'DP-1100-200', 1100, 200, 'DP', 'instancias/dinamica/DP-1100-200.txt'], ['dinamica', 'DP-1100-300', 1100, 300, 'DP', 'instancias/dinamica/DP-1100-300.txt'], ['dinamica', 'DP-1100-400', 1100, 400, 'DP', 'instancias/dinamica/DP-1100-400.txt'], ['dinamica', 'DP-1100-500', 1100, 500, 'DP', 'instancias/dinamica/DP-1100-500.txt'], ['dinamica', 'DP-1100-600', 1100, 600, 'DP', 'instancias/dinamica/DP-1100-600.txt'], ['dinamica', 'DP-1100-700', 1100, 700, 'DP', 'instancias/dinamica/DP-1100-700.txt'], ['dinamica', 'DP-1100-800', 1100, 800, 'DP', 'instancias/dinamica/DP-1100-800.txt'], ['dinamica', 'DP-1100-900', 1100, 900, 'DP', 'instancias/dinamica/DP-1100-900.txt'], ['dinamica', 'DP-1100-1000', 1100, 1000, 'DP', 'instancias/dinamica/DP-1100-1000.txt'], ['dinamica', 'DP-1100-1100', 1100, 1100, 'DP', 'instancias/dinamica/DP-1100-1100.txt'], ['dinamica', 'DP-1100-1200', 1100, 1200, 'DP', 'instancias/dinamica/DP-1100-1200.txt'], ['dinamica', 'DP-1100-1300', 1100, 1300, 'DP', 'instancias/dinamica/DP-1100-1300.txt'], ['dinamica', 'DP-1100-1400', 1100, 1400, 'DP', 'instancias/dinamica/DP-1100-1400.txt'], ['dinamica', 'DP-1200-0', 1200, 0, 'DP', 'instancias/dinamica/DP-1200-0.txt'], ['dinamica', 'DP-1200-100', 1200, 100, 'DP', 'instancias/dinamica/DP-1200-100.txt'], ['dinamica', 'DP-1200-200', 1200, 200, 'DP', 'instancias/dinamica/DP-1200-200.txt'], ['dinamica', 'DP-1200-300', 1200, 300, 'DP', 'instancias/dinamica/DP-1200-300.txt'], ['dinamica', 'DP-1200-400', 1200, 400, 'DP', 'instancias/dinamica/DP-1200-400.txt'], ['dinamica', 'DP-1200-500', 1200, 500, 'DP', 'instancias/dinamica/DP-1200-500.txt'], ['dinamica', 'DP-1200-600', 1200, 600, 'DP', 'instancias/dinamica/DP-1200-600.txt'], ['dinamica', 'DP-1200-700', 1200, 700, 'DP', 'instancias/dinamica/DP-1200-700.txt'], ['dinamica', 'DP-1200-800', 1200, 800, 'DP', 'instancias/dinamica/DP-1200-800.txt'], ['dinamica', 'DP-1200-900', 1200, 900, 'DP', 'instancias/dinamica/DP-1200-900.txt'], ['dinamica', 'DP-1200-1000', 1200, 1000, 'DP', 'instancias/dinamica/DP-1200-1000.txt'], ['dinamica', 'DP-1200-1100', 1200, 1100, 'DP', 'instancias/dinamica/DP-1200-1100.txt'], ['dinamica', 'DP-1200-1200', 1200, 1200, 'DP', 'instancias/dinamica/DP-1200-1200.txt'], ['dinamica', 'DP-1200-1300', 1200, 1300, 'DP', 'instancias/dinamica/DP-1200-1300.txt'], ['dinamica', 'DP-1200-1400', 1200, 1400, 'DP', 'instancias/dinamica/DP-1200-1400.txt'], ['dinamica', 'DP-1300-0', 1300, 0, 'DP', 'instancias/dinamica/DP-1300-0.txt'], ['dinamica', 'DP-1300-100', 1300, 100, 'DP', 'instancias/dinamica/DP-1300-100.txt'], ['dinamica', 'DP-1300-200', 1300, 200, 'DP', 'instancias/dinamica/DP-1300-200.txt'], ['dinamica', 'DP-1300-300', 1300, 300, 'DP', 'instancias/dinamica/DP-1300-300.txt'], ['dinamica', 'DP-1300-400', 1300, 400, 'DP', 'instancias/dinamica/DP-1300-400.txt'], ['dinamica', 'DP-1300-500', 1300, 500, 'DP', 'instancias/dinamica/DP-1300-500.txt'], ['dinamica', 'DP-1300-600', 1300, 600, 'DP', 'instancias/dinamica/DP-1300-600.txt'], ['dinamica', 'DP-1300-700', 1300, 700, 'DP', 'instancias/dinamica/DP-1300-700.txt'], ['dinamica', 'DP-1300-800', 1300, 800, 'DP', 'instancias/dinamica/DP-1300-800.txt'], ['dinamica', 'DP-1300-900', 1300, 900, 'DP', 'instancias/dinamica/DP-1300-900.txt'], ['dinamica', 'DP-1300-1000', 1300, 1000, 'DP', 'instancias/dinamica/DP-1300-1000.txt'], ['dinamica', 'DP-1300-1100', 1300, 1100, 'DP', 'instancias/dinamica/DP-1300-1100.txt'], ['dinamica', 'DP-1300-1200', 1300, 1200, 'DP', 'instancias/dinamica/DP-1300-1200.txt'], ['dinamica', 'DP-1300-1300', 1300, 1300, 'DP', 'instancias/dinamica/DP-1300-1300.txt'], ['dinamica', 'DP-1300-1400', 1300, 1400, 'DP', 'instancias/dinamica/DP-1300-1400.txt'], ['dinamica', 'DP-1400-0', 1400, 0, 'DP', 'instancias/dinamica/DP-1400-0.txt'], ['dinamica', 'DP-1400-100', 1400, 100, 'DP', 'instancias/dinamica/DP-1400-100.txt'], ['dinamica', 'DP-1400-200', 1400, 200, 'DP', 'instancias/dinamica/DP-1400-200.txt'], ['dinamica', 'DP-1400-300', 1400, 300, 'DP', 'instancias/dinamica/DP-1400-300.txt'], ['dinamica', 'DP-1400-400', 1400, 400, 'DP', 'instancias/dinamica/DP-1400-400.txt'], ['dinamica', 'DP-1400-500', 1400, 500, 'DP', 'instancias/dinamica/DP-1400-500.txt'], ['dinamica', 'DP-1400-600', 1400, 600, 'DP', 'instancias/dinamica/DP-1400-600.txt'], ['dinamica', 'DP-1400-700', 1400, 700, 'DP', 'instancias/dinamica/DP-1400-700.txt'], ['dinamica', 'DP-1400-800', 1400, 800, 'DP', 'instancias/dinamica/DP-1400-800.txt'], ['dinamica', 'DP-1400-900', 1400, 900, 'DP', 'instancias/dinamica/DP-1400-900.txt'], ['dinamica', 'DP-1400-1000', 1400, 1000, 'DP', 'instancias/dinamica/DP-1400-1000.txt'], ['dinamica', 'DP-1400-1100', 1400, 1100, 'DP', 'instancias/dinamica/DP-1400-1100.txt'], ['dinamica', 'DP-1400-1200', 1400, 1200, 'DP', 'instancias/dinamica/DP-1400-1200.txt'], ['dinamica', 'DP-1400-1300', 1400, 1300, 'DP', 'instancias/dinamica/DP-1400-1300.txt'], ['dinamica', 'DP-1400-1400', 1400, 1400, 'DP', 'instancias/dinamica/DP-1400-1400.txt']]\n"
     ]
    }
   ],
   "source": [
    "# for i, row in df_random_bf.iterrows():\n",
    "#     # fila_n = df_dinamica.iloc[n]\n",
    "#     experimentos.append([row.dataset, row.instancia, row.n, row.M, \"BF\", row.archivo])\n",
    "    \n",
    "# for i, row in df_random_bt.iterrows():\n",
    "#     # fila_n = df_dinamica.iloc[n]\n",
    "#     experimentos.append([row.dataset, row.instancia, row.n, row.M, \"BT\", row.archivo])\n",
    "    \n",
    "# for i, row in df_mejor_caso_bt.iterrows():\n",
    "#     # fila_n = df_dinamica.iloc[n]\n",
    "#     experimentos.append([row.dataset, row.instancia, row.n, row.M, \"BT\", row.archivo])\n",
    "\n",
    "# for i, row in df_poda_fact_bt.iterrows():\n",
    "#     # fila_n = df_dinamica.iloc[n]\n",
    "#     experimentos.append([row.dataset, row.instancia, row.n, row.M, \"BT\", row.archivo])\n",
    "\n",
    "# for i, row in df_poda_opt_bt.iterrows():\n",
    "#     # fila_n = df_dinamica.iloc[n]\n",
    "#     experimentos.append([row.dataset, row.instancia, row.n, row.M, \"BT\", row.archivo])\n",
    "    \n",
    "for i, row in df_peor_caso_bt.iterrows():\n",
    "    # fila_n = df_dinamica.iloc[n]\n",
    "    experimentos.append([row.dataset, row.instancia, row.n, row.M, \"BT\",row.archivo])\n",
    "    \n",
    "for i, row in df_dinamica.iterrows():\n",
    "    # fila_n = df_dinamica.iloc[n]\n",
    "    experimentos.append([row.dataset, row.instancia, row.n, row.M, \"DP\", row.archivo])\n",
    "    \n",
    "print(experimentos)"
   ]
  },
  {
   "cell_type": "markdown",
   "metadata": {},
   "source": [
    "## Experimento 2\n",
    "Correr BT para mejor y peor caso."
   ]
  },
  {
   "cell_type": "code",
   "execution_count": 8,
   "metadata": {},
   "outputs": [],
   "source": [
    "#for n in range(0, df_mejor_caso_bt.shape[0]):\n",
    "#    fila_n = df_mejor_caso_bt.iloc[n];\n",
    "#    experimentos.append([fila_n[\"dataset\"], n, fila_n[\"W\"], \"BT\", fila_n[\"archivo\"]]);\n",
    "#\n",
    "##for n in range(0, df_peor_caso_bt.shape[0]):\n",
    "#    fila_n = df_peor_caso_bt.iloc[n];\n",
    "#    experimentos.append([fila_n[\"dataset\"], n, fila_n[\"W\"], \"BT\", fila_n[\"archivo\"]]);"
   ]
  },
  {
   "cell_type": "markdown",
   "metadata": {},
   "source": [
    "## Experimento 3\n",
    "Correr BT, BT-F, BT-O para densidad alta y baja."
   ]
  },
  {
   "cell_type": "code",
   "execution_count": 9,
   "metadata": {},
   "outputs": [],
   "source": [
    "##for n in range(0, df_densidad_alta.shape[0]):\n",
    "#    fila_n = df_densidad_alta.iloc[n];\n",
    "#    experimentos.append([fila_n[\"dataset\"], n, fila_n[\"W\"], \"BT\", fila_n[\"archivo\"]]);\n",
    "#    experimentos.append([fila_n[\"dataset\"], n, fila_n[\"W\"], \"BT-F\", fila_n[\"archivo\"]]);\n",
    "#    experimentos.append([fila_n[\"dataset\"], n, fila_n[\"W\"], \"BT-O\", fila_n[\"archivo\"]]);\n",
    "#\n",
    "#for n in range(0, 30):\n",
    "#    fila_n = df_densidad_baja.iloc[n];\n",
    "#    experimentos.append([fila_n[\"dataset\"], n, fila_n[\"W\"], \"BT\", fila_n[\"archivo\"]]);\n",
    "#    experimentos.append([fila_n[\"dataset\"], n, fila_n[\"W\"], \"BT-F\", fila_n[\"archivo\"]]);\n",
    "#    experimentos.append([fila_n[\"dataset\"], n, fila_n[\"W\"], \"BT-O\", fila_n[\"archivo\"]]);"
   ]
  },
  {
   "cell_type": "markdown",
   "metadata": {},
   "source": [
    "# Experimento 4\n",
    "Correr DP para el dataset _dinamica_."
   ]
  },
  {
   "cell_type": "code",
   "execution_count": 10,
   "metadata": {},
   "outputs": [],
   "source": [
    "#for i in range(0, df_dinamica.shape[0]):\n",
    "#    fila = df_dinamica.iloc[i];\n",
    "#    experimentos.append([fila[\"dataset\"], fila[\"n\"], fila[\"W\"], \"DP\", fila[\"archivo\"]]);"
   ]
  },
  {
   "cell_type": "markdown",
   "metadata": {},
   "source": [
    "## Experimento 5\n",
    "Correr DP para el dataset densidad-alta y densidad-baja."
   ]
  },
  {
   "cell_type": "code",
   "execution_count": 11,
   "metadata": {},
   "outputs": [],
   "source": [
    "#for i in range(0, df_densidad_alta.shape[0]):\n",
    "#    fila = df_densidad_alta.iloc[i];\n",
    "#    experimentos.append([fila[\"dataset\"], fila[\"n\"], fila[\"W\"], \"DP\", fila[\"archivo\"]]);\n",
    "#\n",
    "#for i in range(0, df_densidad_baja.shape[0]):\n",
    "#    fila = df_densidad_baja.iloc[i];\n",
    "#    experimentos.append([fila[\"dataset\"], fila[\"n\"], fila[\"W\"], \"DP\", fila[\"archivo\"]]);"
   ]
  },
  {
   "cell_type": "markdown",
   "metadata": {},
   "source": [
    "## Ejecutar los experimentos y guardar los resultados en un archivo CSV.\n",
    "Este paso puede tardar unos minutos hasta terminar de ejecutarse."
   ]
  },
  {
   "cell_type": "code",
   "execution_count": 12,
   "metadata": {},
   "outputs": [
    {
     "name": "stderr",
     "output_type": "stream",
     "text": [
      "  1%|▎                                          | 2/264 [00:00<00:20, 12.72it/s]"
     ]
    },
    {
     "name": "stdout",
     "output_type": "stream",
     "text": [
      "=======>1 1\n",
      "BT\n",
      "BT\n",
      "BT\n",
      "BT\n",
      "BT\n",
      "-----------------------11.721553\n",
      "=======>2 2\n",
      "BT\n",
      "BT\n",
      "BT\n",
      "BT\n",
      "BT\n",
      "-----------------------12.632882\n",
      "=======>3 3\n",
      "BT\n",
      "BT\n",
      "BT\n",
      "BT\n",
      "BT\n"
     ]
    },
    {
     "name": "stderr",
     "output_type": "stream",
     "text": [
      "\r",
      "  2%|▋                                          | 4/264 [00:00<00:16, 15.91it/s]"
     ]
    },
    {
     "name": "stdout",
     "output_type": "stream",
     "text": [
      "-----------------------8.245877\n",
      "=======>4 4\n",
      "BT\n",
      "BT\n",
      "BT\n",
      "BT\n",
      "BT\n",
      "-----------------------10.227497\n",
      "=======>5 5\n",
      "BT\n",
      "BT\n",
      "BT\n",
      "BT\n",
      "BT\n",
      "-----------------------8.503242\n",
      "=======>6 6\n",
      "BT\n",
      "BT\n",
      "BT\n",
      "BT\n",
      "BT\n",
      "-----------------------6.641454\n",
      "=======>7 7\n",
      "BT\n",
      "BT\n",
      "BT\n",
      "BT\n"
     ]
    },
    {
     "name": "stderr",
     "output_type": "stream",
     "text": [
      "\r",
      "  3%|█▏                                         | 7/264 [00:00<00:12, 20.25it/s]"
     ]
    },
    {
     "name": "stdout",
     "output_type": "stream",
     "text": [
      "BT\n",
      "-----------------------6.093609\n",
      "=======>8 8\n",
      "BT\n",
      "BT\n",
      "BT\n",
      "BT\n"
     ]
    },
    {
     "name": "stderr",
     "output_type": "stream",
     "text": [
      "\r",
      "  4%|█▌                                        | 10/264 [00:00<00:12, 20.60it/s]"
     ]
    },
    {
     "name": "stdout",
     "output_type": "stream",
     "text": [
      "BT\n",
      "-----------------------9.163311\n",
      "=======>9 9\n",
      "BT\n",
      "BT\n",
      "BT\n",
      "BT\n",
      "BT\n",
      "-----------------------10.902578\n",
      "=======>10 10\n",
      "BT\n",
      "BT\n",
      "BT\n",
      "BT\n",
      "BT\n",
      "-----------------------6.359496\n",
      "=======>11 11\n",
      "BT\n",
      "BT\n",
      "BT\n",
      "BT\n",
      "BT\n",
      "-----------------------9.162225\n",
      "=======>12 12\n",
      "BT\n",
      "BT\n",
      "BT\n",
      "BT\n",
      "BT\n",
      "-----------------------7.375727\n",
      "=======>13 13\n",
      "BT\n"
     ]
    },
    {
     "name": "stderr",
     "output_type": "stream",
     "text": [
      "\r",
      "  5%|██                                        | 13/264 [00:00<00:12, 20.77it/s]"
     ]
    },
    {
     "name": "stdout",
     "output_type": "stream",
     "text": [
      "BT\n",
      "BT\n",
      "BT\n",
      "BT\n",
      "-----------------------9.125728\n",
      "=======>14 14\n",
      "BT\n",
      "BT\n",
      "BT\n",
      "BT\n",
      "BT\n",
      "-----------------------8.84717\n",
      "=======>15 15\n",
      "BT\n",
      "BT\n",
      "BT\n",
      "BT\n",
      "BT\n",
      "-----------------------6.516705\n",
      "=======>16 16\n",
      "BT\n",
      "BT\n",
      "BT\n",
      "BT\n",
      "BT\n"
     ]
    },
    {
     "name": "stderr",
     "output_type": "stream",
     "text": [
      "\r",
      "  6%|██▌                                       | 16/264 [00:00<00:11, 22.00it/s]"
     ]
    },
    {
     "name": "stdout",
     "output_type": "stream",
     "text": [
      "-----------------------6.229253\n",
      "=======>17 17\n",
      "BT\n",
      "BT\n",
      "BT\n",
      "BT\n"
     ]
    },
    {
     "name": "stderr",
     "output_type": "stream",
     "text": [
      "\r",
      "  7%|███                                       | 19/264 [00:00<00:11, 21.35it/s]"
     ]
    },
    {
     "name": "stdout",
     "output_type": "stream",
     "text": [
      "BT\n",
      "-----------------------11.413411\n",
      "=======>18 18\n",
      "BT\n",
      "BT\n",
      "BT\n",
      "BT\n",
      "BT\n",
      "-----------------------9.612999\n",
      "=======>19 19\n",
      "BT\n",
      "BT\n",
      "BT\n",
      "BT\n",
      "BT\n",
      "-----------------------6.658031\n",
      "=======>20 20\n",
      "BT\n",
      "BT\n",
      "BT\n",
      "BT\n",
      "BT\n",
      "-----------------------8.007579\n",
      "=======>21 21\n",
      "BT\n",
      "BT\n",
      "BT\n",
      "BT\n",
      "BT\n",
      "-----------------------8.844532\n",
      "=======>22 22\n",
      "BT\n"
     ]
    },
    {
     "name": "stderr",
     "output_type": "stream",
     "text": [
      "\r",
      "  8%|███▌                                      | 22/264 [00:01<00:11, 20.67it/s]"
     ]
    },
    {
     "name": "stdout",
     "output_type": "stream",
     "text": [
      "BT\n",
      "BT\n",
      "BT\n",
      "BT\n",
      "-----------------------11.613442\n",
      "=======>23 23\n",
      "BT\n",
      "BT\n",
      "BT\n",
      "BT\n",
      "BT\n",
      "-----------------------10.364049\n",
      "=======>24 24\n",
      "BT\n",
      "BT\n",
      "BT\n",
      "BT\n",
      "BT\n",
      "-----------------------10.934891\n",
      "=======>25 25\n",
      "BT\n",
      "BT\n",
      "BT\n"
     ]
    },
    {
     "name": "stderr",
     "output_type": "stream",
     "text": [
      "\r",
      "  9%|███▉                                      | 25/264 [00:01<00:12, 18.56it/s]"
     ]
    },
    {
     "name": "stdout",
     "output_type": "stream",
     "text": [
      "BT\n",
      "BT\n",
      "-----------------------15.867195\n",
      "=======>26 26\n",
      "BT\n",
      "BT\n",
      "BT\n",
      "BT\n",
      "BT\n",
      "-----------------------15.627053\n",
      "=======>27 27\n",
      "BT\n",
      "BT\n",
      "BT\n",
      "BT\n",
      "BT\n"
     ]
    },
    {
     "name": "stderr",
     "output_type": "stream",
     "text": [
      "\r",
      " 10%|████▎                                     | 27/264 [00:01<00:15, 15.69it/s]"
     ]
    },
    {
     "name": "stdout",
     "output_type": "stream",
     "text": [
      "-----------------------20.761851\n",
      "=======>28 28\n",
      "BT\n",
      "BT\n",
      "BT\n",
      "BT\n",
      "BT\n",
      "-----------------------28.35527\n",
      "=======>29 29\n",
      "BT\n",
      "BT\n"
     ]
    },
    {
     "name": "stderr",
     "output_type": "stream",
     "text": [
      "\r",
      " 11%|████▌                                     | 29/264 [00:01<00:21, 11.08it/s]"
     ]
    },
    {
     "name": "stdout",
     "output_type": "stream",
     "text": [
      "BT\n",
      "BT\n",
      "BT\n",
      "-----------------------40.355681\n",
      "=======>30 30\n",
      "BT\n",
      "BT\n",
      "BT\n",
      "BT\n",
      "BT\n",
      "-----------------------57.311273\n",
      "=======>31 31\n",
      "BT\n",
      "BT\n",
      "BT\n",
      "BT\n"
     ]
    },
    {
     "name": "stderr",
     "output_type": "stream",
     "text": [
      "\r",
      " 12%|████▉                                     | 31/264 [00:02<00:37,  6.16it/s]"
     ]
    },
    {
     "name": "stdout",
     "output_type": "stream",
     "text": [
      "BT\n",
      "-----------------------86.812382\n",
      "=======>32 32\n",
      "BT\n",
      "BT\n",
      "BT\n",
      "BT\n",
      "BT\n",
      "-----------------------133.167741\n",
      "=======>33 33\n",
      "BT\n",
      "BT\n",
      "BT\n",
      "BT\n",
      "BT\n"
     ]
    },
    {
     "name": "stderr",
     "output_type": "stream",
     "text": [
      "\r",
      " 12%|█████▎                                    | 33/264 [00:04<01:21,  2.82it/s]"
     ]
    },
    {
     "name": "stdout",
     "output_type": "stream",
     "text": [
      "-----------------------212.603123\n",
      "=======>34 34\n",
      "BT\n",
      "BT\n",
      "BT\n",
      "BT\n",
      "BT\n"
     ]
    },
    {
     "name": "stderr",
     "output_type": "stream",
     "text": [
      "\r",
      " 13%|█████▍                                    | 34/264 [00:05<02:11,  1.74it/s]"
     ]
    },
    {
     "name": "stdout",
     "output_type": "stream",
     "text": [
      "-----------------------337.90627\n",
      "=======>35 35\n",
      "BT\n",
      "BT\n",
      "BT\n",
      "BT\n",
      "BT\n"
     ]
    },
    {
     "name": "stderr",
     "output_type": "stream",
     "text": [
      "\r",
      " 13%|█████▌                                    | 35/264 [00:08<03:43,  1.02it/s]"
     ]
    },
    {
     "name": "stdout",
     "output_type": "stream",
     "text": [
      "-----------------------538.475445\n",
      "=======>36 36\n",
      "BT\n",
      "BT\n",
      "BT\n",
      "BT\n",
      "BT\n"
     ]
    },
    {
     "name": "stderr",
     "output_type": "stream",
     "text": [
      "\r",
      " 14%|█████▋                                    | 36/264 [00:13<06:24,  1.69s/it]"
     ]
    },
    {
     "name": "stdout",
     "output_type": "stream",
     "text": [
      "-----------------------862.924577\n",
      "=======>37 37\n",
      "BT\n",
      "BT\n",
      "BT\n",
      "BT\n",
      "BT\n"
     ]
    },
    {
     "name": "stderr",
     "output_type": "stream",
     "text": [
      "\r",
      " 14%|█████▉                                    | 37/264 [00:19<11:02,  2.92s/it]"
     ]
    },
    {
     "name": "stdout",
     "output_type": "stream",
     "text": [
      "-----------------------1391.59408\n",
      "=======>38 38\n",
      "BT\n",
      "BT\n",
      "BT\n",
      "BT\n",
      "BT\n"
     ]
    },
    {
     "name": "stderr",
     "output_type": "stream",
     "text": [
      "\r",
      " 14%|██████                                    | 38/264 [00:31<18:47,  4.99s/it]"
     ]
    },
    {
     "name": "stdout",
     "output_type": "stream",
     "text": [
      "-----------------------2240.050425\n",
      "=======>39 39\n",
      "BT\n",
      "BT\n",
      "BT\n",
      "BT\n",
      "BT\n"
     ]
    },
    {
     "name": "stderr",
     "output_type": "stream",
     "text": [
      "\r",
      " 15%|██████▏                                   | 39/264 [00:49<31:40,  8.45s/it]"
     ]
    },
    {
     "name": "stdout",
     "output_type": "stream",
     "text": [
      "-----------------------3625.512513\n",
      "=======>0 0\n",
      "DP\n",
      "DP\n",
      "DP\n",
      "DP\n",
      "DP\n",
      "-----------------------5.778354\n",
      "=======>0 100\n",
      "DP\n",
      "DP\n",
      "DP\n",
      "DP\n",
      "DP\n"
     ]
    },
    {
     "name": "stderr",
     "output_type": "stream",
     "text": [
      "\r",
      " 16%|██████▌                                   | 41/264 [00:50<18:30,  4.98s/it]"
     ]
    },
    {
     "name": "stdout",
     "output_type": "stream",
     "text": [
      "-----------------------125.22153\n",
      "=======>0 200\n",
      "DP\n",
      "DP\n",
      "DP\n",
      "DP\n"
     ]
    },
    {
     "name": "stderr",
     "output_type": "stream",
     "text": [
      "\r",
      " 16%|██████▋                                   | 42/264 [00:50<14:38,  3.96s/it]"
     ]
    },
    {
     "name": "stdout",
     "output_type": "stream",
     "text": [
      "DP\n",
      "-----------------------127.378458\n",
      "=======>0 300\n",
      "DP\n",
      "DP\n",
      "DP\n",
      "DP\n",
      "DP\n"
     ]
    },
    {
     "name": "stderr",
     "output_type": "stream",
     "text": [
      "\r",
      " 16%|██████▊                                   | 43/264 [00:51<11:34,  3.14s/it]"
     ]
    },
    {
     "name": "stdout",
     "output_type": "stream",
     "text": [
      "-----------------------147.260562\n",
      "=======>0 400\n",
      "DP\n",
      "DP\n",
      "DP\n",
      "DP\n",
      "DP\n"
     ]
    },
    {
     "name": "stderr",
     "output_type": "stream",
     "text": [
      "\r",
      " 17%|███████                                   | 44/264 [00:52<09:23,  2.56s/it]"
     ]
    },
    {
     "name": "stdout",
     "output_type": "stream",
     "text": [
      "-----------------------185.156143\n",
      "=======>0 500\n",
      "DP\n",
      "DP\n",
      "DP\n",
      "DP\n",
      "DP\n"
     ]
    },
    {
     "name": "stderr",
     "output_type": "stream",
     "text": [
      "\r",
      " 17%|███████▏                                  | 45/264 [00:53<07:40,  2.10s/it]"
     ]
    },
    {
     "name": "stdout",
     "output_type": "stream",
     "text": [
      "-----------------------147.152681\n",
      "=======>0 600\n",
      "DP\n",
      "DP\n",
      "DP\n",
      "DP\n",
      "DP\n"
     ]
    },
    {
     "name": "stderr",
     "output_type": "stream",
     "text": [
      "\r",
      " 17%|███████▎                                  | 46/264 [00:54<06:18,  1.74s/it]"
     ]
    },
    {
     "name": "stdout",
     "output_type": "stream",
     "text": [
      "-----------------------141.515921\n",
      "=======>0 700\n",
      "DP\n",
      "DP\n",
      "DP\n",
      "DP\n"
     ]
    },
    {
     "name": "stderr",
     "output_type": "stream",
     "text": [
      "\r",
      " 18%|███████▍                                  | 47/264 [00:54<05:10,  1.43s/it]"
     ]
    },
    {
     "name": "stdout",
     "output_type": "stream",
     "text": [
      "DP\n",
      "-----------------------129.495447\n",
      "=======>0 800\n",
      "DP\n",
      "DP\n",
      "DP\n",
      "DP\n",
      "DP\n"
     ]
    },
    {
     "name": "stderr",
     "output_type": "stream",
     "text": [
      "\r",
      " 18%|███████▋                                  | 48/264 [00:55<04:21,  1.21s/it]"
     ]
    },
    {
     "name": "stdout",
     "output_type": "stream",
     "text": [
      "-----------------------135.453888\n",
      "=======>0 900\n",
      "DP\n",
      "DP\n",
      "DP\n",
      "DP\n"
     ]
    },
    {
     "name": "stderr",
     "output_type": "stream",
     "text": [
      "\r",
      " 19%|███████▊                                  | 49/264 [00:56<03:45,  1.05s/it]"
     ]
    },
    {
     "name": "stdout",
     "output_type": "stream",
     "text": [
      "DP\n",
      "-----------------------132.155129\n",
      "=======>0 1000\n",
      "DP\n",
      "DP\n",
      "DP\n",
      "DP\n",
      "DP\n"
     ]
    },
    {
     "name": "stderr",
     "output_type": "stream",
     "text": [
      "\r",
      " 19%|███████▉                                  | 50/264 [00:56<03:18,  1.08it/s]"
     ]
    },
    {
     "name": "stdout",
     "output_type": "stream",
     "text": [
      "-----------------------125.46048\n",
      "=======>0 1100\n",
      "DP\n",
      "DP\n",
      "DP\n",
      "DP\n"
     ]
    },
    {
     "name": "stderr",
     "output_type": "stream",
     "text": [
      "\r",
      " 19%|████████                                  | 51/264 [00:57<02:59,  1.19it/s]"
     ]
    },
    {
     "name": "stdout",
     "output_type": "stream",
     "text": [
      "DP\n",
      "-----------------------129.81519\n",
      "=======>0 1200\n",
      "DP\n",
      "DP\n",
      "DP\n",
      "DP\n",
      "DP\n"
     ]
    },
    {
     "name": "stderr",
     "output_type": "stream",
     "text": [
      "\r",
      " 20%|████████▎                                 | 52/264 [00:57<02:46,  1.28it/s]"
     ]
    },
    {
     "name": "stdout",
     "output_type": "stream",
     "text": [
      "-----------------------130.816146\n",
      "=======>0 1300\n",
      "DP\n",
      "DP\n",
      "DP\n",
      "DP\n"
     ]
    },
    {
     "name": "stderr",
     "output_type": "stream",
     "text": [
      "\r",
      " 20%|████████▍                                 | 53/264 [00:58<02:36,  1.35it/s]"
     ]
    },
    {
     "name": "stdout",
     "output_type": "stream",
     "text": [
      "DP\n",
      "-----------------------130.512362\n",
      "=======>0 1400\n",
      "DP\n",
      "DP\n",
      "DP\n",
      "DP\n",
      "DP\n"
     ]
    },
    {
     "name": "stderr",
     "output_type": "stream",
     "text": [
      " 22%|█████████                                 | 57/264 [00:59<01:11,  2.90it/s]"
     ]
    },
    {
     "name": "stdout",
     "output_type": "stream",
     "text": [
      "-----------------------130.843819\n",
      "=======>100 0\n",
      "DP\n",
      "DP\n",
      "DP\n",
      "DP\n",
      "DP\n",
      "-----------------------7.363243\n",
      "=======>100 100\n",
      "DP\n",
      "DP\n",
      "DP\n",
      "DP\n",
      "DP\n",
      "-----------------------9.738272\n",
      "=======>100 200\n",
      "DP\n",
      "DP\n",
      "DP\n",
      "DP\n",
      "DP\n",
      "-----------------------13.708772\n",
      "=======>100 300\n",
      "DP\n",
      "DP\n"
     ]
    },
    {
     "name": "stderr",
     "output_type": "stream",
     "text": [
      "\r",
      " 22%|█████████▏                                | 58/264 [00:59<01:00,  3.41it/s]"
     ]
    },
    {
     "name": "stdout",
     "output_type": "stream",
     "text": [
      "DP\n",
      "DP\n",
      "DP\n",
      "-----------------------19.325177\n",
      "=======>100 400\n",
      "DP\n",
      "DP\n",
      "DP\n",
      "DP\n",
      "DP\n",
      "-----------------------17.596264\n",
      "=======>100 500\n",
      "DP\n",
      "DP\n",
      "DP\n"
     ]
    },
    {
     "name": "stderr",
     "output_type": "stream",
     "text": [
      " 23%|█████████▋                                | 61/264 [00:59<00:40,  4.96it/s]"
     ]
    },
    {
     "name": "stdout",
     "output_type": "stream",
     "text": [
      "DP\n",
      "DP\n",
      "-----------------------22.359788\n",
      "=======>100 600\n",
      "DP\n",
      "DP\n",
      "DP\n",
      "DP\n",
      "DP\n",
      "-----------------------22.917818\n",
      "=======>100 700\n",
      "DP\n",
      "DP\n"
     ]
    },
    {
     "name": "stderr",
     "output_type": "stream",
     "text": [
      "\r",
      " 23%|█████████▊                                | 62/264 [00:59<00:38,  5.31it/s]"
     ]
    },
    {
     "name": "stdout",
     "output_type": "stream",
     "text": [
      "DP\n",
      "DP\n",
      "DP\n",
      "-----------------------28.454755\n",
      "=======>100 800\n",
      "DP\n",
      "DP\n",
      "DP\n",
      "DP\n"
     ]
    },
    {
     "name": "stderr",
     "output_type": "stream",
     "text": [
      " 24%|██████████▏                               | 64/264 [01:00<00:35,  5.69it/s]"
     ]
    },
    {
     "name": "stdout",
     "output_type": "stream",
     "text": [
      "DP\n",
      "-----------------------29.085299\n",
      "=======>100 900\n",
      "DP\n",
      "DP\n",
      "DP\n",
      "DP\n",
      "DP\n",
      "-----------------------32.72819\n",
      "=======>100 1000\n",
      "DP\n"
     ]
    },
    {
     "name": "stderr",
     "output_type": "stream",
     "text": [
      "\r",
      " 25%|██████████▎                               | 65/264 [01:00<00:35,  5.59it/s]"
     ]
    },
    {
     "name": "stdout",
     "output_type": "stream",
     "text": [
      "DP\n",
      "DP\n",
      "DP\n",
      "DP\n",
      "-----------------------35.126912\n",
      "=======>100 1100\n",
      "DP\n",
      "DP\n"
     ]
    },
    {
     "name": "stderr",
     "output_type": "stream",
     "text": [
      "\r",
      " 25%|██████████▌                               | 66/264 [01:00<00:36,  5.47it/s]"
     ]
    },
    {
     "name": "stdout",
     "output_type": "stream",
     "text": [
      "DP\n",
      "DP\n",
      "DP\n",
      "-----------------------38.942384\n",
      "=======>100 1200\n",
      "DP\n",
      "DP\n",
      "DP\n"
     ]
    },
    {
     "name": "stderr",
     "output_type": "stream",
     "text": [
      "\r",
      " 25%|██████████▋                               | 67/264 [01:00<00:37,  5.24it/s]"
     ]
    },
    {
     "name": "stdout",
     "output_type": "stream",
     "text": [
      "DP\n",
      "DP\n",
      "-----------------------40.138744\n",
      "=======>100 1300\n",
      "DP\n",
      "DP\n",
      "DP\n"
     ]
    },
    {
     "name": "stderr",
     "output_type": "stream",
     "text": [
      "\r",
      " 26%|██████████▊                               | 68/264 [01:01<00:38,  5.04it/s]"
     ]
    },
    {
     "name": "stdout",
     "output_type": "stream",
     "text": [
      "DP\n",
      "DP\n",
      "-----------------------41.990256\n",
      "=======>100 1400\n",
      "DP\n",
      "DP\n",
      "DP\n"
     ]
    },
    {
     "name": "stderr",
     "output_type": "stream",
     "text": [
      " 27%|███████████▎                              | 71/264 [01:01<00:26,  7.33it/s]"
     ]
    },
    {
     "name": "stdout",
     "output_type": "stream",
     "text": [
      "DP\n",
      "DP\n",
      "-----------------------46.23554\n",
      "=======>200 0\n",
      "DP\n",
      "DP\n",
      "DP\n",
      "DP\n",
      "DP\n",
      "-----------------------5.847361\n",
      "=======>200 100\n",
      "DP\n",
      "DP\n",
      "DP\n",
      "DP\n",
      "DP\n",
      "-----------------------12.778892\n",
      "=======>200 200\n",
      "DP\n"
     ]
    },
    {
     "name": "stderr",
     "output_type": "stream",
     "text": [
      " 28%|███████████▌                              | 73/264 [01:01<00:24,  7.90it/s]"
     ]
    },
    {
     "name": "stdout",
     "output_type": "stream",
     "text": [
      "DP\n",
      "DP\n",
      "DP\n",
      "DP\n",
      "-----------------------18.996418\n",
      "=======>200 300\n",
      "DP\n",
      "DP\n",
      "DP\n",
      "DP\n",
      "DP\n",
      "-----------------------23.736878\n",
      "=======>200 400\n",
      "DP\n"
     ]
    },
    {
     "name": "stderr",
     "output_type": "stream",
     "text": [
      "\r",
      " 28%|███████████▊                              | 74/264 [01:01<00:25,  7.41it/s]"
     ]
    },
    {
     "name": "stdout",
     "output_type": "stream",
     "text": [
      "DP\n",
      "DP\n",
      "DP\n",
      "DP\n",
      "-----------------------30.776169\n",
      "=======>200 500\n",
      "DP\n",
      "DP\n",
      "DP\n"
     ]
    },
    {
     "name": "stderr",
     "output_type": "stream",
     "text": [
      "\r",
      " 28%|███████████▉                              | 75/264 [01:02<00:28,  6.75it/s]"
     ]
    },
    {
     "name": "stdout",
     "output_type": "stream",
     "text": [
      "DP\n",
      "DP\n",
      "-----------------------35.548519\n",
      "=======>200 600\n",
      "DP\n",
      "DP\n",
      "DP\n",
      "DP\n"
     ]
    },
    {
     "name": "stderr",
     "output_type": "stream",
     "text": [
      "\r",
      " 29%|████████████                              | 76/264 [01:02<00:31,  6.04it/s]"
     ]
    },
    {
     "name": "stdout",
     "output_type": "stream",
     "text": [
      "DP\n",
      "-----------------------41.047094\n",
      "=======>200 700\n",
      "DP\n",
      "DP\n",
      "DP\n",
      "DP\n"
     ]
    },
    {
     "name": "stderr",
     "output_type": "stream",
     "text": [
      "\r",
      " 29%|████████████▎                             | 77/264 [01:02<00:34,  5.35it/s]"
     ]
    },
    {
     "name": "stdout",
     "output_type": "stream",
     "text": [
      "DP\n",
      "-----------------------47.368727\n",
      "=======>200 800\n",
      "DP\n",
      "DP\n",
      "DP\n"
     ]
    },
    {
     "name": "stderr",
     "output_type": "stream",
     "text": [
      "\r",
      " 30%|████████████▍                             | 78/264 [01:02<00:39,  4.76it/s]"
     ]
    },
    {
     "name": "stdout",
     "output_type": "stream",
     "text": [
      "DP\n",
      "DP\n",
      "-----------------------51.79124\n",
      "=======>200 900\n",
      "DP\n",
      "DP\n"
     ]
    },
    {
     "name": "stderr",
     "output_type": "stream",
     "text": [
      "\r",
      " 30%|████████████▌                             | 79/264 [01:03<00:43,  4.27it/s]"
     ]
    },
    {
     "name": "stdout",
     "output_type": "stream",
     "text": [
      "DP\n",
      "DP\n",
      "DP\n",
      "-----------------------57.51915\n",
      "=======>200 1000\n",
      "DP\n",
      "DP\n",
      "DP\n",
      "DP\n",
      "DP\n"
     ]
    },
    {
     "name": "stderr",
     "output_type": "stream",
     "text": [
      "\r",
      " 30%|████████████▋                             | 80/264 [01:03<00:48,  3.79it/s]"
     ]
    },
    {
     "name": "stdout",
     "output_type": "stream",
     "text": [
      "-----------------------66.892816\n",
      "=======>200 1100\n",
      "DP\n",
      "DP\n",
      "DP\n"
     ]
    },
    {
     "name": "stderr",
     "output_type": "stream",
     "text": [
      "\r",
      " 31%|████████████▉                             | 81/264 [01:03<00:53,  3.44it/s]"
     ]
    },
    {
     "name": "stdout",
     "output_type": "stream",
     "text": [
      "DP\n",
      "DP\n",
      "-----------------------68.861736\n",
      "=======>200 1200\n",
      "DP\n",
      "DP\n",
      "DP\n",
      "DP\n"
     ]
    },
    {
     "name": "stderr",
     "output_type": "stream",
     "text": [
      "\r",
      " 31%|█████████████                             | 82/264 [01:04<00:57,  3.14it/s]"
     ]
    },
    {
     "name": "stdout",
     "output_type": "stream",
     "text": [
      "DP\n",
      "-----------------------76.678474\n",
      "=======>200 1300\n",
      "DP\n",
      "DP\n",
      "DP\n",
      "DP\n",
      "DP\n"
     ]
    },
    {
     "name": "stderr",
     "output_type": "stream",
     "text": [
      "\r",
      " 31%|█████████████▏                            | 83/264 [01:04<01:02,  2.89it/s]"
     ]
    },
    {
     "name": "stdout",
     "output_type": "stream",
     "text": [
      "-----------------------81.783637\n",
      "=======>200 1400\n",
      "DP\n",
      "DP\n",
      "DP\n"
     ]
    },
    {
     "name": "stderr",
     "output_type": "stream",
     "text": [
      "\r",
      " 32%|█████████████▎                            | 84/264 [01:04<01:07,  2.68it/s]"
     ]
    },
    {
     "name": "stdout",
     "output_type": "stream",
     "text": [
      "DP\n",
      "DP\n",
      "-----------------------85.79174\n",
      "=======>300 0\n",
      "DP\n",
      "DP\n",
      "DP\n",
      "DP\n"
     ]
    },
    {
     "name": "stderr",
     "output_type": "stream",
     "text": [
      "\r",
      " 33%|█████████████▋                            | 86/264 [01:05<00:40,  4.37it/s]"
     ]
    },
    {
     "name": "stdout",
     "output_type": "stream",
     "text": [
      "DP\n",
      "-----------------------7.084225\n",
      "=======>300 100\n",
      "DP\n",
      "DP\n",
      "DP\n",
      "DP\n",
      "DP\n",
      "-----------------------15.476531\n",
      "=======>300 200\n",
      "DP\n",
      "DP\n",
      "DP\n",
      "DP\n",
      "DP\n"
     ]
    },
    {
     "name": "stderr",
     "output_type": "stream",
     "text": [
      " 33%|██████████████                            | 88/264 [01:05<00:34,  5.14it/s]"
     ]
    },
    {
     "name": "stdout",
     "output_type": "stream",
     "text": [
      "-----------------------23.594946\n",
      "=======>300 300\n",
      "DP\n",
      "DP\n",
      "DP\n",
      "DP\n",
      "DP\n",
      "-----------------------32.057466\n",
      "=======>300 400\n",
      "DP\n"
     ]
    },
    {
     "name": "stderr",
     "output_type": "stream",
     "text": [
      "\r",
      " 34%|██████████████▏                           | 89/264 [01:05<00:34,  5.00it/s]"
     ]
    },
    {
     "name": "stdout",
     "output_type": "stream",
     "text": [
      "DP\n",
      "DP\n",
      "DP\n",
      "DP\n",
      "-----------------------40.807893\n",
      "=======>300 500\n",
      "DP\n"
     ]
    },
    {
     "name": "stderr",
     "output_type": "stream",
     "text": [
      "\r",
      " 34%|██████████████▎                           | 90/264 [01:05<00:37,  4.69it/s]"
     ]
    },
    {
     "name": "stdout",
     "output_type": "stream",
     "text": [
      "DP\n",
      "DP\n",
      "DP\n",
      "DP\n",
      "-----------------------47.105067\n",
      "=======>300 600\n",
      "DP\n",
      "DP\n",
      "DP\n",
      "DP\n",
      "DP\n"
     ]
    },
    {
     "name": "stderr",
     "output_type": "stream",
     "text": [
      "\r",
      " 34%|██████████████▍                           | 91/264 [01:06<00:41,  4.21it/s]"
     ]
    },
    {
     "name": "stdout",
     "output_type": "stream",
     "text": [
      "-----------------------58.314911\n",
      "=======>300 700\n",
      "DP\n",
      "DP\n",
      "DP\n",
      "DP\n"
     ]
    },
    {
     "name": "stderr",
     "output_type": "stream",
     "text": [
      "\r",
      " 35%|██████████████▋                           | 92/264 [01:06<00:45,  3.76it/s]"
     ]
    },
    {
     "name": "stdout",
     "output_type": "stream",
     "text": [
      "DP\n",
      "-----------------------66.572676\n",
      "=======>300 800\n",
      "DP\n",
      "DP\n",
      "DP\n",
      "DP\n",
      "DP\n"
     ]
    },
    {
     "name": "stderr",
     "output_type": "stream",
     "text": [
      "\r",
      " 35%|██████████████▊                           | 93/264 [01:06<00:50,  3.36it/s]"
     ]
    },
    {
     "name": "stdout",
     "output_type": "stream",
     "text": [
      "-----------------------73.955078\n",
      "=======>300 900\n",
      "DP\n",
      "DP\n",
      "DP\n"
     ]
    },
    {
     "name": "stderr",
     "output_type": "stream",
     "text": [
      "\r",
      " 36%|██████████████▉                           | 94/264 [01:07<00:57,  2.97it/s]"
     ]
    },
    {
     "name": "stdout",
     "output_type": "stream",
     "text": [
      "DP\n",
      "DP\n",
      "-----------------------83.532309\n",
      "=======>300 1000\n",
      "DP\n",
      "DP\n",
      "DP\n",
      "DP\n"
     ]
    },
    {
     "name": "stderr",
     "output_type": "stream",
     "text": [
      "\r",
      " 36%|███████████████                           | 95/264 [01:07<01:04,  2.64it/s]"
     ]
    },
    {
     "name": "stdout",
     "output_type": "stream",
     "text": [
      "DP\n",
      "-----------------------94.079377\n",
      "=======>300 1100\n",
      "DP\n",
      "DP\n",
      "DP\n",
      "DP\n"
     ]
    },
    {
     "name": "stderr",
     "output_type": "stream",
     "text": [
      "\r",
      " 36%|███████████████▎                          | 96/264 [01:08<01:10,  2.38it/s]"
     ]
    },
    {
     "name": "stdout",
     "output_type": "stream",
     "text": [
      "DP\n",
      "-----------------------104.362277\n",
      "=======>300 1200\n",
      "DP\n",
      "DP\n",
      "DP\n",
      "DP\n",
      "DP\n"
     ]
    },
    {
     "name": "stderr",
     "output_type": "stream",
     "text": [
      "\r",
      " 37%|███████████████▍                          | 97/264 [01:08<01:17,  2.14it/s]"
     ]
    },
    {
     "name": "stdout",
     "output_type": "stream",
     "text": [
      "-----------------------114.369593\n",
      "=======>300 1300\n",
      "DP\n",
      "DP\n",
      "DP\n",
      "DP\n"
     ]
    },
    {
     "name": "stderr",
     "output_type": "stream",
     "text": [
      "\r",
      " 37%|███████████████▌                          | 98/264 [01:09<01:24,  1.96it/s]"
     ]
    },
    {
     "name": "stdout",
     "output_type": "stream",
     "text": [
      "DP\n",
      "-----------------------120.552129\n",
      "=======>300 1400\n",
      "DP\n",
      "DP\n",
      "DP\n",
      "DP\n",
      "DP\n"
     ]
    },
    {
     "name": "stderr",
     "output_type": "stream",
     "text": [
      " 38%|███████████████▋                         | 101/264 [01:10<00:54,  3.01it/s]"
     ]
    },
    {
     "name": "stdout",
     "output_type": "stream",
     "text": [
      "-----------------------132.530742\n",
      "=======>400 0\n",
      "DP\n",
      "DP\n",
      "DP\n",
      "DP\n",
      "DP\n",
      "-----------------------6.910657\n",
      "=======>400 100\n",
      "DP\n",
      "DP\n",
      "DP\n",
      "DP\n",
      "DP\n",
      "-----------------------18.679014\n",
      "=======>400 200\n",
      "DP\n",
      "DP\n"
     ]
    },
    {
     "name": "stderr",
     "output_type": "stream",
     "text": [
      "\r",
      " 39%|███████████████▊                         | 102/264 [01:10<00:46,  3.46it/s]"
     ]
    },
    {
     "name": "stdout",
     "output_type": "stream",
     "text": [
      "DP\n",
      "DP\n",
      "DP\n",
      "-----------------------29.833158\n",
      "=======>400 300\n",
      "DP\n",
      "DP\n",
      "DP\n"
     ]
    },
    {
     "name": "stderr",
     "output_type": "stream",
     "text": [
      "\r",
      " 39%|███████████████▉                         | 103/264 [01:10<00:43,  3.70it/s]"
     ]
    },
    {
     "name": "stdout",
     "output_type": "stream",
     "text": [
      "DP\n",
      "DP\n",
      "-----------------------42.57803\n",
      "=======>400 400\n",
      "DP\n",
      "DP\n",
      "DP\n"
     ]
    },
    {
     "name": "stderr",
     "output_type": "stream",
     "text": [
      "\r",
      " 39%|████████████████▏                        | 104/264 [01:10<00:43,  3.68it/s]"
     ]
    },
    {
     "name": "stdout",
     "output_type": "stream",
     "text": [
      "DP\n",
      "DP\n",
      "-----------------------53.983814\n",
      "=======>400 500\n",
      "DP\n",
      "DP\n"
     ]
    },
    {
     "name": "stderr",
     "output_type": "stream",
     "text": [
      "\r",
      " 40%|████████████████▎                        | 105/264 [01:11<00:45,  3.48it/s]"
     ]
    },
    {
     "name": "stdout",
     "output_type": "stream",
     "text": [
      "DP\n",
      "DP\n",
      "DP\n",
      "-----------------------63.767217\n",
      "=======>400 600\n",
      "DP\n",
      "DP\n",
      "DP\n",
      "DP\n"
     ]
    },
    {
     "name": "stderr",
     "output_type": "stream",
     "text": [
      "\r",
      " 40%|████████████████▍                        | 106/264 [01:11<00:50,  3.15it/s]"
     ]
    },
    {
     "name": "stdout",
     "output_type": "stream",
     "text": [
      "DP\n",
      "-----------------------75.584096\n",
      "=======>400 700\n",
      "DP\n",
      "DP\n",
      "DP\n",
      "DP\n",
      "DP\n"
     ]
    },
    {
     "name": "stderr",
     "output_type": "stream",
     "text": [
      "\r",
      " 41%|████████████████▌                        | 107/264 [01:12<00:56,  2.79it/s]"
     ]
    },
    {
     "name": "stdout",
     "output_type": "stream",
     "text": [
      "-----------------------92.7773\n",
      "=======>400 800\n",
      "DP\n",
      "DP\n",
      "DP\n",
      "DP\n"
     ]
    },
    {
     "name": "stderr",
     "output_type": "stream",
     "text": [
      "\r",
      " 41%|████████████████▊                        | 108/264 [01:12<01:02,  2.48it/s]"
     ]
    },
    {
     "name": "stdout",
     "output_type": "stream",
     "text": [
      "DP\n",
      "-----------------------102.137589\n",
      "=======>400 900\n",
      "DP\n",
      "DP\n",
      "DP\n",
      "DP\n",
      "DP\n"
     ]
    },
    {
     "name": "stderr",
     "output_type": "stream",
     "text": [
      "\r",
      " 41%|████████████████▉                        | 109/264 [01:13<01:10,  2.20it/s]"
     ]
    },
    {
     "name": "stdout",
     "output_type": "stream",
     "text": [
      "-----------------------114.294781\n",
      "=======>400 1000\n",
      "DP\n",
      "DP\n",
      "DP\n",
      "DP\n"
     ]
    },
    {
     "name": "stderr",
     "output_type": "stream",
     "text": [
      "\r",
      " 42%|█████████████████                        | 110/264 [01:13<01:18,  1.96it/s]"
     ]
    },
    {
     "name": "stdout",
     "output_type": "stream",
     "text": [
      "DP\n",
      "-----------------------126.379227\n",
      "=======>400 1100\n",
      "DP\n",
      "DP\n",
      "DP\n",
      "DP\n",
      "DP\n"
     ]
    },
    {
     "name": "stderr",
     "output_type": "stream",
     "text": [
      "\r",
      " 42%|█████████████████▏                       | 111/264 [01:14<01:25,  1.78it/s]"
     ]
    },
    {
     "name": "stdout",
     "output_type": "stream",
     "text": [
      "-----------------------134.985359\n",
      "=======>400 1200\n",
      "DP\n",
      "DP\n",
      "DP\n",
      "DP\n"
     ]
    },
    {
     "name": "stderr",
     "output_type": "stream",
     "text": [
      "\r",
      " 42%|█████████████████▍                       | 112/264 [01:15<01:33,  1.62it/s]"
     ]
    },
    {
     "name": "stdout",
     "output_type": "stream",
     "text": [
      "DP\n",
      "-----------------------149.185656\n",
      "=======>400 1300\n",
      "DP\n",
      "DP\n",
      "DP\n",
      "DP\n",
      "DP\n"
     ]
    },
    {
     "name": "stderr",
     "output_type": "stream",
     "text": [
      "\r",
      " 43%|█████████████████▌                       | 113/264 [01:16<01:42,  1.47it/s]"
     ]
    },
    {
     "name": "stdout",
     "output_type": "stream",
     "text": [
      "-----------------------166.411867\n",
      "=======>400 1400\n",
      "DP\n",
      "DP\n",
      "DP\n",
      "DP\n"
     ]
    },
    {
     "name": "stderr",
     "output_type": "stream",
     "text": [
      "\r",
      " 43%|█████████████████▋                       | 114/264 [01:16<01:50,  1.35it/s]"
     ]
    },
    {
     "name": "stdout",
     "output_type": "stream",
     "text": [
      "DP\n",
      "-----------------------175.113915\n",
      "=======>500 0\n",
      "DP\n",
      "DP\n",
      "DP\n",
      "DP\n"
     ]
    },
    {
     "name": "stderr",
     "output_type": "stream",
     "text": [
      "\r",
      " 44%|██████████████████                       | 116/264 [01:17<01:04,  2.30it/s]"
     ]
    },
    {
     "name": "stdout",
     "output_type": "stream",
     "text": [
      "DP\n",
      "-----------------------7.416469\n",
      "=======>500 100\n",
      "DP\n",
      "DP\n",
      "DP\n",
      "DP\n",
      "DP\n",
      "-----------------------22.768803\n",
      "=======>500 200\n",
      "DP\n",
      "DP\n"
     ]
    },
    {
     "name": "stderr",
     "output_type": "stream",
     "text": [
      "\r",
      " 44%|██████████████████▏                      | 117/264 [01:17<00:54,  2.68it/s]"
     ]
    },
    {
     "name": "stdout",
     "output_type": "stream",
     "text": [
      "DP\n",
      "DP\n",
      "DP\n",
      "-----------------------35.967699\n",
      "=======>500 300\n",
      "DP\n",
      "DP\n"
     ]
    },
    {
     "name": "stderr",
     "output_type": "stream",
     "text": [
      "\r",
      " 45%|██████████████████▎                      | 118/264 [01:17<00:50,  2.91it/s]"
     ]
    },
    {
     "name": "stdout",
     "output_type": "stream",
     "text": [
      "DP\n",
      "DP\n",
      "DP\n",
      "-----------------------51.68214\n",
      "=======>500 400\n",
      "DP\n",
      "DP\n",
      "DP\n",
      "DP\n",
      "DP\n"
     ]
    },
    {
     "name": "stderr",
     "output_type": "stream",
     "text": [
      "\r",
      " 45%|██████████████████▍                      | 119/264 [01:17<00:49,  2.92it/s]"
     ]
    },
    {
     "name": "stdout",
     "output_type": "stream",
     "text": [
      "-----------------------68.364501\n",
      "=======>500 500\n",
      "DP\n",
      "DP\n",
      "DP\n"
     ]
    },
    {
     "name": "stderr",
     "output_type": "stream",
     "text": [
      "\r",
      " 45%|██████████████████▋                      | 120/264 [01:18<00:51,  2.78it/s]"
     ]
    },
    {
     "name": "stdout",
     "output_type": "stream",
     "text": [
      "DP\n",
      "DP\n",
      "-----------------------79.540149\n",
      "=======>500 600\n",
      "DP\n",
      "DP\n",
      "DP\n",
      "DP\n"
     ]
    },
    {
     "name": "stderr",
     "output_type": "stream",
     "text": [
      "\r",
      " 46%|██████████████████▊                      | 121/264 [01:18<00:56,  2.54it/s]"
     ]
    },
    {
     "name": "stdout",
     "output_type": "stream",
     "text": [
      "DP\n",
      "-----------------------93.395534\n",
      "=======>500 700\n",
      "DP\n",
      "DP\n",
      "DP\n",
      "DP\n",
      "DP\n"
     ]
    },
    {
     "name": "stderr",
     "output_type": "stream",
     "text": [
      "\r",
      " 46%|██████████████████▉                      | 122/264 [01:19<01:02,  2.27it/s]"
     ]
    },
    {
     "name": "stdout",
     "output_type": "stream",
     "text": [
      "-----------------------111.179318\n",
      "=======>500 800\n",
      "DP\n",
      "DP\n",
      "DP\n",
      "DP\n"
     ]
    },
    {
     "name": "stderr",
     "output_type": "stream",
     "text": [
      "\r",
      " 47%|███████████████████                      | 123/264 [01:19<01:10,  2.01it/s]"
     ]
    },
    {
     "name": "stdout",
     "output_type": "stream",
     "text": [
      "DP\n",
      "-----------------------124.33622\n",
      "=======>500 900\n",
      "DP\n",
      "DP\n",
      "DP\n",
      "DP\n",
      "DP\n"
     ]
    },
    {
     "name": "stderr",
     "output_type": "stream",
     "text": [
      "\r",
      " 47%|███████████████████▎                     | 124/264 [01:20<01:17,  1.80it/s]"
     ]
    },
    {
     "name": "stdout",
     "output_type": "stream",
     "text": [
      "-----------------------138.895999\n",
      "=======>500 1000\n",
      "DP\n",
      "DP\n",
      "DP\n",
      "DP\n"
     ]
    },
    {
     "name": "stderr",
     "output_type": "stream",
     "text": [
      "\r",
      " 47%|███████████████████▍                     | 125/264 [01:21<01:26,  1.61it/s]"
     ]
    },
    {
     "name": "stdout",
     "output_type": "stream",
     "text": [
      "DP\n",
      "-----------------------156.409955\n",
      "=======>500 1100\n",
      "DP\n",
      "DP\n",
      "DP\n",
      "DP\n",
      "DP\n"
     ]
    },
    {
     "name": "stderr",
     "output_type": "stream",
     "text": [
      "\r",
      " 48%|███████████████████▌                     | 126/264 [01:22<01:35,  1.45it/s]"
     ]
    },
    {
     "name": "stdout",
     "output_type": "stream",
     "text": [
      "-----------------------167.92308\n",
      "=======>500 1200\n",
      "DP\n",
      "DP\n",
      "DP\n",
      "DP\n"
     ]
    },
    {
     "name": "stderr",
     "output_type": "stream",
     "text": [
      "\r",
      " 48%|███████████████████▋                     | 127/264 [01:23<01:43,  1.32it/s]"
     ]
    },
    {
     "name": "stdout",
     "output_type": "stream",
     "text": [
      "DP\n",
      "-----------------------184.121025\n",
      "=======>500 1300\n",
      "DP\n",
      "DP\n",
      "DP\n",
      "DP\n",
      "DP\n"
     ]
    },
    {
     "name": "stderr",
     "output_type": "stream",
     "text": [
      "\r",
      " 48%|███████████████████▉                     | 128/264 [01:24<01:52,  1.21it/s]"
     ]
    },
    {
     "name": "stdout",
     "output_type": "stream",
     "text": [
      "-----------------------199.662863\n",
      "=======>500 1400\n",
      "DP\n",
      "DP\n",
      "DP\n",
      "DP\n",
      "DP\n"
     ]
    },
    {
     "name": "stderr",
     "output_type": "stream",
     "text": [
      " 50%|████████████████████▎                    | 131/264 [01:25<01:09,  1.90it/s]"
     ]
    },
    {
     "name": "stdout",
     "output_type": "stream",
     "text": [
      "-----------------------217.054875\n",
      "=======>600 0\n",
      "DP\n",
      "DP\n",
      "DP\n",
      "DP\n",
      "DP\n",
      "-----------------------8.004206\n",
      "=======>600 100\n",
      "DP\n",
      "DP\n",
      "DP\n",
      "DP\n",
      "DP\n",
      "-----------------------22.355813\n",
      "=======>600 200\n",
      "DP\n"
     ]
    },
    {
     "name": "stderr",
     "output_type": "stream",
     "text": [
      "\r",
      " 50%|████████████████████▌                    | 132/264 [01:25<00:59,  2.23it/s]"
     ]
    },
    {
     "name": "stdout",
     "output_type": "stream",
     "text": [
      "DP\n",
      "DP\n",
      "DP\n",
      "DP\n",
      "-----------------------40.407659\n",
      "=======>600 300\n",
      "DP\n",
      "DP\n",
      "DP\n",
      "DP\n",
      "DP\n"
     ]
    },
    {
     "name": "stderr",
     "output_type": "stream",
     "text": [
      "\r",
      " 50%|████████████████████▋                    | 133/264 [01:25<00:53,  2.43it/s]"
     ]
    },
    {
     "name": "stdout",
     "output_type": "stream",
     "text": [
      "-----------------------59.951759\n",
      "=======>600 400\n",
      "DP\n",
      "DP\n",
      "DP\n"
     ]
    },
    {
     "name": "stderr",
     "output_type": "stream",
     "text": [
      "\r",
      " 51%|████████████████████▊                    | 134/264 [01:26<00:52,  2.47it/s]"
     ]
    },
    {
     "name": "stdout",
     "output_type": "stream",
     "text": [
      "DP\n",
      "DP\n",
      "-----------------------75.466428\n",
      "=======>600 500\n",
      "DP\n",
      "DP\n",
      "DP\n",
      "DP\n"
     ]
    },
    {
     "name": "stderr",
     "output_type": "stream",
     "text": [
      "\r",
      " 51%|████████████████████▉                    | 135/264 [01:26<00:54,  2.37it/s]"
     ]
    },
    {
     "name": "stdout",
     "output_type": "stream",
     "text": [
      "DP\n",
      "-----------------------91.965538\n",
      "=======>600 600\n",
      "DP\n",
      "DP\n",
      "DP\n",
      "DP\n",
      "DP\n"
     ]
    },
    {
     "name": "stderr",
     "output_type": "stream",
     "text": [
      "\r",
      " 52%|█████████████████████                    | 136/264 [01:27<00:59,  2.16it/s]"
     ]
    },
    {
     "name": "stdout",
     "output_type": "stream",
     "text": [
      "-----------------------112.248167\n",
      "=======>600 700\n",
      "DP\n",
      "DP\n",
      "DP\n",
      "DP\n"
     ]
    },
    {
     "name": "stderr",
     "output_type": "stream",
     "text": [
      "\r",
      " 52%|█████████████████████▎                   | 137/264 [01:28<01:05,  1.93it/s]"
     ]
    },
    {
     "name": "stdout",
     "output_type": "stream",
     "text": [
      "DP\n",
      "-----------------------130.103265\n",
      "=======>600 800\n",
      "DP\n",
      "DP\n",
      "DP\n",
      "DP\n",
      "DP\n"
     ]
    },
    {
     "name": "stderr",
     "output_type": "stream",
     "text": [
      "\r",
      " 52%|█████████████████████▍                   | 138/264 [01:28<01:13,  1.71it/s]"
     ]
    },
    {
     "name": "stdout",
     "output_type": "stream",
     "text": [
      "-----------------------149.83753\n",
      "=======>600 900\n",
      "DP\n",
      "DP\n",
      "DP\n",
      "DP\n"
     ]
    },
    {
     "name": "stderr",
     "output_type": "stream",
     "text": [
      "\r",
      " 53%|█████████████████████▌                   | 139/264 [01:29<01:22,  1.52it/s]"
     ]
    },
    {
     "name": "stdout",
     "output_type": "stream",
     "text": [
      "DP\n",
      "-----------------------167.299722\n",
      "=======>600 1000\n",
      "DP\n",
      "DP\n",
      "DP\n",
      "DP\n",
      "DP\n"
     ]
    },
    {
     "name": "stderr",
     "output_type": "stream",
     "text": [
      "\r",
      " 53%|█████████████████████▋                   | 140/264 [01:30<01:31,  1.35it/s]"
     ]
    },
    {
     "name": "stdout",
     "output_type": "stream",
     "text": [
      "-----------------------185.610807\n",
      "=======>600 1100\n",
      "DP\n",
      "DP\n",
      "DP\n",
      "DP\n",
      "DP\n"
     ]
    },
    {
     "name": "stderr",
     "output_type": "stream",
     "text": [
      "\r",
      " 53%|█████████████████████▉                   | 141/264 [01:31<01:40,  1.22it/s]"
     ]
    },
    {
     "name": "stdout",
     "output_type": "stream",
     "text": [
      "-----------------------200.267661\n",
      "=======>600 1200\n",
      "DP\n",
      "DP\n",
      "DP\n",
      "DP\n",
      "DP\n"
     ]
    },
    {
     "name": "stderr",
     "output_type": "stream",
     "text": [
      "\r",
      " 54%|██████████████████████                   | 142/264 [01:32<01:50,  1.10it/s]"
     ]
    },
    {
     "name": "stdout",
     "output_type": "stream",
     "text": [
      "-----------------------222.056622\n",
      "=======>600 1300\n",
      "DP\n",
      "DP\n",
      "DP\n",
      "DP\n",
      "DP\n"
     ]
    },
    {
     "name": "stderr",
     "output_type": "stream",
     "text": [
      "\r",
      " 54%|██████████████████████▏                  | 143/264 [01:33<02:00,  1.01it/s]"
     ]
    },
    {
     "name": "stdout",
     "output_type": "stream",
     "text": [
      "-----------------------239.116922\n",
      "=======>600 1400\n",
      "DP\n",
      "DP\n",
      "DP\n",
      "DP\n",
      "DP\n"
     ]
    },
    {
     "name": "stderr",
     "output_type": "stream",
     "text": [
      " 55%|██████████████████████▋                  | 146/264 [01:35<01:13,  1.61it/s]"
     ]
    },
    {
     "name": "stdout",
     "output_type": "stream",
     "text": [
      "-----------------------255.24617\n",
      "=======>700 0\n",
      "DP\n",
      "DP\n",
      "DP\n",
      "DP\n",
      "DP\n",
      "-----------------------5.870686\n",
      "=======>700 100\n",
      "DP\n",
      "DP\n",
      "DP\n",
      "DP\n",
      "DP\n",
      "-----------------------25.79834\n",
      "=======>700 200\n",
      "DP\n"
     ]
    },
    {
     "name": "stderr",
     "output_type": "stream",
     "text": [
      "\r",
      " 56%|██████████████████████▊                  | 147/264 [01:35<01:01,  1.89it/s]"
     ]
    },
    {
     "name": "stdout",
     "output_type": "stream",
     "text": [
      "DP\n",
      "DP\n",
      "DP\n",
      "DP\n",
      "-----------------------47.547154\n",
      "=======>700 300\n",
      "DP\n",
      "DP\n",
      "DP\n",
      "DP\n",
      "DP\n"
     ]
    },
    {
     "name": "stderr",
     "output_type": "stream",
     "text": [
      "\r",
      " 56%|██████████████████████▉                  | 148/264 [01:35<00:55,  2.08it/s]"
     ]
    },
    {
     "name": "stdout",
     "output_type": "stream",
     "text": [
      "-----------------------67.479941\n",
      "=======>700 400\n",
      "DP\n",
      "DP\n",
      "DP\n"
     ]
    },
    {
     "name": "stderr",
     "output_type": "stream",
     "text": [
      "\r",
      " 56%|███████████████████████▏                 | 149/264 [01:36<00:54,  2.13it/s]"
     ]
    },
    {
     "name": "stdout",
     "output_type": "stream",
     "text": [
      "DP\n",
      "DP\n",
      "-----------------------86.746021\n",
      "=======>700 500\n",
      "DP\n",
      "DP\n",
      "DP\n",
      "DP\n",
      "DP\n"
     ]
    },
    {
     "name": "stderr",
     "output_type": "stream",
     "text": [
      "\r",
      " 57%|███████████████████████▎                 | 150/264 [01:36<00:56,  2.03it/s]"
     ]
    },
    {
     "name": "stdout",
     "output_type": "stream",
     "text": [
      "-----------------------107.283378\n",
      "=======>700 600\n",
      "DP\n",
      "DP\n",
      "DP\n",
      "DP\n"
     ]
    },
    {
     "name": "stderr",
     "output_type": "stream",
     "text": [
      "\r",
      " 57%|███████████████████████▍                 | 151/264 [01:37<01:00,  1.87it/s]"
     ]
    },
    {
     "name": "stdout",
     "output_type": "stream",
     "text": [
      "DP\n",
      "-----------------------127.480885\n",
      "=======>700 700\n",
      "DP\n",
      "DP\n",
      "DP\n",
      "DP\n",
      "DP\n"
     ]
    },
    {
     "name": "stderr",
     "output_type": "stream",
     "text": [
      "\r",
      " 58%|███████████████████████▌                 | 152/264 [01:38<01:07,  1.67it/s]"
     ]
    },
    {
     "name": "stdout",
     "output_type": "stream",
     "text": [
      "-----------------------149.679146\n",
      "=======>700 800\n",
      "DP\n",
      "DP\n",
      "DP\n",
      "DP\n"
     ]
    },
    {
     "name": "stderr",
     "output_type": "stream",
     "text": [
      "\r",
      " 58%|███████████████████████▊                 | 153/264 [01:39<01:14,  1.49it/s]"
     ]
    },
    {
     "name": "stdout",
     "output_type": "stream",
     "text": [
      "DP\n",
      "-----------------------169.195891\n",
      "=======>700 900\n",
      "DP\n",
      "DP\n",
      "DP\n",
      "DP\n",
      "DP\n"
     ]
    },
    {
     "name": "stderr",
     "output_type": "stream",
     "text": [
      "\r",
      " 58%|███████████████████████▉                 | 154/264 [01:40<01:23,  1.32it/s]"
     ]
    },
    {
     "name": "stdout",
     "output_type": "stream",
     "text": [
      "-----------------------194.721565\n",
      "=======>700 1000\n",
      "DP\n",
      "DP\n",
      "DP\n",
      "DP\n",
      "DP\n"
     ]
    },
    {
     "name": "stderr",
     "output_type": "stream",
     "text": [
      "\r",
      " 59%|████████████████████████                 | 155/264 [01:41<01:33,  1.17it/s]"
     ]
    },
    {
     "name": "stdout",
     "output_type": "stream",
     "text": [
      "-----------------------216.253634\n",
      "=======>700 1100\n",
      "DP\n",
      "DP\n",
      "DP\n",
      "DP\n",
      "DP\n"
     ]
    },
    {
     "name": "stderr",
     "output_type": "stream",
     "text": [
      "\r",
      " 59%|████████████████████████▏                | 156/264 [01:42<01:42,  1.05it/s]"
     ]
    },
    {
     "name": "stdout",
     "output_type": "stream",
     "text": [
      "-----------------------234.701622\n",
      "=======>700 1200\n",
      "DP\n",
      "DP\n",
      "DP\n",
      "DP\n",
      "DP\n"
     ]
    },
    {
     "name": "stderr",
     "output_type": "stream",
     "text": [
      "\r",
      " 59%|████████████████████████▍                | 157/264 [01:43<01:52,  1.05s/it]"
     ]
    },
    {
     "name": "stdout",
     "output_type": "stream",
     "text": [
      "-----------------------255.517099\n",
      "=======>700 1300\n",
      "DP\n",
      "DP\n",
      "DP\n",
      "DP\n",
      "DP\n"
     ]
    },
    {
     "name": "stderr",
     "output_type": "stream",
     "text": [
      "\r",
      " 60%|████████████████████████▌                | 158/264 [01:45<02:02,  1.15s/it]"
     ]
    },
    {
     "name": "stdout",
     "output_type": "stream",
     "text": [
      "-----------------------275.268274\n",
      "=======>700 1400\n",
      "DP\n",
      "DP\n",
      "DP\n",
      "DP\n",
      "DP\n"
     ]
    },
    {
     "name": "stderr",
     "output_type": "stream",
     "text": [
      " 61%|█████████████████████████                | 161/264 [01:46<01:14,  1.39it/s]"
     ]
    },
    {
     "name": "stdout",
     "output_type": "stream",
     "text": [
      "-----------------------296.92122\n",
      "=======>800 0\n",
      "DP\n",
      "DP\n",
      "DP\n",
      "DP\n",
      "DP\n",
      "-----------------------7.433103\n",
      "=======>800 100\n",
      "DP\n",
      "DP\n",
      "DP\n",
      "DP\n",
      "DP\n",
      "-----------------------28.014921\n",
      "=======>800 200\n",
      "DP\n",
      "DP\n",
      "DP\n",
      "DP\n",
      "DP\n"
     ]
    },
    {
     "name": "stderr",
     "output_type": "stream",
     "text": [
      "\r",
      " 61%|█████████████████████████▏               | 162/264 [01:46<01:02,  1.64it/s]"
     ]
    },
    {
     "name": "stdout",
     "output_type": "stream",
     "text": [
      "-----------------------54.008053\n",
      "=======>800 300\n",
      "DP\n",
      "DP\n",
      "DP\n"
     ]
    },
    {
     "name": "stderr",
     "output_type": "stream",
     "text": [
      "\r",
      " 62%|█████████████████████████▎               | 163/264 [01:47<00:55,  1.81it/s]"
     ]
    },
    {
     "name": "stdout",
     "output_type": "stream",
     "text": [
      "DP\n",
      "DP\n",
      "-----------------------76.298352\n",
      "=======>800 400\n",
      "DP\n",
      "DP\n",
      "DP\n",
      "DP\n"
     ]
    },
    {
     "name": "stderr",
     "output_type": "stream",
     "text": [
      "\r",
      " 62%|█████████████████████████▍               | 164/264 [01:47<00:53,  1.85it/s]"
     ]
    },
    {
     "name": "stdout",
     "output_type": "stream",
     "text": [
      "DP\n",
      "-----------------------99.437103\n",
      "=======>800 500\n",
      "DP\n",
      "DP\n",
      "DP\n",
      "DP\n",
      "DP\n"
     ]
    },
    {
     "name": "stderr",
     "output_type": "stream",
     "text": [
      "\r",
      " 62%|█████████████████████████▋               | 165/264 [01:48<00:55,  1.78it/s]"
     ]
    },
    {
     "name": "stdout",
     "output_type": "stream",
     "text": [
      "-----------------------123.118868\n",
      "=======>800 600\n",
      "DP\n",
      "DP\n",
      "DP\n",
      "DP\n"
     ]
    },
    {
     "name": "stderr",
     "output_type": "stream",
     "text": [
      "\r",
      " 63%|█████████████████████████▊               | 166/264 [01:49<00:59,  1.64it/s]"
     ]
    },
    {
     "name": "stdout",
     "output_type": "stream",
     "text": [
      "DP\n",
      "-----------------------148.582559\n",
      "=======>800 700\n",
      "DP\n",
      "DP\n",
      "DP\n",
      "DP\n",
      "DP\n"
     ]
    },
    {
     "name": "stderr",
     "output_type": "stream",
     "text": [
      "\r",
      " 63%|█████████████████████████▉               | 167/264 [01:50<01:08,  1.42it/s]"
     ]
    },
    {
     "name": "stdout",
     "output_type": "stream",
     "text": [
      "-----------------------177.237657\n",
      "=======>800 800\n",
      "DP\n",
      "DP\n",
      "DP\n",
      "DP\n"
     ]
    },
    {
     "name": "stderr",
     "output_type": "stream",
     "text": [
      "\r",
      " 64%|██████████████████████████               | 168/264 [01:51<01:14,  1.28it/s]"
     ]
    },
    {
     "name": "stdout",
     "output_type": "stream",
     "text": [
      "DP\n",
      "-----------------------192.908725\n",
      "=======>800 900\n",
      "DP\n",
      "DP\n",
      "DP\n",
      "DP\n",
      "DP\n"
     ]
    },
    {
     "name": "stderr",
     "output_type": "stream",
     "text": [
      "\r",
      " 64%|██████████████████████████▏              | 169/264 [01:52<01:24,  1.13it/s]"
     ]
    },
    {
     "name": "stdout",
     "output_type": "stream",
     "text": [
      "-----------------------225.402257\n",
      "=======>800 1000\n",
      "DP\n",
      "DP\n",
      "DP\n",
      "DP\n",
      "DP\n"
     ]
    },
    {
     "name": "stderr",
     "output_type": "stream",
     "text": [
      "\r",
      " 64%|██████████████████████████▍              | 170/264 [01:53<01:32,  1.01it/s]"
     ]
    },
    {
     "name": "stdout",
     "output_type": "stream",
     "text": [
      "-----------------------241.704442\n",
      "=======>800 1100\n",
      "DP\n",
      "DP\n",
      "DP\n",
      "DP\n",
      "DP\n"
     ]
    },
    {
     "name": "stderr",
     "output_type": "stream",
     "text": [
      "\r",
      " 65%|██████████████████████████▌              | 171/264 [01:54<01:41,  1.09s/it]"
     ]
    },
    {
     "name": "stdout",
     "output_type": "stream",
     "text": [
      "-----------------------263.602777\n",
      "=======>800 1200\n",
      "DP\n",
      "DP\n",
      "DP\n",
      "DP\n",
      "DP\n"
     ]
    },
    {
     "name": "stderr",
     "output_type": "stream",
     "text": [
      "\r",
      " 65%|██████████████████████████▋              | 172/264 [01:56<01:50,  1.20s/it]"
     ]
    },
    {
     "name": "stdout",
     "output_type": "stream",
     "text": [
      "-----------------------290.931531\n",
      "=======>800 1300\n",
      "DP\n",
      "DP\n",
      "DP\n",
      "DP\n",
      "DP\n"
     ]
    },
    {
     "name": "stderr",
     "output_type": "stream",
     "text": [
      "\r",
      " 66%|██████████████████████████▊              | 173/264 [01:57<01:59,  1.31s/it]"
     ]
    },
    {
     "name": "stdout",
     "output_type": "stream",
     "text": [
      "-----------------------313.994739\n",
      "=======>800 1400\n",
      "DP\n",
      "DP\n",
      "DP\n",
      "DP\n",
      "DP\n"
     ]
    },
    {
     "name": "stderr",
     "output_type": "stream",
     "text": [
      "\r",
      " 66%|███████████████████████████              | 174/264 [01:59<02:08,  1.43s/it]"
     ]
    },
    {
     "name": "stdout",
     "output_type": "stream",
     "text": [
      "-----------------------338.6912\n",
      "=======>900 0\n",
      "DP\n",
      "DP\n",
      "DP\n",
      "DP\n",
      "DP\n",
      "-----------------------7.076381\n",
      "=======>900 100\n",
      "DP\n",
      "DP\n",
      "DP\n",
      "DP\n",
      "DP\n"
     ]
    },
    {
     "name": "stderr",
     "output_type": "stream",
     "text": [
      "\r",
      " 67%|███████████████████████████▎             | 176/264 [01:59<01:11,  1.23it/s]"
     ]
    },
    {
     "name": "stdout",
     "output_type": "stream",
     "text": [
      "-----------------------31.028789\n",
      "=======>900 200\n",
      "DP\n",
      "DP\n",
      "DP\n",
      "DP\n"
     ]
    },
    {
     "name": "stderr",
     "output_type": "stream",
     "text": [
      "\r",
      " 67%|███████████████████████████▍             | 177/264 [02:00<01:00,  1.45it/s]"
     ]
    },
    {
     "name": "stdout",
     "output_type": "stream",
     "text": [
      "DP\n",
      "-----------------------59.915913\n",
      "=======>900 300\n",
      "DP\n",
      "DP\n",
      "DP\n",
      "DP\n",
      "DP\n"
     ]
    },
    {
     "name": "stderr",
     "output_type": "stream",
     "text": [
      "\r",
      " 67%|███████████████████████████▋             | 178/264 [02:00<00:53,  1.60it/s]"
     ]
    },
    {
     "name": "stdout",
     "output_type": "stream",
     "text": [
      "-----------------------86.413208\n",
      "=======>900 400\n",
      "DP\n",
      "DP\n",
      "DP\n",
      "DP\n"
     ]
    },
    {
     "name": "stderr",
     "output_type": "stream",
     "text": [
      "\r",
      " 68%|███████████████████████████▊             | 179/264 [02:01<00:51,  1.65it/s]"
     ]
    },
    {
     "name": "stdout",
     "output_type": "stream",
     "text": [
      "DP\n",
      "-----------------------109.470378\n",
      "=======>900 500\n",
      "DP\n",
      "DP\n",
      "DP\n",
      "DP\n",
      "DP\n"
     ]
    },
    {
     "name": "stderr",
     "output_type": "stream",
     "text": [
      "\r",
      " 68%|███████████████████████████▉             | 180/264 [02:01<00:52,  1.59it/s]"
     ]
    },
    {
     "name": "stdout",
     "output_type": "stream",
     "text": [
      "-----------------------137.870097\n",
      "=======>900 600\n",
      "DP\n",
      "DP\n",
      "DP\n",
      "DP\n"
     ]
    },
    {
     "name": "stderr",
     "output_type": "stream",
     "text": [
      "\r",
      " 69%|████████████████████████████             | 181/264 [02:02<00:56,  1.46it/s]"
     ]
    },
    {
     "name": "stdout",
     "output_type": "stream",
     "text": [
      "DP\n",
      "-----------------------164.721406\n",
      "=======>900 700\n",
      "DP\n",
      "DP\n",
      "DP\n",
      "DP\n",
      "DP\n"
     ]
    },
    {
     "name": "stderr",
     "output_type": "stream",
     "text": [
      "\r",
      " 69%|████████████████████████████▎            | 182/264 [02:03<01:02,  1.30it/s]"
     ]
    },
    {
     "name": "stdout",
     "output_type": "stream",
     "text": [
      "-----------------------193.704346\n",
      "=======>900 800\n",
      "DP\n",
      "DP\n",
      "DP\n",
      "DP\n",
      "DP\n"
     ]
    },
    {
     "name": "stderr",
     "output_type": "stream",
     "text": [
      "\r",
      " 69%|████████████████████████████▍            | 183/264 [02:04<01:09,  1.16it/s]"
     ]
    },
    {
     "name": "stdout",
     "output_type": "stream",
     "text": [
      "-----------------------218.21075\n",
      "=======>900 900\n",
      "DP\n",
      "DP\n",
      "DP\n",
      "DP\n",
      "DP\n"
     ]
    },
    {
     "name": "stderr",
     "output_type": "stream",
     "text": [
      "\r",
      " 70%|████████████████████████████▌            | 184/264 [02:05<01:17,  1.03it/s]"
     ]
    },
    {
     "name": "stdout",
     "output_type": "stream",
     "text": [
      "-----------------------243.182334\n",
      "=======>900 1000\n",
      "DP\n",
      "DP\n",
      "DP\n",
      "DP\n",
      "DP\n"
     ]
    },
    {
     "name": "stderr",
     "output_type": "stream",
     "text": [
      "\r",
      " 70%|████████████████████████████▋            | 185/264 [02:07<01:25,  1.09s/it]"
     ]
    },
    {
     "name": "stdout",
     "output_type": "stream",
     "text": [
      "-----------------------270.465678\n",
      "=======>900 1100\n",
      "DP\n",
      "DP\n",
      "DP\n",
      "DP\n",
      "DP\n"
     ]
    },
    {
     "name": "stderr",
     "output_type": "stream",
     "text": [
      "\r",
      " 70%|████████████████████████████▉            | 186/264 [02:08<01:33,  1.20s/it]"
     ]
    },
    {
     "name": "stdout",
     "output_type": "stream",
     "text": [
      "-----------------------294.293748\n",
      "=======>900 1200\n",
      "DP\n",
      "DP\n",
      "DP\n",
      "DP\n",
      "DP\n"
     ]
    },
    {
     "name": "stderr",
     "output_type": "stream",
     "text": [
      "\r",
      " 71%|█████████████████████████████            | 187/264 [02:10<01:42,  1.33s/it]"
     ]
    },
    {
     "name": "stdout",
     "output_type": "stream",
     "text": [
      "-----------------------325.754171\n",
      "=======>900 1300\n",
      "DP\n",
      "DP\n",
      "DP\n",
      "DP\n",
      "DP\n"
     ]
    },
    {
     "name": "stderr",
     "output_type": "stream",
     "text": [
      "\r",
      " 71%|█████████████████████████████▏           | 188/264 [02:12<01:50,  1.46s/it]"
     ]
    },
    {
     "name": "stdout",
     "output_type": "stream",
     "text": [
      "-----------------------349.171106\n",
      "=======>900 1400\n",
      "DP\n",
      "DP\n",
      "DP\n",
      "DP\n",
      "DP\n"
     ]
    },
    {
     "name": "stderr",
     "output_type": "stream",
     "text": [
      "\r",
      " 72%|█████████████████████████████▎           | 189/264 [02:13<01:58,  1.58s/it]"
     ]
    },
    {
     "name": "stdout",
     "output_type": "stream",
     "text": [
      "-----------------------373.169728\n",
      "=======>1000 0\n",
      "DP\n",
      "DP\n",
      "DP\n",
      "DP\n",
      "DP\n",
      "-----------------------7.0517\n",
      "=======>1000 100\n",
      "DP\n",
      "DP\n",
      "DP\n",
      "DP\n",
      "DP\n"
     ]
    },
    {
     "name": "stderr",
     "output_type": "stream",
     "text": [
      "\r",
      " 72%|█████████████████████████████▋           | 191/264 [02:14<01:05,  1.11it/s]"
     ]
    },
    {
     "name": "stdout",
     "output_type": "stream",
     "text": [
      "-----------------------34.626374\n",
      "=======>1000 200\n",
      "DP\n",
      "DP\n",
      "DP\n",
      "DP\n"
     ]
    },
    {
     "name": "stderr",
     "output_type": "stream",
     "text": [
      "\r",
      " 73%|█████████████████████████████▊           | 192/264 [02:14<00:54,  1.31it/s]"
     ]
    },
    {
     "name": "stdout",
     "output_type": "stream",
     "text": [
      "DP\n",
      "-----------------------64.882094\n",
      "=======>1000 300\n",
      "DP\n",
      "DP\n",
      "DP\n",
      "DP\n",
      "DP\n"
     ]
    },
    {
     "name": "stderr",
     "output_type": "stream",
     "text": [
      "\r",
      " 73%|█████████████████████████████▉           | 193/264 [02:14<00:48,  1.45it/s]"
     ]
    },
    {
     "name": "stdout",
     "output_type": "stream",
     "text": [
      "-----------------------95.406969\n",
      "=======>1000 400\n",
      "DP\n",
      "DP\n",
      "DP\n",
      "DP\n"
     ]
    },
    {
     "name": "stderr",
     "output_type": "stream",
     "text": [
      "\r",
      " 73%|██████████████████████████████▏          | 194/264 [02:15<00:46,  1.50it/s]"
     ]
    },
    {
     "name": "stdout",
     "output_type": "stream",
     "text": [
      "DP\n",
      "-----------------------122.888179\n",
      "=======>1000 500\n",
      "DP\n",
      "DP\n",
      "DP\n",
      "DP\n",
      "DP\n"
     ]
    },
    {
     "name": "stderr",
     "output_type": "stream",
     "text": [
      "\r",
      " 74%|██████████████████████████████▎          | 195/264 [02:16<00:48,  1.44it/s]"
     ]
    },
    {
     "name": "stdout",
     "output_type": "stream",
     "text": [
      "-----------------------151.236207\n",
      "=======>1000 600\n",
      "DP\n",
      "DP\n",
      "DP\n",
      "DP\n"
     ]
    },
    {
     "name": "stderr",
     "output_type": "stream",
     "text": [
      "\r",
      " 74%|██████████████████████████████▍          | 196/264 [02:17<00:51,  1.32it/s]"
     ]
    },
    {
     "name": "stdout",
     "output_type": "stream",
     "text": [
      "DP\n",
      "-----------------------180.621535\n",
      "=======>1000 700\n",
      "DP\n",
      "DP\n",
      "DP\n",
      "DP\n",
      "DP\n"
     ]
    },
    {
     "name": "stderr",
     "output_type": "stream",
     "text": [
      "\r",
      " 75%|██████████████████████████████▌          | 197/264 [02:18<00:56,  1.18it/s]"
     ]
    },
    {
     "name": "stdout",
     "output_type": "stream",
     "text": [
      "-----------------------212.900648\n",
      "=======>1000 800\n",
      "DP\n",
      "DP\n",
      "DP\n",
      "DP\n",
      "DP\n"
     ]
    },
    {
     "name": "stderr",
     "output_type": "stream",
     "text": [
      "\r",
      " 75%|██████████████████████████████▊          | 198/264 [02:19<01:03,  1.04it/s]"
     ]
    },
    {
     "name": "stdout",
     "output_type": "stream",
     "text": [
      "-----------------------238.624895\n",
      "=======>1000 900\n",
      "DP\n",
      "DP\n",
      "DP\n",
      "DP\n",
      "DP\n"
     ]
    },
    {
     "name": "stderr",
     "output_type": "stream",
     "text": [
      "\r",
      " 75%|██████████████████████████████▉          | 199/264 [02:20<01:10,  1.08s/it]"
     ]
    },
    {
     "name": "stdout",
     "output_type": "stream",
     "text": [
      "-----------------------270.76891\n",
      "=======>1000 1000\n",
      "DP\n",
      "DP\n",
      "DP\n",
      "DP\n",
      "DP\n"
     ]
    },
    {
     "name": "stderr",
     "output_type": "stream",
     "text": [
      "\r",
      " 76%|███████████████████████████████          | 200/264 [02:22<01:16,  1.20s/it]"
     ]
    },
    {
     "name": "stdout",
     "output_type": "stream",
     "text": [
      "-----------------------297.572038\n",
      "=======>1000 1100\n",
      "DP\n",
      "DP\n",
      "DP\n",
      "DP\n",
      "DP\n"
     ]
    },
    {
     "name": "stderr",
     "output_type": "stream",
     "text": [
      "\r",
      " 76%|███████████████████████████████▏         | 201/264 [02:24<01:24,  1.33s/it]"
     ]
    },
    {
     "name": "stdout",
     "output_type": "stream",
     "text": [
      "-----------------------328.565248\n",
      "=======>1000 1200\n",
      "DP\n",
      "DP\n",
      "DP\n",
      "DP\n",
      "DP\n"
     ]
    },
    {
     "name": "stderr",
     "output_type": "stream",
     "text": [
      "\r",
      " 77%|███████████████████████████████▎         | 202/264 [02:25<01:32,  1.49s/it]"
     ]
    },
    {
     "name": "stdout",
     "output_type": "stream",
     "text": [
      "-----------------------362.233014\n",
      "=======>1000 1300\n",
      "DP\n",
      "DP\n",
      "DP\n",
      "DP\n",
      "DP\n"
     ]
    },
    {
     "name": "stderr",
     "output_type": "stream",
     "text": [
      "\r",
      " 77%|███████████████████████████████▌         | 203/264 [02:27<01:39,  1.62s/it]"
     ]
    },
    {
     "name": "stdout",
     "output_type": "stream",
     "text": [
      "-----------------------386.14924\n",
      "=======>1000 1400\n",
      "DP\n",
      "DP\n",
      "DP\n",
      "DP\n",
      "DP\n"
     ]
    },
    {
     "name": "stderr",
     "output_type": "stream",
     "text": [
      "\r",
      " 77%|███████████████████████████████▋         | 204/264 [02:29<01:45,  1.76s/it]"
     ]
    },
    {
     "name": "stdout",
     "output_type": "stream",
     "text": [
      "-----------------------414.123945\n",
      "=======>1100 0\n",
      "DP\n",
      "DP\n",
      "DP\n",
      "DP\n",
      "DP\n",
      "-----------------------6.861222\n",
      "=======>1100 100\n",
      "DP\n",
      "DP\n",
      "DP\n",
      "DP\n",
      "DP\n"
     ]
    },
    {
     "name": "stderr",
     "output_type": "stream",
     "text": [
      "\r",
      " 78%|███████████████████████████████▉         | 206/264 [02:30<00:58,  1.00s/it]"
     ]
    },
    {
     "name": "stdout",
     "output_type": "stream",
     "text": [
      "-----------------------36.496724\n",
      "=======>1100 200\n",
      "DP\n",
      "DP\n",
      "DP\n"
     ]
    },
    {
     "name": "stderr",
     "output_type": "stream",
     "text": [
      "\r",
      " 78%|████████████████████████████████▏        | 207/264 [02:30<00:48,  1.19it/s]"
     ]
    },
    {
     "name": "stdout",
     "output_type": "stream",
     "text": [
      "DP\n",
      "DP\n",
      "-----------------------69.833481\n",
      "=======>1100 300\n",
      "DP\n",
      "DP\n",
      "DP\n",
      "DP\n"
     ]
    },
    {
     "name": "stderr",
     "output_type": "stream",
     "text": [
      "\r",
      " 79%|████████████████████████████████▎        | 208/264 [02:31<00:42,  1.32it/s]"
     ]
    },
    {
     "name": "stdout",
     "output_type": "stream",
     "text": [
      "DP\n",
      "-----------------------99.916976\n",
      "=======>1100 400\n",
      "DP\n",
      "DP\n",
      "DP\n",
      "DP\n",
      "DP\n"
     ]
    },
    {
     "name": "stderr",
     "output_type": "stream",
     "text": [
      "\r",
      " 79%|████████████████████████████████▍        | 209/264 [02:31<00:40,  1.36it/s]"
     ]
    },
    {
     "name": "stdout",
     "output_type": "stream",
     "text": [
      "-----------------------137.212762\n",
      "=======>1100 500\n",
      "DP\n",
      "DP\n",
      "DP\n",
      "DP\n"
     ]
    },
    {
     "name": "stderr",
     "output_type": "stream",
     "text": [
      "\r",
      " 80%|████████████████████████████████▌        | 210/264 [02:32<00:41,  1.31it/s]"
     ]
    },
    {
     "name": "stdout",
     "output_type": "stream",
     "text": [
      "DP\n",
      "-----------------------168.712786\n",
      "=======>1100 600\n",
      "DP\n",
      "DP\n",
      "DP\n",
      "DP\n",
      "DP\n"
     ]
    },
    {
     "name": "stderr",
     "output_type": "stream",
     "text": [
      "\r",
      " 80%|████████████████████████████████▊        | 211/264 [02:33<00:44,  1.20it/s]"
     ]
    },
    {
     "name": "stdout",
     "output_type": "stream",
     "text": [
      "-----------------------199.187904\n",
      "=======>1100 700\n",
      "DP\n",
      "DP\n",
      "DP\n",
      "DP\n",
      "DP\n"
     ]
    },
    {
     "name": "stderr",
     "output_type": "stream",
     "text": [
      "\r",
      " 80%|████████████████████████████████▉        | 212/264 [02:34<00:48,  1.08it/s]"
     ]
    },
    {
     "name": "stdout",
     "output_type": "stream",
     "text": [
      "-----------------------232.453761\n",
      "=======>1100 800\n",
      "DP\n",
      "DP\n",
      "DP\n",
      "DP\n",
      "DP\n"
     ]
    },
    {
     "name": "stderr",
     "output_type": "stream",
     "text": [
      "\r",
      " 81%|█████████████████████████████████        | 213/264 [02:36<00:53,  1.04s/it]"
     ]
    },
    {
     "name": "stdout",
     "output_type": "stream",
     "text": [
      "-----------------------260.152006\n",
      "=======>1100 900\n",
      "DP\n",
      "DP\n",
      "DP\n",
      "DP\n",
      "DP\n"
     ]
    },
    {
     "name": "stderr",
     "output_type": "stream",
     "text": [
      "\r",
      " 81%|█████████████████████████████████▏       | 214/264 [02:37<00:58,  1.17s/it]"
     ]
    },
    {
     "name": "stdout",
     "output_type": "stream",
     "text": [
      "-----------------------293.729124\n",
      "=======>1100 1000\n",
      "DP\n",
      "DP\n",
      "DP\n",
      "DP\n",
      "DP\n"
     ]
    },
    {
     "name": "stderr",
     "output_type": "stream",
     "text": [
      "\r",
      " 81%|█████████████████████████████████▍       | 215/264 [02:39<01:03,  1.30s/it]"
     ]
    },
    {
     "name": "stdout",
     "output_type": "stream",
     "text": [
      "-----------------------324.713462\n",
      "=======>1100 1100\n",
      "DP\n",
      "DP\n",
      "DP\n",
      "DP\n",
      "DP\n"
     ]
    },
    {
     "name": "stderr",
     "output_type": "stream",
     "text": [
      "\r",
      " 82%|█████████████████████████████████▌       | 216/264 [02:40<01:09,  1.45s/it]"
     ]
    },
    {
     "name": "stdout",
     "output_type": "stream",
     "text": [
      "-----------------------355.764783\n",
      "=======>1100 1200\n",
      "DP\n",
      "DP\n",
      "DP\n",
      "DP\n",
      "DP\n"
     ]
    },
    {
     "name": "stderr",
     "output_type": "stream",
     "text": [
      "\r",
      " 82%|█████████████████████████████████▋       | 217/264 [02:42<01:15,  1.60s/it]"
     ]
    },
    {
     "name": "stdout",
     "output_type": "stream",
     "text": [
      "-----------------------392.181528\n",
      "=======>1100 1300\n",
      "DP\n",
      "DP\n",
      "DP\n",
      "DP\n",
      "DP\n"
     ]
    },
    {
     "name": "stderr",
     "output_type": "stream",
     "text": [
      "\r",
      " 83%|█████████████████████████████████▊       | 218/264 [02:45<01:23,  1.83s/it]"
     ]
    },
    {
     "name": "stdout",
     "output_type": "stream",
     "text": [
      "-----------------------454.475902\n",
      "=======>1100 1400\n",
      "DP\n",
      "DP\n",
      "DP\n",
      "DP\n",
      "DP\n"
     ]
    },
    {
     "name": "stderr",
     "output_type": "stream",
     "text": [
      "\r",
      " 83%|██████████████████████████████████       | 219/264 [02:47<01:28,  1.97s/it]"
     ]
    },
    {
     "name": "stdout",
     "output_type": "stream",
     "text": [
      "-----------------------457.765129\n",
      "=======>1200 0\n",
      "DP\n",
      "DP\n",
      "DP\n",
      "DP\n",
      "DP\n",
      "-----------------------7.45582\n",
      "=======>1200 100\n",
      "DP\n",
      "DP\n",
      "DP\n",
      "DP\n"
     ]
    },
    {
     "name": "stderr",
     "output_type": "stream",
     "text": [
      "\r",
      " 84%|██████████████████████████████████▎      | 221/264 [02:47<00:48,  1.12s/it]"
     ]
    },
    {
     "name": "stdout",
     "output_type": "stream",
     "text": [
      "DP\n",
      "-----------------------39.355739\n",
      "=======>1200 200\n",
      "DP\n",
      "DP\n",
      "DP\n"
     ]
    },
    {
     "name": "stderr",
     "output_type": "stream",
     "text": [
      "\r",
      " 84%|██████████████████████████████████▍      | 222/264 [02:48<00:39,  1.07it/s]"
     ]
    },
    {
     "name": "stdout",
     "output_type": "stream",
     "text": [
      "DP\n",
      "DP\n",
      "-----------------------75.689314\n",
      "=======>1200 300\n",
      "DP\n",
      "DP\n",
      "DP\n",
      "DP\n",
      "DP\n"
     ]
    },
    {
     "name": "stderr",
     "output_type": "stream",
     "text": [
      "\r",
      " 84%|██████████████████████████████████▋      | 223/264 [02:48<00:34,  1.19it/s]"
     ]
    },
    {
     "name": "stdout",
     "output_type": "stream",
     "text": [
      "-----------------------111.446187\n",
      "=======>1200 400\n",
      "DP\n",
      "DP\n",
      "DP\n",
      "DP\n"
     ]
    },
    {
     "name": "stderr",
     "output_type": "stream",
     "text": [
      "\r",
      " 85%|██████████████████████████████████▊      | 224/264 [02:49<00:32,  1.23it/s]"
     ]
    },
    {
     "name": "stdout",
     "output_type": "stream",
     "text": [
      "DP\n",
      "-----------------------145.770056\n",
      "=======>1200 500\n",
      "DP\n",
      "DP\n",
      "DP\n",
      "DP\n",
      "DP\n"
     ]
    },
    {
     "name": "stderr",
     "output_type": "stream",
     "text": [
      "\r",
      " 85%|██████████████████████████████████▉      | 225/264 [02:50<00:32,  1.19it/s]"
     ]
    },
    {
     "name": "stdout",
     "output_type": "stream",
     "text": [
      "-----------------------182.510994\n",
      "=======>1200 600\n",
      "DP\n",
      "DP\n",
      "DP\n",
      "DP\n",
      "DP\n"
     ]
    },
    {
     "name": "stderr",
     "output_type": "stream",
     "text": [
      "\r",
      " 86%|███████████████████████████████████      | 226/264 [02:51<00:34,  1.10it/s]"
     ]
    },
    {
     "name": "stdout",
     "output_type": "stream",
     "text": [
      "-----------------------216.781679\n",
      "=======>1200 700\n",
      "DP\n",
      "DP\n",
      "DP\n",
      "DP\n",
      "DP\n"
     ]
    },
    {
     "name": "stderr",
     "output_type": "stream",
     "text": [
      "\r",
      " 86%|███████████████████████████████████▎     | 227/264 [02:52<00:37,  1.01s/it]"
     ]
    },
    {
     "name": "stdout",
     "output_type": "stream",
     "text": [
      "-----------------------249.362828\n",
      "=======>1200 800\n",
      "DP\n",
      "DP\n",
      "DP\n",
      "DP\n",
      "DP\n"
     ]
    },
    {
     "name": "stderr",
     "output_type": "stream",
     "text": [
      "\r",
      " 86%|███████████████████████████████████▍     | 228/264 [02:54<00:40,  1.14s/it]"
     ]
    },
    {
     "name": "stdout",
     "output_type": "stream",
     "text": [
      "-----------------------286.385866\n",
      "=======>1200 900\n",
      "DP\n",
      "DP\n",
      "DP\n",
      "DP\n",
      "DP\n"
     ]
    },
    {
     "name": "stderr",
     "output_type": "stream",
     "text": [
      "\r",
      " 87%|███████████████████████████████████▌     | 229/264 [02:55<00:44,  1.28s/it]"
     ]
    },
    {
     "name": "stdout",
     "output_type": "stream",
     "text": [
      "-----------------------325.069872\n",
      "=======>1200 1000\n",
      "DP\n",
      "DP\n",
      "DP\n",
      "DP\n",
      "DP\n"
     ]
    },
    {
     "name": "stderr",
     "output_type": "stream",
     "text": [
      "\r",
      " 87%|███████████████████████████████████▋     | 230/264 [02:57<00:48,  1.43s/it]"
     ]
    },
    {
     "name": "stdout",
     "output_type": "stream",
     "text": [
      "-----------------------353.918285\n",
      "=======>1200 1100\n",
      "DP\n",
      "DP\n",
      "DP\n",
      "DP\n",
      "DP\n"
     ]
    },
    {
     "name": "stderr",
     "output_type": "stream",
     "text": [
      "\r",
      " 88%|███████████████████████████████████▉     | 231/264 [02:59<00:52,  1.58s/it]"
     ]
    },
    {
     "name": "stdout",
     "output_type": "stream",
     "text": [
      "-----------------------389.599661\n",
      "=======>1200 1200\n",
      "DP\n",
      "DP\n",
      "DP\n",
      "DP\n",
      "DP\n"
     ]
    },
    {
     "name": "stderr",
     "output_type": "stream",
     "text": [
      "\r",
      " 88%|████████████████████████████████████     | 232/264 [03:01<00:55,  1.74s/it]"
     ]
    },
    {
     "name": "stdout",
     "output_type": "stream",
     "text": [
      "-----------------------421.695128\n",
      "=======>1200 1300\n",
      "DP\n",
      "DP\n",
      "DP\n",
      "DP\n",
      "DP\n"
     ]
    },
    {
     "name": "stderr",
     "output_type": "stream",
     "text": [
      "\r",
      " 88%|████████████████████████████████████▏    | 233/264 [03:03<00:59,  1.91s/it]"
     ]
    },
    {
     "name": "stdout",
     "output_type": "stream",
     "text": [
      "-----------------------456.481371\n",
      "=======>1200 1400\n",
      "DP\n",
      "DP\n",
      "DP\n",
      "DP\n",
      "DP\n"
     ]
    },
    {
     "name": "stderr",
     "output_type": "stream",
     "text": [
      "\r",
      " 89%|████████████████████████████████████▎    | 234/264 [03:06<01:02,  2.08s/it]"
     ]
    },
    {
     "name": "stdout",
     "output_type": "stream",
     "text": [
      "-----------------------494.462509\n",
      "=======>1300 0\n",
      "DP\n",
      "DP\n",
      "DP\n",
      "DP\n",
      "DP\n",
      "-----------------------6.972292\n",
      "=======>1300 100\n",
      "DP\n",
      "DP\n",
      "DP\n",
      "DP\n"
     ]
    },
    {
     "name": "stderr",
     "output_type": "stream",
     "text": [
      "\r",
      " 89%|████████████████████████████████████▋    | 236/264 [03:06<00:33,  1.18s/it]"
     ]
    },
    {
     "name": "stdout",
     "output_type": "stream",
     "text": [
      "DP\n",
      "-----------------------41.465934\n",
      "=======>1300 200\n",
      "DP\n",
      "DP\n",
      "DP\n",
      "DP\n",
      "DP\n"
     ]
    },
    {
     "name": "stderr",
     "output_type": "stream",
     "text": [
      "\r",
      " 90%|████████████████████████████████████▊    | 237/264 [03:07<00:26,  1.01it/s]"
     ]
    },
    {
     "name": "stdout",
     "output_type": "stream",
     "text": [
      "-----------------------83.229728\n",
      "=======>1300 300\n",
      "DP\n",
      "DP\n",
      "DP\n",
      "DP\n"
     ]
    },
    {
     "name": "stderr",
     "output_type": "stream",
     "text": [
      "\r",
      " 90%|████████████████████████████████████▉    | 238/264 [03:07<00:23,  1.13it/s]"
     ]
    },
    {
     "name": "stdout",
     "output_type": "stream",
     "text": [
      "DP\n",
      "-----------------------117.681729\n",
      "=======>1300 400\n",
      "DP\n",
      "DP\n",
      "DP\n",
      "DP\n",
      "DP\n"
     ]
    },
    {
     "name": "stderr",
     "output_type": "stream",
     "text": [
      "\r",
      " 91%|█████████████████████████████████████    | 239/264 [03:08<00:21,  1.17it/s]"
     ]
    },
    {
     "name": "stdout",
     "output_type": "stream",
     "text": [
      "-----------------------155.734884\n",
      "=======>1300 500\n",
      "DP\n",
      "DP\n",
      "DP\n",
      "DP\n"
     ]
    },
    {
     "name": "stderr",
     "output_type": "stream",
     "text": [
      "\r",
      " 91%|█████████████████████████████████████▎   | 240/264 [03:09<00:21,  1.13it/s]"
     ]
    },
    {
     "name": "stdout",
     "output_type": "stream",
     "text": [
      "DP\n",
      "-----------------------191.771372\n",
      "=======>1300 600\n",
      "DP\n",
      "DP\n",
      "DP\n",
      "DP\n",
      "DP\n"
     ]
    },
    {
     "name": "stderr",
     "output_type": "stream",
     "text": [
      "\r",
      " 91%|█████████████████████████████████████▍   | 241/264 [03:10<00:22,  1.04it/s]"
     ]
    },
    {
     "name": "stdout",
     "output_type": "stream",
     "text": [
      "-----------------------231.662082\n",
      "=======>1300 700\n",
      "DP\n",
      "DP\n",
      "DP\n",
      "DP\n",
      "DP\n"
     ]
    },
    {
     "name": "stderr",
     "output_type": "stream",
     "text": [
      "\r",
      " 92%|█████████████████████████████████████▌   | 242/264 [03:11<00:23,  1.08s/it]"
     ]
    },
    {
     "name": "stdout",
     "output_type": "stream",
     "text": [
      "-----------------------272.630359\n",
      "=======>1300 800\n",
      "DP\n",
      "DP\n",
      "DP\n",
      "DP\n",
      "DP\n"
     ]
    },
    {
     "name": "stderr",
     "output_type": "stream",
     "text": [
      "\r",
      " 92%|█████████████████████████████████████▋   | 243/264 [03:13<00:25,  1.22s/it]"
     ]
    },
    {
     "name": "stdout",
     "output_type": "stream",
     "text": [
      "-----------------------309.743294\n",
      "=======>1300 900\n",
      "DP\n",
      "DP\n",
      "DP\n",
      "DP\n",
      "DP\n"
     ]
    },
    {
     "name": "stderr",
     "output_type": "stream",
     "text": [
      "\r",
      " 92%|█████████████████████████████████████▉   | 244/264 [03:15<00:27,  1.37s/it]"
     ]
    },
    {
     "name": "stdout",
     "output_type": "stream",
     "text": [
      "-----------------------347.684589\n",
      "=======>1300 1000\n",
      "DP\n",
      "DP\n",
      "DP\n",
      "DP\n",
      "DP\n"
     ]
    },
    {
     "name": "stderr",
     "output_type": "stream",
     "text": [
      "\r",
      " 93%|██████████████████████████████████████   | 245/264 [03:17<00:29,  1.54s/it]"
     ]
    },
    {
     "name": "stdout",
     "output_type": "stream",
     "text": [
      "-----------------------389.935643\n",
      "=======>1300 1100\n",
      "DP\n",
      "DP\n",
      "DP\n",
      "DP\n",
      "DP\n"
     ]
    },
    {
     "name": "stderr",
     "output_type": "stream",
     "text": [
      "\r",
      " 93%|██████████████████████████████████████▏  | 246/264 [03:19<00:30,  1.71s/it]"
     ]
    },
    {
     "name": "stdout",
     "output_type": "stream",
     "text": [
      "-----------------------418.368182\n",
      "=======>1300 1200\n",
      "DP\n",
      "DP\n",
      "DP\n",
      "DP\n",
      "DP\n"
     ]
    },
    {
     "name": "stderr",
     "output_type": "stream",
     "text": [
      "\r",
      " 94%|██████████████████████████████████████▎  | 247/264 [03:21<00:32,  1.91s/it]"
     ]
    },
    {
     "name": "stdout",
     "output_type": "stream",
     "text": [
      "-----------------------478.203217\n",
      "=======>1300 1300\n",
      "DP\n",
      "DP\n",
      "DP\n",
      "DP\n",
      "DP\n"
     ]
    },
    {
     "name": "stderr",
     "output_type": "stream",
     "text": [
      "\r",
      " 94%|██████████████████████████████████████▌  | 248/264 [03:24<00:33,  2.08s/it]"
     ]
    },
    {
     "name": "stdout",
     "output_type": "stream",
     "text": [
      "-----------------------494.100078\n",
      "=======>1300 1400\n",
      "DP\n",
      "DP\n",
      "DP\n",
      "DP\n",
      "DP\n"
     ]
    },
    {
     "name": "stderr",
     "output_type": "stream",
     "text": [
      "\r",
      " 94%|██████████████████████████████████████▋  | 249/264 [03:26<00:33,  2.25s/it]"
     ]
    },
    {
     "name": "stdout",
     "output_type": "stream",
     "text": [
      "-----------------------531.990905\n",
      "=======>1400 0\n",
      "DP\n",
      "DP\n",
      "DP\n",
      "DP\n",
      "DP\n",
      "-----------------------7.285728\n",
      "=======>1400 100\n",
      "DP\n",
      "DP\n",
      "DP\n",
      "DP\n"
     ]
    },
    {
     "name": "stderr",
     "output_type": "stream",
     "text": [
      "\r",
      " 95%|██████████████████████████████████████▉  | 251/264 [03:27<00:16,  1.28s/it]"
     ]
    },
    {
     "name": "stdout",
     "output_type": "stream",
     "text": [
      "DP\n",
      "-----------------------44.013512\n",
      "=======>1400 200\n",
      "DP\n",
      "DP\n",
      "DP\n",
      "DP\n",
      "DP\n"
     ]
    },
    {
     "name": "stderr",
     "output_type": "stream",
     "text": [
      "\r",
      " 95%|███████████████████████████████████████▏ | 252/264 [03:27<00:12,  1.07s/it]"
     ]
    },
    {
     "name": "stdout",
     "output_type": "stream",
     "text": [
      "-----------------------84.8804\n",
      "=======>1400 300\n",
      "DP\n",
      "DP\n",
      "DP\n",
      "DP\n"
     ]
    },
    {
     "name": "stderr",
     "output_type": "stream",
     "text": [
      "\r",
      " 96%|███████████████████████████████████████▎ | 253/264 [03:28<00:10,  1.05it/s]"
     ]
    },
    {
     "name": "stdout",
     "output_type": "stream",
     "text": [
      "DP\n",
      "-----------------------124.76677\n",
      "=======>1400 400\n",
      "DP\n",
      "DP\n",
      "DP\n",
      "DP\n",
      "DP\n"
     ]
    },
    {
     "name": "stderr",
     "output_type": "stream",
     "text": [
      "\r",
      " 96%|███████████████████████████████████████▍ | 254/264 [03:28<00:09,  1.09it/s]"
     ]
    },
    {
     "name": "stdout",
     "output_type": "stream",
     "text": [
      "-----------------------166.9159\n",
      "=======>1400 500\n",
      "DP\n",
      "DP\n",
      "DP\n",
      "DP\n",
      "DP\n"
     ]
    },
    {
     "name": "stderr",
     "output_type": "stream",
     "text": [
      "\r",
      " 97%|███████████████████████████████████████▌ | 255/264 [03:30<00:08,  1.05it/s]"
     ]
    },
    {
     "name": "stdout",
     "output_type": "stream",
     "text": [
      "-----------------------206.359082\n",
      "=======>1400 600\n",
      "DP\n",
      "DP\n",
      "DP\n",
      "DP\n",
      "DP\n"
     ]
    },
    {
     "name": "stderr",
     "output_type": "stream",
     "text": [
      "\r",
      " 97%|███████████████████████████████████████▊ | 256/264 [03:31<00:08,  1.04s/it]"
     ]
    },
    {
     "name": "stdout",
     "output_type": "stream",
     "text": [
      "-----------------------247.342505\n",
      "=======>1400 700\n",
      "DP\n",
      "DP\n",
      "DP\n",
      "DP\n",
      "DP\n"
     ]
    },
    {
     "name": "stderr",
     "output_type": "stream",
     "text": [
      "\r",
      " 97%|███████████████████████████████████████▉ | 257/264 [03:32<00:08,  1.16s/it]"
     ]
    },
    {
     "name": "stdout",
     "output_type": "stream",
     "text": [
      "-----------------------292.028565\n",
      "=======>1400 800\n",
      "DP\n",
      "DP\n",
      "DP\n",
      "DP\n",
      "DP\n"
     ]
    },
    {
     "name": "stderr",
     "output_type": "stream",
     "text": [
      "\r",
      " 98%|████████████████████████████████████████ | 258/264 [03:34<00:07,  1.31s/it]"
     ]
    },
    {
     "name": "stdout",
     "output_type": "stream",
     "text": [
      "-----------------------331.971496\n",
      "=======>1400 900\n",
      "DP\n",
      "DP\n",
      "DP\n",
      "DP\n",
      "DP\n"
     ]
    },
    {
     "name": "stderr",
     "output_type": "stream",
     "text": [
      "\r",
      " 98%|████████████████████████████████████████▏| 259/264 [03:36<00:07,  1.47s/it]"
     ]
    },
    {
     "name": "stdout",
     "output_type": "stream",
     "text": [
      "-----------------------369.599697\n",
      "=======>1400 1000\n",
      "DP\n",
      "DP\n",
      "DP\n",
      "DP\n",
      "DP\n"
     ]
    },
    {
     "name": "stderr",
     "output_type": "stream",
     "text": [
      "\r",
      " 98%|████████████████████████████████████████▍| 260/264 [03:38<00:06,  1.65s/it]"
     ]
    },
    {
     "name": "stdout",
     "output_type": "stream",
     "text": [
      "-----------------------413.78064\n",
      "=======>1400 1100\n",
      "DP\n",
      "DP\n",
      "DP\n",
      "DP\n",
      "DP\n"
     ]
    },
    {
     "name": "stderr",
     "output_type": "stream",
     "text": [
      "\r",
      " 99%|████████████████████████████████████████▌| 261/264 [03:40<00:05,  1.83s/it]"
     ]
    },
    {
     "name": "stdout",
     "output_type": "stream",
     "text": [
      "-----------------------452.407048\n",
      "=======>1400 1200\n",
      "DP\n",
      "DP\n",
      "DP\n",
      "DP\n",
      "DP\n"
     ]
    },
    {
     "name": "stderr",
     "output_type": "stream",
     "text": [
      "\r",
      " 99%|████████████████████████████████████████▋| 262/264 [03:43<00:04,  2.03s/it]"
     ]
    },
    {
     "name": "stdout",
     "output_type": "stream",
     "text": [
      "-----------------------497.298083\n",
      "=======>1400 1300\n",
      "DP\n",
      "DP\n",
      "DP\n",
      "DP\n",
      "DP\n"
     ]
    },
    {
     "name": "stderr",
     "output_type": "stream",
     "text": [
      "\r",
      "100%|████████████████████████████████████████▊| 263/264 [03:45<00:02,  2.22s/it]"
     ]
    },
    {
     "name": "stdout",
     "output_type": "stream",
     "text": [
      "-----------------------528.602764\n",
      "=======>1400 1400\n",
      "DP\n",
      "DP\n",
      "DP\n",
      "DP\n",
      "DP\n"
     ]
    },
    {
     "name": "stderr",
     "output_type": "stream",
     "text": [
      "100%|█████████████████████████████████████████| 264/264 [03:48<00:00,  1.15it/s]"
     ]
    },
    {
     "name": "stdout",
     "output_type": "stream",
     "text": [
      "-----------------------577.4431\n"
     ]
    },
    {
     "name": "stderr",
     "output_type": "stream",
     "text": [
      "\n"
     ]
    }
   ],
   "source": [
    "columnas = [\"dataset\", \"n\", \"M\", \"metodo\", \"tiempo\"]\n",
    "filas = []\n",
    "numero = 1\n",
    "T = 5 # Numero de veces que se ejecuta cada experimento (para mayor fidelidad del tiempo).\n",
    "for experimento in tqdm(experimentos):\n",
    "    \n",
    "    print(\"=======>\" + str(experimento[2]) + \" \" + str(experimento[3]))\n",
    "    # Voy mostrando que experimento se esta ejecutando.\n",
    "    numero += 1\n",
    "    \n",
    "    # Ejecutamos el experimento T veces y obtenemos la mediana.\n",
    "    tiempos = []\n",
    "    for i in range(0, T):\n",
    "        tiempos.append(correr_experimento(experimento[4], experimento[5]))\n",
    "    tiempo = np.median(tiempos)\n",
    "    print(\"-----------------------\" + str(tiempo))\n",
    "    filas.append([experimento[0] ,experimento[2], experimento[3], experimento[4], tiempo])\n",
    "df_resultado = pd.DataFrame(filas, columns=columnas)\n",
    "df_resultado.to_csv(\"resultados/resultado.csv\", index=False, header=True)"
   ]
  },
  {
   "cell_type": "code",
   "execution_count": null,
   "metadata": {},
   "outputs": [],
   "source": []
  },
  {
   "cell_type": "code",
   "execution_count": null,
   "metadata": {},
   "outputs": [],
   "source": []
  }
 ],
 "metadata": {
  "kernelspec": {
   "display_name": "Python 3 (ipykernel)",
   "language": "python",
   "name": "python3"
  },
  "language_info": {
   "codemirror_mode": {
    "name": "ipython",
    "version": 3
   },
   "file_extension": ".py",
   "mimetype": "text/x-python",
   "name": "python",
   "nbconvert_exporter": "python",
   "pygments_lexer": "ipython3",
   "version": "3.8.10"
  }
 },
 "nbformat": 4,
 "nbformat_minor": 4
}
