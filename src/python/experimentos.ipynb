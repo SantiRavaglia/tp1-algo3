{
 "cells": [
  {
   "cell_type": "markdown",
   "metadata": {},
   "source": [
    "# Correr experimentos\n",
    "En este archivo está el código para correr los experimentos y escribir los resultados en archivos CSV.\n",
    "> Los archivos se guardan en la carpeta _resultados_."
   ]
  },
  {
   "cell_type": "code",
   "execution_count": 1,
   "metadata": {},
   "outputs": [],
   "source": [
    "import math\n",
    "import subprocess\n",
    "import pandas as pd\n",
    "import numpy as np\n",
    "from IPython.display import display, clear_output\n",
    "import os\n",
    "import time\n",
    "from tqdm import tqdm"
   ]
  },
  {
   "cell_type": "markdown",
   "metadata": {},
   "source": [
    "A continuación leemos los datasets en dataframes de Pandas."
   ]
  },
  {
   "cell_type": "code",
   "execution_count": 2,
   "metadata": {},
   "outputs": [],
   "source": [
    "def leer_instancia(path_instancia):\n",
    "    with open(path_instancia, \"r\") as f:\n",
    "        return f.read();\n",
    "\n",
    "df_random_bf = pd.read_csv(\"instancias/random-bf/indice.csv\");\n",
    "df_random_bt = pd.read_csv(\"instancias/random-bt/indice.csv\");\n",
    "# df_mejor_caso_bt = pd.read_csv(\"instancias/mejor-caso-bt/indice.csv\");\n",
    "df_poda_fact_bt = pd.read_csv(\"instancias/poda-fact-bt/indice.csv\");\n",
    "df_poda_opt_bt = pd.read_csv(\"instancias/poda-opt-bt/indice.csv\");\n",
    "df_peor_caso_bt = pd.read_csv(\"instancias/peor-caso-bt/indice.csv\");\n",
    "df_dinamica = pd.read_csv(\"instancias/dinamica/indice.csv\");"
   ]
  },
  {
   "cell_type": "markdown",
   "metadata": {},
   "source": [
    "La siguiente función sirve para correr el código sobre una instancia ejecutando un método en particular.\n",
    "- FB: Fuerza bruta\n",
    "- BT: Backtracking con ambas podas.\n",
    "- BT-F: Backtracking solamente con poda por factibilidad.\n",
    "- BT-O: Backtracking solamente con poda por optimalidad.\n",
    "- DP: Programación dinámica."
   ]
  },
  {
   "cell_type": "code",
   "execution_count": 3,
   "metadata": {},
   "outputs": [],
   "source": [
    "# instancia = leer_instancia(\"instancias/random-bf/BF-90.txt\")\n",
    "# type(instancia)"
   ]
  },
  {
   "cell_type": "code",
   "execution_count": 4,
   "metadata": {},
   "outputs": [],
   "source": [
    "def correr_experimento(metodo, archivo_instancia):\n",
    "    # Leer archivo de la instancia.\n",
    "    instancia = leer_instancia(archivo_instancia)\n",
    "    print(metodo)\n",
    "    if (metodo != \"BF\" and metodo != \"BT\" and metodo != \"BT-F\" and metodo != \"BT-O\" and metodo != \"DP\"):\n",
    "        print(\"Error, metodo no reconocido\")\n",
    "        return None\n",
    "#     print(type(instancia))\n",
    "    \n",
    "    # Crear proceso para ejecutar el codigo.\n",
    "    start = time.time_ns()\n",
    "    process = subprocess.Popen(['../main {}'.format(metodo)], stderr=subprocess.PIPE, stdout=subprocess.PIPE, stdin=subprocess.PIPE, universal_newlines = True, shell=True)\n",
    "#     print(process)\n",
    "    # Poner la instancia en la entrada estandar.\n",
    "    process.stdin.write(instancia)\n",
    "    process.stdin.flush()\n",
    "    \n",
    "    exit_code = process.wait()\n",
    "    end = time.time_ns()\n",
    "    process.stdin.close();\n",
    "    process.stdout.close();\n",
    "    process.stderr.close();\n",
    "    \n",
    "    diff = (end - start)/1000000\n",
    "   \n",
    "    \n",
    "    return diff;\n",
    "\n",
    "# correr_experimento(\"BF\", \"instancias/random-bf/BF-90.txt\")"
   ]
  },
  {
   "cell_type": "code",
   "execution_count": 5,
   "metadata": {
    "scrolled": true
   },
   "outputs": [],
   "source": [
    "# def correr_experimento(metodo, archivo_instancia):\n",
    "    \n",
    "#     start = time.time_ns()\n",
    "#     os.system(\"../main {} < {}\".format(metodo, archivo_instancia))\n",
    "#     end = time.time_ns()\n",
    "#     diff = (end - start)/1000000\n",
    "    \n",
    "#     return diff\n",
    "\n",
    "# correr_experimento(\"BF\", \"instancias/random-bf/BF-10.txt\")"
   ]
  },
  {
   "cell_type": "markdown",
   "metadata": {},
   "source": [
    "## Corremos los experimentos\n",
    "Vamos a guardar una tabla con las ejecuciones y sus respectivos tiempos."
   ]
  },
  {
   "cell_type": "code",
   "execution_count": 6,
   "metadata": {},
   "outputs": [],
   "source": [
    "experimentos = [];"
   ]
  },
  {
   "cell_type": "markdown",
   "metadata": {},
   "source": [
    "### Experimento 1\n",
    "Correr Fuerza Bruta en las primeras 30 instancias de densidad-alta y densidad-baja."
   ]
  },
  {
   "cell_type": "code",
   "execution_count": 7,
   "metadata": {},
   "outputs": [
    {
     "name": "stdout",
     "output_type": "stream",
     "text": [
      "[['dinamica', 'DP-200-200', 200, 200, 'DP', 'instancias/dinamica/DP-200-200.txt'], ['dinamica', 'DP-200-300', 200, 300, 'DP', 'instancias/dinamica/DP-200-300.txt'], ['dinamica', 'DP-200-400', 200, 400, 'DP', 'instancias/dinamica/DP-200-400.txt'], ['dinamica', 'DP-200-500', 200, 500, 'DP', 'instancias/dinamica/DP-200-500.txt'], ['dinamica', 'DP-200-600', 200, 600, 'DP', 'instancias/dinamica/DP-200-600.txt'], ['dinamica', 'DP-200-700', 200, 700, 'DP', 'instancias/dinamica/DP-200-700.txt'], ['dinamica', 'DP-200-800', 200, 800, 'DP', 'instancias/dinamica/DP-200-800.txt'], ['dinamica', 'DP-200-900', 200, 900, 'DP', 'instancias/dinamica/DP-200-900.txt'], ['dinamica', 'DP-200-1000', 200, 1000, 'DP', 'instancias/dinamica/DP-200-1000.txt'], ['dinamica', 'DP-200-1100', 200, 1100, 'DP', 'instancias/dinamica/DP-200-1100.txt'], ['dinamica', 'DP-200-1200', 200, 1200, 'DP', 'instancias/dinamica/DP-200-1200.txt'], ['dinamica', 'DP-200-1300', 200, 1300, 'DP', 'instancias/dinamica/DP-200-1300.txt'], ['dinamica', 'DP-200-1400', 200, 1400, 'DP', 'instancias/dinamica/DP-200-1400.txt'], ['dinamica', 'DP-300-200', 300, 200, 'DP', 'instancias/dinamica/DP-300-200.txt'], ['dinamica', 'DP-300-300', 300, 300, 'DP', 'instancias/dinamica/DP-300-300.txt'], ['dinamica', 'DP-300-400', 300, 400, 'DP', 'instancias/dinamica/DP-300-400.txt'], ['dinamica', 'DP-300-500', 300, 500, 'DP', 'instancias/dinamica/DP-300-500.txt'], ['dinamica', 'DP-300-600', 300, 600, 'DP', 'instancias/dinamica/DP-300-600.txt'], ['dinamica', 'DP-300-700', 300, 700, 'DP', 'instancias/dinamica/DP-300-700.txt'], ['dinamica', 'DP-300-800', 300, 800, 'DP', 'instancias/dinamica/DP-300-800.txt'], ['dinamica', 'DP-300-900', 300, 900, 'DP', 'instancias/dinamica/DP-300-900.txt'], ['dinamica', 'DP-300-1000', 300, 1000, 'DP', 'instancias/dinamica/DP-300-1000.txt'], ['dinamica', 'DP-300-1100', 300, 1100, 'DP', 'instancias/dinamica/DP-300-1100.txt'], ['dinamica', 'DP-300-1200', 300, 1200, 'DP', 'instancias/dinamica/DP-300-1200.txt'], ['dinamica', 'DP-300-1300', 300, 1300, 'DP', 'instancias/dinamica/DP-300-1300.txt'], ['dinamica', 'DP-300-1400', 300, 1400, 'DP', 'instancias/dinamica/DP-300-1400.txt'], ['dinamica', 'DP-400-200', 400, 200, 'DP', 'instancias/dinamica/DP-400-200.txt'], ['dinamica', 'DP-400-300', 400, 300, 'DP', 'instancias/dinamica/DP-400-300.txt'], ['dinamica', 'DP-400-400', 400, 400, 'DP', 'instancias/dinamica/DP-400-400.txt'], ['dinamica', 'DP-400-500', 400, 500, 'DP', 'instancias/dinamica/DP-400-500.txt'], ['dinamica', 'DP-400-600', 400, 600, 'DP', 'instancias/dinamica/DP-400-600.txt'], ['dinamica', 'DP-400-700', 400, 700, 'DP', 'instancias/dinamica/DP-400-700.txt'], ['dinamica', 'DP-400-800', 400, 800, 'DP', 'instancias/dinamica/DP-400-800.txt'], ['dinamica', 'DP-400-900', 400, 900, 'DP', 'instancias/dinamica/DP-400-900.txt'], ['dinamica', 'DP-400-1000', 400, 1000, 'DP', 'instancias/dinamica/DP-400-1000.txt'], ['dinamica', 'DP-400-1100', 400, 1100, 'DP', 'instancias/dinamica/DP-400-1100.txt'], ['dinamica', 'DP-400-1200', 400, 1200, 'DP', 'instancias/dinamica/DP-400-1200.txt'], ['dinamica', 'DP-400-1300', 400, 1300, 'DP', 'instancias/dinamica/DP-400-1300.txt'], ['dinamica', 'DP-400-1400', 400, 1400, 'DP', 'instancias/dinamica/DP-400-1400.txt'], ['dinamica', 'DP-500-200', 500, 200, 'DP', 'instancias/dinamica/DP-500-200.txt'], ['dinamica', 'DP-500-300', 500, 300, 'DP', 'instancias/dinamica/DP-500-300.txt'], ['dinamica', 'DP-500-400', 500, 400, 'DP', 'instancias/dinamica/DP-500-400.txt'], ['dinamica', 'DP-500-500', 500, 500, 'DP', 'instancias/dinamica/DP-500-500.txt'], ['dinamica', 'DP-500-600', 500, 600, 'DP', 'instancias/dinamica/DP-500-600.txt'], ['dinamica', 'DP-500-700', 500, 700, 'DP', 'instancias/dinamica/DP-500-700.txt'], ['dinamica', 'DP-500-800', 500, 800, 'DP', 'instancias/dinamica/DP-500-800.txt'], ['dinamica', 'DP-500-900', 500, 900, 'DP', 'instancias/dinamica/DP-500-900.txt'], ['dinamica', 'DP-500-1000', 500, 1000, 'DP', 'instancias/dinamica/DP-500-1000.txt'], ['dinamica', 'DP-500-1100', 500, 1100, 'DP', 'instancias/dinamica/DP-500-1100.txt'], ['dinamica', 'DP-500-1200', 500, 1200, 'DP', 'instancias/dinamica/DP-500-1200.txt'], ['dinamica', 'DP-500-1300', 500, 1300, 'DP', 'instancias/dinamica/DP-500-1300.txt'], ['dinamica', 'DP-500-1400', 500, 1400, 'DP', 'instancias/dinamica/DP-500-1400.txt'], ['dinamica', 'DP-600-200', 600, 200, 'DP', 'instancias/dinamica/DP-600-200.txt'], ['dinamica', 'DP-600-300', 600, 300, 'DP', 'instancias/dinamica/DP-600-300.txt'], ['dinamica', 'DP-600-400', 600, 400, 'DP', 'instancias/dinamica/DP-600-400.txt'], ['dinamica', 'DP-600-500', 600, 500, 'DP', 'instancias/dinamica/DP-600-500.txt'], ['dinamica', 'DP-600-600', 600, 600, 'DP', 'instancias/dinamica/DP-600-600.txt'], ['dinamica', 'DP-600-700', 600, 700, 'DP', 'instancias/dinamica/DP-600-700.txt'], ['dinamica', 'DP-600-800', 600, 800, 'DP', 'instancias/dinamica/DP-600-800.txt'], ['dinamica', 'DP-600-900', 600, 900, 'DP', 'instancias/dinamica/DP-600-900.txt'], ['dinamica', 'DP-600-1000', 600, 1000, 'DP', 'instancias/dinamica/DP-600-1000.txt'], ['dinamica', 'DP-600-1100', 600, 1100, 'DP', 'instancias/dinamica/DP-600-1100.txt'], ['dinamica', 'DP-600-1200', 600, 1200, 'DP', 'instancias/dinamica/DP-600-1200.txt'], ['dinamica', 'DP-600-1300', 600, 1300, 'DP', 'instancias/dinamica/DP-600-1300.txt'], ['dinamica', 'DP-600-1400', 600, 1400, 'DP', 'instancias/dinamica/DP-600-1400.txt'], ['dinamica', 'DP-700-200', 700, 200, 'DP', 'instancias/dinamica/DP-700-200.txt'], ['dinamica', 'DP-700-300', 700, 300, 'DP', 'instancias/dinamica/DP-700-300.txt'], ['dinamica', 'DP-700-400', 700, 400, 'DP', 'instancias/dinamica/DP-700-400.txt'], ['dinamica', 'DP-700-500', 700, 500, 'DP', 'instancias/dinamica/DP-700-500.txt'], ['dinamica', 'DP-700-600', 700, 600, 'DP', 'instancias/dinamica/DP-700-600.txt'], ['dinamica', 'DP-700-700', 700, 700, 'DP', 'instancias/dinamica/DP-700-700.txt'], ['dinamica', 'DP-700-800', 700, 800, 'DP', 'instancias/dinamica/DP-700-800.txt'], ['dinamica', 'DP-700-900', 700, 900, 'DP', 'instancias/dinamica/DP-700-900.txt'], ['dinamica', 'DP-700-1000', 700, 1000, 'DP', 'instancias/dinamica/DP-700-1000.txt'], ['dinamica', 'DP-700-1100', 700, 1100, 'DP', 'instancias/dinamica/DP-700-1100.txt'], ['dinamica', 'DP-700-1200', 700, 1200, 'DP', 'instancias/dinamica/DP-700-1200.txt'], ['dinamica', 'DP-700-1300', 700, 1300, 'DP', 'instancias/dinamica/DP-700-1300.txt'], ['dinamica', 'DP-700-1400', 700, 1400, 'DP', 'instancias/dinamica/DP-700-1400.txt'], ['dinamica', 'DP-800-200', 800, 200, 'DP', 'instancias/dinamica/DP-800-200.txt'], ['dinamica', 'DP-800-300', 800, 300, 'DP', 'instancias/dinamica/DP-800-300.txt'], ['dinamica', 'DP-800-400', 800, 400, 'DP', 'instancias/dinamica/DP-800-400.txt'], ['dinamica', 'DP-800-500', 800, 500, 'DP', 'instancias/dinamica/DP-800-500.txt'], ['dinamica', 'DP-800-600', 800, 600, 'DP', 'instancias/dinamica/DP-800-600.txt'], ['dinamica', 'DP-800-700', 800, 700, 'DP', 'instancias/dinamica/DP-800-700.txt'], ['dinamica', 'DP-800-800', 800, 800, 'DP', 'instancias/dinamica/DP-800-800.txt'], ['dinamica', 'DP-800-900', 800, 900, 'DP', 'instancias/dinamica/DP-800-900.txt'], ['dinamica', 'DP-800-1000', 800, 1000, 'DP', 'instancias/dinamica/DP-800-1000.txt'], ['dinamica', 'DP-800-1100', 800, 1100, 'DP', 'instancias/dinamica/DP-800-1100.txt'], ['dinamica', 'DP-800-1200', 800, 1200, 'DP', 'instancias/dinamica/DP-800-1200.txt'], ['dinamica', 'DP-800-1300', 800, 1300, 'DP', 'instancias/dinamica/DP-800-1300.txt'], ['dinamica', 'DP-800-1400', 800, 1400, 'DP', 'instancias/dinamica/DP-800-1400.txt'], ['dinamica', 'DP-900-200', 900, 200, 'DP', 'instancias/dinamica/DP-900-200.txt'], ['dinamica', 'DP-900-300', 900, 300, 'DP', 'instancias/dinamica/DP-900-300.txt'], ['dinamica', 'DP-900-400', 900, 400, 'DP', 'instancias/dinamica/DP-900-400.txt'], ['dinamica', 'DP-900-500', 900, 500, 'DP', 'instancias/dinamica/DP-900-500.txt'], ['dinamica', 'DP-900-600', 900, 600, 'DP', 'instancias/dinamica/DP-900-600.txt'], ['dinamica', 'DP-900-700', 900, 700, 'DP', 'instancias/dinamica/DP-900-700.txt'], ['dinamica', 'DP-900-800', 900, 800, 'DP', 'instancias/dinamica/DP-900-800.txt'], ['dinamica', 'DP-900-900', 900, 900, 'DP', 'instancias/dinamica/DP-900-900.txt'], ['dinamica', 'DP-900-1000', 900, 1000, 'DP', 'instancias/dinamica/DP-900-1000.txt'], ['dinamica', 'DP-900-1100', 900, 1100, 'DP', 'instancias/dinamica/DP-900-1100.txt'], ['dinamica', 'DP-900-1200', 900, 1200, 'DP', 'instancias/dinamica/DP-900-1200.txt'], ['dinamica', 'DP-900-1300', 900, 1300, 'DP', 'instancias/dinamica/DP-900-1300.txt'], ['dinamica', 'DP-900-1400', 900, 1400, 'DP', 'instancias/dinamica/DP-900-1400.txt'], ['dinamica', 'DP-1000-200', 1000, 200, 'DP', 'instancias/dinamica/DP-1000-200.txt'], ['dinamica', 'DP-1000-300', 1000, 300, 'DP', 'instancias/dinamica/DP-1000-300.txt'], ['dinamica', 'DP-1000-400', 1000, 400, 'DP', 'instancias/dinamica/DP-1000-400.txt'], ['dinamica', 'DP-1000-500', 1000, 500, 'DP', 'instancias/dinamica/DP-1000-500.txt'], ['dinamica', 'DP-1000-600', 1000, 600, 'DP', 'instancias/dinamica/DP-1000-600.txt'], ['dinamica', 'DP-1000-700', 1000, 700, 'DP', 'instancias/dinamica/DP-1000-700.txt'], ['dinamica', 'DP-1000-800', 1000, 800, 'DP', 'instancias/dinamica/DP-1000-800.txt'], ['dinamica', 'DP-1000-900', 1000, 900, 'DP', 'instancias/dinamica/DP-1000-900.txt'], ['dinamica', 'DP-1000-1000', 1000, 1000, 'DP', 'instancias/dinamica/DP-1000-1000.txt'], ['dinamica', 'DP-1000-1100', 1000, 1100, 'DP', 'instancias/dinamica/DP-1000-1100.txt'], ['dinamica', 'DP-1000-1200', 1000, 1200, 'DP', 'instancias/dinamica/DP-1000-1200.txt'], ['dinamica', 'DP-1000-1300', 1000, 1300, 'DP', 'instancias/dinamica/DP-1000-1300.txt'], ['dinamica', 'DP-1000-1400', 1000, 1400, 'DP', 'instancias/dinamica/DP-1000-1400.txt'], ['dinamica', 'DP-1100-200', 1100, 200, 'DP', 'instancias/dinamica/DP-1100-200.txt'], ['dinamica', 'DP-1100-300', 1100, 300, 'DP', 'instancias/dinamica/DP-1100-300.txt'], ['dinamica', 'DP-1100-400', 1100, 400, 'DP', 'instancias/dinamica/DP-1100-400.txt'], ['dinamica', 'DP-1100-500', 1100, 500, 'DP', 'instancias/dinamica/DP-1100-500.txt'], ['dinamica', 'DP-1100-600', 1100, 600, 'DP', 'instancias/dinamica/DP-1100-600.txt'], ['dinamica', 'DP-1100-700', 1100, 700, 'DP', 'instancias/dinamica/DP-1100-700.txt'], ['dinamica', 'DP-1100-800', 1100, 800, 'DP', 'instancias/dinamica/DP-1100-800.txt'], ['dinamica', 'DP-1100-900', 1100, 900, 'DP', 'instancias/dinamica/DP-1100-900.txt'], ['dinamica', 'DP-1100-1000', 1100, 1000, 'DP', 'instancias/dinamica/DP-1100-1000.txt'], ['dinamica', 'DP-1100-1100', 1100, 1100, 'DP', 'instancias/dinamica/DP-1100-1100.txt'], ['dinamica', 'DP-1100-1200', 1100, 1200, 'DP', 'instancias/dinamica/DP-1100-1200.txt'], ['dinamica', 'DP-1100-1300', 1100, 1300, 'DP', 'instancias/dinamica/DP-1100-1300.txt'], ['dinamica', 'DP-1100-1400', 1100, 1400, 'DP', 'instancias/dinamica/DP-1100-1400.txt'], ['dinamica', 'DP-1200-200', 1200, 200, 'DP', 'instancias/dinamica/DP-1200-200.txt'], ['dinamica', 'DP-1200-300', 1200, 300, 'DP', 'instancias/dinamica/DP-1200-300.txt'], ['dinamica', 'DP-1200-400', 1200, 400, 'DP', 'instancias/dinamica/DP-1200-400.txt'], ['dinamica', 'DP-1200-500', 1200, 500, 'DP', 'instancias/dinamica/DP-1200-500.txt'], ['dinamica', 'DP-1200-600', 1200, 600, 'DP', 'instancias/dinamica/DP-1200-600.txt'], ['dinamica', 'DP-1200-700', 1200, 700, 'DP', 'instancias/dinamica/DP-1200-700.txt'], ['dinamica', 'DP-1200-800', 1200, 800, 'DP', 'instancias/dinamica/DP-1200-800.txt'], ['dinamica', 'DP-1200-900', 1200, 900, 'DP', 'instancias/dinamica/DP-1200-900.txt'], ['dinamica', 'DP-1200-1000', 1200, 1000, 'DP', 'instancias/dinamica/DP-1200-1000.txt'], ['dinamica', 'DP-1200-1100', 1200, 1100, 'DP', 'instancias/dinamica/DP-1200-1100.txt'], ['dinamica', 'DP-1200-1200', 1200, 1200, 'DP', 'instancias/dinamica/DP-1200-1200.txt'], ['dinamica', 'DP-1200-1300', 1200, 1300, 'DP', 'instancias/dinamica/DP-1200-1300.txt'], ['dinamica', 'DP-1200-1400', 1200, 1400, 'DP', 'instancias/dinamica/DP-1200-1400.txt'], ['dinamica', 'DP-1300-200', 1300, 200, 'DP', 'instancias/dinamica/DP-1300-200.txt'], ['dinamica', 'DP-1300-300', 1300, 300, 'DP', 'instancias/dinamica/DP-1300-300.txt'], ['dinamica', 'DP-1300-400', 1300, 400, 'DP', 'instancias/dinamica/DP-1300-400.txt'], ['dinamica', 'DP-1300-500', 1300, 500, 'DP', 'instancias/dinamica/DP-1300-500.txt'], ['dinamica', 'DP-1300-600', 1300, 600, 'DP', 'instancias/dinamica/DP-1300-600.txt'], ['dinamica', 'DP-1300-700', 1300, 700, 'DP', 'instancias/dinamica/DP-1300-700.txt'], ['dinamica', 'DP-1300-800', 1300, 800, 'DP', 'instancias/dinamica/DP-1300-800.txt'], ['dinamica', 'DP-1300-900', 1300, 900, 'DP', 'instancias/dinamica/DP-1300-900.txt'], ['dinamica', 'DP-1300-1000', 1300, 1000, 'DP', 'instancias/dinamica/DP-1300-1000.txt'], ['dinamica', 'DP-1300-1100', 1300, 1100, 'DP', 'instancias/dinamica/DP-1300-1100.txt'], ['dinamica', 'DP-1300-1200', 1300, 1200, 'DP', 'instancias/dinamica/DP-1300-1200.txt'], ['dinamica', 'DP-1300-1300', 1300, 1300, 'DP', 'instancias/dinamica/DP-1300-1300.txt'], ['dinamica', 'DP-1300-1400', 1300, 1400, 'DP', 'instancias/dinamica/DP-1300-1400.txt'], ['dinamica', 'DP-1400-200', 1400, 200, 'DP', 'instancias/dinamica/DP-1400-200.txt'], ['dinamica', 'DP-1400-300', 1400, 300, 'DP', 'instancias/dinamica/DP-1400-300.txt'], ['dinamica', 'DP-1400-400', 1400, 400, 'DP', 'instancias/dinamica/DP-1400-400.txt'], ['dinamica', 'DP-1400-500', 1400, 500, 'DP', 'instancias/dinamica/DP-1400-500.txt'], ['dinamica', 'DP-1400-600', 1400, 600, 'DP', 'instancias/dinamica/DP-1400-600.txt'], ['dinamica', 'DP-1400-700', 1400, 700, 'DP', 'instancias/dinamica/DP-1400-700.txt'], ['dinamica', 'DP-1400-800', 1400, 800, 'DP', 'instancias/dinamica/DP-1400-800.txt'], ['dinamica', 'DP-1400-900', 1400, 900, 'DP', 'instancias/dinamica/DP-1400-900.txt'], ['dinamica', 'DP-1400-1000', 1400, 1000, 'DP', 'instancias/dinamica/DP-1400-1000.txt'], ['dinamica', 'DP-1400-1100', 1400, 1100, 'DP', 'instancias/dinamica/DP-1400-1100.txt'], ['dinamica', 'DP-1400-1200', 1400, 1200, 'DP', 'instancias/dinamica/DP-1400-1200.txt'], ['dinamica', 'DP-1400-1300', 1400, 1300, 'DP', 'instancias/dinamica/DP-1400-1300.txt'], ['dinamica', 'DP-1400-1400', 1400, 1400, 'DP', 'instancias/dinamica/DP-1400-1400.txt']]\n"
     ]
    }
   ],
   "source": [
    "# for i, row in df_random_bf.iterrows():\n",
    "#     # fila_n = df_dinamica.iloc[n]\n",
    "#     experimentos.append([row.dataset, row.instancia, row.n, row.M, \"BF\", row.archivo])\n",
    "    \n",
    "# for i, row in df_random_bt.iterrows():\n",
    "#     # fila_n = df_dinamica.iloc[n]\n",
    "#     experimentos.append([row.dataset, row.instancia, row.n, row.M, \"BT\", row.archivo])\n",
    "    \n",
    "# for i, row in df_mejor_caso_bt.iterrows():\n",
    "#     # fila_n = df_dinamica.iloc[n]\n",
    "#     experimentos.append([row.dataset, row.instancia, row.n, row.M, \"BT\", row.archivo])\n",
    "\n",
    "# for i, row in df_poda_fact_bt.iterrows():\n",
    "#     # fila_n = df_dinamica.iloc[n]\n",
    "#     experimentos.append([row.dataset, row.instancia, row.n, row.M, \"BT\", row.archivo])\n",
    "\n",
    "# for i, row in df_poda_opt_bt.iterrows():\n",
    "#     # fila_n = df_dinamica.iloc[n]\n",
    "#     experimentos.append([row.dataset, row.instancia, row.n, row.M, \"BT\", row.archivo])\n",
    "    \n",
    "# for i, row in df_peor_caso_bt.iterrows():\n",
    "#     # fila_n = df_dinamica.iloc[n]\n",
    "#     experimentos.append([row.dataset, row.instancia, row.n, row.M, \"BT\",row.archivo])\n",
    "    \n",
    "for i, row in df_dinamica.iterrows():\n",
    "    # fila_n = df_dinamica.iloc[n]\n",
    "    experimentos.append([row.dataset, row.instancia, row.n, row.M, \"DP\", row.archivo])\n",
    "    \n",
    "print(experimentos)"
   ]
  },
  {
   "cell_type": "markdown",
   "metadata": {},
   "source": [
    "## Experimento 2\n",
    "Correr BT para mejor y peor caso."
   ]
  },
  {
   "cell_type": "code",
   "execution_count": 8,
   "metadata": {},
   "outputs": [],
   "source": [
    "#for n in range(0, df_mejor_caso_bt.shape[0]):\n",
    "#    fila_n = df_mejor_caso_bt.iloc[n];\n",
    "#    experimentos.append([fila_n[\"dataset\"], n, fila_n[\"W\"], \"BT\", fila_n[\"archivo\"]]);\n",
    "#\n",
    "##for n in range(0, df_peor_caso_bt.shape[0]):\n",
    "#    fila_n = df_peor_caso_bt.iloc[n];\n",
    "#    experimentos.append([fila_n[\"dataset\"], n, fila_n[\"W\"], \"BT\", fila_n[\"archivo\"]]);"
   ]
  },
  {
   "cell_type": "markdown",
   "metadata": {},
   "source": [
    "## Experimento 3\n",
    "Correr BT, BT-F, BT-O para densidad alta y baja."
   ]
  },
  {
   "cell_type": "code",
   "execution_count": 9,
   "metadata": {},
   "outputs": [],
   "source": [
    "##for n in range(0, df_densidad_alta.shape[0]):\n",
    "#    fila_n = df_densidad_alta.iloc[n];\n",
    "#    experimentos.append([fila_n[\"dataset\"], n, fila_n[\"W\"], \"BT\", fila_n[\"archivo\"]]);\n",
    "#    experimentos.append([fila_n[\"dataset\"], n, fila_n[\"W\"], \"BT-F\", fila_n[\"archivo\"]]);\n",
    "#    experimentos.append([fila_n[\"dataset\"], n, fila_n[\"W\"], \"BT-O\", fila_n[\"archivo\"]]);\n",
    "#\n",
    "#for n in range(0, 30):\n",
    "#    fila_n = df_densidad_baja.iloc[n];\n",
    "#    experimentos.append([fila_n[\"dataset\"], n, fila_n[\"W\"], \"BT\", fila_n[\"archivo\"]]);\n",
    "#    experimentos.append([fila_n[\"dataset\"], n, fila_n[\"W\"], \"BT-F\", fila_n[\"archivo\"]]);\n",
    "#    experimentos.append([fila_n[\"dataset\"], n, fila_n[\"W\"], \"BT-O\", fila_n[\"archivo\"]]);"
   ]
  },
  {
   "cell_type": "markdown",
   "metadata": {},
   "source": [
    "# Experimento 4\n",
    "Correr DP para el dataset _dinamica_."
   ]
  },
  {
   "cell_type": "code",
   "execution_count": 10,
   "metadata": {},
   "outputs": [],
   "source": [
    "#for i in range(0, df_dinamica.shape[0]):\n",
    "#    fila = df_dinamica.iloc[i];\n",
    "#    experimentos.append([fila[\"dataset\"], fila[\"n\"], fila[\"W\"], \"DP\", fila[\"archivo\"]]);"
   ]
  },
  {
   "cell_type": "markdown",
   "metadata": {},
   "source": [
    "## Experimento 5\n",
    "Correr DP para el dataset densidad-alta y densidad-baja."
   ]
  },
  {
   "cell_type": "code",
   "execution_count": 11,
   "metadata": {},
   "outputs": [],
   "source": [
    "#for i in range(0, df_densidad_alta.shape[0]):\n",
    "#    fila = df_densidad_alta.iloc[i];\n",
    "#    experimentos.append([fila[\"dataset\"], fila[\"n\"], fila[\"W\"], \"DP\", fila[\"archivo\"]]);\n",
    "#\n",
    "#for i in range(0, df_densidad_baja.shape[0]):\n",
    "#    fila = df_densidad_baja.iloc[i];\n",
    "#    experimentos.append([fila[\"dataset\"], fila[\"n\"], fila[\"W\"], \"DP\", fila[\"archivo\"]]);"
   ]
  },
  {
   "cell_type": "markdown",
   "metadata": {},
   "source": [
    "## Ejecutar los experimentos y guardar los resultados en un archivo CSV.\n",
    "Este paso puede tardar unos minutos hasta terminar de ejecutarse."
   ]
  },
  {
   "cell_type": "code",
   "execution_count": 12,
   "metadata": {},
   "outputs": [
    {
     "name": "stderr",
     "output_type": "stream",
     "text": [
      "\r",
      "  0%|                                                   | 0/169 [00:00<?, ?it/s]"
     ]
    },
    {
     "name": "stdout",
     "output_type": "stream",
     "text": [
      "=======>200 200\n",
      "DP\n",
      "DP\n",
      "DP\n",
      "DP\n",
      "DP\n"
     ]
    },
    {
     "name": "stderr",
     "output_type": "stream",
     "text": [
      "\r",
      "  1%|▎                                          | 1/169 [00:00<00:28,  5.84it/s]"
     ]
    },
    {
     "name": "stdout",
     "output_type": "stream",
     "text": [
      "-----------------------26.900138\n",
      "=======>200 300\n",
      "DP\n"
     ]
    },
    {
     "name": "stderr",
     "output_type": "stream",
     "text": [
      "\r",
      "  1%|▌                                          | 2/169 [00:00<00:29,  5.63it/s]"
     ]
    },
    {
     "name": "stdout",
     "output_type": "stream",
     "text": [
      "DP\n",
      "DP\n",
      "DP\n",
      "DP\n",
      "-----------------------33.563846\n",
      "=======>200 400\n",
      "DP\n",
      "DP\n"
     ]
    },
    {
     "name": "stderr",
     "output_type": "stream",
     "text": [
      "\r",
      "  2%|▊                                          | 3/169 [00:00<00:30,  5.42it/s]"
     ]
    },
    {
     "name": "stdout",
     "output_type": "stream",
     "text": [
      "DP\n",
      "DP\n",
      "DP\n",
      "-----------------------38.676276\n",
      "=======>200 500\n",
      "DP\n",
      "DP\n",
      "DP\n"
     ]
    },
    {
     "name": "stderr",
     "output_type": "stream",
     "text": [
      "\r",
      "  2%|█                                          | 4/169 [00:00<00:32,  5.09it/s]"
     ]
    },
    {
     "name": "stdout",
     "output_type": "stream",
     "text": [
      "DP\n",
      "DP\n",
      "-----------------------41.942686\n",
      "=======>200 600\n",
      "DP\n",
      "DP\n",
      "DP\n"
     ]
    },
    {
     "name": "stderr",
     "output_type": "stream",
     "text": [
      "\r",
      "  3%|█▎                                         | 5/169 [00:00<00:34,  4.77it/s]"
     ]
    },
    {
     "name": "stdout",
     "output_type": "stream",
     "text": [
      "DP\n",
      "DP\n",
      "-----------------------46.944824\n",
      "=======>200 700\n",
      "DP\n",
      "DP\n"
     ]
    },
    {
     "name": "stderr",
     "output_type": "stream",
     "text": [
      "\r",
      "  4%|█▌                                         | 6/169 [00:01<00:37,  4.40it/s]"
     ]
    },
    {
     "name": "stdout",
     "output_type": "stream",
     "text": [
      "DP\n",
      "DP\n",
      "DP\n",
      "-----------------------52.433995\n",
      "=======>200 800\n",
      "DP\n",
      "DP\n",
      "DP\n",
      "DP\n",
      "DP\n"
     ]
    },
    {
     "name": "stderr",
     "output_type": "stream",
     "text": [
      "\r",
      "  4%|█▊                                         | 7/169 [00:01<00:39,  4.07it/s]"
     ]
    },
    {
     "name": "stdout",
     "output_type": "stream",
     "text": [
      "-----------------------53.286705\n",
      "=======>200 900\n",
      "DP\n",
      "DP\n",
      "DP\n",
      "DP\n"
     ]
    },
    {
     "name": "stderr",
     "output_type": "stream",
     "text": [
      "\r",
      "  5%|██                                         | 8/169 [00:01<00:43,  3.71it/s]"
     ]
    },
    {
     "name": "stdout",
     "output_type": "stream",
     "text": [
      "DP\n",
      "-----------------------59.921338\n",
      "=======>200 1000\n",
      "DP\n",
      "DP\n",
      "DP\n"
     ]
    },
    {
     "name": "stderr",
     "output_type": "stream",
     "text": [
      "\r",
      "  5%|██▎                                        | 9/169 [00:02<00:46,  3.46it/s]"
     ]
    },
    {
     "name": "stdout",
     "output_type": "stream",
     "text": [
      "DP\n",
      "DP\n",
      "-----------------------63.084983\n",
      "=======>200 1100\n",
      "DP\n",
      "DP\n",
      "DP\n",
      "DP\n",
      "DP\n"
     ]
    },
    {
     "name": "stderr",
     "output_type": "stream",
     "text": [
      "\r",
      "  6%|██▍                                       | 10/169 [00:02<00:49,  3.20it/s]"
     ]
    },
    {
     "name": "stdout",
     "output_type": "stream",
     "text": [
      "-----------------------70.113063\n",
      "=======>200 1200\n",
      "DP\n",
      "DP\n",
      "DP\n"
     ]
    },
    {
     "name": "stderr",
     "output_type": "stream",
     "text": [
      "\r",
      "  7%|██▋                                       | 11/169 [00:02<00:54,  2.90it/s]"
     ]
    },
    {
     "name": "stdout",
     "output_type": "stream",
     "text": [
      "DP\n",
      "DP\n",
      "-----------------------74.319798\n",
      "=======>200 1300\n",
      "DP\n",
      "DP\n",
      "DP\n",
      "DP\n"
     ]
    },
    {
     "name": "stderr",
     "output_type": "stream",
     "text": [
      "\r",
      "  7%|██▉                                       | 12/169 [00:03<00:58,  2.70it/s]"
     ]
    },
    {
     "name": "stdout",
     "output_type": "stream",
     "text": [
      "DP\n",
      "-----------------------84.569605\n",
      "=======>200 1400\n",
      "DP\n",
      "DP\n",
      "DP\n",
      "DP\n",
      "DP\n"
     ]
    },
    {
     "name": "stderr",
     "output_type": "stream",
     "text": [
      "  8%|███▍                                      | 14/169 [00:03<00:47,  3.24it/s]"
     ]
    },
    {
     "name": "stdout",
     "output_type": "stream",
     "text": [
      "-----------------------87.13457\n",
      "=======>300 200\n",
      "DP\n",
      "DP\n",
      "DP\n",
      "DP\n",
      "DP\n",
      "-----------------------22.835332\n",
      "=======>300 300\n",
      "DP\n",
      "DP\n",
      "DP\n"
     ]
    },
    {
     "name": "stderr",
     "output_type": "stream",
     "text": [
      "\r",
      "  9%|███▋                                      | 15/169 [00:04<00:41,  3.75it/s]"
     ]
    },
    {
     "name": "stdout",
     "output_type": "stream",
     "text": [
      "DP\n",
      "DP\n",
      "-----------------------33.129\n",
      "=======>300 400\n",
      "DP\n",
      "DP\n",
      "DP\n",
      "DP\n"
     ]
    },
    {
     "name": "stderr",
     "output_type": "stream",
     "text": [
      "\r",
      "  9%|███▉                                      | 16/169 [00:04<00:38,  4.01it/s]"
     ]
    },
    {
     "name": "stdout",
     "output_type": "stream",
     "text": [
      "DP\n",
      "-----------------------41.490538\n",
      "=======>300 500\n",
      "DP\n",
      "DP\n",
      "DP\n",
      "DP\n"
     ]
    },
    {
     "name": "stderr",
     "output_type": "stream",
     "text": [
      "\r",
      " 10%|████▏                                     | 17/169 [00:04<00:38,  3.97it/s]"
     ]
    },
    {
     "name": "stdout",
     "output_type": "stream",
     "text": [
      "DP\n",
      "-----------------------50.18028\n",
      "=======>300 600\n",
      "DP\n",
      "DP\n",
      "DP\n"
     ]
    },
    {
     "name": "stderr",
     "output_type": "stream",
     "text": [
      "\r",
      " 11%|████▍                                     | 18/169 [00:04<00:40,  3.76it/s]"
     ]
    },
    {
     "name": "stdout",
     "output_type": "stream",
     "text": [
      "DP\n",
      "DP\n",
      "-----------------------58.614449\n",
      "=======>300 700\n",
      "DP\n",
      "DP\n"
     ]
    },
    {
     "name": "stderr",
     "output_type": "stream",
     "text": [
      "\r",
      " 11%|████▋                                     | 19/169 [00:05<00:43,  3.47it/s]"
     ]
    },
    {
     "name": "stdout",
     "output_type": "stream",
     "text": [
      "DP\n",
      "DP\n",
      "DP\n",
      "-----------------------66.974162\n",
      "=======>300 800\n",
      "DP\n",
      "DP\n",
      "DP\n",
      "DP\n"
     ]
    },
    {
     "name": "stderr",
     "output_type": "stream",
     "text": [
      "\r",
      " 12%|████▉                                     | 20/169 [00:05<00:47,  3.11it/s]"
     ]
    },
    {
     "name": "stdout",
     "output_type": "stream",
     "text": [
      "DP\n",
      "-----------------------79.140413\n",
      "=======>300 900\n",
      "DP\n",
      "DP\n",
      "DP\n",
      "DP\n",
      "DP\n"
     ]
    },
    {
     "name": "stderr",
     "output_type": "stream",
     "text": [
      "\r",
      " 12%|█████▏                                    | 21/169 [00:06<00:52,  2.79it/s]"
     ]
    },
    {
     "name": "stdout",
     "output_type": "stream",
     "text": [
      "-----------------------88.213276\n",
      "=======>300 1000\n",
      "DP\n",
      "DP\n",
      "DP\n"
     ]
    },
    {
     "name": "stderr",
     "output_type": "stream",
     "text": [
      "\r",
      " 13%|█████▍                                    | 22/169 [00:06<00:58,  2.53it/s]"
     ]
    },
    {
     "name": "stdout",
     "output_type": "stream",
     "text": [
      "DP\n",
      "DP\n",
      "-----------------------95.046732\n",
      "=======>300 1100\n",
      "DP\n",
      "DP\n",
      "DP\n",
      "DP\n",
      "DP\n"
     ]
    },
    {
     "name": "stderr",
     "output_type": "stream",
     "text": [
      "\r",
      " 14%|█████▋                                    | 23/169 [00:07<01:03,  2.31it/s]"
     ]
    },
    {
     "name": "stdout",
     "output_type": "stream",
     "text": [
      "-----------------------100.901033\n",
      "=======>300 1200\n",
      "DP\n",
      "DP\n",
      "DP\n",
      "DP\n"
     ]
    },
    {
     "name": "stderr",
     "output_type": "stream",
     "text": [
      "\r",
      " 14%|█████▉                                    | 24/169 [00:07<01:08,  2.10it/s]"
     ]
    },
    {
     "name": "stdout",
     "output_type": "stream",
     "text": [
      "DP\n",
      "-----------------------114.989056\n",
      "=======>300 1300\n",
      "DP\n",
      "DP\n",
      "DP\n",
      "DP\n",
      "DP\n"
     ]
    },
    {
     "name": "stderr",
     "output_type": "stream",
     "text": [
      "\r",
      " 15%|██████▏                                   | 25/169 [00:08<01:18,  1.84it/s]"
     ]
    },
    {
     "name": "stdout",
     "output_type": "stream",
     "text": [
      "-----------------------129.962118\n",
      "=======>300 1400\n",
      "DP\n",
      "DP\n",
      "DP\n",
      "DP\n"
     ]
    },
    {
     "name": "stderr",
     "output_type": "stream",
     "text": [
      "\r",
      " 15%|██████▍                                   | 26/169 [00:09<01:29,  1.60it/s]"
     ]
    },
    {
     "name": "stdout",
     "output_type": "stream",
     "text": [
      "DP\n",
      "-----------------------137.592886\n",
      "=======>400 200\n",
      "DP\n",
      "DP\n"
     ]
    },
    {
     "name": "stderr",
     "output_type": "stream",
     "text": [
      "\r",
      " 16%|██████▋                                   | 27/169 [00:09<01:12,  1.97it/s]"
     ]
    },
    {
     "name": "stdout",
     "output_type": "stream",
     "text": [
      "DP\n",
      "DP\n",
      "DP\n",
      "-----------------------48.689479\n",
      "=======>400 300\n",
      "DP\n",
      "DP\n",
      "DP\n",
      "DP\n",
      "DP\n"
     ]
    },
    {
     "name": "stderr",
     "output_type": "stream",
     "text": [
      "\r",
      " 17%|██████▉                                   | 28/169 [00:09<01:04,  2.19it/s]"
     ]
    },
    {
     "name": "stdout",
     "output_type": "stream",
     "text": [
      "-----------------------65.138779\n",
      "=======>400 400\n",
      "DP\n",
      "DP\n",
      "DP\n"
     ]
    },
    {
     "name": "stderr",
     "output_type": "stream",
     "text": [
      "\r",
      " 17%|███████▏                                  | 29/169 [00:10<00:59,  2.35it/s]"
     ]
    },
    {
     "name": "stdout",
     "output_type": "stream",
     "text": [
      "DP\n",
      "DP\n",
      "-----------------------69.226784\n",
      "=======>400 500\n",
      "DP\n",
      "DP\n",
      "DP\n",
      "DP\n"
     ]
    },
    {
     "name": "stderr",
     "output_type": "stream",
     "text": [
      "\r",
      " 18%|███████▍                                  | 30/169 [00:10<00:57,  2.43it/s]"
     ]
    },
    {
     "name": "stdout",
     "output_type": "stream",
     "text": [
      "DP\n",
      "-----------------------68.766775\n",
      "=======>400 600\n",
      "DP\n",
      "DP\n",
      "DP\n",
      "DP\n",
      "DP\n"
     ]
    },
    {
     "name": "stderr",
     "output_type": "stream",
     "text": [
      "\r",
      " 18%|███████▋                                  | 31/169 [00:10<00:56,  2.46it/s]"
     ]
    },
    {
     "name": "stdout",
     "output_type": "stream",
     "text": [
      "-----------------------77.185204\n",
      "=======>400 700\n",
      "DP\n",
      "DP\n",
      "DP\n"
     ]
    },
    {
     "name": "stderr",
     "output_type": "stream",
     "text": [
      "\r",
      " 19%|███████▉                                  | 32/169 [00:11<00:57,  2.38it/s]"
     ]
    },
    {
     "name": "stdout",
     "output_type": "stream",
     "text": [
      "DP\n",
      "DP\n",
      "-----------------------89.462577\n",
      "=======>400 800\n",
      "DP\n",
      "DP\n",
      "DP\n",
      "DP\n",
      "DP\n"
     ]
    },
    {
     "name": "stderr",
     "output_type": "stream",
     "text": [
      "\r",
      " 20%|████████▏                                 | 33/169 [00:11<01:00,  2.23it/s]"
     ]
    },
    {
     "name": "stdout",
     "output_type": "stream",
     "text": [
      "-----------------------100.716196\n",
      "=======>400 900\n",
      "DP\n",
      "DP\n",
      "DP\n",
      "DP\n"
     ]
    },
    {
     "name": "stderr",
     "output_type": "stream",
     "text": [
      "\r",
      " 20%|████████▍                                 | 34/169 [00:12<01:05,  2.06it/s]"
     ]
    },
    {
     "name": "stdout",
     "output_type": "stream",
     "text": [
      "DP\n",
      "-----------------------113.000683\n",
      "=======>400 1000\n",
      "DP\n",
      "DP\n",
      "DP\n",
      "DP\n",
      "DP\n"
     ]
    },
    {
     "name": "stderr",
     "output_type": "stream",
     "text": [
      "\r",
      " 21%|████████▋                                 | 35/169 [00:13<01:11,  1.88it/s]"
     ]
    },
    {
     "name": "stdout",
     "output_type": "stream",
     "text": [
      "-----------------------126.860069\n",
      "=======>400 1100\n",
      "DP\n",
      "DP\n",
      "DP\n",
      "DP\n"
     ]
    },
    {
     "name": "stderr",
     "output_type": "stream",
     "text": [
      "\r",
      " 21%|████████▉                                 | 36/169 [00:13<01:17,  1.73it/s]"
     ]
    },
    {
     "name": "stdout",
     "output_type": "stream",
     "text": [
      "DP\n",
      "-----------------------138.148418\n",
      "=======>400 1200\n",
      "DP\n",
      "DP\n",
      "DP\n",
      "DP\n",
      "DP\n"
     ]
    },
    {
     "name": "stderr",
     "output_type": "stream",
     "text": [
      "\r",
      " 22%|█████████▏                                | 37/169 [00:14<01:23,  1.58it/s]"
     ]
    },
    {
     "name": "stdout",
     "output_type": "stream",
     "text": [
      "-----------------------150.608512\n",
      "=======>400 1300\n",
      "DP\n",
      "DP\n",
      "DP\n",
      "DP\n"
     ]
    },
    {
     "name": "stderr",
     "output_type": "stream",
     "text": [
      "\r",
      " 22%|█████████▍                                | 38/169 [00:15<01:30,  1.45it/s]"
     ]
    },
    {
     "name": "stdout",
     "output_type": "stream",
     "text": [
      "DP\n",
      "-----------------------162.9365\n",
      "=======>400 1400\n",
      "DP\n",
      "DP\n",
      "DP\n",
      "DP\n",
      "DP\n"
     ]
    },
    {
     "name": "stderr",
     "output_type": "stream",
     "text": [
      " 24%|█████████▉                                | 40/169 [00:16<01:14,  1.74it/s]"
     ]
    },
    {
     "name": "stdout",
     "output_type": "stream",
     "text": [
      "-----------------------175.859742\n",
      "=======>500 200\n",
      "DP\n",
      "DP\n",
      "DP\n",
      "DP\n",
      "DP\n",
      "-----------------------34.76707\n",
      "=======>500 300\n",
      "DP\n",
      "DP\n",
      "DP\n",
      "DP\n",
      "DP\n"
     ]
    },
    {
     "name": "stderr",
     "output_type": "stream",
     "text": [
      "\r",
      " 24%|██████████▏                               | 41/169 [00:16<01:01,  2.07it/s]"
     ]
    },
    {
     "name": "stdout",
     "output_type": "stream",
     "text": [
      "-----------------------51.161692\n",
      "=======>500 400\n",
      "DP\n",
      "DP\n",
      "DP\n"
     ]
    },
    {
     "name": "stderr",
     "output_type": "stream",
     "text": [
      "\r",
      " 25%|██████████▍                               | 42/169 [00:16<00:56,  2.27it/s]"
     ]
    },
    {
     "name": "stdout",
     "output_type": "stream",
     "text": [
      "DP\n",
      "DP\n",
      "-----------------------68.560576\n",
      "=======>500 500\n",
      "DP\n",
      "DP\n",
      "DP\n",
      "DP\n"
     ]
    },
    {
     "name": "stderr",
     "output_type": "stream",
     "text": [
      "\r",
      " 25%|██████████▋                               | 43/169 [00:17<00:54,  2.32it/s]"
     ]
    },
    {
     "name": "stdout",
     "output_type": "stream",
     "text": [
      "DP\n",
      "-----------------------81.94075\n",
      "=======>500 600\n",
      "DP\n",
      "DP\n",
      "DP\n",
      "DP\n",
      "DP\n"
     ]
    },
    {
     "name": "stderr",
     "output_type": "stream",
     "text": [
      "\r",
      " 26%|██████████▉                               | 44/169 [00:17<00:56,  2.23it/s]"
     ]
    },
    {
     "name": "stdout",
     "output_type": "stream",
     "text": [
      "-----------------------97.886924\n",
      "=======>500 700\n",
      "DP\n",
      "DP\n",
      "DP\n",
      "DP\n"
     ]
    },
    {
     "name": "stderr",
     "output_type": "stream",
     "text": [
      "\r",
      " 27%|███████████▏                              | 45/169 [00:18<00:59,  2.08it/s]"
     ]
    },
    {
     "name": "stdout",
     "output_type": "stream",
     "text": [
      "DP\n",
      "-----------------------111.120651\n",
      "=======>500 800\n",
      "DP\n",
      "DP\n",
      "DP\n",
      "DP\n",
      "DP\n"
     ]
    },
    {
     "name": "stderr",
     "output_type": "stream",
     "text": [
      "\r",
      " 27%|███████████▍                              | 46/169 [00:19<01:04,  1.89it/s]"
     ]
    },
    {
     "name": "stdout",
     "output_type": "stream",
     "text": [
      "-----------------------125.218234\n",
      "=======>500 900\n",
      "DP\n",
      "DP\n",
      "DP\n",
      "DP\n"
     ]
    },
    {
     "name": "stderr",
     "output_type": "stream",
     "text": [
      "\r",
      " 28%|███████████▋                              | 47/169 [00:19<01:11,  1.72it/s]"
     ]
    },
    {
     "name": "stdout",
     "output_type": "stream",
     "text": [
      "DP\n",
      "-----------------------142.55447\n",
      "=======>500 1000\n",
      "DP\n",
      "DP\n",
      "DP\n",
      "DP\n",
      "DP\n"
     ]
    },
    {
     "name": "stderr",
     "output_type": "stream",
     "text": [
      "\r",
      " 28%|███████████▉                              | 48/169 [00:20<01:18,  1.54it/s]"
     ]
    },
    {
     "name": "stdout",
     "output_type": "stream",
     "text": [
      "-----------------------158.460013\n",
      "=======>500 1100\n",
      "DP\n",
      "DP\n",
      "DP\n",
      "DP\n"
     ]
    },
    {
     "name": "stderr",
     "output_type": "stream",
     "text": [
      "\r",
      " 29%|████████████▏                             | 49/169 [00:21<01:26,  1.39it/s]"
     ]
    },
    {
     "name": "stdout",
     "output_type": "stream",
     "text": [
      "DP\n",
      "-----------------------171.967028\n",
      "=======>500 1200\n",
      "DP\n",
      "DP\n",
      "DP\n",
      "DP\n",
      "DP\n"
     ]
    },
    {
     "name": "stderr",
     "output_type": "stream",
     "text": [
      "\r",
      " 30%|████████████▍                             | 50/169 [00:22<01:33,  1.28it/s]"
     ]
    },
    {
     "name": "stdout",
     "output_type": "stream",
     "text": [
      "-----------------------188.794738\n",
      "=======>500 1300\n",
      "DP\n",
      "DP\n",
      "DP\n",
      "DP\n",
      "DP\n"
     ]
    },
    {
     "name": "stderr",
     "output_type": "stream",
     "text": [
      "\r",
      " 30%|████████████▋                             | 51/169 [00:23<01:39,  1.18it/s]"
     ]
    },
    {
     "name": "stdout",
     "output_type": "stream",
     "text": [
      "-----------------------199.119536\n",
      "=======>500 1400\n",
      "DP\n",
      "DP\n",
      "DP\n",
      "DP\n",
      "DP\n"
     ]
    },
    {
     "name": "stderr",
     "output_type": "stream",
     "text": [
      "\r",
      " 31%|████████████▉                             | 52/169 [00:24<01:47,  1.09it/s]"
     ]
    },
    {
     "name": "stdout",
     "output_type": "stream",
     "text": [
      "-----------------------213.317218\n",
      "=======>600 200\n",
      "DP\n",
      "DP\n",
      "DP\n",
      "DP\n",
      "DP\n"
     ]
    },
    {
     "name": "stderr",
     "output_type": "stream",
     "text": [
      "\r",
      " 31%|█████████████▏                            | 53/169 [00:24<01:22,  1.41it/s]"
     ]
    },
    {
     "name": "stdout",
     "output_type": "stream",
     "text": [
      "-----------------------41.48942\n",
      "=======>600 300\n",
      "DP\n",
      "DP\n",
      "DP\n",
      "DP\n"
     ]
    },
    {
     "name": "stderr",
     "output_type": "stream",
     "text": [
      "\r",
      " 32%|█████████████▍                            | 54/169 [00:25<01:07,  1.70it/s]"
     ]
    },
    {
     "name": "stdout",
     "output_type": "stream",
     "text": [
      "DP\n",
      "-----------------------59.835486\n",
      "=======>600 400\n",
      "DP\n",
      "DP\n",
      "DP\n",
      "DP\n",
      "DP\n"
     ]
    },
    {
     "name": "stderr",
     "output_type": "stream",
     "text": [
      "\r",
      " 33%|█████████████▋                            | 55/169 [00:25<01:00,  1.89it/s]"
     ]
    },
    {
     "name": "stdout",
     "output_type": "stream",
     "text": [
      "-----------------------77.606429\n",
      "=======>600 500\n",
      "DP\n",
      "DP\n",
      "DP\n"
     ]
    },
    {
     "name": "stderr",
     "output_type": "stream",
     "text": [
      "\r",
      " 33%|█████████████▉                            | 56/169 [00:25<00:57,  1.96it/s]"
     ]
    },
    {
     "name": "stdout",
     "output_type": "stream",
     "text": [
      "DP\n",
      "DP\n",
      "-----------------------92.397623\n",
      "=======>600 600\n",
      "DP\n",
      "DP\n",
      "DP\n",
      "DP\n",
      "DP\n"
     ]
    },
    {
     "name": "stderr",
     "output_type": "stream",
     "text": [
      "\r",
      " 34%|██████████████▏                           | 57/169 [00:26<00:59,  1.90it/s]"
     ]
    },
    {
     "name": "stdout",
     "output_type": "stream",
     "text": [
      "-----------------------111.528338\n",
      "=======>600 700\n",
      "DP\n",
      "DP\n",
      "DP\n",
      "DP\n"
     ]
    },
    {
     "name": "stderr",
     "output_type": "stream",
     "text": [
      "\r",
      " 34%|██████████████▍                           | 58/169 [00:27<01:02,  1.77it/s]"
     ]
    },
    {
     "name": "stdout",
     "output_type": "stream",
     "text": [
      "DP\n",
      "-----------------------132.104075\n",
      "=======>600 800\n",
      "DP\n",
      "DP\n",
      "DP\n",
      "DP\n",
      "DP\n"
     ]
    },
    {
     "name": "stderr",
     "output_type": "stream",
     "text": [
      "\r",
      " 35%|██████████████▋                           | 59/169 [00:27<01:08,  1.60it/s]"
     ]
    },
    {
     "name": "stdout",
     "output_type": "stream",
     "text": [
      "-----------------------152.344441\n",
      "=======>600 900\n",
      "DP\n",
      "DP\n",
      "DP\n",
      "DP\n"
     ]
    },
    {
     "name": "stderr",
     "output_type": "stream",
     "text": [
      "\r",
      " 36%|██████████████▉                           | 60/169 [00:28<01:15,  1.45it/s]"
     ]
    },
    {
     "name": "stdout",
     "output_type": "stream",
     "text": [
      "DP\n",
      "-----------------------168.414207\n",
      "=======>600 1000\n",
      "DP\n",
      "DP\n",
      "DP\n",
      "DP\n",
      "DP\n"
     ]
    },
    {
     "name": "stderr",
     "output_type": "stream",
     "text": [
      "\r",
      " 36%|███████████████▏                          | 61/169 [00:29<01:22,  1.31it/s]"
     ]
    },
    {
     "name": "stdout",
     "output_type": "stream",
     "text": [
      "-----------------------187.168806\n",
      "=======>600 1100\n",
      "DP\n",
      "DP\n",
      "DP\n",
      "DP\n"
     ]
    },
    {
     "name": "stderr",
     "output_type": "stream",
     "text": [
      "\r",
      " 37%|███████████████▍                          | 62/169 [00:30<01:29,  1.20it/s]"
     ]
    },
    {
     "name": "stdout",
     "output_type": "stream",
     "text": [
      "DP\n",
      "-----------------------201.125236\n",
      "=======>600 1200\n",
      "DP\n",
      "DP\n",
      "DP\n",
      "DP\n",
      "DP\n"
     ]
    },
    {
     "name": "stderr",
     "output_type": "stream",
     "text": [
      "\r",
      " 37%|███████████████▋                          | 63/169 [00:31<01:37,  1.09it/s]"
     ]
    },
    {
     "name": "stdout",
     "output_type": "stream",
     "text": [
      "-----------------------218.572842\n",
      "=======>600 1300\n",
      "DP\n",
      "DP\n",
      "DP\n",
      "DP\n",
      "DP\n"
     ]
    },
    {
     "name": "stderr",
     "output_type": "stream",
     "text": [
      "\r",
      " 38%|███████████████▉                          | 64/169 [00:32<01:44,  1.00it/s]"
     ]
    },
    {
     "name": "stdout",
     "output_type": "stream",
     "text": [
      "-----------------------235.254463\n",
      "=======>600 1400\n",
      "DP\n",
      "DP\n",
      "DP\n",
      "DP\n",
      "DP\n"
     ]
    },
    {
     "name": "stderr",
     "output_type": "stream",
     "text": [
      "\r",
      " 38%|████████████████▏                         | 65/169 [00:34<01:51,  1.08s/it]"
     ]
    },
    {
     "name": "stdout",
     "output_type": "stream",
     "text": [
      "-----------------------251.497872\n",
      "=======>700 200\n",
      "DP\n",
      "DP\n",
      "DP\n",
      "DP\n",
      "DP\n"
     ]
    },
    {
     "name": "stderr",
     "output_type": "stream",
     "text": [
      "\r",
      " 39%|████████████████▍                         | 66/169 [00:34<01:24,  1.21it/s]"
     ]
    },
    {
     "name": "stdout",
     "output_type": "stream",
     "text": [
      "-----------------------46.19849\n",
      "=======>700 300\n",
      "DP\n",
      "DP\n",
      "DP\n"
     ]
    },
    {
     "name": "stderr",
     "output_type": "stream",
     "text": [
      "\r",
      " 40%|████████████████▋                         | 67/169 [00:34<01:09,  1.47it/s]"
     ]
    },
    {
     "name": "stdout",
     "output_type": "stream",
     "text": [
      "DP\n",
      "DP\n",
      "-----------------------67.925202\n",
      "=======>700 400\n",
      "DP\n",
      "DP\n",
      "DP\n",
      "DP\n"
     ]
    },
    {
     "name": "stderr",
     "output_type": "stream",
     "text": [
      "\r",
      " 40%|████████████████▉                         | 68/169 [00:35<01:01,  1.63it/s]"
     ]
    },
    {
     "name": "stdout",
     "output_type": "stream",
     "text": [
      "DP\n",
      "-----------------------89.47051\n",
      "=======>700 500\n",
      "DP\n",
      "DP\n",
      "DP\n",
      "DP\n",
      "DP\n"
     ]
    },
    {
     "name": "stderr",
     "output_type": "stream",
     "text": [
      "\r",
      " 41%|█████████████████▏                        | 69/169 [00:35<00:59,  1.68it/s]"
     ]
    },
    {
     "name": "stdout",
     "output_type": "stream",
     "text": [
      "-----------------------110.175776\n",
      "=======>700 600\n",
      "DP\n",
      "DP\n",
      "DP\n",
      "DP\n"
     ]
    },
    {
     "name": "stderr",
     "output_type": "stream",
     "text": [
      "\r",
      " 41%|█████████████████▍                        | 70/169 [00:36<01:00,  1.63it/s]"
     ]
    },
    {
     "name": "stdout",
     "output_type": "stream",
     "text": [
      "DP\n",
      "-----------------------130.734352\n",
      "=======>700 700\n",
      "DP\n",
      "DP\n",
      "DP\n",
      "DP\n",
      "DP\n"
     ]
    },
    {
     "name": "stderr",
     "output_type": "stream",
     "text": [
      "\r",
      " 42%|█████████████████▋                        | 71/169 [00:37<01:04,  1.51it/s]"
     ]
    },
    {
     "name": "stdout",
     "output_type": "stream",
     "text": [
      "-----------------------155.131614\n",
      "=======>700 800\n",
      "DP\n",
      "DP\n",
      "DP\n",
      "DP\n"
     ]
    },
    {
     "name": "stderr",
     "output_type": "stream",
     "text": [
      "\r",
      " 43%|█████████████████▉                        | 72/169 [00:38<01:10,  1.38it/s]"
     ]
    },
    {
     "name": "stdout",
     "output_type": "stream",
     "text": [
      "DP\n",
      "-----------------------174.570466\n",
      "=======>700 900\n",
      "DP\n",
      "DP\n",
      "DP\n",
      "DP\n",
      "DP\n"
     ]
    },
    {
     "name": "stderr",
     "output_type": "stream",
     "text": [
      "\r",
      " 43%|██████████████████▏                       | 73/169 [00:39<01:16,  1.25it/s]"
     ]
    },
    {
     "name": "stdout",
     "output_type": "stream",
     "text": [
      "-----------------------191.335423\n",
      "=======>700 1000\n",
      "DP\n",
      "DP\n",
      "DP\n",
      "DP\n",
      "DP\n"
     ]
    },
    {
     "name": "stderr",
     "output_type": "stream",
     "text": [
      "\r",
      " 44%|██████████████████▍                       | 74/169 [00:40<01:24,  1.12it/s]"
     ]
    },
    {
     "name": "stdout",
     "output_type": "stream",
     "text": [
      "-----------------------214.622624\n",
      "=======>700 1100\n",
      "DP\n",
      "DP\n",
      "DP\n",
      "DP\n",
      "DP\n"
     ]
    },
    {
     "name": "stderr",
     "output_type": "stream",
     "text": [
      "\r",
      " 44%|██████████████████▋                       | 75/169 [00:41<01:32,  1.02it/s]"
     ]
    },
    {
     "name": "stdout",
     "output_type": "stream",
     "text": [
      "-----------------------230.396888\n",
      "=======>700 1200\n",
      "DP\n",
      "DP\n",
      "DP\n",
      "DP\n",
      "DP\n"
     ]
    },
    {
     "name": "stderr",
     "output_type": "stream",
     "text": [
      "\r",
      " 45%|██████████████████▉                       | 76/169 [00:42<01:39,  1.07s/it]"
     ]
    },
    {
     "name": "stdout",
     "output_type": "stream",
     "text": [
      "-----------------------250.812945\n",
      "=======>700 1300\n",
      "DP\n",
      "DP\n",
      "DP\n",
      "DP\n",
      "DP\n"
     ]
    },
    {
     "name": "stderr",
     "output_type": "stream",
     "text": [
      "\r",
      " 46%|███████████████████▏                      | 77/169 [00:44<02:03,  1.35s/it]"
     ]
    },
    {
     "name": "stdout",
     "output_type": "stream",
     "text": [
      "-----------------------404.277246\n",
      "=======>700 1400\n",
      "DP\n",
      "DP\n",
      "DP\n",
      "DP\n",
      "DP\n"
     ]
    },
    {
     "name": "stderr",
     "output_type": "stream",
     "text": [
      "\r",
      " 46%|███████████████████▍                      | 78/169 [00:46<02:15,  1.49s/it]"
     ]
    },
    {
     "name": "stdout",
     "output_type": "stream",
     "text": [
      "-----------------------375.517689\n",
      "=======>800 200\n",
      "DP\n",
      "DP\n",
      "DP\n"
     ]
    },
    {
     "name": "stderr",
     "output_type": "stream",
     "text": [
      "\r",
      " 47%|███████████████████▋                      | 79/169 [00:46<01:43,  1.15s/it]"
     ]
    },
    {
     "name": "stdout",
     "output_type": "stream",
     "text": [
      "DP\n",
      "DP\n",
      "-----------------------76.084674\n",
      "=======>800 300\n",
      "DP\n",
      "DP\n",
      "DP\n",
      "DP\n"
     ]
    },
    {
     "name": "stderr",
     "output_type": "stream",
     "text": [
      "\r",
      " 47%|███████████████████▉                      | 80/169 [00:47<01:24,  1.05it/s]"
     ]
    },
    {
     "name": "stdout",
     "output_type": "stream",
     "text": [
      "DP\n",
      "-----------------------91.163886\n",
      "=======>800 400\n",
      "DP\n",
      "DP\n",
      "DP\n",
      "DP\n",
      "DP\n"
     ]
    },
    {
     "name": "stderr",
     "output_type": "stream",
     "text": [
      "\r",
      " 48%|████████████████████▏                     | 81/169 [00:47<01:11,  1.23it/s]"
     ]
    },
    {
     "name": "stdout",
     "output_type": "stream",
     "text": [
      "-----------------------100.921825\n",
      "=======>800 500\n",
      "DP\n",
      "DP\n",
      "DP\n",
      "DP\n"
     ]
    },
    {
     "name": "stderr",
     "output_type": "stream",
     "text": [
      "\r",
      " 49%|████████████████████▍                     | 82/169 [00:48<01:05,  1.32it/s]"
     ]
    },
    {
     "name": "stdout",
     "output_type": "stream",
     "text": [
      "DP\n",
      "-----------------------121.333682\n",
      "=======>800 600\n",
      "DP\n",
      "DP\n",
      "DP\n",
      "DP\n",
      "DP\n"
     ]
    },
    {
     "name": "stderr",
     "output_type": "stream",
     "text": [
      "\r",
      " 49%|████████████████████▋                     | 83/169 [00:49<01:04,  1.33it/s]"
     ]
    },
    {
     "name": "stdout",
     "output_type": "stream",
     "text": [
      "-----------------------148.796151\n",
      "=======>800 700\n",
      "DP\n",
      "DP\n",
      "DP\n",
      "DP\n"
     ]
    },
    {
     "name": "stderr",
     "output_type": "stream",
     "text": [
      "\r",
      " 50%|████████████████████▉                     | 84/169 [00:49<01:06,  1.28it/s]"
     ]
    },
    {
     "name": "stdout",
     "output_type": "stream",
     "text": [
      "DP\n",
      "-----------------------171.048638\n",
      "=======>800 800\n",
      "DP\n",
      "DP\n",
      "DP\n",
      "DP\n",
      "DP\n"
     ]
    },
    {
     "name": "stderr",
     "output_type": "stream",
     "text": [
      "\r",
      " 50%|█████████████████████                     | 85/169 [00:50<01:10,  1.19it/s]"
     ]
    },
    {
     "name": "stdout",
     "output_type": "stream",
     "text": [
      "-----------------------191.385382\n",
      "=======>800 900\n",
      "DP\n",
      "DP\n",
      "DP\n",
      "DP\n",
      "DP\n"
     ]
    },
    {
     "name": "stderr",
     "output_type": "stream",
     "text": [
      "\r",
      " 51%|█████████████████████▎                    | 86/169 [00:52<01:15,  1.09it/s]"
     ]
    },
    {
     "name": "stdout",
     "output_type": "stream",
     "text": [
      "-----------------------217.485249\n",
      "=======>800 1000\n",
      "DP\n",
      "DP\n",
      "DP\n",
      "DP\n",
      "DP\n"
     ]
    },
    {
     "name": "stderr",
     "output_type": "stream",
     "text": [
      "\r",
      " 51%|█████████████████████▌                    | 87/169 [00:53<01:21,  1.00it/s]"
     ]
    },
    {
     "name": "stdout",
     "output_type": "stream",
     "text": [
      "-----------------------236.807312\n",
      "=======>800 1100\n",
      "DP\n",
      "DP\n",
      "DP\n",
      "DP\n",
      "DP\n"
     ]
    },
    {
     "name": "stderr",
     "output_type": "stream",
     "text": [
      "\r",
      " 52%|█████████████████████▊                    | 88/169 [00:54<01:28,  1.09s/it]"
     ]
    },
    {
     "name": "stdout",
     "output_type": "stream",
     "text": [
      "-----------------------261.878021\n",
      "=======>800 1200\n",
      "DP\n",
      "DP\n",
      "DP\n",
      "DP\n",
      "DP\n"
     ]
    },
    {
     "name": "stderr",
     "output_type": "stream",
     "text": [
      "\r",
      " 53%|██████████████████████                    | 89/169 [00:56<01:36,  1.20s/it]"
     ]
    },
    {
     "name": "stdout",
     "output_type": "stream",
     "text": [
      "-----------------------290.858526\n",
      "=======>800 1300\n",
      "DP\n",
      "DP\n",
      "DP\n",
      "DP\n",
      "DP\n"
     ]
    },
    {
     "name": "stderr",
     "output_type": "stream",
     "text": [
      "\r",
      " 53%|██████████████████████▎                   | 90/169 [00:57<01:43,  1.32s/it]"
     ]
    },
    {
     "name": "stdout",
     "output_type": "stream",
     "text": [
      "-----------------------317.674977\n",
      "=======>800 1400\n",
      "DP\n",
      "DP\n",
      "DP\n",
      "DP\n",
      "DP\n"
     ]
    },
    {
     "name": "stderr",
     "output_type": "stream",
     "text": [
      "\r",
      " 54%|██████████████████████▌                   | 91/169 [00:59<01:51,  1.44s/it]"
     ]
    },
    {
     "name": "stdout",
     "output_type": "stream",
     "text": [
      "-----------------------339.368764\n",
      "=======>900 200\n",
      "DP\n",
      "DP\n",
      "DP\n",
      "DP\n"
     ]
    },
    {
     "name": "stderr",
     "output_type": "stream",
     "text": [
      "\r",
      " 54%|██████████████████████▊                   | 92/169 [00:59<01:24,  1.09s/it]"
     ]
    },
    {
     "name": "stdout",
     "output_type": "stream",
     "text": [
      "DP\n",
      "-----------------------58.879763\n",
      "=======>900 300\n",
      "DP\n",
      "DP\n",
      "DP\n",
      "DP\n",
      "DP\n"
     ]
    },
    {
     "name": "stderr",
     "output_type": "stream",
     "text": [
      "\r",
      " 55%|███████████████████████                   | 93/169 [01:00<01:08,  1.12it/s]"
     ]
    },
    {
     "name": "stdout",
     "output_type": "stream",
     "text": [
      "-----------------------86.611285\n",
      "=======>900 400\n",
      "DP\n",
      "DP\n",
      "DP\n",
      "DP\n"
     ]
    },
    {
     "name": "stderr",
     "output_type": "stream",
     "text": [
      "\r",
      " 56%|███████████████████████▎                  | 94/169 [01:00<00:59,  1.25it/s]"
     ]
    },
    {
     "name": "stdout",
     "output_type": "stream",
     "text": [
      "DP\n",
      "-----------------------111.281638\n",
      "=======>900 500\n",
      "DP\n",
      "DP\n",
      "DP\n",
      "DP\n",
      "DP\n"
     ]
    },
    {
     "name": "stderr",
     "output_type": "stream",
     "text": [
      "\r",
      " 56%|███████████████████████▌                  | 95/169 [01:01<00:56,  1.30it/s]"
     ]
    },
    {
     "name": "stdout",
     "output_type": "stream",
     "text": [
      "-----------------------138.541386\n",
      "=======>900 600\n",
      "DP\n",
      "DP\n",
      "DP\n",
      "DP\n"
     ]
    },
    {
     "name": "stderr",
     "output_type": "stream",
     "text": [
      "\r",
      " 57%|███████████████████████▊                  | 96/169 [01:02<00:57,  1.28it/s]"
     ]
    },
    {
     "name": "stdout",
     "output_type": "stream",
     "text": [
      "DP\n",
      "-----------------------163.884094\n",
      "=======>900 700\n",
      "DP\n",
      "DP\n",
      "DP\n",
      "DP\n",
      "DP\n"
     ]
    },
    {
     "name": "stderr",
     "output_type": "stream",
     "text": [
      "\r",
      " 57%|████████████████████████                  | 97/169 [01:03<01:00,  1.19it/s]"
     ]
    },
    {
     "name": "stdout",
     "output_type": "stream",
     "text": [
      "-----------------------192.42728\n",
      "=======>900 800\n",
      "DP\n",
      "DP\n",
      "DP\n",
      "DP\n",
      "DP\n"
     ]
    },
    {
     "name": "stderr",
     "output_type": "stream",
     "text": [
      "\r",
      " 58%|████████████████████████▎                 | 98/169 [01:04<01:05,  1.09it/s]"
     ]
    },
    {
     "name": "stdout",
     "output_type": "stream",
     "text": [
      "-----------------------218.972907\n",
      "=======>900 900\n",
      "DP\n",
      "DP\n",
      "DP\n",
      "DP\n",
      "DP\n"
     ]
    },
    {
     "name": "stderr",
     "output_type": "stream",
     "text": [
      "\r",
      " 59%|████████████████████████▌                 | 99/169 [01:05<01:11,  1.01s/it]"
     ]
    },
    {
     "name": "stdout",
     "output_type": "stream",
     "text": [
      "-----------------------245.505995\n",
      "=======>900 1000\n",
      "DP\n",
      "DP\n",
      "DP\n",
      "DP\n",
      "DP\n"
     ]
    },
    {
     "name": "stderr",
     "output_type": "stream",
     "text": [
      "\r",
      " 59%|████████████████████████▎                | 100/169 [01:06<01:18,  1.14s/it]"
     ]
    },
    {
     "name": "stdout",
     "output_type": "stream",
     "text": [
      "-----------------------286.706361\n",
      "=======>900 1100\n",
      "DP\n",
      "DP\n",
      "DP\n",
      "DP\n",
      "DP\n"
     ]
    },
    {
     "name": "stderr",
     "output_type": "stream",
     "text": [
      "\r",
      " 60%|████████████████████████▌                | 101/169 [01:08<01:26,  1.28s/it]"
     ]
    },
    {
     "name": "stdout",
     "output_type": "stream",
     "text": [
      "-----------------------309.584552\n",
      "=======>900 1200\n",
      "DP\n",
      "DP\n",
      "DP\n",
      "DP\n",
      "DP\n"
     ]
    },
    {
     "name": "stderr",
     "output_type": "stream",
     "text": [
      "\r",
      " 60%|████████████████████████▋                | 102/169 [01:10<01:33,  1.40s/it]"
     ]
    },
    {
     "name": "stdout",
     "output_type": "stream",
     "text": [
      "-----------------------333.733762\n",
      "=======>900 1300\n",
      "DP\n",
      "DP\n",
      "DP\n",
      "DP\n",
      "DP\n"
     ]
    },
    {
     "name": "stderr",
     "output_type": "stream",
     "text": [
      "\r",
      " 61%|████████████████████████▉                | 103/169 [01:11<01:41,  1.53s/it]"
     ]
    },
    {
     "name": "stdout",
     "output_type": "stream",
     "text": [
      "-----------------------372.609099\n",
      "=======>900 1400\n",
      "DP\n",
      "DP\n",
      "DP\n",
      "DP\n",
      "DP\n"
     ]
    },
    {
     "name": "stderr",
     "output_type": "stream",
     "text": [
      "\r",
      " 62%|█████████████████████████▏               | 104/169 [01:13<01:46,  1.63s/it]"
     ]
    },
    {
     "name": "stdout",
     "output_type": "stream",
     "text": [
      "-----------------------373.18605\n",
      "=======>1000 200\n",
      "DP\n",
      "DP\n",
      "DP\n",
      "DP\n"
     ]
    },
    {
     "name": "stderr",
     "output_type": "stream",
     "text": [
      "\r",
      " 62%|█████████████████████████▍               | 105/169 [01:14<01:19,  1.24s/it]"
     ]
    },
    {
     "name": "stdout",
     "output_type": "stream",
     "text": [
      "DP\n",
      "-----------------------62.478424\n",
      "=======>1000 300\n",
      "DP\n",
      "DP\n",
      "DP\n",
      "DP\n",
      "DP\n"
     ]
    },
    {
     "name": "stderr",
     "output_type": "stream",
     "text": [
      "\r",
      " 63%|█████████████████████████▋               | 106/169 [01:14<01:03,  1.01s/it]"
     ]
    },
    {
     "name": "stdout",
     "output_type": "stream",
     "text": [
      "-----------------------93.049219\n",
      "=======>1000 400\n",
      "DP\n",
      "DP\n",
      "DP\n",
      "DP\n"
     ]
    },
    {
     "name": "stderr",
     "output_type": "stream",
     "text": [
      "\r",
      " 63%|█████████████████████████▉               | 107/169 [01:15<00:54,  1.13it/s]"
     ]
    },
    {
     "name": "stdout",
     "output_type": "stream",
     "text": [
      "DP\n",
      "-----------------------117.720568\n",
      "=======>1000 500\n",
      "DP\n",
      "DP\n",
      "DP\n",
      "DP\n",
      "DP\n"
     ]
    },
    {
     "name": "stderr",
     "output_type": "stream",
     "text": [
      "\r",
      " 64%|██████████████████████████▏              | 108/169 [01:15<00:51,  1.18it/s]"
     ]
    },
    {
     "name": "stdout",
     "output_type": "stream",
     "text": [
      "-----------------------152.342723\n",
      "=======>1000 600\n",
      "DP\n",
      "DP\n",
      "DP\n",
      "DP\n"
     ]
    },
    {
     "name": "stderr",
     "output_type": "stream",
     "text": [
      "\r",
      " 64%|██████████████████████████▍              | 109/169 [01:16<00:51,  1.16it/s]"
     ]
    },
    {
     "name": "stdout",
     "output_type": "stream",
     "text": [
      "DP\n",
      "-----------------------180.026482\n",
      "=======>1000 700\n",
      "DP\n",
      "DP\n",
      "DP\n",
      "DP\n",
      "DP\n"
     ]
    },
    {
     "name": "stderr",
     "output_type": "stream",
     "text": [
      "\r",
      " 65%|██████████████████████████▋              | 110/169 [01:17<00:54,  1.09it/s]"
     ]
    },
    {
     "name": "stdout",
     "output_type": "stream",
     "text": [
      "-----------------------211.955944\n",
      "=======>1000 800\n",
      "DP\n",
      "DP\n",
      "DP\n",
      "DP\n",
      "DP\n"
     ]
    },
    {
     "name": "stderr",
     "output_type": "stream",
     "text": [
      "\r",
      " 66%|██████████████████████████▉              | 111/169 [01:19<00:58,  1.01s/it]"
     ]
    },
    {
     "name": "stdout",
     "output_type": "stream",
     "text": [
      "-----------------------236.778295\n",
      "=======>1000 900\n",
      "DP\n",
      "DP\n",
      "DP\n",
      "DP\n",
      "DP\n"
     ]
    },
    {
     "name": "stderr",
     "output_type": "stream",
     "text": [
      "\r",
      " 66%|███████████████████████████▏             | 112/169 [01:20<01:02,  1.10s/it]"
     ]
    },
    {
     "name": "stdout",
     "output_type": "stream",
     "text": [
      "-----------------------265.353531\n",
      "=======>1000 1000\n",
      "DP\n",
      "DP\n",
      "DP\n",
      "DP\n",
      "DP\n"
     ]
    },
    {
     "name": "stderr",
     "output_type": "stream",
     "text": [
      "\r",
      " 67%|███████████████████████████▍             | 113/169 [01:21<01:08,  1.22s/it]"
     ]
    },
    {
     "name": "stdout",
     "output_type": "stream",
     "text": [
      "-----------------------299.981252\n",
      "=======>1000 1100\n",
      "DP\n",
      "DP\n",
      "DP\n",
      "DP\n",
      "DP\n"
     ]
    },
    {
     "name": "stderr",
     "output_type": "stream",
     "text": [
      "\r",
      " 67%|███████████████████████████▋             | 114/169 [01:23<01:14,  1.35s/it]"
     ]
    },
    {
     "name": "stdout",
     "output_type": "stream",
     "text": [
      "-----------------------329.567043\n",
      "=======>1000 1200\n",
      "DP\n",
      "DP\n",
      "DP\n",
      "DP\n",
      "DP\n"
     ]
    },
    {
     "name": "stderr",
     "output_type": "stream",
     "text": [
      "\r",
      " 68%|███████████████████████████▉             | 115/169 [01:25<01:19,  1.48s/it]"
     ]
    },
    {
     "name": "stdout",
     "output_type": "stream",
     "text": [
      "-----------------------354.633671\n",
      "=======>1000 1300\n",
      "DP\n",
      "DP\n",
      "DP\n",
      "DP\n",
      "DP\n"
     ]
    },
    {
     "name": "stderr",
     "output_type": "stream",
     "text": [
      "\r",
      " 69%|████████████████████████████▏            | 116/169 [01:27<01:25,  1.62s/it]"
     ]
    },
    {
     "name": "stdout",
     "output_type": "stream",
     "text": [
      "-----------------------385.869661\n",
      "=======>1000 1400\n",
      "DP\n",
      "DP\n",
      "DP\n",
      "DP\n",
      "DP\n"
     ]
    },
    {
     "name": "stderr",
     "output_type": "stream",
     "text": [
      "\r",
      " 69%|████████████████████████████▍            | 117/169 [01:29<01:31,  1.75s/it]"
     ]
    },
    {
     "name": "stdout",
     "output_type": "stream",
     "text": [
      "-----------------------413.129776\n",
      "=======>1100 200\n",
      "DP\n",
      "DP\n",
      "DP\n"
     ]
    },
    {
     "name": "stderr",
     "output_type": "stream",
     "text": [
      "\r",
      " 70%|████████████████████████████▋            | 118/169 [01:29<01:07,  1.33s/it]"
     ]
    },
    {
     "name": "stdout",
     "output_type": "stream",
     "text": [
      "DP\n",
      "DP\n",
      "-----------------------67.602252\n",
      "=======>1100 300\n",
      "DP\n",
      "DP\n",
      "DP\n",
      "DP\n"
     ]
    },
    {
     "name": "stderr",
     "output_type": "stream",
     "text": [
      "\r",
      " 70%|████████████████████████████▊            | 119/169 [01:30<00:54,  1.08s/it]"
     ]
    },
    {
     "name": "stdout",
     "output_type": "stream",
     "text": [
      "DP\n",
      "-----------------------101.239593\n",
      "=======>1100 400\n",
      "DP\n",
      "DP\n",
      "DP\n",
      "DP\n",
      "DP\n"
     ]
    },
    {
     "name": "stderr",
     "output_type": "stream",
     "text": [
      "\r",
      " 71%|█████████████████████████████            | 120/169 [01:30<00:47,  1.04it/s]"
     ]
    },
    {
     "name": "stdout",
     "output_type": "stream",
     "text": [
      "-----------------------135.603207\n",
      "=======>1100 500\n",
      "DP\n",
      "DP\n",
      "DP\n",
      "DP\n"
     ]
    },
    {
     "name": "stderr",
     "output_type": "stream",
     "text": [
      "\r",
      " 72%|█████████████████████████████▎           | 121/169 [01:31<00:44,  1.09it/s]"
     ]
    },
    {
     "name": "stdout",
     "output_type": "stream",
     "text": [
      "DP\n",
      "-----------------------164.792534\n",
      "=======>1100 600\n",
      "DP\n",
      "DP\n",
      "DP\n",
      "DP\n",
      "DP\n"
     ]
    },
    {
     "name": "stderr",
     "output_type": "stream",
     "text": [
      "\r",
      " 72%|█████████████████████████████▌           | 122/169 [01:32<00:44,  1.06it/s]"
     ]
    },
    {
     "name": "stdout",
     "output_type": "stream",
     "text": [
      "-----------------------197.146653\n",
      "=======>1100 700\n",
      "DP\n",
      "DP\n",
      "DP\n",
      "DP\n",
      "DP\n"
     ]
    },
    {
     "name": "stderr",
     "output_type": "stream",
     "text": [
      "\r",
      " 73%|█████████████████████████████▊           | 123/169 [01:33<00:46,  1.01s/it]"
     ]
    },
    {
     "name": "stdout",
     "output_type": "stream",
     "text": [
      "-----------------------233.480246\n",
      "=======>1100 800\n",
      "DP\n",
      "DP\n",
      "DP\n",
      "DP\n",
      "DP\n"
     ]
    },
    {
     "name": "stderr",
     "output_type": "stream",
     "text": [
      "\r",
      " 73%|██████████████████████████████           | 124/169 [01:35<00:49,  1.10s/it]"
     ]
    },
    {
     "name": "stdout",
     "output_type": "stream",
     "text": [
      "-----------------------260.327138\n",
      "=======>1100 900\n",
      "DP\n",
      "DP\n",
      "DP\n",
      "DP\n",
      "DP\n"
     ]
    },
    {
     "name": "stderr",
     "output_type": "stream",
     "text": [
      "\r",
      " 74%|██████████████████████████████▎          | 125/169 [01:36<00:53,  1.21s/it]"
     ]
    },
    {
     "name": "stdout",
     "output_type": "stream",
     "text": [
      "-----------------------295.496772\n",
      "=======>1100 1000\n",
      "DP\n",
      "DP\n",
      "DP\n",
      "DP\n",
      "DP\n"
     ]
    },
    {
     "name": "stderr",
     "output_type": "stream",
     "text": [
      "\r",
      " 75%|██████████████████████████████▌          | 126/169 [01:38<00:57,  1.34s/it]"
     ]
    },
    {
     "name": "stdout",
     "output_type": "stream",
     "text": [
      "-----------------------328.33069\n",
      "=======>1100 1100\n",
      "DP\n",
      "DP\n",
      "DP\n",
      "DP\n",
      "DP\n"
     ]
    },
    {
     "name": "stderr",
     "output_type": "stream",
     "text": [
      "\r",
      " 75%|██████████████████████████████▊          | 127/169 [01:40<01:01,  1.47s/it]"
     ]
    },
    {
     "name": "stdout",
     "output_type": "stream",
     "text": [
      "-----------------------355.721393\n",
      "=======>1100 1200\n",
      "DP\n",
      "DP\n",
      "DP\n",
      "DP\n",
      "DP\n"
     ]
    },
    {
     "name": "stderr",
     "output_type": "stream",
     "text": [
      "\r",
      " 76%|███████████████████████████████          | 128/169 [01:42<01:06,  1.62s/it]"
     ]
    },
    {
     "name": "stdout",
     "output_type": "stream",
     "text": [
      "-----------------------391.175487\n",
      "=======>1100 1300\n",
      "DP\n",
      "DP\n",
      "DP\n",
      "DP\n",
      "DP\n"
     ]
    },
    {
     "name": "stderr",
     "output_type": "stream",
     "text": [
      "\r",
      " 76%|███████████████████████████████▎         | 129/169 [01:44<01:10,  1.77s/it]"
     ]
    },
    {
     "name": "stdout",
     "output_type": "stream",
     "text": [
      "-----------------------424.909908\n",
      "=======>1100 1400\n",
      "DP\n",
      "DP\n",
      "DP\n",
      "DP\n",
      "DP\n"
     ]
    },
    {
     "name": "stderr",
     "output_type": "stream",
     "text": [
      "\r",
      " 77%|███████████████████████████████▌         | 130/169 [01:46<01:14,  1.92s/it]"
     ]
    },
    {
     "name": "stdout",
     "output_type": "stream",
     "text": [
      "-----------------------453.286432\n",
      "=======>1200 200\n",
      "DP\n",
      "DP\n",
      "DP\n"
     ]
    },
    {
     "name": "stderr",
     "output_type": "stream",
     "text": [
      "\r",
      " 78%|███████████████████████████████▊         | 131/169 [01:46<00:55,  1.46s/it]"
     ]
    },
    {
     "name": "stdout",
     "output_type": "stream",
     "text": [
      "DP\n",
      "DP\n",
      "-----------------------75.454487\n",
      "=======>1200 300\n",
      "DP\n",
      "DP\n",
      "DP\n",
      "DP\n",
      "DP\n"
     ]
    },
    {
     "name": "stderr",
     "output_type": "stream",
     "text": [
      "\r",
      " 78%|████████████████████████████████         | 132/169 [01:47<00:44,  1.19s/it]"
     ]
    },
    {
     "name": "stdout",
     "output_type": "stream",
     "text": [
      "-----------------------110.3188\n",
      "=======>1200 400\n",
      "DP\n",
      "DP\n",
      "DP\n",
      "DP\n"
     ]
    },
    {
     "name": "stderr",
     "output_type": "stream",
     "text": [
      "\r",
      " 79%|████████████████████████████████▎        | 133/169 [01:48<00:37,  1.05s/it]"
     ]
    },
    {
     "name": "stdout",
     "output_type": "stream",
     "text": [
      "DP\n",
      "-----------------------146.767893\n",
      "=======>1200 500\n",
      "DP\n",
      "DP\n",
      "DP\n",
      "DP\n",
      "DP\n"
     ]
    },
    {
     "name": "stderr",
     "output_type": "stream",
     "text": [
      "\r",
      " 79%|████████████████████████████████▌        | 134/169 [01:49<00:35,  1.01s/it]"
     ]
    },
    {
     "name": "stdout",
     "output_type": "stream",
     "text": [
      "-----------------------182.149766\n",
      "=======>1200 600\n",
      "DP\n",
      "DP\n",
      "DP\n",
      "DP\n",
      "DP\n"
     ]
    },
    {
     "name": "stderr",
     "output_type": "stream",
     "text": [
      "\r",
      " 80%|████████████████████████████████▊        | 135/169 [01:50<00:35,  1.03s/it]"
     ]
    },
    {
     "name": "stdout",
     "output_type": "stream",
     "text": [
      "-----------------------216.930013\n",
      "=======>1200 700\n",
      "DP\n",
      "DP\n",
      "DP\n",
      "DP\n",
      "DP\n"
     ]
    },
    {
     "name": "stderr",
     "output_type": "stream",
     "text": [
      "\r",
      " 80%|████████████████████████████████▉        | 136/169 [01:51<00:36,  1.10s/it]"
     ]
    },
    {
     "name": "stdout",
     "output_type": "stream",
     "text": [
      "-----------------------247.849477\n",
      "=======>1200 800\n",
      "DP\n",
      "DP\n",
      "DP\n",
      "DP\n",
      "DP\n"
     ]
    },
    {
     "name": "stderr",
     "output_type": "stream",
     "text": [
      "\r",
      " 81%|█████████████████████████████████▏       | 137/169 [01:52<00:38,  1.20s/it]"
     ]
    },
    {
     "name": "stdout",
     "output_type": "stream",
     "text": [
      "-----------------------284.593725\n",
      "=======>1200 900\n",
      "DP\n",
      "DP\n",
      "DP\n",
      "DP\n",
      "DP\n"
     ]
    },
    {
     "name": "stderr",
     "output_type": "stream",
     "text": [
      "\r",
      " 82%|█████████████████████████████████▍       | 138/169 [01:54<00:40,  1.31s/it]"
     ]
    },
    {
     "name": "stdout",
     "output_type": "stream",
     "text": [
      "-----------------------316.545279\n",
      "=======>1200 1000\n",
      "DP\n",
      "DP\n",
      "DP\n",
      "DP\n",
      "DP\n"
     ]
    },
    {
     "name": "stderr",
     "output_type": "stream",
     "text": [
      "\r",
      " 82%|█████████████████████████████████▋       | 139/169 [01:56<00:43,  1.46s/it]"
     ]
    },
    {
     "name": "stdout",
     "output_type": "stream",
     "text": [
      "-----------------------356.955185\n",
      "=======>1200 1100\n",
      "DP\n",
      "DP\n",
      "DP\n",
      "DP\n",
      "DP\n"
     ]
    },
    {
     "name": "stderr",
     "output_type": "stream",
     "text": [
      "\r",
      " 83%|█████████████████████████████████▉       | 140/169 [01:58<00:46,  1.60s/it]"
     ]
    },
    {
     "name": "stdout",
     "output_type": "stream",
     "text": [
      "-----------------------389.323822\n",
      "=======>1200 1200\n",
      "DP\n",
      "DP\n",
      "DP\n",
      "DP\n",
      "DP\n"
     ]
    },
    {
     "name": "stderr",
     "output_type": "stream",
     "text": [
      "\r",
      " 83%|██████████████████████████████████▏      | 141/169 [02:00<00:49,  1.77s/it]"
     ]
    },
    {
     "name": "stdout",
     "output_type": "stream",
     "text": [
      "-----------------------428.691148\n",
      "=======>1200 1300\n",
      "DP\n",
      "DP\n",
      "DP\n",
      "DP\n",
      "DP\n"
     ]
    },
    {
     "name": "stderr",
     "output_type": "stream",
     "text": [
      "\r",
      " 84%|██████████████████████████████████▍      | 142/169 [02:02<00:52,  1.93s/it]"
     ]
    },
    {
     "name": "stdout",
     "output_type": "stream",
     "text": [
      "-----------------------459.037486\n",
      "=======>1200 1400\n",
      "DP\n",
      "DP\n",
      "DP\n",
      "DP\n",
      "DP\n"
     ]
    },
    {
     "name": "stderr",
     "output_type": "stream",
     "text": [
      "\r",
      " 85%|██████████████████████████████████▋      | 143/169 [02:05<00:54,  2.10s/it]"
     ]
    },
    {
     "name": "stdout",
     "output_type": "stream",
     "text": [
      "-----------------------497.772512\n",
      "=======>1300 200\n",
      "DP\n",
      "DP\n",
      "DP\n"
     ]
    },
    {
     "name": "stderr",
     "output_type": "stream",
     "text": [
      "\r",
      " 85%|██████████████████████████████████▉      | 144/169 [02:05<00:39,  1.59s/it]"
     ]
    },
    {
     "name": "stdout",
     "output_type": "stream",
     "text": [
      "DP\n",
      "DP\n",
      "-----------------------80.879667\n",
      "=======>1300 300\n",
      "DP\n",
      "DP\n",
      "DP\n",
      "DP\n",
      "DP\n"
     ]
    },
    {
     "name": "stderr",
     "output_type": "stream",
     "text": [
      "\r",
      " 86%|███████████████████████████████████▏     | 145/169 [02:06<00:31,  1.30s/it]"
     ]
    },
    {
     "name": "stdout",
     "output_type": "stream",
     "text": [
      "-----------------------121.087353\n",
      "=======>1300 400\n",
      "DP\n",
      "DP\n",
      "DP\n",
      "DP\n"
     ]
    },
    {
     "name": "stderr",
     "output_type": "stream",
     "text": [
      "\r",
      " 86%|███████████████████████████████████▍     | 146/169 [02:06<00:26,  1.15s/it]"
     ]
    },
    {
     "name": "stdout",
     "output_type": "stream",
     "text": [
      "DP\n",
      "-----------------------158.579354\n",
      "=======>1300 500\n",
      "DP\n",
      "DP\n",
      "DP\n",
      "DP\n",
      "DP\n"
     ]
    },
    {
     "name": "stderr",
     "output_type": "stream",
     "text": [
      "\r",
      " 87%|███████████████████████████████████▋     | 147/169 [02:07<00:24,  1.10s/it]"
     ]
    },
    {
     "name": "stdout",
     "output_type": "stream",
     "text": [
      "-----------------------196.035705\n",
      "=======>1300 600\n",
      "DP\n",
      "DP\n",
      "DP\n",
      "DP\n",
      "DP\n"
     ]
    },
    {
     "name": "stderr",
     "output_type": "stream",
     "text": [
      "\r",
      " 88%|███████████████████████████████████▉     | 148/169 [02:09<00:23,  1.12s/it]"
     ]
    },
    {
     "name": "stdout",
     "output_type": "stream",
     "text": [
      "-----------------------234.698366\n",
      "=======>1300 700\n",
      "DP\n",
      "DP\n",
      "DP\n",
      "DP\n",
      "DP\n"
     ]
    },
    {
     "name": "stderr",
     "output_type": "stream",
     "text": [
      "\r",
      " 88%|████████████████████████████████████▏    | 149/169 [02:10<00:23,  1.19s/it]"
     ]
    },
    {
     "name": "stdout",
     "output_type": "stream",
     "text": [
      "-----------------------268.682682\n",
      "=======>1300 800\n",
      "DP\n",
      "DP\n",
      "DP\n",
      "DP\n",
      "DP\n"
     ]
    },
    {
     "name": "stderr",
     "output_type": "stream",
     "text": [
      "\r",
      " 89%|████████████████████████████████████▍    | 150/169 [02:11<00:24,  1.29s/it]"
     ]
    },
    {
     "name": "stdout",
     "output_type": "stream",
     "text": [
      "-----------------------304.577314\n",
      "=======>1300 900\n",
      "DP\n",
      "DP\n",
      "DP\n",
      "DP\n",
      "DP\n"
     ]
    },
    {
     "name": "stderr",
     "output_type": "stream",
     "text": [
      "\r",
      " 89%|████████████████████████████████████▋    | 151/169 [02:13<00:25,  1.42s/it]"
     ]
    },
    {
     "name": "stdout",
     "output_type": "stream",
     "text": [
      "-----------------------342.555737\n",
      "=======>1300 1000\n",
      "DP\n",
      "DP\n",
      "DP\n",
      "DP\n",
      "DP\n"
     ]
    },
    {
     "name": "stderr",
     "output_type": "stream",
     "text": [
      "\r",
      " 90%|████████████████████████████████████▉    | 152/169 [02:15<00:26,  1.57s/it]"
     ]
    },
    {
     "name": "stdout",
     "output_type": "stream",
     "text": [
      "-----------------------383.516268\n",
      "=======>1300 1100\n",
      "DP\n",
      "DP\n",
      "DP\n",
      "DP\n",
      "DP\n"
     ]
    },
    {
     "name": "stderr",
     "output_type": "stream",
     "text": [
      "\r",
      " 91%|█████████████████████████████████████    | 153/169 [02:17<00:27,  1.73s/it]"
     ]
    },
    {
     "name": "stdout",
     "output_type": "stream",
     "text": [
      "-----------------------424.629364\n",
      "=======>1300 1200\n",
      "DP\n",
      "DP\n",
      "DP\n",
      "DP\n",
      "DP\n"
     ]
    },
    {
     "name": "stderr",
     "output_type": "stream",
     "text": [
      "\r",
      " 91%|█████████████████████████████████████▎   | 154/169 [02:20<00:28,  1.91s/it]"
     ]
    },
    {
     "name": "stdout",
     "output_type": "stream",
     "text": [
      "-----------------------462.199741\n",
      "=======>1300 1300\n",
      "DP\n",
      "DP\n",
      "DP\n",
      "DP\n",
      "DP\n"
     ]
    },
    {
     "name": "stderr",
     "output_type": "stream",
     "text": [
      "\r",
      " 92%|█████████████████████████████████████▌   | 155/169 [02:22<00:29,  2.10s/it]"
     ]
    },
    {
     "name": "stdout",
     "output_type": "stream",
     "text": [
      "-----------------------499.280057\n",
      "=======>1300 1400\n",
      "DP\n",
      "DP\n",
      "DP\n",
      "DP\n",
      "DP\n"
     ]
    },
    {
     "name": "stderr",
     "output_type": "stream",
     "text": [
      "\r",
      " 92%|█████████████████████████████████████▊   | 156/169 [02:26<00:32,  2.51s/it]"
     ]
    },
    {
     "name": "stdout",
     "output_type": "stream",
     "text": [
      "-----------------------686.434192\n",
      "=======>1400 200\n",
      "DP\n",
      "DP\n",
      "DP\n",
      "DP\n",
      "DP\n"
     ]
    },
    {
     "name": "stderr",
     "output_type": "stream",
     "text": [
      "\r",
      " 93%|██████████████████████████████████████   | 157/169 [02:26<00:22,  1.91s/it]"
     ]
    },
    {
     "name": "stdout",
     "output_type": "stream",
     "text": [
      "-----------------------88.710581\n",
      "=======>1400 300\n",
      "DP\n",
      "DP\n",
      "DP\n",
      "DP\n",
      "DP\n"
     ]
    },
    {
     "name": "stderr",
     "output_type": "stream",
     "text": [
      "\r",
      " 93%|██████████████████████████████████████▎  | 158/169 [02:27<00:18,  1.67s/it]"
     ]
    },
    {
     "name": "stdout",
     "output_type": "stream",
     "text": [
      "-----------------------225.639895\n",
      "=======>1400 400\n",
      "DP\n",
      "DP\n",
      "DP\n",
      "DP\n",
      "DP\n"
     ]
    },
    {
     "name": "stderr",
     "output_type": "stream",
     "text": [
      "\r",
      " 94%|██████████████████████████████████████▌  | 159/169 [02:28<00:15,  1.56s/it]"
     ]
    },
    {
     "name": "stdout",
     "output_type": "stream",
     "text": [
      "-----------------------246.625129\n",
      "=======>1400 500\n",
      "DP\n",
      "DP\n",
      "DP\n",
      "DP\n",
      "DP\n"
     ]
    },
    {
     "name": "stderr",
     "output_type": "stream",
     "text": [
      "\r",
      " 95%|██████████████████████████████████████▊  | 160/169 [02:30<00:14,  1.57s/it]"
     ]
    },
    {
     "name": "stdout",
     "output_type": "stream",
     "text": [
      "-----------------------310.25976\n",
      "=======>1400 600\n",
      "DP\n",
      "DP\n",
      "DP\n",
      "DP\n",
      "DP\n"
     ]
    },
    {
     "name": "stderr",
     "output_type": "stream",
     "text": [
      "\r",
      " 95%|███████████████████████████████████████  | 161/169 [02:31<00:11,  1.50s/it]"
     ]
    },
    {
     "name": "stdout",
     "output_type": "stream",
     "text": [
      "-----------------------249.128024\n",
      "=======>1400 700\n",
      "DP\n",
      "DP\n",
      "DP\n",
      "DP\n",
      "DP\n"
     ]
    },
    {
     "name": "stderr",
     "output_type": "stream",
     "text": [
      "\r",
      " 96%|███████████████████████████████████████▎ | 162/169 [02:33<00:10,  1.49s/it]"
     ]
    },
    {
     "name": "stdout",
     "output_type": "stream",
     "text": [
      "-----------------------290.236324\n",
      "=======>1400 800\n",
      "DP\n",
      "DP\n",
      "DP\n",
      "DP\n",
      "DP\n"
     ]
    },
    {
     "name": "stderr",
     "output_type": "stream",
     "text": [
      "\r",
      " 96%|███████████████████████████████████████▌ | 163/169 [02:35<00:09,  1.54s/it]"
     ]
    },
    {
     "name": "stdout",
     "output_type": "stream",
     "text": [
      "-----------------------331.008523\n",
      "=======>1400 900\n",
      "DP\n",
      "DP\n",
      "DP\n",
      "DP\n",
      "DP\n"
     ]
    },
    {
     "name": "stderr",
     "output_type": "stream",
     "text": [
      "\r",
      " 97%|███████████████████████████████████████▊ | 164/169 [02:36<00:08,  1.63s/it]"
     ]
    },
    {
     "name": "stdout",
     "output_type": "stream",
     "text": [
      "-----------------------369.66098\n",
      "=======>1400 1000\n",
      "DP\n",
      "DP\n",
      "DP\n",
      "DP\n",
      "DP\n"
     ]
    },
    {
     "name": "stderr",
     "output_type": "stream",
     "text": [
      "\r",
      " 98%|████████████████████████████████████████ | 165/169 [02:38<00:07,  1.76s/it]"
     ]
    },
    {
     "name": "stdout",
     "output_type": "stream",
     "text": [
      "-----------------------412.446891\n",
      "=======>1400 1100\n",
      "DP\n",
      "DP\n",
      "DP\n",
      "DP\n",
      "DP\n"
     ]
    },
    {
     "name": "stderr",
     "output_type": "stream",
     "text": [
      "\r",
      " 98%|████████████████████████████████████████▎| 166/169 [02:41<00:05,  1.94s/it]"
     ]
    },
    {
     "name": "stdout",
     "output_type": "stream",
     "text": [
      "-----------------------460.928738\n",
      "=======>1400 1200\n",
      "DP\n",
      "DP\n",
      "DP\n",
      "DP\n",
      "DP\n"
     ]
    },
    {
     "name": "stderr",
     "output_type": "stream",
     "text": [
      "\r",
      " 99%|████████████████████████████████████████▌| 167/169 [02:43<00:04,  2.11s/it]"
     ]
    },
    {
     "name": "stdout",
     "output_type": "stream",
     "text": [
      "-----------------------509.82265\n",
      "=======>1400 1300\n",
      "DP\n",
      "DP\n",
      "DP\n",
      "DP\n",
      "DP\n"
     ]
    },
    {
     "name": "stderr",
     "output_type": "stream",
     "text": [
      "\r",
      " 99%|████████████████████████████████████████▊| 168/169 [02:46<00:02,  2.27s/it]"
     ]
    },
    {
     "name": "stdout",
     "output_type": "stream",
     "text": [
      "-----------------------525.755824\n",
      "=======>1400 1400\n",
      "DP\n",
      "DP\n",
      "DP\n",
      "DP\n",
      "DP\n"
     ]
    },
    {
     "name": "stderr",
     "output_type": "stream",
     "text": [
      "100%|█████████████████████████████████████████| 169/169 [02:49<00:00,  1.00s/it]"
     ]
    },
    {
     "name": "stdout",
     "output_type": "stream",
     "text": [
      "-----------------------578.033814\n"
     ]
    },
    {
     "name": "stderr",
     "output_type": "stream",
     "text": [
      "\n"
     ]
    }
   ],
   "source": [
    "columnas = [\"dataset\", \"n\", \"M\", \"metodo\", \"tiempo\"]\n",
    "filas = []\n",
    "numero = 1\n",
    "T = 5 # Numero de veces que se ejecuta cada experimento (para mayor fidelidad del tiempo).\n",
    "for experimento in tqdm(experimentos):\n",
    "    \n",
    "    print(\"=======>\" + str(experimento[2]) + \" \" + str(experimento[3]))\n",
    "    # Voy mostrando que experimento se esta ejecutando.\n",
    "    numero += 1\n",
    "    \n",
    "    # Ejecutamos el experimento T veces y obtenemos la mediana.\n",
    "    tiempos = []\n",
    "    for i in range(0, T):\n",
    "        tiempos.append(correr_experimento(experimento[4], experimento[5]))\n",
    "    tiempo = np.median(tiempos)\n",
    "    print(\"-----------------------\" + str(tiempo))\n",
    "    filas.append([experimento[0] ,experimento[2], experimento[3], experimento[4], tiempo])\n",
    "df_resultado = pd.DataFrame(filas, columns=columnas)\n",
    "df_resultado.to_csv(\"resultados/resultado.csv\", index=False, header=True)"
   ]
  },
  {
   "cell_type": "code",
   "execution_count": null,
   "metadata": {},
   "outputs": [],
   "source": []
  },
  {
   "cell_type": "code",
   "execution_count": null,
   "metadata": {},
   "outputs": [],
   "source": []
  }
 ],
 "metadata": {
  "kernelspec": {
   "display_name": "Python 3 (ipykernel)",
   "language": "python",
   "name": "python3"
  },
  "language_info": {
   "codemirror_mode": {
    "name": "ipython",
    "version": 3
   },
   "file_extension": ".py",
   "mimetype": "text/x-python",
   "name": "python",
   "nbconvert_exporter": "python",
   "pygments_lexer": "ipython3",
   "version": "3.8.10"
  }
 },
 "nbformat": 4,
 "nbformat_minor": 4
}
