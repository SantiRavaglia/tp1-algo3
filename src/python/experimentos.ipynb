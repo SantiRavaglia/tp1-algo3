{
 "cells": [
  {
   "cell_type": "markdown",
   "metadata": {},
   "source": [
    "# Correr experimentos\n",
    "En este archivo está el código para correr los experimentos y escribir los resultados en archivos CSV.\n",
    "> Los archivos se guardan en la carpeta _resultados_."
   ]
  },
  {
   "cell_type": "code",
   "execution_count": 1,
   "metadata": {},
   "outputs": [],
   "source": [
    "import math, subprocess\n",
    "import pandas as pd\n",
    "import numpy as np\n",
    "from IPython.display import display, clear_output"
   ]
  },
  {
   "cell_type": "markdown",
   "metadata": {},
   "source": [
    "A continuación leemos los datasets en dataframes de Pandas."
   ]
  },
  {
   "cell_type": "code",
   "execution_count": 2,
   "metadata": {},
   "outputs": [
    {
     "data": {
      "text/plain": [
       "'10 30\\n47 63\\n6 72\\n80 7\\n54 45\\n24 88\\n68 25\\n60 50\\n87 48\\n72 61\\n56 28\\n'"
      ]
     },
     "execution_count": 2,
     "metadata": {},
     "output_type": "execute_result"
    }
   ],
   "source": [
    "def leer_instancia(path_instancia):\n",
    "    with open(path_instancia, \"r\") as f:\n",
    "        return f.read();\n",
    "\n",
    "df_random_bf = pd.read_csv(\"instancias/random-bf/indice.csv\");\n",
    "#df_densidad_baja = pd.read_csv(\"instancias/densidad-baja/indice.csv\");\n",
    "#df_mejor_caso_bt = pd.read_csv(\"instancias/mejor-caso-bt/indice.csv\");\n",
    "#df_peor_caso_bt = pd.read_csv(\"instancias/peor-caso-bt/indice.csv\");\n",
    "#df_dinamica = pd.read_csv(\"instancias/dinamica/indice.csv\");\n",
    "leer_instancia('instancias/random-bf/BF-10.txt')"
   ]
  },
  {
   "cell_type": "markdown",
   "metadata": {},
   "source": [
    "La siguiente función sirve para correr el código sobre una instancia ejecutando un método en particular.\n",
    "- FB: Fuerza bruta\n",
    "- BT: Backtracking con ambas podas.\n",
    "- BT-F: Backtracking solamente con poda por factibilidad.\n",
    "- BT-O: Backtracking solamente con poda por optimalidad.\n",
    "- DP: Programación dinámica."
   ]
  },
  {
   "cell_type": "code",
   "execution_count": 22,
   "metadata": {},
   "outputs": [],
   "source": [
    "def correr_experimento(metodo, archivo_instancia):\n",
    "    # Leer archivo de la instancia.\n",
    "    instancia = leer_instancia(archivo_instancia)\n",
    "    \n",
    "    # Crear proceso para ejecutar el codigo.\n",
    "    process = subprocess.Popen([\"../main\", metodo], stderr=subprocess.PIPE, stdout=subprocess.PIPE, stdin=subprocess.PIPE, universal_newlines = True)\n",
    "\n",
    "    # Poner la instancia en la entrada estandar.\n",
    "    process.stdin.write(instancia)\n",
    "    process.stdin.flush()\n",
    "\n",
    "    # Correr experimento.\n",
    "    exit_code = process.wait()\n",
    "\n",
    "    # Verificar que el proceso no fallo.\n",
    "    if exit_code != 0: raise(F\"Hubo un error en la experimentacion para el algoritmo: {algoritmo} con la instancia {archivo_instancia}.\")\n",
    "    # Leer salida de STDERR con los tiempos de ejecucion de cada metodo.\n",
    "    tiempo_de_ejecucion = float(process.stderr.read());\n",
    "    \n",
    "    process.stdin.close();\n",
    "    process.stdout.close();\n",
    "    process.stderr.close();\n",
    "    \n",
    "    return tiempo_de_ejecucion;\n",
    "\n",
    "correr_experimento('FB', experimentos[9][4])"
   ]
  },
  {
   "cell_type": "markdown",
   "metadata": {},
   "source": [
    "## Corremos los experimentos\n",
    "Vamos a guardar una tabla con las ejecuciones y sus respectivos tiempos."
   ]
  },
  {
   "cell_type": "code",
   "execution_count": 4,
   "metadata": {},
   "outputs": [],
   "source": [
    "experimentos = [];"
   ]
  },
  {
   "cell_type": "code",
   "execution_count": null,
   "metadata": {},
   "outputs": [],
   "source": []
  },
  {
   "cell_type": "markdown",
   "metadata": {},
   "source": [
    "### Experimento 1\n",
    "Correr Fuerza Bruta en las primeras 30 instancias de densidad-alta y densidad-baja."
   ]
  },
  {
   "cell_type": "code",
   "execution_count": 24,
   "metadata": {},
   "outputs": [],
   "source": [
    "for n in range(0, 30):\n",
    "    fila_n = df_random_bf.iloc[n];\n",
    "    experimentos.append([fila_n[\"dataset\"], n, fila_n[\"M\"], \"FB\", fila_n[\"archivo\"]]);\n",
    "\n",
    "\n",
    "#for n in range(0, 30):\n",
    "#    fila_n = df_densidad_alta.iloc[n];\n",
    "#    experimentos.append([fila_n[\"dataset\"], n, fila_n[\"W\"], \"FB\", fila_n[\"archivo\"]]);\n",
    "#\n",
    "#for n in range(0, 30):\n",
    "#    fila_n = df_densidad_baja.iloc[n];\n",
    "#    experimentos.append([fila_n[\"dataset\"], n, fila_n[\"W\"], \"FB\", fila_n[\"archivo\"]]);"
   ]
  },
  {
   "cell_type": "code",
   "execution_count": 25,
   "metadata": {},
   "outputs": [
    {
     "data": {
      "text/plain": [
       "[['random-bf', 0, 3, 'FB', 'instancias/random-bf/BF-1.txt'],\n",
       " ['random-bf', 1, 6, 'FB', 'instancias/random-bf/BF-2.txt'],\n",
       " ['random-bf', 2, 9, 'FB', 'instancias/random-bf/BF-3.txt'],\n",
       " ['random-bf', 3, 12, 'FB', 'instancias/random-bf/BF-4.txt'],\n",
       " ['random-bf', 4, 15, 'FB', 'instancias/random-bf/BF-5.txt'],\n",
       " ['random-bf', 5, 18, 'FB', 'instancias/random-bf/BF-6.txt'],\n",
       " ['random-bf', 6, 21, 'FB', 'instancias/random-bf/BF-7.txt'],\n",
       " ['random-bf', 7, 24, 'FB', 'instancias/random-bf/BF-8.txt'],\n",
       " ['random-bf', 8, 27, 'FB', 'instancias/random-bf/BF-9.txt'],\n",
       " ['random-bf', 9, 30, 'FB', 'instancias/random-bf/BF-10.txt'],\n",
       " ['random-bf', 10, 33, 'FB', 'instancias/random-bf/BF-11.txt'],\n",
       " ['random-bf', 11, 36, 'FB', 'instancias/random-bf/BF-12.txt'],\n",
       " ['random-bf', 12, 39, 'FB', 'instancias/random-bf/BF-13.txt'],\n",
       " ['random-bf', 13, 42, 'FB', 'instancias/random-bf/BF-14.txt'],\n",
       " ['random-bf', 14, 45, 'FB', 'instancias/random-bf/BF-15.txt'],\n",
       " ['random-bf', 15, 48, 'FB', 'instancias/random-bf/BF-16.txt'],\n",
       " ['random-bf', 16, 51, 'FB', 'instancias/random-bf/BF-17.txt'],\n",
       " ['random-bf', 17, 54, 'FB', 'instancias/random-bf/BF-18.txt'],\n",
       " ['random-bf', 18, 57, 'FB', 'instancias/random-bf/BF-19.txt'],\n",
       " ['random-bf', 19, 60, 'FB', 'instancias/random-bf/BF-20.txt'],\n",
       " ['random-bf', 20, 63, 'FB', 'instancias/random-bf/BF-21.txt'],\n",
       " ['random-bf', 21, 66, 'FB', 'instancias/random-bf/BF-22.txt'],\n",
       " ['random-bf', 22, 69, 'FB', 'instancias/random-bf/BF-23.txt'],\n",
       " ['random-bf', 23, 72, 'FB', 'instancias/random-bf/BF-24.txt'],\n",
       " ['random-bf', 24, 75, 'FB', 'instancias/random-bf/BF-25.txt'],\n",
       " ['random-bf', 25, 78, 'FB', 'instancias/random-bf/BF-26.txt'],\n",
       " ['random-bf', 26, 81, 'FB', 'instancias/random-bf/BF-27.txt'],\n",
       " ['random-bf', 27, 84, 'FB', 'instancias/random-bf/BF-28.txt'],\n",
       " ['random-bf', 28, 87, 'FB', 'instancias/random-bf/BF-29.txt'],\n",
       " ['random-bf', 29, 90, 'FB', 'instancias/random-bf/BF-30.txt'],\n",
       " ['random-bf', 0, 3, 'FB', 'instancias/random-bf/BF-1.txt'],\n",
       " ['random-bf', 1, 6, 'FB', 'instancias/random-bf/BF-2.txt'],\n",
       " ['random-bf', 2, 9, 'FB', 'instancias/random-bf/BF-3.txt'],\n",
       " ['random-bf', 3, 12, 'FB', 'instancias/random-bf/BF-4.txt'],\n",
       " ['random-bf', 4, 15, 'FB', 'instancias/random-bf/BF-5.txt'],\n",
       " ['random-bf', 5, 18, 'FB', 'instancias/random-bf/BF-6.txt'],\n",
       " ['random-bf', 6, 21, 'FB', 'instancias/random-bf/BF-7.txt'],\n",
       " ['random-bf', 7, 24, 'FB', 'instancias/random-bf/BF-8.txt'],\n",
       " ['random-bf', 8, 27, 'FB', 'instancias/random-bf/BF-9.txt'],\n",
       " ['random-bf', 9, 30, 'FB', 'instancias/random-bf/BF-10.txt'],\n",
       " ['random-bf', 10, 33, 'FB', 'instancias/random-bf/BF-11.txt'],\n",
       " ['random-bf', 11, 36, 'FB', 'instancias/random-bf/BF-12.txt'],\n",
       " ['random-bf', 12, 39, 'FB', 'instancias/random-bf/BF-13.txt'],\n",
       " ['random-bf', 13, 42, 'FB', 'instancias/random-bf/BF-14.txt'],\n",
       " ['random-bf', 14, 45, 'FB', 'instancias/random-bf/BF-15.txt'],\n",
       " ['random-bf', 15, 48, 'FB', 'instancias/random-bf/BF-16.txt'],\n",
       " ['random-bf', 16, 51, 'FB', 'instancias/random-bf/BF-17.txt'],\n",
       " ['random-bf', 17, 54, 'FB', 'instancias/random-bf/BF-18.txt'],\n",
       " ['random-bf', 18, 57, 'FB', 'instancias/random-bf/BF-19.txt'],\n",
       " ['random-bf', 19, 60, 'FB', 'instancias/random-bf/BF-20.txt'],\n",
       " ['random-bf', 20, 63, 'FB', 'instancias/random-bf/BF-21.txt'],\n",
       " ['random-bf', 21, 66, 'FB', 'instancias/random-bf/BF-22.txt'],\n",
       " ['random-bf', 22, 69, 'FB', 'instancias/random-bf/BF-23.txt'],\n",
       " ['random-bf', 23, 72, 'FB', 'instancias/random-bf/BF-24.txt'],\n",
       " ['random-bf', 24, 75, 'FB', 'instancias/random-bf/BF-25.txt'],\n",
       " ['random-bf', 25, 78, 'FB', 'instancias/random-bf/BF-26.txt'],\n",
       " ['random-bf', 26, 81, 'FB', 'instancias/random-bf/BF-27.txt'],\n",
       " ['random-bf', 27, 84, 'FB', 'instancias/random-bf/BF-28.txt'],\n",
       " ['random-bf', 28, 87, 'FB', 'instancias/random-bf/BF-29.txt'],\n",
       " ['random-bf', 29, 90, 'FB', 'instancias/random-bf/BF-30.txt']]"
      ]
     },
     "execution_count": 25,
     "metadata": {},
     "output_type": "execute_result"
    }
   ],
   "source": [
    "experimentos"
   ]
  },
  {
   "cell_type": "markdown",
   "metadata": {},
   "source": [
    "## Experimento 2\n",
    "Correr BT para mejor y peor caso."
   ]
  },
  {
   "cell_type": "code",
   "execution_count": 7,
   "metadata": {},
   "outputs": [],
   "source": [
    "#for n in range(0, df_mejor_caso_bt.shape[0]):\n",
    "#    fila_n = df_mejor_caso_bt.iloc[n];\n",
    "#    experimentos.append([fila_n[\"dataset\"], n, fila_n[\"W\"], \"BT\", fila_n[\"archivo\"]]);\n",
    "#\n",
    "##for n in range(0, df_peor_caso_bt.shape[0]):\n",
    "#    fila_n = df_peor_caso_bt.iloc[n];\n",
    "#    experimentos.append([fila_n[\"dataset\"], n, fila_n[\"W\"], \"BT\", fila_n[\"archivo\"]]);"
   ]
  },
  {
   "cell_type": "markdown",
   "metadata": {},
   "source": [
    "## Experimento 3\n",
    "Correr BT, BT-F, BT-O para densidad alta y baja."
   ]
  },
  {
   "cell_type": "code",
   "execution_count": 8,
   "metadata": {},
   "outputs": [],
   "source": [
    "##for n in range(0, df_densidad_alta.shape[0]):\n",
    "#    fila_n = df_densidad_alta.iloc[n];\n",
    "#    experimentos.append([fila_n[\"dataset\"], n, fila_n[\"W\"], \"BT\", fila_n[\"archivo\"]]);\n",
    "#    experimentos.append([fila_n[\"dataset\"], n, fila_n[\"W\"], \"BT-F\", fila_n[\"archivo\"]]);\n",
    "#    experimentos.append([fila_n[\"dataset\"], n, fila_n[\"W\"], \"BT-O\", fila_n[\"archivo\"]]);\n",
    "#\n",
    "#for n in range(0, 30):\n",
    "#    fila_n = df_densidad_baja.iloc[n];\n",
    "#    experimentos.append([fila_n[\"dataset\"], n, fila_n[\"W\"], \"BT\", fila_n[\"archivo\"]]);\n",
    "#    experimentos.append([fila_n[\"dataset\"], n, fila_n[\"W\"], \"BT-F\", fila_n[\"archivo\"]]);\n",
    "#    experimentos.append([fila_n[\"dataset\"], n, fila_n[\"W\"], \"BT-O\", fila_n[\"archivo\"]]);"
   ]
  },
  {
   "cell_type": "markdown",
   "metadata": {},
   "source": [
    "# Experimento 4\n",
    "Correr DP para el dataset _dinamica_."
   ]
  },
  {
   "cell_type": "code",
   "execution_count": 9,
   "metadata": {},
   "outputs": [],
   "source": [
    "#for i in range(0, df_dinamica.shape[0]):\n",
    "#    fila = df_dinamica.iloc[i];\n",
    "#    experimentos.append([fila[\"dataset\"], fila[\"n\"], fila[\"W\"], \"DP\", fila[\"archivo\"]]);"
   ]
  },
  {
   "cell_type": "markdown",
   "metadata": {},
   "source": [
    "## Experimento 5\n",
    "Correr DP para el dataset densidad-alta y densidad-baja."
   ]
  },
  {
   "cell_type": "code",
   "execution_count": 10,
   "metadata": {},
   "outputs": [],
   "source": [
    "#for i in range(0, df_densidad_alta.shape[0]):\n",
    "#    fila = df_densidad_alta.iloc[i];\n",
    "#    experimentos.append([fila[\"dataset\"], fila[\"n\"], fila[\"W\"], \"DP\", fila[\"archivo\"]]);\n",
    "#\n",
    "#for i in range(0, df_densidad_baja.shape[0]):\n",
    "#    fila = df_densidad_baja.iloc[i];\n",
    "#    experimentos.append([fila[\"dataset\"], fila[\"n\"], fila[\"W\"], \"DP\", fila[\"archivo\"]]);"
   ]
  },
  {
   "cell_type": "markdown",
   "metadata": {},
   "source": [
    "## Ejecutar los experimentos y guardar los resultados en un archivo CSV.\n",
    "Este paso puede tardar unos minutos hasta terminar de ejecutarse."
   ]
  },
  {
   "cell_type": "code",
   "execution_count": 23,
   "metadata": {},
   "outputs": [
    {
     "data": {
      "text/plain": [
       "'Experimento: 1/30'"
      ]
     },
     "metadata": {},
     "output_type": "display_data"
    },
    {
     "name": "stdout",
     "output_type": "stream",
     "text": [
      "4294967295\n"
     ]
    },
    {
     "ename": "RuntimeError",
     "evalue": "Hubo un error.",
     "output_type": "error",
     "traceback": [
      "\u001b[1;31m---------------------------------------------------------------------------\u001b[0m",
      "\u001b[1;31mRuntimeError\u001b[0m                              Traceback (most recent call last)",
      "\u001b[1;32m<ipython-input-23-0e582a7662e6>\u001b[0m in \u001b[0;36m<module>\u001b[1;34m\u001b[0m\n\u001b[0;32m     12\u001b[0m     \u001b[0mtiempos\u001b[0m \u001b[1;33m=\u001b[0m \u001b[1;33m[\u001b[0m\u001b[1;33m]\u001b[0m\u001b[1;33m\u001b[0m\u001b[1;33m\u001b[0m\u001b[0m\n\u001b[0;32m     13\u001b[0m     \u001b[1;32mfor\u001b[0m \u001b[0mi\u001b[0m \u001b[1;32min\u001b[0m \u001b[0mrange\u001b[0m\u001b[1;33m(\u001b[0m\u001b[1;36m0\u001b[0m\u001b[1;33m,\u001b[0m \u001b[0mT\u001b[0m\u001b[1;33m)\u001b[0m\u001b[1;33m:\u001b[0m\u001b[1;33m\u001b[0m\u001b[1;33m\u001b[0m\u001b[0m\n\u001b[1;32m---> 14\u001b[1;33m         \u001b[0mtiempos\u001b[0m\u001b[1;33m.\u001b[0m\u001b[0mappend\u001b[0m\u001b[1;33m(\u001b[0m\u001b[0mcorrer_experimento\u001b[0m\u001b[1;33m(\u001b[0m\u001b[0mexperimento\u001b[0m\u001b[1;33m[\u001b[0m\u001b[1;36m3\u001b[0m\u001b[1;33m]\u001b[0m\u001b[1;33m,\u001b[0m \u001b[0mexperimento\u001b[0m\u001b[1;33m[\u001b[0m\u001b[1;36m4\u001b[0m\u001b[1;33m]\u001b[0m\u001b[1;33m)\u001b[0m\u001b[1;33m)\u001b[0m\u001b[1;33m;\u001b[0m\u001b[1;33m\u001b[0m\u001b[1;33m\u001b[0m\u001b[0m\n\u001b[0m\u001b[0;32m     15\u001b[0m     \u001b[0mtiempo\u001b[0m \u001b[1;33m=\u001b[0m \u001b[0mnp\u001b[0m\u001b[1;33m.\u001b[0m\u001b[0mmedian\u001b[0m\u001b[1;33m(\u001b[0m\u001b[0mtiempos\u001b[0m\u001b[1;33m)\u001b[0m\u001b[1;33m;\u001b[0m\u001b[1;33m\u001b[0m\u001b[1;33m\u001b[0m\u001b[0m\n\u001b[0;32m     16\u001b[0m     \u001b[0mfilas\u001b[0m\u001b[1;33m.\u001b[0m\u001b[0mappend\u001b[0m\u001b[1;33m(\u001b[0m\u001b[1;33m[\u001b[0m\u001b[0mexperimento\u001b[0m\u001b[1;33m[\u001b[0m\u001b[1;36m0\u001b[0m\u001b[1;33m]\u001b[0m\u001b[1;33m,\u001b[0m \u001b[0mexperimento\u001b[0m\u001b[1;33m[\u001b[0m\u001b[1;36m1\u001b[0m\u001b[1;33m]\u001b[0m\u001b[1;33m,\u001b[0m \u001b[0mexperimento\u001b[0m\u001b[1;33m[\u001b[0m\u001b[1;36m2\u001b[0m\u001b[1;33m]\u001b[0m\u001b[1;33m,\u001b[0m \u001b[0mexperimento\u001b[0m\u001b[1;33m[\u001b[0m\u001b[1;36m3\u001b[0m\u001b[1;33m]\u001b[0m\u001b[1;33m,\u001b[0m \u001b[0mtiempo\u001b[0m\u001b[1;33m]\u001b[0m\u001b[1;33m)\u001b[0m\u001b[1;33m;\u001b[0m\u001b[1;33m\u001b[0m\u001b[1;33m\u001b[0m\u001b[0m\n",
      "\u001b[1;32m<ipython-input-22-d83ae22419ae>\u001b[0m in \u001b[0;36mcorrer_experimento\u001b[1;34m(metodo, archivo_instancia)\u001b[0m\n\u001b[0;32m     16\u001b[0m     \u001b[1;32mif\u001b[0m \u001b[0mexit_code\u001b[0m \u001b[1;33m!=\u001b[0m \u001b[1;36m0\u001b[0m\u001b[1;33m:\u001b[0m\u001b[1;33m\u001b[0m\u001b[1;33m\u001b[0m\u001b[0m\n\u001b[0;32m     17\u001b[0m         \u001b[0mprint\u001b[0m\u001b[1;33m(\u001b[0m\u001b[0mexit_code\u001b[0m\u001b[1;33m)\u001b[0m\u001b[1;33m\u001b[0m\u001b[1;33m\u001b[0m\u001b[0m\n\u001b[1;32m---> 18\u001b[1;33m         \u001b[1;32mraise\u001b[0m \u001b[0mRuntimeError\u001b[0m\u001b[1;33m(\u001b[0m\u001b[1;34m\"Hubo un error.\"\u001b[0m\u001b[1;33m)\u001b[0m\u001b[1;33m\u001b[0m\u001b[1;33m\u001b[0m\u001b[0m\n\u001b[0m\u001b[0;32m     19\u001b[0m     \u001b[1;31m# Leer salida de STDERR con los tiempos de ejecucion de cada metodo.\u001b[0m\u001b[1;33m\u001b[0m\u001b[1;33m\u001b[0m\u001b[1;33m\u001b[0m\u001b[0m\n\u001b[0;32m     20\u001b[0m     \u001b[0mtiempo_de_ejecucion\u001b[0m \u001b[1;33m=\u001b[0m \u001b[0mfloat\u001b[0m\u001b[1;33m(\u001b[0m\u001b[0mprocess\u001b[0m\u001b[1;33m.\u001b[0m\u001b[0mstderr\u001b[0m\u001b[1;33m.\u001b[0m\u001b[0mread\u001b[0m\u001b[1;33m(\u001b[0m\u001b[1;33m)\u001b[0m\u001b[1;33m)\u001b[0m\u001b[1;33m;\u001b[0m\u001b[1;33m\u001b[0m\u001b[1;33m\u001b[0m\u001b[0m\n",
      "\u001b[1;31mRuntimeError\u001b[0m: Hubo un error."
     ]
    }
   ],
   "source": [
    "columnas = [\"dataset\", \"n\", \"M\", \"metodo\", \"tiempo\"];\n",
    "filas = [];\n",
    "numero = 1\n",
    "T = 5 # Numero de veces que se ejecuta cada experimento (para mayor fidelidad del tiempo).\n",
    "for experimento in experimentos:\n",
    "    # Voy mostrando que experimento se esta ejecutando.\n",
    "    clear_output(wait=True)\n",
    "    display('Experimento: ' + str(numero) + \"/\" + str(len(experimentos)))\n",
    "    numero += 1\n",
    "    \n",
    "    # Ejecutamos el experimento T veces y obtenemos la mediana.\n",
    "    tiempos = []\n",
    "    for i in range(0, T):\n",
    "        tiempos.append(correr_experimento(experimento[3], experimento[4]));\n",
    "    tiempo = np.median(tiempos);\n",
    "    filas.append([experimento[0], experimento[1], experimento[2], experimento[3], tiempo]);\n",
    "df_resultado = pd.DataFrame(filas, columns=columnas);\n",
    "df_resultado.to_csv(\"resultados/resultado.csv\", index=False, header=True);"
   ]
  },
  {
   "cell_type": "code",
   "execution_count": null,
   "metadata": {},
   "outputs": [],
   "source": []
  },
  {
   "cell_type": "code",
   "execution_count": null,
   "metadata": {},
   "outputs": [],
   "source": []
  }
 ],
 "metadata": {
  "kernelspec": {
   "display_name": "Python 3",
   "language": "python",
   "name": "python3"
  },
  "language_info": {
   "codemirror_mode": {
    "name": "ipython",
    "version": 3
   },
   "file_extension": ".py",
   "mimetype": "text/x-python",
   "name": "python",
   "nbconvert_exporter": "python",
   "pygments_lexer": "ipython3",
   "version": "3.8.5"
  }
 },
 "nbformat": 4,
 "nbformat_minor": 4
}
